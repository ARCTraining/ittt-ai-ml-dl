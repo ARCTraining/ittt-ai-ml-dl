{
  "nbformat": 4,
  "nbformat_minor": 0,
  "metadata": {
    "kernelspec": {
      "display_name": "Python 3",
      "language": "python",
      "name": "python3"
    },
    "language_info": {
      "codemirror_mode": {
        "name": "ipython",
        "version": 3
      },
      "file_extension": ".py",
      "mimetype": "text/x-python",
      "name": "python",
      "nbconvert_exporter": "python",
      "pygments_lexer": "ipython3",
      "version": "3.7.7"
    },
    "colab": {
      "name": "session3_unsup_ML.ipynb",
      "provenance": [],
      "toc_visible": true,
      "include_colab_link": true
    }
  },
  "cells": [
    {
      "cell_type": "markdown",
      "metadata": {
        "id": "view-in-github",
        "colab_type": "text"
      },
      "source": [
        "<a href=\"https://colab.research.google.com/github/Sparrow0hawk/ittt-ai-ml-dl/blob/session3-AC/session_3_topicsML/session3_unsup_ML.ipynb\" target=\"_parent\"><img src=\"https://colab.research.google.com/assets/colab-badge.svg\" alt=\"Open In Colab\"/></a>"
      ]
    },
    {
      "cell_type": "markdown",
      "metadata": {
        "id": "FAB9STo8Ba9o",
        "colab_type": "text"
      },
      "source": [
        "<img src=https://raw.githubusercontent.com/ARCLeeds/arcleeds.github.io/master/assets/img/lighterblueText_wLogo_m2.1.png alt=\"Research Computing logo\" style=\"width:900px;\">\n",
        "\n",
        "# IT TechTalk - Session 2: Text analysis approaches\n",
        "\n",
        "## Agenda\n",
        "\n",
        "- [Introduction](#Introduction)\n",
        "- [LDA Primer](#LDA-Primer)\n",
        "- [Preprocessing](#Preprocessing)\n",
        "- [Build a Bag of words corpus](#Building-a-bag-of-words-corpus-and-dictionary)\n",
        "- [Building a topic model](#Building-the-topic-model)\n",
        "\n",
        "## Introduction\n",
        "\n",
        "Text analysis is a classic computational and data science problem.\n",
        "\n",
        "![NLP](https://deeplearninganalytics.org/wp-content/uploads/2019/04/nlp.png)\n",
        "\n",
        "Compared with regression and classification approaches on continuous and categorical dataset taking text data and deriving distinct insights is a far more complicated task. Text data and especially free text (text fields in sentence form) is typically classed as a form of unstructured data because of the various nuances introduced by languages.\n",
        "\n",
        "With the ever increasing computational power has come a side-by-side improvements in approaches to text analysis. \n",
        "\n",
        "There are a number of different approaches to text analysis such as sentiment analysis, machine translation, information retrieval and much more. In this talk we'll focus specifically on **topic modelling**. An unsupervised statistical approach for identifying abstract 'topics' from within a collection of documents (corpus).\n",
        "\n",
        "We'll look specifically at latent Dirichlet allocation (LDA), a topic modelling approach developed in [2002](http://jmlr.csail.mit.edu/papers/v3/blei03a.html). LDA has become one of the most commonly used topic modelling approaches and many extensions of LDA have since been proposed.\n",
        "\n",
        "We'll use financial complaints data from the [US Consumer Financial Protection Bureau](https://www.consumerfinance.gov/data-research/consumer-complaints/#download-the-data) for this example."
      ]
    },
    {
      "cell_type": "markdown",
      "metadata": {
        "id": "QqPVK3-JS-Ne",
        "colab_type": "text"
      },
      "source": [
        "## LDA Primer\n",
        "\n",
        "A quick example running through how LDA determines topics.\n",
        "\n",
        "Imagine we had these sentences within one document:\n",
        "```\n",
        "  1. I spent the day walking outside.\n",
        "  2. I visited the Yorkshire Dales.\n",
        "  3. I spent the day visiting the Yorkshire Dales.\n",
        "```\n",
        "\n",
        "LDA might determine the topic share of each sentence thus:\n",
        "```\n",
        "  1. 100% Topic 1\n",
        "  2. 100% Topic 2\n",
        "  3. 20% Topic 1 and 80% Topic 2\n",
        "```\n",
        "\n",
        "LDA also discovers what words make us those topics:\n",
        "```\n",
        "  1. Topic 1: 30% walking, 20% day, 10% outside (relate to walking outside)\n",
        "  2. Topic 2: 40% Yorkshire, 30% Dales, 20% visiting (relate to Yorkshire dales)\n",
        "```\n"
      ]
    },
    {
      "cell_type": "markdown",
      "metadata": {
        "id": "0oyVKVUkXRBi",
        "colab_type": "text"
      },
      "source": [
        "## Data Loading\n",
        "\n",
        "Let's start by loading in the dataset and having a quick look at it."
      ]
    },
    {
      "cell_type": "code",
      "metadata": {
        "id": "GQ-x2m_KVlLs",
        "colab_type": "code",
        "colab": {
          "base_uri": "https://localhost:8080/",
          "height": 17
        },
        "outputId": "88452a9b-63c7-431d-d112-632428aa68ca"
      },
      "source": [
        "# line wrapping for colab https://stackoverflow.com/questions/58890109/line-wrapping-in-collaboratory-google-results\n",
        "from IPython.display import HTML, display\n",
        "\n",
        "def set_css():\n",
        "  display(HTML('''\n",
        "  <style>\n",
        "    pre {\n",
        "        white-space: pre-wrap;\n",
        "    }\n",
        "  </style>\n",
        "  '''))\n",
        "get_ipython().events.register('pre_run_cell', set_css)"
      ],
      "execution_count": 21,
      "outputs": [
        {
          "output_type": "display_data",
          "data": {
            "text/html": [
              "\n",
              "  <style>\n",
              "    pre {\n",
              "        white-space: pre-wrap;\n",
              "    }\n",
              "  </style>\n",
              "  "
            ],
            "text/plain": [
              "<IPython.core.display.HTML object>"
            ]
          },
          "metadata": {
            "tags": []
          }
        }
      ]
    },
    {
      "cell_type": "code",
      "metadata": {
        "id": "pCMhzMb7Ba9s",
        "colab_type": "code",
        "colab": {
          "base_uri": "https://localhost:8080/",
          "height": 458
        },
        "outputId": "71b54d95-28ed-413a-f683-e5d379a371da"
      },
      "source": [
        "!pip install gensim==3.8.0\n",
        "import numpy as np\n",
        "import pandas as pd\n",
        "import gensim\n",
        "import matplotlib.pyplot as plt"
      ],
      "execution_count": 2,
      "outputs": [
        {
          "output_type": "display_data",
          "data": {
            "text/html": [
              "\n",
              "  <style>\n",
              "    pre {\n",
              "        white-space: pre-wrap;\n",
              "    }\n",
              "  </style>\n",
              "  "
            ],
            "text/plain": [
              "<IPython.core.display.HTML object>"
            ]
          },
          "metadata": {
            "tags": []
          }
        },
        {
          "output_type": "stream",
          "text": [
            "Collecting gensim==3.8.0\n",
            "\u001b[?25l  Downloading https://files.pythonhosted.org/packages/40/3d/89b27573f56abcd1b8c9598b240f53c45a3c79aa0924a24588e99716043b/gensim-3.8.0-cp36-cp36m-manylinux1_x86_64.whl (24.2MB)\n",
            "\u001b[K     |████████████████████████████████| 24.2MB 68.8MB/s \n",
            "\u001b[?25hRequirement already satisfied: scipy>=0.18.1 in /usr/local/lib/python3.6/dist-packages (from gensim==3.8.0) (1.4.1)\n",
            "Requirement already satisfied: six>=1.5.0 in /usr/local/lib/python3.6/dist-packages (from gensim==3.8.0) (1.15.0)\n",
            "Requirement already satisfied: smart-open>=1.7.0 in /usr/local/lib/python3.6/dist-packages (from gensim==3.8.0) (2.1.0)\n",
            "Requirement already satisfied: numpy>=1.11.3 in /usr/local/lib/python3.6/dist-packages (from gensim==3.8.0) (1.18.5)\n",
            "Requirement already satisfied: requests in /usr/local/lib/python3.6/dist-packages (from smart-open>=1.7.0->gensim==3.8.0) (2.23.0)\n",
            "Requirement already satisfied: boto3 in /usr/local/lib/python3.6/dist-packages (from smart-open>=1.7.0->gensim==3.8.0) (1.14.37)\n",
            "Requirement already satisfied: boto in /usr/local/lib/python3.6/dist-packages (from smart-open>=1.7.0->gensim==3.8.0) (2.49.0)\n",
            "Requirement already satisfied: certifi>=2017.4.17 in /usr/local/lib/python3.6/dist-packages (from requests->smart-open>=1.7.0->gensim==3.8.0) (2020.6.20)\n",
            "Requirement already satisfied: chardet<4,>=3.0.2 in /usr/local/lib/python3.6/dist-packages (from requests->smart-open>=1.7.0->gensim==3.8.0) (3.0.4)\n",
            "Requirement already satisfied: urllib3!=1.25.0,!=1.25.1,<1.26,>=1.21.1 in /usr/local/lib/python3.6/dist-packages (from requests->smart-open>=1.7.0->gensim==3.8.0) (1.24.3)\n",
            "Requirement already satisfied: idna<3,>=2.5 in /usr/local/lib/python3.6/dist-packages (from requests->smart-open>=1.7.0->gensim==3.8.0) (2.10)\n",
            "Requirement already satisfied: botocore<1.18.0,>=1.17.37 in /usr/local/lib/python3.6/dist-packages (from boto3->smart-open>=1.7.0->gensim==3.8.0) (1.17.37)\n",
            "Requirement already satisfied: s3transfer<0.4.0,>=0.3.0 in /usr/local/lib/python3.6/dist-packages (from boto3->smart-open>=1.7.0->gensim==3.8.0) (0.3.3)\n",
            "Requirement already satisfied: jmespath<1.0.0,>=0.7.1 in /usr/local/lib/python3.6/dist-packages (from boto3->smart-open>=1.7.0->gensim==3.8.0) (0.10.0)\n",
            "Requirement already satisfied: python-dateutil<3.0.0,>=2.1 in /usr/local/lib/python3.6/dist-packages (from botocore<1.18.0,>=1.17.37->boto3->smart-open>=1.7.0->gensim==3.8.0) (2.8.1)\n",
            "Requirement already satisfied: docutils<0.16,>=0.10 in /usr/local/lib/python3.6/dist-packages (from botocore<1.18.0,>=1.17.37->boto3->smart-open>=1.7.0->gensim==3.8.0) (0.15.2)\n",
            "Installing collected packages: gensim\n",
            "  Found existing installation: gensim 3.6.0\n",
            "    Uninstalling gensim-3.6.0:\n",
            "      Successfully uninstalled gensim-3.6.0\n",
            "Successfully installed gensim-3.8.0\n"
          ],
          "name": "stdout"
        }
      ]
    },
    {
      "cell_type": "markdown",
      "metadata": {
        "id": "xdx29oJTBa94",
        "colab_type": "text"
      },
      "source": [
        "We add some shell scripting here to create a data directory and download and unzip our data file."
      ]
    },
    {
      "cell_type": "code",
      "metadata": {
        "id": "TTCz86CWBa99",
        "colab_type": "code",
        "colab": {
          "base_uri": "https://localhost:8080/",
          "height": 127
        },
        "outputId": "9a438b6c-debb-41d1-9107-cf21e3ac1cd3"
      },
      "source": [
        "%%bash \n",
        "\n",
        "if [ -d data/ ]; then\n",
        "    echo \"Data directory exists\"\n",
        "else\n",
        "    mkdir data\n",
        "fi\n",
        "\n",
        "if test -f data/complaints.csv; then\n",
        "    echo \"Data file exists\"\n",
        "else \n",
        "    curl -LO http://files.consumerfinance.gov/ccdb/complaints.csv.zip; mv complaints.csv.zip data/ ;unzip data/complaints.csv.zip -d data/\n",
        "fi"
      ],
      "execution_count": 3,
      "outputs": [
        {
          "output_type": "display_data",
          "data": {
            "text/html": [
              "\n",
              "  <style>\n",
              "    pre {\n",
              "        white-space: pre-wrap;\n",
              "    }\n",
              "  </style>\n",
              "  "
            ],
            "text/plain": [
              "<IPython.core.display.HTML object>"
            ]
          },
          "metadata": {
            "tags": []
          }
        },
        {
          "output_type": "stream",
          "text": [
            "Archive:  data/complaints.csv.zip\n",
            "  inflating: data/complaints.csv     \n"
          ],
          "name": "stdout"
        },
        {
          "output_type": "stream",
          "text": [
            "  % Total    % Received % Xferd  Average Speed   Time    Time     Time  Current\n",
            "                                 Dload  Upload   Total   Spent    Left  Speed\n",
            "\r  0     0    0     0    0     0      0      0 --:--:-- --:--:-- --:--:--     0\r100   183  100   183    0     0    693      0 --:--:-- --:--:-- --:--:--   693\n",
            "\r  0  263M    0 1390k    0     0  1372k      0  0:03:16  0:00:01  0:03:15 1372k\r 10  263M   10 27.7M    0     0  13.9M      0  0:00:18  0:00:01  0:00:17 27.0M\r 21  263M   21 55.3M    0     0  18.6M      0  0:00:14  0:00:02  0:00:12 27.6M\r 31  263M   31 82.9M    0     0  21.0M      0  0:00:12  0:00:03  0:00:09 27.8M\r 41  263M   41  109M    0     0  22.1M      0  0:00:11  0:00:04  0:00:07 27.4M\r 52  263M   52  138M    0     0  23.1M      0  0:00:11  0:00:05  0:00:06 27.5M\r 63  263M   63  166M    0     0  23.8M      0  0:00:11  0:00:06  0:00:05 27.8M\r 73  263M   73  193M    0     0  24.4M      0  0:00:10  0:00:07  0:00:03 27.8M\r 84  263M   84  223M    0     0  25.0M      0  0:00:10  0:00:08  0:00:02 28.1M\r 95  263M   95  251M    0     0  25.2M      0  0:00:10  0:00:09  0:00:01 28.2M\r100  263M  100  263M    0     0  25.4M      0  0:00:10  0:00:10 --:--:-- 28.5M\n"
          ],
          "name": "stderr"
        }
      ]
    },
    {
      "cell_type": "markdown",
      "metadata": {
        "id": "GZHBFhkCBa-J",
        "colab_type": "text"
      },
      "source": [
        "Next we load this dataset into a pandas DataFrame python object. This is alot like a spreadsheet and allows for easy manipulation of columns and rows."
      ]
    },
    {
      "cell_type": "code",
      "metadata": {
        "id": "i2D7Q7LOBa-L",
        "colab_type": "code",
        "colab": {
          "base_uri": "https://localhost:8080/",
          "height": 696
        },
        "outputId": "f70581b2-6cac-4841-c6f3-7bb830508e86"
      },
      "source": [
        "# import the dataset\n",
        "\n",
        "ticket_data = pd.read_csv('data/complaints.csv')\n",
        "\n",
        "ticket_data.dropna(subset=[\"Consumer complaint narrative\"], inplace=True)\n",
        "\n",
        "print(ticket_data.shape)\n",
        "\n",
        "ticket_data.head()"
      ],
      "execution_count": 4,
      "outputs": [
        {
          "output_type": "display_data",
          "data": {
            "text/html": [
              "\n",
              "  <style>\n",
              "    pre {\n",
              "        white-space: pre-wrap;\n",
              "    }\n",
              "  </style>\n",
              "  "
            ],
            "text/plain": [
              "<IPython.core.display.HTML object>"
            ]
          },
          "metadata": {
            "tags": []
          }
        },
        {
          "output_type": "stream",
          "text": [
            "(578500, 18)\n"
          ],
          "name": "stdout"
        },
        {
          "output_type": "execute_result",
          "data": {
            "text/html": [
              "<div>\n",
              "<style scoped>\n",
              "    .dataframe tbody tr th:only-of-type {\n",
              "        vertical-align: middle;\n",
              "    }\n",
              "\n",
              "    .dataframe tbody tr th {\n",
              "        vertical-align: top;\n",
              "    }\n",
              "\n",
              "    .dataframe thead th {\n",
              "        text-align: right;\n",
              "    }\n",
              "</style>\n",
              "<table border=\"1\" class=\"dataframe\">\n",
              "  <thead>\n",
              "    <tr style=\"text-align: right;\">\n",
              "      <th></th>\n",
              "      <th>Date received</th>\n",
              "      <th>Product</th>\n",
              "      <th>Sub-product</th>\n",
              "      <th>Issue</th>\n",
              "      <th>Sub-issue</th>\n",
              "      <th>Consumer complaint narrative</th>\n",
              "      <th>Company public response</th>\n",
              "      <th>Company</th>\n",
              "      <th>State</th>\n",
              "      <th>ZIP code</th>\n",
              "      <th>Tags</th>\n",
              "      <th>Consumer consent provided?</th>\n",
              "      <th>Submitted via</th>\n",
              "      <th>Date sent to company</th>\n",
              "      <th>Company response to consumer</th>\n",
              "      <th>Timely response?</th>\n",
              "      <th>Consumer disputed?</th>\n",
              "      <th>Complaint ID</th>\n",
              "    </tr>\n",
              "  </thead>\n",
              "  <tbody>\n",
              "    <tr>\n",
              "      <th>0</th>\n",
              "      <td>2019-09-24</td>\n",
              "      <td>Debt collection</td>\n",
              "      <td>I do not know</td>\n",
              "      <td>Attempts to collect debt not owed</td>\n",
              "      <td>Debt is not yours</td>\n",
              "      <td>transworld systems inc. \\nis trying to collect...</td>\n",
              "      <td>NaN</td>\n",
              "      <td>TRANSWORLD SYSTEMS INC</td>\n",
              "      <td>FL</td>\n",
              "      <td>335XX</td>\n",
              "      <td>NaN</td>\n",
              "      <td>Consent provided</td>\n",
              "      <td>Web</td>\n",
              "      <td>2019-09-24</td>\n",
              "      <td>Closed with explanation</td>\n",
              "      <td>Yes</td>\n",
              "      <td>NaN</td>\n",
              "      <td>3384392</td>\n",
              "    </tr>\n",
              "    <tr>\n",
              "      <th>2</th>\n",
              "      <td>2019-10-25</td>\n",
              "      <td>Credit reporting, credit repair services, or o...</td>\n",
              "      <td>Credit reporting</td>\n",
              "      <td>Incorrect information on your report</td>\n",
              "      <td>Information belongs to someone else</td>\n",
              "      <td>I would like to request the suppression of the...</td>\n",
              "      <td>Company has responded to the consumer and the ...</td>\n",
              "      <td>TRANSUNION INTERMEDIATE HOLDINGS, INC.</td>\n",
              "      <td>CA</td>\n",
              "      <td>937XX</td>\n",
              "      <td>NaN</td>\n",
              "      <td>Consent provided</td>\n",
              "      <td>Web</td>\n",
              "      <td>2019-10-25</td>\n",
              "      <td>Closed with explanation</td>\n",
              "      <td>Yes</td>\n",
              "      <td>NaN</td>\n",
              "      <td>3417821</td>\n",
              "    </tr>\n",
              "    <tr>\n",
              "      <th>3</th>\n",
              "      <td>2019-11-08</td>\n",
              "      <td>Debt collection</td>\n",
              "      <td>I do not know</td>\n",
              "      <td>Communication tactics</td>\n",
              "      <td>Frequent or repeated calls</td>\n",
              "      <td>Over the past 2 weeks, I have been receiving e...</td>\n",
              "      <td>NaN</td>\n",
              "      <td>Diversified Consultants, Inc.</td>\n",
              "      <td>NC</td>\n",
              "      <td>275XX</td>\n",
              "      <td>NaN</td>\n",
              "      <td>Consent provided</td>\n",
              "      <td>Web</td>\n",
              "      <td>2019-11-08</td>\n",
              "      <td>Closed with explanation</td>\n",
              "      <td>Yes</td>\n",
              "      <td>NaN</td>\n",
              "      <td>3433198</td>\n",
              "    </tr>\n",
              "    <tr>\n",
              "      <th>7</th>\n",
              "      <td>2019-09-08</td>\n",
              "      <td>Money transfer, virtual currency, or money ser...</td>\n",
              "      <td>Domestic (US) money transfer</td>\n",
              "      <td>Fraud or scam</td>\n",
              "      <td>NaN</td>\n",
              "      <td>I was sold access to an event digitally, of wh...</td>\n",
              "      <td>NaN</td>\n",
              "      <td>Paypal Holdings, Inc</td>\n",
              "      <td>RI</td>\n",
              "      <td>029XX</td>\n",
              "      <td>NaN</td>\n",
              "      <td>Consent provided</td>\n",
              "      <td>Web</td>\n",
              "      <td>2019-09-08</td>\n",
              "      <td>Closed with explanation</td>\n",
              "      <td>Yes</td>\n",
              "      <td>NaN</td>\n",
              "      <td>3366475</td>\n",
              "    </tr>\n",
              "    <tr>\n",
              "      <th>8</th>\n",
              "      <td>2019-03-05</td>\n",
              "      <td>Mortgage</td>\n",
              "      <td>Conventional home mortgage</td>\n",
              "      <td>Trouble during payment process</td>\n",
              "      <td>NaN</td>\n",
              "      <td>This complaint dates back to last XX/XX/XXXX d...</td>\n",
              "      <td>NaN</td>\n",
              "      <td>NATIONSTAR MORTGAGE</td>\n",
              "      <td>FL</td>\n",
              "      <td>339XX</td>\n",
              "      <td>NaN</td>\n",
              "      <td>Consent provided</td>\n",
              "      <td>Web</td>\n",
              "      <td>2019-03-11</td>\n",
              "      <td>Closed with explanation</td>\n",
              "      <td>Yes</td>\n",
              "      <td>NaN</td>\n",
              "      <td>3170293</td>\n",
              "    </tr>\n",
              "  </tbody>\n",
              "</table>\n",
              "</div>"
            ],
            "text/plain": [
              "  Date received  ... Complaint ID\n",
              "0    2019-09-24  ...      3384392\n",
              "2    2019-10-25  ...      3417821\n",
              "3    2019-11-08  ...      3433198\n",
              "7    2019-09-08  ...      3366475\n",
              "8    2019-03-05  ...      3170293\n",
              "\n",
              "[5 rows x 18 columns]"
            ]
          },
          "metadata": {
            "tags": []
          },
          "execution_count": 4
        }
      ]
    },
    {
      "cell_type": "code",
      "metadata": {
        "id": "bJQ_dPJITwP1",
        "colab_type": "code",
        "colab": {
          "base_uri": "https://localhost:8080/",
          "height": 366
        },
        "outputId": "ca66e262-c67a-4b19-9e3b-6bfc79d9140a"
      },
      "source": [
        "# simple data exploration looking at the different number of complaints in each Product category\n",
        "ticket_data.Product.value_counts()"
      ],
      "execution_count": 5,
      "outputs": [
        {
          "output_type": "display_data",
          "data": {
            "text/html": [
              "\n",
              "  <style>\n",
              "    pre {\n",
              "        white-space: pre-wrap;\n",
              "    }\n",
              "  </style>\n",
              "  "
            ],
            "text/plain": [
              "<IPython.core.display.HTML object>"
            ]
          },
          "metadata": {
            "tags": []
          }
        },
        {
          "output_type": "execute_result",
          "data": {
            "text/plain": [
              "Credit reporting, credit repair services, or other personal consumer reports    193257\n",
              "Debt collection                                                                 119420\n",
              "Mortgage                                                                         67573\n",
              "Credit card or prepaid card                                                      40739\n",
              "Credit reporting                                                                 31588\n",
              "Student loan                                                                     26687\n",
              "Checking or savings account                                                      23510\n",
              "Credit card                                                                      18838\n",
              "Bank account or service                                                          14885\n",
              "Vehicle loan or lease                                                             9919\n",
              "Money transfer, virtual currency, or money service                                9895\n",
              "Consumer Loan                                                                     9473\n",
              "Payday loan, title loan, or personal loan                                         7715\n",
              "Payday loan                                                                       1746\n",
              "Money transfers                                                                   1497\n",
              "Prepaid card                                                                      1450\n",
              "Other financial service                                                            292\n",
              "Virtual currency                                                                    16\n",
              "Name: Product, dtype: int64"
            ]
          },
          "metadata": {
            "tags": []
          },
          "execution_count": 5
        }
      ]
    },
    {
      "cell_type": "code",
      "metadata": {
        "id": "6dA-pDfbS1Jz",
        "colab_type": "code",
        "colab": {
          "base_uri": "https://localhost:8080/",
          "height": 72
        },
        "outputId": "08379606-d5d9-4d5e-d8b7-7d19b6b933b6"
      },
      "source": [
        "# a quick look at the average number of words in each complaint in each category\n",
        "ticket_data.groupby('Product')['Consumer complaint narrative'].apply(lambda x: np.mean([len(word) for word in x]))"
      ],
      "execution_count": 53,
      "outputs": [
        {
          "output_type": "display_data",
          "data": {
            "text/html": [
              "\n",
              "  <style>\n",
              "    pre {\n",
              "        white-space: pre-wrap;\n",
              "    }\n",
              "  </style>\n",
              "  "
            ],
            "text/plain": [
              "<IPython.core.display.HTML object>"
            ]
          },
          "metadata": {
            "tags": []
          }
        },
        {
          "output_type": "display_data",
          "data": {
            "text/html": [
              "\n",
              "  <style>\n",
              "    pre {\n",
              "        white-space: pre-wrap;\n",
              "    }\n",
              "  </style>\n",
              "  "
            ],
            "text/plain": [
              "<IPython.core.display.HTML object>"
            ]
          },
          "metadata": {
            "tags": []
          }
        },
        {
          "output_type": "execute_result",
          "data": {
            "text/plain": [
              "Product\n",
              "Credit card    1127.125438\n",
              "Name: Consumer complaint narrative, dtype: float64"
            ]
          },
          "metadata": {
            "tags": []
          },
          "execution_count": 53
        }
      ]
    },
    {
      "cell_type": "code",
      "metadata": {
        "id": "VWwtnVj_TWZq",
        "colab_type": "code",
        "colab": {
          "base_uri": "https://localhost:8080/",
          "height": 17
        },
        "outputId": "5b4a2f76-c2a9-4680-a709-b9b67a9476d2"
      },
      "source": [
        "ticket_data = ticket_data[ticket_data['Product'] == 'Credit card']"
      ],
      "execution_count": 7,
      "outputs": [
        {
          "output_type": "display_data",
          "data": {
            "text/html": [
              "\n",
              "  <style>\n",
              "    pre {\n",
              "        white-space: pre-wrap;\n",
              "    }\n",
              "  </style>\n",
              "  "
            ],
            "text/plain": [
              "<IPython.core.display.HTML object>"
            ]
          },
          "metadata": {
            "tags": []
          }
        }
      ]
    },
    {
      "cell_type": "code",
      "metadata": {
        "id": "NG9LyS2_Ba-b",
        "colab_type": "code",
        "colab": {
          "base_uri": "https://localhost:8080/",
          "height": 880
        },
        "outputId": "94f74dce-551b-459f-daec-b798bb7412e2"
      },
      "source": [
        "# lets peak and look what this looks like\n",
        "\n",
        "ticket_data['Consumer complaint narrative'][:5].tolist()"
      ],
      "execution_count": 8,
      "outputs": [
        {
          "output_type": "display_data",
          "data": {
            "text/html": [
              "\n",
              "  <style>\n",
              "    pre {\n",
              "        white-space: pre-wrap;\n",
              "    }\n",
              "  </style>\n",
              "  "
            ],
            "text/plain": [
              "<IPython.core.display.HTML object>"
            ]
          },
          "metadata": {
            "tags": []
          }
        },
        {
          "output_type": "execute_result",
          "data": {
            "text/plain": [
              "['I was stupid enough to charge some items at MACY \\'S on my Macy \\'s credit card over XXXX. I was unable to log into my account online to make the payment because Macy \\'s had updated the system and I simply did n\\'t have the patience to navigate their irritating and obscure system. However, I called Macy \\'s and paid my bill for $ XXXX a day or two late - was assured that there would be no late charges because I was a customer in good standing, yada yada, and received a confirmation number that I had paid the bill in full. \\n\\nI then received a bill for {$2.00} in interest. OK, I agree - I had n\\'t paid the {$140.00} on time, regardless of the reason. Whatever. So I paid that {$2.00} bill immediately, by check, and left the country for an extended absence - in complete confidence that I had paid all my bills in full. \\n\\nImagine my surprise when I returned to the US and found that Macy \\'s had received and cashed my check, but charged me a further {$2.00} anyway as a minimum interest charge on the interest charge that had been paid in full, well before the due date. Oh, and then added a further minimum {$2.00} charge for a total of {$4.00}, due on XXXX. \\n\\nI called Macy \\'s right away and spoke to one XXXX, who did n\\'t seem to have a clue why I was irritated, but eventually - very grudgingly and with full implication that I was a total deadbeat - agreed that she would \" waive \\'\\' the {$4.00}. \\n\\nImagine my FURTHER surprise when I received a FURTHER email from Macy \\'s about my \" account balance. \\'\\' I immediately called, went through endless voice prompts, and finally got through to a live human being who said in hushed tones that she \\'d have to put me through to another department. \\n\\nSure enough, I got the \" this is an attempt to collect a debt \\'\\' speech. The glorious XXXX, according to the faultlessly polite CS rep who answered, had failed to properly credit my account. He agreed that he could correct it and that my account would update eventually to show a {$0.00} balance. However, he was unable to reassure me that this, um, \" delinquency \\'\\' had not been reported to the credit bureaux that make a darn good living off selling my info, and he could not send me a letter saying that Macy \\'s had made a mistake. Given that the glorious XXXX had also assured me that I had a {$0.00} balance on my Macy \\'s charge card, forgive me if I \\'m not confident that I do in fact now have a {$0.00} balance. \\n\\nI do not give a flying whatever about my credit as I am old and cranky and do n\\'t need any credit. I DO care that Macy \\'s total incompetence and the Macy \\'s system that is set up to fail, to their benefit and to consumers \\' detriment, affects kids and other people who DO need good credit.',\n",
              " \"XXXX XXXX, 2016 To Whom It May Concern : I 'm outraged US Bank debited my account {$570.00} without my authorization after a credit card payment! On XXXX XXXX, I completed an external transfer for {$300.00} and {$270.00} respectively to my XXXX US Bank credit cards. However I noticed my checking account had double posts from US Bank totaling {$1100.00}. Immediately I called and spoke to a representative and she confirmed there had been a mistake on their system and expect a refund in four days. I 've called three more times and spoke to several representatives that stated my money can be held for 17 days until returned! I have also left voice-mails to the special payment research department and have yet to receive a phone call back. This is unacceptable for my money to be held while US Bank makes interest for over a week! My funds need to be returned to my bank account immediately with interest! I 'm looking for a fast resolution and funds returned as soon as possible. \\nXXXX XXXX XXXX\",\n",
              " 'I have rented a car XXXX and paid the rental amount with my credit card. After that, i have received almost {$1500.00} bill from the same car rental company for damages to the car which i was not agreed. The rental car company had forged my signature on a paper to charge my credit card and bank of america has denied my dispute even thought the signature for forged ...',\n",
              " 'On XX/XX/XXXX I rented a car for 4 days from XXXX. According to the contract, the invoice for 5 days was XXXX Euro. My credit card was charged XXXX Euro. A difference of XXXX Euros because I did n\\'t return the car with a full tank. On XX/XX/XXXX and XX/XX/XXXX, I contacted XXXX regarding XXXX Euros and I explained that there is a mistake. On XX/XX/XXXX I filed a complaint regarding an unrecognized charge of XXXX Euro ( around XXXX dollars ) with Chase, the issuer of the XXXX credit card. On the same day, when I called Chase, the Chase Card Representative noticed and informed me that XXXX car rental company charged me {$440.00} again on XX/XX/XXXX for renting a car in XXXX. Because I did not rent a car from XXXX XXXX in XXXX XXXX or traveled out of the country, I filed the other complaint form regarding the {$440.00}. I called XXXX and the representative told me that \" I rented the car in XXXX in XX/XX/XXXX \\'\\' I tried to explain that this is not true because I was at home in the US, but I was told they would not reverse the charge. \\nInterestingly enough, on the XXXX Chase credit card statement, XXXX credited me, the XXXX Euros ( around {$85.00} ) the difference XXXX overcharged me in XX/XX/XXXX for not returning the car with a full gas tank. On XX/XX/XXXX, I submitted the documentation requested addressing the issue that XXXX is lying and changing its answers every time in an attempt to extort money from me. Although, at the beginning XXXX told me and Chase representatives that I rented the car in XXXX, in XX/XX/XXXX, XXXX has changed its response saying that the car had some scratches on the rear fender and bumper. I think it is very clear, the company is trying to get more money, lying and changing their answers in an illegal attempt to extort money from me. \\nOnce again, XXXX should have mentioned any damage to me after I returned the car in XXXX at the end of my trip in XXXX. In fact, the car had scratches when I rented the car in XX/XX/XXXX, as specified in the contract. I submitted pictures taken before renting the car on XXXX In the photos everybody can see that the scratches XXXX claims were added by me were on the car from the beginning. So, the original paperwork which I submitted to Chase was comprehensive and extensive. I included previous letters, emails capturing the conversation between XXXX and myself and pictures of the car at the time I rented the car which demonstrated that this is a fraudulent charge. If this had been an honest charge, XXXX would have mentioned any scratches/damage to me after I returned the car in XXXX at the end of my trip. They never did because the car was returned with a full gas tank in the same condition I rented the car. Chase Credit Card Services kept calling me and stating that this is a valid charge without providing any explanations. On XX/XX/XXXX I spoke with a Supervisor from Chase who asked me to submit again the documentation in writing. I mentioned to her, that the damage that is described by XXXX, it is captured in the contract I signed when I rented the car. So, until now, I submitted the documentation required multiple times via the Chase secure message. I am extremely concerned about this extortion on behalf of XXXX, and will pursue this matter further in court if necessary. I expect Chase to provide the protection you have promised me as a client in dealings with this disreputable company, who has twice attempted to submit inappropriate charges against my account.',\n",
              " \"I received an email from Chase saying I could get {$30.00} off a {$150.00} purchase at Amazon.com on Prime Day ( today ). There were some conditions - all items must be shipped and sold by Amazon.com. I spent a good hour making sure that I met all the conditions for the sale. At checkout, the promotion code did n't work. I was told by Chase to contact Amazon. Amazon told me the deal was only valid until XXXX. There was no mention of that in the email that I received. The only time limitation was that it was valid on Prime Day. Today is Prime Day. I 'd understand if it was late at night, and maybe the code was set to a different time zone. But it 's XXXX.\"]"
            ]
          },
          "metadata": {
            "tags": []
          },
          "execution_count": 8
        }
      ]
    },
    {
      "cell_type": "markdown",
      "metadata": {
        "id": "Bsk9Tg0zBa-j",
        "colab_type": "text"
      },
      "source": [
        "## Preprocessing\n",
        "\n",
        "Pre processing is a crucial step in any text analytics project. Text data on its own is very difficult for machines to understand and therefore it requires cleaning and preparing before building models. This often involves a number of steps such as:\n",
        "- Tokenisation, converting a long string of words into a list of individual words i.e. \"the cat sat on the mat\" -> [\"the\", \"cat\", \"sat\", \"on\", \"the\", \"mat\"]\n",
        "- Normalisation, commonly this means converting all words to lower or uppercase\n",
        "- Noise removal, most commonly removing punctuation or things like hyperlinks or emojis\n",
        "- Stopword removal, removing common words that don't contain information such as the, and, or, a \n",
        "- Stemming or lemming, this is the process of reverting words to their root either by chopping off suffixes (stemming) or reverting to word lemma (lemming)"
      ]
    },
    {
      "cell_type": "code",
      "metadata": {
        "id": "5uabW4WGBa-k",
        "colab_type": "code",
        "colab": {
          "base_uri": "https://localhost:8080/",
          "height": 17
        },
        "outputId": "d6107c63-0761-4472-df33-6db3e185437d"
      },
      "source": [
        "# lets slice out the text data from our dataframe\n",
        "subsample_text = ticket_data['Consumer complaint narrative'].tolist()"
      ],
      "execution_count": 9,
      "outputs": [
        {
          "output_type": "display_data",
          "data": {
            "text/html": [
              "\n",
              "  <style>\n",
              "    pre {\n",
              "        white-space: pre-wrap;\n",
              "    }\n",
              "  </style>\n",
              "  "
            ],
            "text/plain": [
              "<IPython.core.display.HTML object>"
            ]
          },
          "metadata": {
            "tags": []
          }
        }
      ]
    },
    {
      "cell_type": "code",
      "metadata": {
        "id": "BQXe9d2FBa-r",
        "colab_type": "code",
        "colab": {
          "base_uri": "https://localhost:8080/",
          "height": 17
        },
        "outputId": "8030ae8f-55fc-4a78-8933-e3987c12a824"
      },
      "source": [
        "from gensim.parsing.preprocessing import preprocess_string, strip_tags, strip_punctuation, strip_numeric, remove_stopwords, strip_short, stem_text\n",
        "\n",
        "def basic_preprocess(list_of_strings):\n",
        "    \"\"\"\n",
        "    A basic function that takes a list of strings and runs some basic\n",
        "    gensim preprocessing to tokenise each string.\n",
        "    \n",
        "    Operations:\n",
        "        - convert to lowercase\n",
        "        - remove html tags\n",
        "        - remove punctuation\n",
        "        - remove numbers\n",
        "        - remove short tokens (less than 3)\n",
        "    \n",
        "    Outputs a list of lists\n",
        "    \"\"\"\n",
        "    \n",
        "    CUSTOM_FILTERS = [lambda x: x.lower(), strip_tags, strip_punctuation, strip_numeric, remove_stopwords, strip_short]\n",
        "\n",
        "    preproc_text = [preprocess_string(doc, CUSTOM_FILTERS) for doc in list_of_strings]\n",
        "    \n",
        "    return preproc_text"
      ],
      "execution_count": 10,
      "outputs": [
        {
          "output_type": "display_data",
          "data": {
            "text/html": [
              "\n",
              "  <style>\n",
              "    pre {\n",
              "        white-space: pre-wrap;\n",
              "    }\n",
              "  </style>\n",
              "  "
            ],
            "text/plain": [
              "<IPython.core.display.HTML object>"
            ]
          },
          "metadata": {
            "tags": []
          }
        }
      ]
    },
    {
      "cell_type": "code",
      "metadata": {
        "id": "9fem9F6PBa-x",
        "colab_type": "code",
        "colab": {
          "base_uri": "https://localhost:8080/",
          "height": 329
        },
        "outputId": "c8853c06-f37d-4688-fa18-8d349ee0d143"
      },
      "source": [
        "# what are stop words?\n",
        "\n",
        "from gensim.parsing.preprocessing import STOPWORDS\n",
        "\n",
        "print(STOPWORDS)"
      ],
      "execution_count": 11,
      "outputs": [
        {
          "output_type": "display_data",
          "data": {
            "text/html": [
              "\n",
              "  <style>\n",
              "    pre {\n",
              "        white-space: pre-wrap;\n",
              "    }\n",
              "  </style>\n",
              "  "
            ],
            "text/plain": [
              "<IPython.core.display.HTML object>"
            ]
          },
          "metadata": {
            "tags": []
          }
        },
        {
          "output_type": "stream",
          "text": [
            "frozenset({'thick', 'eg', 'yet', 'from', 'thru', 'after', 'afterwards', 'quite', 'may', 'thereafter', 'whoever', 'take', 'due', 'them', 'can', 'everywhere', 'already', 'without', 'has', 'being', 'very', 'regarding', 'everything', 'here', 'as', 'km', 'six', 'didn', 'for', 'toward', 'few', 'their', 'thus', 'every', 'first', 'even', 'co', 'why', 'whatever', 'at', 'mill', 'mostly', 'towards', 'yourselves', 'thereby', 'it', 'wherein', 'something', 'on', 'system', 'go', 'around', 'nevertheless', 'serious', 'would', 'con', 'see', 'both', 'only', 'used', 're', 'somewhere', 'amount', 'rather', 'ever', 'an', 'interest', 'two', 'last', 'itself', 'whole', 'full', 'seems', 'almost', 'five', 'some', 'becomes', 'themselves', 'your', 'side', 'another', 'sincere', 'so', 'too', 'really', 'upon', 'during', 'fifteen', 'computer', 'do', 'name', 'because', 'across', 'least', 'nothing', 'did', 'ten', 'many', 'none', 'through', 'un', 'or', 'except', 'cry', 'call', 'elsewhere', 'have', 'him', 'once', 'whose', 'part', 'please', 'where', 'her', 'each', 'perhaps', 'empty', 'own', 'ie', 'sometime', 'give', 'sixty', 'be', 'twenty', 'we', 'describe', 'along', 'that', 'i', 'done', 'should', 'anyhow', 'over', 'amongst', 'cant', 'off', 'indeed', 'beyond', 'became', 'whence', 'herself', 'might', 'fill', 'per', 'between', 'again', 'further', 'yours', 'ltd', 'via', 'down', 'either', 'below', 'whereas', 'these', 'among', 'throughout', 'seem', 'whenever', 'nobody', 'formerly', 'forty', 'nowhere', 'found', 'get', 'himself', 'those', 'a', 'also', 'other', 'three', 'well', 'although', 'had', 'not', 'such', 'nine', 'whither', 'about', 'before', 'when', 'various', 'somehow', 'alone', 'against', 'hereafter', 'everyone', 'hereby', 'whereafter', 'how', 'than', 'anything', 'is', 'others', 'latterly', 'under', 'fire', 'of', 'then', 'beside', 'within', 'former', 'therefore', 'no', 'mine', 'anyway', 'whom', 'up', 'still', 'onto', 'one', 'hence', 'they', 'several', 'was', 'doesn', 'you', 'de', 'who', 'thereupon', 'ourselves', 'namely', 'us', 'seemed', 'any', 'move', 'out', 'using', 'fifty', 'show', 'whereupon', 'thin', 'latter', 'thence', 'always', 'find', 'couldnt', 'must', 'often', 'kg', 'say', 'four', 'eight', 'third', 'noone', 'since', 'could', 'which', 'am', 'nor', 'doing', 'moreover', 'together', 'eleven', 'into', 'never', 'becoming', 'just', 'bottom', 'until', 'detail', 'though', 'don', 'else', 'hundred', 'less', 'inc', 'hers', 'meanwhile', 'whether', 'my', 'seeming', 'therein', 'she', 'anywhere', 'me', 'unless', 'much', 'hasnt', 'with', 'make', 'been', 'in', 'enough', 'become', 'yourself', 'cannot', 'sometimes', 'myself', 'does', 'otherwise', 'someone', 'put', 'and', 'are', 'while', 'however', 'by', 'were', 'if', 'there', 'hereupon', 'but', 'front', 'amoungst', 'he', 'same', 'above', 'this', 'keep', 'beforehand', 'now', 'behind', 'anyone', 'to', 'bill', 'our', 'will', 'whereby', 'besides', 'the', 'herein', 'what', 'twelve', 'top', 'next', 'more', 'its', 'made', 'wherever', 'back', 'all', 'ours', 'most', 'etc', 'his', 'neither'})\n"
          ],
          "name": "stdout"
        }
      ]
    },
    {
      "cell_type": "code",
      "metadata": {
        "id": "uowj9s6WBa-3",
        "colab_type": "code",
        "colab": {
          "base_uri": "https://localhost:8080/",
          "height": 17
        },
        "outputId": "d8125ddd-d46e-49a8-816f-f79cbdcede3b"
      },
      "source": [
        "import re\n",
        "\n",
        "def remove_twitterisms(list_of_strings):\n",
        "    \"\"\"\n",
        "    Some regular expression statements to remove twitter-isms\n",
        "    \n",
        "    Operations:\n",
        "        - remove links\n",
        "        - remove @tag\n",
        "        - remove #tag\n",
        "        \n",
        "    Returns list of strings with the above removed\n",
        "    \"\"\"\n",
        "    \n",
        "    # removing some standard twitter-isms\n",
        "\n",
        "    list_of_strings = [re.sub(r\"http\\S+\", \"\", doc) for doc in list_of_strings]\n",
        "\n",
        "    list_of_strings = [re.sub(r\"@\\S+\", \"\", doc) for doc in list_of_strings]\n",
        "\n",
        "    list_of_strings = [re.sub(r\"#\\S+\", \"\", doc) for doc in list_of_strings]\n",
        "    \n",
        "    return list_of_strings"
      ],
      "execution_count": 12,
      "outputs": [
        {
          "output_type": "display_data",
          "data": {
            "text/html": [
              "\n",
              "  <style>\n",
              "    pre {\n",
              "        white-space: pre-wrap;\n",
              "    }\n",
              "  </style>\n",
              "  "
            ],
            "text/plain": [
              "<IPython.core.display.HTML object>"
            ]
          },
          "metadata": {
            "tags": []
          }
        }
      ]
    },
    {
      "cell_type": "code",
      "metadata": {
        "id": "i7eVcK7NBa-7",
        "colab_type": "code",
        "colab": {
          "base_uri": "https://localhost:8080/",
          "height": 17
        },
        "outputId": "114c8f4b-ef43-4bc4-a0ea-4d8144601f0f"
      },
      "source": [
        "# removing emojis\n",
        "# taken from https://gist.github.com/slowkow/7a7f61f495e3dbb7e3d767f97bd7304b#gistcomment-3315605\n",
        "\n",
        "def remove_emoji(string):\n",
        "    emoji_pattern = re.compile(\"[\"\n",
        "                               u\"\\U0001F600-\\U0001F64F\"  # emoticons\n",
        "                               u\"\\U0001F300-\\U0001F5FF\"  # symbols & pictographs\n",
        "                               u\"\\U0001F680-\\U0001F6FF\"  # transport & map symbols\n",
        "                               u\"\\U0001F1E0-\\U0001F1FF\"  # flags (iOS)\n",
        "                               u\"\\U00002500-\\U00002BEF\"  # chinese char\n",
        "                               u\"\\U00002702-\\U000027B0\"\n",
        "                               u\"\\U00002702-\\U000027B0\"\n",
        "                               u\"\\U000024C2-\\U0001F251\"\n",
        "                               u\"\\U0001f926-\\U0001f937\"\n",
        "                               u\"\\U00010000-\\U0010ffff\"\n",
        "                               u\"\\u2640-\\u2642\"\n",
        "                               u\"\\u2600-\\u2B55\"\n",
        "                               u\"\\u200d\"\n",
        "                               u\"\\u23cf\"\n",
        "                               u\"\\u23e9\"\n",
        "                               u\"\\u231a\"\n",
        "                               u\"\\ufe0f\"  # dingbats\n",
        "                               u\"\\u3030\"\n",
        "                               \"]+\", flags=re.UNICODE)\n",
        "    return emoji_pattern.sub(r'', string)"
      ],
      "execution_count": 13,
      "outputs": [
        {
          "output_type": "display_data",
          "data": {
            "text/html": [
              "\n",
              "  <style>\n",
              "    pre {\n",
              "        white-space: pre-wrap;\n",
              "    }\n",
              "  </style>\n",
              "  "
            ],
            "text/plain": [
              "<IPython.core.display.HTML object>"
            ]
          },
          "metadata": {
            "tags": []
          }
        }
      ]
    },
    {
      "cell_type": "code",
      "metadata": {
        "id": "myz5QO3pBa_B",
        "colab_type": "code",
        "colab": {
          "base_uri": "https://localhost:8080/",
          "height": 17
        },
        "outputId": "0bffd9ae-300a-40f1-f2bf-83a29f5a198c"
      },
      "source": [
        "def remove_redacted(string):\n",
        "    \n",
        "    string = [re.sub(r\"(x|X){2,}\", \"\", doc) for doc in string]\n",
        "    \n",
        "    return string"
      ],
      "execution_count": 14,
      "outputs": [
        {
          "output_type": "display_data",
          "data": {
            "text/html": [
              "\n",
              "  <style>\n",
              "    pre {\n",
              "        white-space: pre-wrap;\n",
              "    }\n",
              "  </style>\n",
              "  "
            ],
            "text/plain": [
              "<IPython.core.display.HTML object>"
            ]
          },
          "metadata": {
            "tags": []
          }
        }
      ]
    },
    {
      "cell_type": "code",
      "metadata": {
        "id": "1gJda11XBa_Q",
        "colab_type": "code",
        "colab": {
          "base_uri": "https://localhost:8080/",
          "height": 17
        },
        "outputId": "56d30e3e-82bc-4b4a-9df5-3470dd564abe"
      },
      "source": [
        "from gensim.models.phrases import Phrases\n",
        "\n",
        "def n_gram(tokens):\n",
        "    \"\"\"Identifies common two/three word phrases using gensim module.\"\"\"\n",
        "    # Add bigrams and trigrams to docs (only ones that appear 10 times or more).\n",
        "    # includes threshold kwarg (threshold score required by bigram)\n",
        "    bigram = Phrases(tokens, min_count=10, threshold=100)\n",
        "    trigram = Phrases(bigram[tokens], threshold = 100)\n",
        "\n",
        "    for idx, val in enumerate(tokens):\n",
        "        for token in bigram[tokens[idx]]:\n",
        "            if '_' in token:\n",
        "                if token not in tokens[idx]:\n",
        "                    # Token is a bigram, add to document.bigram\n",
        "                    tokens[idx].append(token)\n",
        "        for token in trigram[tokens[idx]]:\n",
        "            if '_' in token:\n",
        "                if token not in tokens[idx]:\n",
        "                    # Token is a trigram, add to document.\n",
        "                    tokens[idx].append(token)\n",
        "    return tokens"
      ],
      "execution_count": 15,
      "outputs": [
        {
          "output_type": "display_data",
          "data": {
            "text/html": [
              "\n",
              "  <style>\n",
              "    pre {\n",
              "        white-space: pre-wrap;\n",
              "    }\n",
              "  </style>\n",
              "  "
            ],
            "text/plain": [
              "<IPython.core.display.HTML object>"
            ]
          },
          "metadata": {
            "tags": []
          }
        }
      ]
    },
    {
      "cell_type": "code",
      "metadata": {
        "id": "KaXXFqRCBa_V",
        "colab_type": "code",
        "colab": {
          "base_uri": "https://localhost:8080/",
          "height": 54
        },
        "outputId": "c1614224-de41-4068-e67f-3bb4f1204e4d"
      },
      "source": [
        "import nltk\n",
        "from nltk.stem import WordNetLemmatizer\n",
        "nltk.download('wordnet')\n",
        "\n",
        "def lemmatise(words):\n",
        "    \"\"\"\n",
        "    Convert words to their lemma or root using WordNet lemmatizer\n",
        "    \"\"\"\n",
        "    lemma = WordNetLemmatizer()\n",
        "    # this function takes a list of lists of tokens\n",
        "    return [[lemma.lemmatize(token,'v') for token in tokens] for tokens in words]"
      ],
      "execution_count": 18,
      "outputs": [
        {
          "output_type": "display_data",
          "data": {
            "text/html": [
              "\n",
              "  <style>\n",
              "    pre {\n",
              "        white-space: pre-wrap;\n",
              "    }\n",
              "  </style>\n",
              "  "
            ],
            "text/plain": [
              "<IPython.core.display.HTML object>"
            ]
          },
          "metadata": {
            "tags": []
          }
        },
        {
          "output_type": "stream",
          "text": [
            "[nltk_data] Downloading package wordnet to /root/nltk_data...\n",
            "[nltk_data]   Unzipping corpora/wordnet.zip.\n"
          ],
          "name": "stdout"
        }
      ]
    },
    {
      "cell_type": "code",
      "metadata": {
        "id": "tY1I8yJOBa_a",
        "colab_type": "code",
        "colab": {
          "base_uri": "https://localhost:8080/",
          "height": 17
        },
        "outputId": "2df02c72-ab2c-4e72-e18e-35504994a074"
      },
      "source": [
        "# next we implement the preprocessing functions on our data\n",
        "\n",
        "preprocessed_corpus = remove_twitterisms(subsample_text)\n",
        "\n",
        "preprocessed_corpus = remove_redacted(preprocessed_corpus)\n",
        "\n",
        "preprocessed_corpus = [remove_emoji(doc) for doc in preprocessed_corpus]\n",
        "\n",
        "preprocessed_corpus = basic_preprocess(preprocessed_corpus)\n",
        "\n",
        "preprocessed_corpus = lemmatise(preprocessed_corpus)"
      ],
      "execution_count": 19,
      "outputs": [
        {
          "output_type": "display_data",
          "data": {
            "text/html": [
              "\n",
              "  <style>\n",
              "    pre {\n",
              "        white-space: pre-wrap;\n",
              "    }\n",
              "  </style>\n",
              "  "
            ],
            "text/plain": [
              "<IPython.core.display.HTML object>"
            ]
          },
          "metadata": {
            "tags": []
          }
        }
      ]
    },
    {
      "cell_type": "code",
      "metadata": {
        "id": "OX06PkBoBa_f",
        "colab_type": "code",
        "colab": {
          "base_uri": "https://localhost:8080/",
          "height": 1000
        },
        "outputId": "368853af-9942-4588-f471-7c7499fc12f9"
      },
      "source": [
        "# lets compare the original strings to the preprocessed strings\n",
        "for orig, proc in zip(subsample_text[:3], preprocessed_corpus[:3]):\n",
        "    \n",
        "    print(orig)\n",
        "    print(proc)\n",
        "    print('\\n')"
      ],
      "execution_count": 20,
      "outputs": [
        {
          "output_type": "display_data",
          "data": {
            "text/html": [
              "\n",
              "  <style>\n",
              "    pre {\n",
              "        white-space: pre-wrap;\n",
              "    }\n",
              "  </style>\n",
              "  "
            ],
            "text/plain": [
              "<IPython.core.display.HTML object>"
            ]
          },
          "metadata": {
            "tags": []
          }
        },
        {
          "output_type": "stream",
          "text": [
            "I was stupid enough to charge some items at MACY 'S on my Macy 's credit card over XXXX. I was unable to log into my account online to make the payment because Macy 's had updated the system and I simply did n't have the patience to navigate their irritating and obscure system. However, I called Macy 's and paid my bill for $ XXXX a day or two late - was assured that there would be no late charges because I was a customer in good standing, yada yada, and received a confirmation number that I had paid the bill in full. \n",
            "\n",
            "I then received a bill for {$2.00} in interest. OK, I agree - I had n't paid the {$140.00} on time, regardless of the reason. Whatever. So I paid that {$2.00} bill immediately, by check, and left the country for an extended absence - in complete confidence that I had paid all my bills in full. \n",
            "\n",
            "Imagine my surprise when I returned to the US and found that Macy 's had received and cashed my check, but charged me a further {$2.00} anyway as a minimum interest charge on the interest charge that had been paid in full, well before the due date. Oh, and then added a further minimum {$2.00} charge for a total of {$4.00}, due on XXXX. \n",
            "\n",
            "I called Macy 's right away and spoke to one XXXX, who did n't seem to have a clue why I was irritated, but eventually - very grudgingly and with full implication that I was a total deadbeat - agreed that she would \" waive '' the {$4.00}. \n",
            "\n",
            "Imagine my FURTHER surprise when I received a FURTHER email from Macy 's about my \" account balance. '' I immediately called, went through endless voice prompts, and finally got through to a live human being who said in hushed tones that she 'd have to put me through to another department. \n",
            "\n",
            "Sure enough, I got the \" this is an attempt to collect a debt '' speech. The glorious XXXX, according to the faultlessly polite CS rep who answered, had failed to properly credit my account. He agreed that he could correct it and that my account would update eventually to show a {$0.00} balance. However, he was unable to reassure me that this, um, \" delinquency '' had not been reported to the credit bureaux that make a darn good living off selling my info, and he could not send me a letter saying that Macy 's had made a mistake. Given that the glorious XXXX had also assured me that I had a {$0.00} balance on my Macy 's charge card, forgive me if I 'm not confident that I do in fact now have a {$0.00} balance. \n",
            "\n",
            "I do not give a flying whatever about my credit as I am old and cranky and do n't need any credit. I DO care that Macy 's total incompetence and the Macy 's system that is set up to fail, to their benefit and to consumers ' detriment, affects kids and other people who DO need good credit.\n",
            "['stupid', 'charge', 'items', 'macy', 'macy', 'credit', 'card', 'unable', 'log', 'account', 'online', 'payment', 'macy', 'update', 'simply', 'patience', 'navigate', 'irritate', 'obscure', 'call', 'macy', 'pay', 'day', 'late', 'assure', 'late', 'charge', 'customer', 'good', 'stand', 'yada', 'yada', 'receive', 'confirmation', 'number', 'pay', 'receive', 'agree', 'pay', 'time', 'regardless', 'reason', 'pay', 'immediately', 'check', 'leave', 'country', 'extend', 'absence', 'complete', 'confidence', 'pay', 'bill', 'imagine', 'surprise', 'return', 'macy', 'receive', 'cash', 'check', 'charge', 'minimum', 'charge', 'charge', 'pay', 'date', 'add', 'minimum', 'charge', 'total', 'call', 'macy', 'right', 'away', 'speak', 'clue', 'irritate', 'eventually', 'grudgingly', 'implication', 'total', 'deadbeat', 'agree', 'waive', 'imagine', 'surprise', 'receive', 'email', 'macy', 'account', 'balance', 'immediately', 'call', 'go', 'endless', 'voice', 'prompt', 'finally', 'get', 'live', 'human', 'say', 'hush', 'tone', 'department', 'sure', 'get', 'attempt', 'collect', 'debt', 'speech', 'glorious', 'accord', 'faultlessly', 'polite', 'rep', 'answer', 'fail', 'properly', 'credit', 'account', 'agree', 'correct', 'account', 'update', 'eventually', 'balance', 'unable', 'reassure', 'delinquency', 'report', 'credit', 'bureaux', 'darn', 'good', 'live', 'sell', 'info', 'send', 'letter', 'say', 'macy', 'mistake', 'give', 'glorious', 'assure', 'balance', 'macy', 'charge', 'card', 'forgive', 'confident', 'fact', 'balance', 'fly', 'credit', 'old', 'cranky', 'need', 'credit', 'care', 'macy', 'total', 'incompetence', 'macy', 'set', 'fail', 'benefit', 'consumers', 'detriment', 'affect', 'kid', 'people', 'need', 'good', 'credit']\n",
            "\n",
            "\n",
            "XXXX XXXX, 2016 To Whom It May Concern : I 'm outraged US Bank debited my account {$570.00} without my authorization after a credit card payment! On XXXX XXXX, I completed an external transfer for {$300.00} and {$270.00} respectively to my XXXX US Bank credit cards. However I noticed my checking account had double posts from US Bank totaling {$1100.00}. Immediately I called and spoke to a representative and she confirmed there had been a mistake on their system and expect a refund in four days. I 've called three more times and spoke to several representatives that stated my money can be held for 17 days until returned! I have also left voice-mails to the special payment research department and have yet to receive a phone call back. This is unacceptable for my money to be held while US Bank makes interest for over a week! My funds need to be returned to my bank account immediately with interest! I 'm looking for a fast resolution and funds returned as soon as possible. \n",
            "XXXX XXXX XXXX\n",
            "['concern', 'outrage', 'bank', 'debit', 'account', 'authorization', 'credit', 'card', 'payment', 'complete', 'external', 'transfer', 'respectively', 'bank', 'credit', 'card', 'notice', 'check', 'account', 'double', 'post', 'bank', 'total', 'immediately', 'call', 'speak', 'representative', 'confirm', 'mistake', 'expect', 'refund', 'days', 'call', 'time', 'speak', 'representatives', 'state', 'money', 'hold', 'days', 'return', 'leave', 'voice', 'mail', 'special', 'payment', 'research', 'department', 'receive', 'phone', 'unacceptable', 'money', 'hold', 'bank', 'make', 'week', 'fund', 'need', 'return', 'bank', 'account', 'immediately', 'look', 'fast', 'resolution', 'fund', 'return', 'soon', 'possible']\n",
            "\n",
            "\n",
            "I have rented a car XXXX and paid the rental amount with my credit card. After that, i have received almost {$1500.00} bill from the same car rental company for damages to the car which i was not agreed. The rental car company had forged my signature on a paper to charge my credit card and bank of america has denied my dispute even thought the signature for forged ...\n",
            "['rent', 'car', 'pay', 'rental', 'credit', 'card', 'receive', 'car', 'rental', 'company', 'damage', 'car', 'agree', 'rental', 'car', 'company', 'forge', 'signature', 'paper', 'charge', 'credit', 'card', 'bank', 'america', 'deny', 'dispute', 'think', 'signature', 'forge']\n",
            "\n",
            "\n",
            "On XX/XX/XXXX I rented a car for 4 days from XXXX. According to the contract, the invoice for 5 days was XXXX Euro. My credit card was charged XXXX Euro. A difference of XXXX Euros because I did n't return the car with a full tank. On XX/XX/XXXX and XX/XX/XXXX, I contacted XXXX regarding XXXX Euros and I explained that there is a mistake. On XX/XX/XXXX I filed a complaint regarding an unrecognized charge of XXXX Euro ( around XXXX dollars ) with Chase, the issuer of the XXXX credit card. On the same day, when I called Chase, the Chase Card Representative noticed and informed me that XXXX car rental company charged me {$440.00} again on XX/XX/XXXX for renting a car in XXXX. Because I did not rent a car from XXXX XXXX in XXXX XXXX or traveled out of the country, I filed the other complaint form regarding the {$440.00}. I called XXXX and the representative told me that \" I rented the car in XXXX in XX/XX/XXXX '' I tried to explain that this is not true because I was at home in the US, but I was told they would not reverse the charge. \n",
            "Interestingly enough, on the XXXX Chase credit card statement, XXXX credited me, the XXXX Euros ( around {$85.00} ) the difference XXXX overcharged me in XX/XX/XXXX for not returning the car with a full gas tank. On XX/XX/XXXX, I submitted the documentation requested addressing the issue that XXXX is lying and changing its answers every time in an attempt to extort money from me. Although, at the beginning XXXX told me and Chase representatives that I rented the car in XXXX, in XX/XX/XXXX, XXXX has changed its response saying that the car had some scratches on the rear fender and bumper. I think it is very clear, the company is trying to get more money, lying and changing their answers in an illegal attempt to extort money from me. \n",
            "Once again, XXXX should have mentioned any damage to me after I returned the car in XXXX at the end of my trip in XXXX. In fact, the car had scratches when I rented the car in XX/XX/XXXX, as specified in the contract. I submitted pictures taken before renting the car on XXXX In the photos everybody can see that the scratches XXXX claims were added by me were on the car from the beginning. So, the original paperwork which I submitted to Chase was comprehensive and extensive. I included previous letters, emails capturing the conversation between XXXX and myself and pictures of the car at the time I rented the car which demonstrated that this is a fraudulent charge. If this had been an honest charge, XXXX would have mentioned any scratches/damage to me after I returned the car in XXXX at the end of my trip. They never did because the car was returned with a full gas tank in the same condition I rented the car. Chase Credit Card Services kept calling me and stating that this is a valid charge without providing any explanations. On XX/XX/XXXX I spoke with a Supervisor from Chase who asked me to submit again the documentation in writing. I mentioned to her, that the damage that is described by XXXX, it is captured in the contract I signed when I rented the car. So, until now, I submitted the documentation required multiple times via the Chase secure message. I am extremely concerned about this extortion on behalf of XXXX, and will pursue this matter further in court if necessary. I expect Chase to provide the protection you have promised me as a client in dealings with this disreputable company, who has twice attempted to submit inappropriate charges against my account.\n",
            "['rent', 'car', 'days', 'accord', 'contract', 'invoice', 'days', 'euro', 'credit', 'card', 'charge', 'euro', 'difference', 'euros', 'return', 'car', 'tank', 'contact', 'euros', 'explain', 'mistake', 'file', 'complaint', 'unrecognized', 'charge', 'euro', 'dollars', 'chase', 'issuer', 'credit', 'card', 'day', 'call', 'chase', 'chase', 'card', 'representative', 'notice', 'inform', 'car', 'rental', 'company', 'charge', 'rent', 'car', 'rent', 'car', 'travel', 'country', 'file', 'complaint', 'form', 'call', 'representative', 'tell', 'rent', 'car', 'try', 'explain', 'true', 'home', 'tell', 'reverse', 'charge', 'interestingly', 'chase', 'credit', 'card', 'statement', 'credit', 'euros', 'difference', 'overcharge', 'return', 'car', 'gas', 'tank', 'submit', 'documentation', 'request', 'address', 'issue', 'lie', 'change', 'answer', 'time', 'attempt', 'extort', 'money', 'begin', 'tell', 'chase', 'representatives', 'rent', 'car', 'change', 'response', 'say', 'car', 'scratch', 'rear', 'fender', 'bumper', 'think', 'clear', 'company', 'try', 'money', 'lie', 'change', 'answer', 'illegal', 'attempt', 'extort', 'money', 'mention', 'damage', 'return', 'car', 'end', 'trip', 'fact', 'car', 'scratch', 'rent', 'car', 'specify', 'contract', 'submit', 'picture', 'take', 'rent', 'car', 'photos', 'everybody', 'scratch', 'claim', 'add', 'car', 'begin', 'original', 'paperwork', 'submit', 'chase', 'comprehensive', 'extensive', 'include', 'previous', 'letter', 'email', 'capture', 'conversation', 'picture', 'car', 'time', 'rent', 'car', 'demonstrate', 'fraudulent', 'charge', 'honest', 'charge', 'mention', 'scratch', 'damage', 'return', 'car', 'end', 'trip', 'car', 'return', 'gas', 'tank', 'condition', 'rent', 'car', 'chase', 'credit', 'card', 'service', 'keep', 'call', 'state', 'valid', 'charge', 'provide', 'explanations', 'speak', 'supervisor', 'chase', 'ask', 'submit', 'documentation', 'write', 'mention', 'damage', 'describe', 'capture', 'contract', 'sign', 'rent', 'car', 'submit', 'documentation', 'require', 'multiple', 'time', 'chase', 'secure', 'message', 'extremely', 'concern', 'extortion', 'behalf', 'pursue', 'matter', 'court', 'necessary', 'expect', 'chase', 'provide', 'protection', 'promise', 'client', 'deal', 'disreputable', 'company', 'twice', 'attempt', 'submit', 'inappropriate', 'charge', 'account']\n",
            "\n",
            "\n",
            "I received an email from Chase saying I could get {$30.00} off a {$150.00} purchase at Amazon.com on Prime Day ( today ). There were some conditions - all items must be shipped and sold by Amazon.com. I spent a good hour making sure that I met all the conditions for the sale. At checkout, the promotion code did n't work. I was told by Chase to contact Amazon. Amazon told me the deal was only valid until XXXX. There was no mention of that in the email that I received. The only time limitation was that it was valid on Prime Day. Today is Prime Day. I 'd understand if it was late at night, and maybe the code was set to a different time zone. But it 's XXXX.\n",
            "['receive', 'email', 'chase', 'say', 'purchase', 'amazon', 'com', 'prime', 'day', 'today', 'condition', 'items', 'ship', 'sell', 'amazon', 'com', 'spend', 'good', 'hour', 'make', 'sure', 'meet', 'condition', 'sale', 'checkout', 'promotion', 'code', 'work', 'tell', 'chase', 'contact', 'amazon', 'amazon', 'tell', 'deal', 'valid', 'mention', 'email', 'receive', 'time', 'limitation', 'valid', 'prime', 'day', 'today', 'prime', 'day', 'understand', 'late', 'night', 'maybe', 'code', 'set', 'different', 'time', 'zone']\n",
            "\n",
            "\n"
          ],
          "name": "stdout"
        }
      ]
    },
    {
      "cell_type": "markdown",
      "metadata": {
        "id": "IppiXdvlXcBH",
        "colab_type": "text"
      },
      "source": [
        "## Exploring the preprocessed data\n",
        "\n",
        "Now we have our cleaned data we can do some simple analysis of word frequencies which can often help inform what words to include in an expanded stopword list."
      ]
    },
    {
      "cell_type": "code",
      "metadata": {
        "id": "rJkrAeL2Xbvk",
        "colab_type": "code",
        "colab": {
          "base_uri": "https://localhost:8080/",
          "height": 546
        },
        "outputId": "4244b261-ba9d-4bf3-deee-8838f411fdca"
      },
      "source": [
        "import nltk\n",
        "\n",
        "# visualise word frequency\n",
        "# flatten list of lists into 1D list\n",
        "flat_list = [item for sublist in preprocessed_corpus for item in sublist]\n",
        "\n",
        "print(len(flat_list))\n",
        "# convert text to nltk text object\n",
        "text = nltk.Text(flat_list)\n",
        "\n",
        "# frequency of words\n",
        "fdist = nltk.FreqDist(text)\n",
        "print(fdist.most_common(50))\n",
        "plt.figure(figsize=(10,6))\n",
        "fdist.plot(50)"
      ],
      "execution_count": 29,
      "outputs": [
        {
          "output_type": "display_data",
          "data": {
            "text/html": [
              "\n",
              "  <style>\n",
              "    pre {\n",
              "        white-space: pre-wrap;\n",
              "    }\n",
              "  </style>\n",
              "  "
            ],
            "text/plain": [
              "<IPython.core.display.HTML object>"
            ]
          },
          "metadata": {
            "tags": []
          }
        },
        {
          "output_type": "display_data",
          "data": {
            "text/html": [
              "\n",
              "  <style>\n",
              "    pre {\n",
              "        white-space: pre-wrap;\n",
              "    }\n",
              "  </style>\n",
              "  "
            ],
            "text/plain": [
              "<IPython.core.display.HTML object>"
            ]
          },
          "metadata": {
            "tags": []
          }
        },
        {
          "output_type": "stream",
          "text": [
            "1471352\n",
            "[('credit', 47457), ('card', 45382), ('account', 36126), ('charge', 21830), ('pay', 19769), ('bank', 16499), ('payment', 16385), ('receive', 14861), ('tell', 14818), ('call', 14692), ('time', 12925), ('balance', 12575), ('report', 12157), ('fee', 10902), ('say', 9815), ('send', 8864), ('late', 8850), ('close', 8250), ('ask', 8167), ('company', 7964), ('service', 7802), ('purchase', 7430), ('chase', 7296), ('information', 7097), ('dispute', 6985), ('contact', 6942), ('issue', 6865), ('payments', 6794), ('letter', 6783), ('state', 6695), ('request', 6466), ('check', 6274), ('phone', 6259), ('customer', 6251), ('number', 6159), ('statement', 6008), ('days', 5588), ('go', 5507), ('month', 5464), ('date', 5368), ('apply', 5311), ('offer', 5189), ('months', 5189), ('capital', 5163), ('open', 5091), ('provide', 5011), ('speak', 4938), ('point', 4913), ('new', 4841), ('citi', 4782)]\n"
          ],
          "name": "stdout"
        },
        {
          "output_type": "display_data",
          "data": {
            "image/png": "[encoded data removed]",
            "text/plain": [
              "<Figure size 720x432 with 1 Axes>"
            ]
          },
          "metadata": {
            "tags": [],
            "needs_background": "light"
          }
        }
      ]
    },
    {
      "cell_type": "markdown",
      "metadata": {
        "id": "IXU_tkIYBa_k",
        "colab_type": "text"
      },
      "source": [
        "## Building a bag of words corpus and dictionary\n",
        "\n",
        "Next we need to process our preprocessed data into a bag-of-words corpus and associated dictionary. The bag-of-words model is a simplified representation of text as a set of words and their frequency in a document.\n",
        "\n",
        "For instance:\n",
        "```\n",
        "  Text: \"John likes movies. Mary likes movies too.\"\n",
        "\n",
        "  BoW Dictionary : {\"John\":1,\"Mary\":2,\"likes\":3,\"movies\":4,\"too\":5}\n",
        "\n",
        "  BoW representation of text : [(1, 1), (2,1), (3,2), (4,2), (5,1)]\n",
        "  (word_id, word_count)\n",
        "```\n",
        "\n",
        "This representation of the dictionary and the corpus can be used as the input into our topic model.\n",
        "\n"
      ]
    },
    {
      "cell_type": "code",
      "metadata": {
        "id": "ri0B63CdBa_k",
        "colab_type": "code",
        "colab": {
          "base_uri": "https://localhost:8080/",
          "height": 17
        },
        "outputId": "6b44dff7-8429-4db1-bdca-ee5a0a2d8362"
      },
      "source": [
        "import numpy as np\n",
        "from gensim.corpora import Dictionary\n",
        "\n",
        "def bag_of_word_processing(corpus_of_tokens, lower_extreme, upper_extreme):\n",
        "    \"\"\"\n",
        "    Take the list of tokens and convert them into a bag-of-words (BoW) format.\n",
        "\n",
        "    Extended description of function.\n",
        "\n",
        "    :param list of lists corpus_of_tokens: a list of strings produced during preprocessing representing all documents in corpus\n",
        "    :param int lower_extreme: Description of arg2.\n",
        "    :param float upper_extreme: the upper extreme filter limit, words are excluded if they occur in more documents than the proportion specified here\n",
        "    :return: gensim.corpora.dictionary.Dictionary object \n",
        "    :return: list representing BoW corpus\n",
        "    \n",
        "    \"\"\"\n",
        "\n",
        "    # Create a dictionary representation of the documents.\n",
        "    # gensim Dictionary function creates tokens -> tokenID dict\n",
        "    dictionary = Dictionary(corpus_of_tokens)\n",
        "    print('Number of unique words in initital documents:', len(dictionary))\n",
        "\n",
        "    org_dict = len(dictionary)\n",
        "\n",
        "    # Filter out words that occur less than 10 documents, or more than 70% of the documents.\n",
        "    dictionary.filter_extremes(no_below=lower_extreme, no_above=upper_extreme)\n",
        "    print('Number of unique words after removing rare and common words:', len(dictionary))\n",
        "\n",
        "    filt_dict = len(dictionary)\n",
        "\n",
        "    print('Token reduction of: ' + str((1-filt_dict/org_dict)*100)+'%')\n",
        "\n",
        "    # transform to bag of words\n",
        "    corpus = [dictionary.doc2bow(doc) for doc in corpus_of_tokens]\n",
        "    print('Number of unique tokens: %d' % len(dictionary))\n",
        "    print('Number of documents: %d' % len(corpus))\n",
        "\n",
        "    # output on document length\n",
        "    print('Average number of words per document before BoW transform: ', np.mean([len(item) for item in preprocessed_corpus]))\n",
        "    print('Average number of words per BoW document: ',np.mean([len(corpus[i]) for i in range(len(corpus))]))\n",
        "\n",
        "    return dictionary, corpus"
      ],
      "execution_count": 22,
      "outputs": [
        {
          "output_type": "display_data",
          "data": {
            "text/html": [
              "\n",
              "  <style>\n",
              "    pre {\n",
              "        white-space: pre-wrap;\n",
              "    }\n",
              "  </style>\n",
              "  "
            ],
            "text/plain": [
              "<IPython.core.display.HTML object>"
            ]
          },
          "metadata": {
            "tags": []
          }
        },
        {
          "output_type": "display_data",
          "data": {
            "text/html": [
              "\n",
              "  <style>\n",
              "    pre {\n",
              "        white-space: pre-wrap;\n",
              "    }\n",
              "  </style>\n",
              "  "
            ],
            "text/plain": [
              "<IPython.core.display.HTML object>"
            ]
          },
          "metadata": {
            "tags": []
          }
        }
      ]
    },
    {
      "cell_type": "code",
      "metadata": {
        "id": "3Swvk8xxBa_o",
        "colab_type": "code",
        "colab": {
          "base_uri": "https://localhost:8080/",
          "height": 146
        },
        "outputId": "98e5eac3-b469-474f-b310-8d2cb365a001"
      },
      "source": [
        "# create our BoW dictionary and corpus for use in LDA\n",
        "working_dict, working_corpus = bag_of_word_processing(preprocessed_corpus, 10, 0.7)"
      ],
      "execution_count": 23,
      "outputs": [
        {
          "output_type": "display_data",
          "data": {
            "text/html": [
              "\n",
              "  <style>\n",
              "    pre {\n",
              "        white-space: pre-wrap;\n",
              "    }\n",
              "  </style>\n",
              "  "
            ],
            "text/plain": [
              "<IPython.core.display.HTML object>"
            ]
          },
          "metadata": {
            "tags": []
          }
        },
        {
          "output_type": "display_data",
          "data": {
            "text/html": [
              "\n",
              "  <style>\n",
              "    pre {\n",
              "        white-space: pre-wrap;\n",
              "    }\n",
              "  </style>\n",
              "  "
            ],
            "text/plain": [
              "<IPython.core.display.HTML object>"
            ]
          },
          "metadata": {
            "tags": []
          }
        },
        {
          "output_type": "stream",
          "text": [
            "Number of unique words in initital documents: 18111\n",
            "Number of unique words after removing rare and common words: 4020\n",
            "Token reduction of: 77.80354480702336%\n",
            "Number of unique tokens: 4020\n",
            "Number of documents: 18838\n",
            "Average number of words per document before BoW transform:  78.1055313727572\n",
            "Average number of words per BoW document:  46.33570442722157\n"
          ],
          "name": "stdout"
        }
      ]
    },
    {
      "cell_type": "markdown",
      "metadata": {
        "id": "ylG8DPLHBa_t",
        "colab_type": "text"
      },
      "source": [
        "## Building the topic model\n",
        "\n",
        "We now have processed our initial texts into components that machines can interact with and we're ready to create a topic model!"
      ]
    },
    {
      "cell_type": "code",
      "metadata": {
        "id": "jneMHHcXBa_u",
        "colab_type": "code",
        "colab": {
          "base_uri": "https://localhost:8080/",
          "height": 17
        },
        "outputId": "3285e0d9-97ee-40c1-8327-4a4436a678a2"
      },
      "source": [
        "# create a function to perform a scan of possible topic numbers \n",
        "# calculating the coherence score to determine model fitness\n",
        "from gensim.models import CoherenceModel, ldamulticore\n",
        "\n",
        "def long_topic_scan(dictionary, corpus,  texts, limit, start=2, step=3):\n",
        "    \"\"\"\n",
        "    Identify the topic number with the highest coherence score out of a broad range of numbers\n",
        "    Adapted from https://www.machinelearningplus.com/nlp/topic-modeling-gensim-python/\n",
        "    Parameters:\n",
        "    ----------\n",
        "    dictionary : Gensim dictionary\n",
        "    corpus : Gensim corpus\n",
        "    texts : List of input texts (doc_clean)\n",
        "    limit : Max num of topics\n",
        "    start : int starting topic number\n",
        "    step : int increment from one topic number to another until limit is reached\n",
        "    Returns:\n",
        "    coherence_df : pd.DataFrame containing topic number and its calculated coherence score\n",
        "    -------\n",
        "    coherence_values : Coherence values corresponding to the LDA model with respective number of topics\n",
        "    graphical outputs\n",
        "    \"\"\"\n",
        "    coherence_dict = dict()\n",
        "\n",
        "    for num_topics in range(start, limit, step):\n",
        "        model = ldamulticore.LdaMulticore(corpus=corpus, num_topics=num_topics, id2word=dictionary, workers=2)\n",
        "        coherencemodel1 = CoherenceModel(model=model, texts=texts, dictionary=dictionary, coherence='c_v')\n",
        "        coherence_dict[num_topics] = coherencemodel1.get_coherence()\n",
        "\n",
        "    coherence_df = pd.DataFrame(pd.Series(coherence_dict)).reset_index()\n",
        "\n",
        "    coherence_df.columns = ['Num_topics','Coherence_score']\n",
        "\n",
        "    # Show graph\n",
        "    fig, ax = plt.subplots(figsize=(12,10))\n",
        "    ax.plot(coherence_df['Num_topics'], coherence_df['Coherence_score'])\n",
        "    ax.set_xlabel(\"No. of topics\", fontweight='bold')\n",
        "    ax.set_ylabel(\"Cv Coherence score\", fontweight='bold')\n",
        "    ax.axvline(coherence_df[coherence_df['Coherence_score'] == coherence_df['Coherence_score'].max()]['Num_topics'].tolist(), color='red')\n",
        "\n",
        "    return coherence_df"
      ],
      "execution_count": 24,
      "outputs": [
        {
          "output_type": "display_data",
          "data": {
            "text/html": [
              "\n",
              "  <style>\n",
              "    pre {\n",
              "        white-space: pre-wrap;\n",
              "    }\n",
              "  </style>\n",
              "  "
            ],
            "text/plain": [
              "<IPython.core.display.HTML object>"
            ]
          },
          "metadata": {
            "tags": []
          }
        },
        {
          "output_type": "display_data",
          "data": {
            "text/html": [
              "\n",
              "  <style>\n",
              "    pre {\n",
              "        white-space: pre-wrap;\n",
              "    }\n",
              "  </style>\n",
              "  "
            ],
            "text/plain": [
              "<IPython.core.display.HTML object>"
            ]
          },
          "metadata": {
            "tags": []
          }
        }
      ]
    },
    {
      "cell_type": "code",
      "metadata": {
        "id": "uj8yb0EOBa_z",
        "colab_type": "code",
        "colab": {
          "base_uri": "https://localhost:8080/",
          "height": 643
        },
        "outputId": "bd980b4d-8845-4715-9af3-796ee97ab983"
      },
      "source": [
        "%%time\n",
        "\n",
        "coh_model = long_topic_scan(working_dict, working_corpus, preprocessed_corpus, limit=50, step=3, start=2)"
      ],
      "execution_count": 25,
      "outputs": [
        {
          "output_type": "display_data",
          "data": {
            "text/html": [
              "\n",
              "  <style>\n",
              "    pre {\n",
              "        white-space: pre-wrap;\n",
              "    }\n",
              "  </style>\n",
              "  "
            ],
            "text/plain": [
              "<IPython.core.display.HTML object>"
            ]
          },
          "metadata": {
            "tags": []
          }
        },
        {
          "output_type": "display_data",
          "data": {
            "text/html": [
              "\n",
              "  <style>\n",
              "    pre {\n",
              "        white-space: pre-wrap;\n",
              "    }\n",
              "  </style>\n",
              "  "
            ],
            "text/plain": [
              "<IPython.core.display.HTML object>"
            ]
          },
          "metadata": {
            "tags": []
          }
        },
        {
          "output_type": "stream",
          "text": [
            "CPU times: user 8min, sys: 10.9 s, total: 8min 11s\n",
            "Wall time: 10min 9s\n"
          ],
          "name": "stdout"
        },
        {
          "output_type": "display_data",
          "data": {
            "image/png": "[encoded data removed]",
            "text/plain": [
              "<Figure size 864x720 with 1 Axes>"
            ]
          },
          "metadata": {
            "tags": [],
            "needs_background": "light"
          }
        }
      ]
    },
    {
      "cell_type": "code",
      "metadata": {
        "id": "ViQOvp7xBa_5",
        "colab_type": "code",
        "colab": {
          "base_uri": "https://localhost:8080/",
          "height": 81
        },
        "outputId": "edc585c7-45b4-4ee5-e745-803f8845696a"
      },
      "source": [
        "coh_model.sort_values(ascending = False, by='Coherence_score').head(1)"
      ],
      "execution_count": 26,
      "outputs": [
        {
          "output_type": "display_data",
          "data": {
            "text/html": [
              "\n",
              "  <style>\n",
              "    pre {\n",
              "        white-space: pre-wrap;\n",
              "    }\n",
              "  </style>\n",
              "  "
            ],
            "text/plain": [
              "<IPython.core.display.HTML object>"
            ]
          },
          "metadata": {
            "tags": []
          }
        },
        {
          "output_type": "display_data",
          "data": {
            "text/html": [
              "\n",
              "  <style>\n",
              "    pre {\n",
              "        white-space: pre-wrap;\n",
              "    }\n",
              "  </style>\n",
              "  "
            ],
            "text/plain": [
              "<IPython.core.display.HTML object>"
            ]
          },
          "metadata": {
            "tags": []
          }
        },
        {
          "output_type": "execute_result",
          "data": {
            "text/html": [
              "<div>\n",
              "<style scoped>\n",
              "    .dataframe tbody tr th:only-of-type {\n",
              "        vertical-align: middle;\n",
              "    }\n",
              "\n",
              "    .dataframe tbody tr th {\n",
              "        vertical-align: top;\n",
              "    }\n",
              "\n",
              "    .dataframe thead th {\n",
              "        text-align: right;\n",
              "    }\n",
              "</style>\n",
              "<table border=\"1\" class=\"dataframe\">\n",
              "  <thead>\n",
              "    <tr style=\"text-align: right;\">\n",
              "      <th></th>\n",
              "      <th>Num_topics</th>\n",
              "      <th>Coherence_score</th>\n",
              "    </tr>\n",
              "  </thead>\n",
              "  <tbody>\n",
              "    <tr>\n",
              "      <th>2</th>\n",
              "      <td>8</td>\n",
              "      <td>0.339619</td>\n",
              "    </tr>\n",
              "  </tbody>\n",
              "</table>\n",
              "</div>"
            ],
            "text/plain": [
              "   Num_topics  Coherence_score\n",
              "2           8         0.339619"
            ]
          },
          "metadata": {
            "tags": []
          },
          "execution_count": 26
        }
      ]
    },
    {
      "cell_type": "code",
      "metadata": {
        "id": "W0YsNr3RBa__",
        "colab_type": "code",
        "colab": {
          "base_uri": "https://localhost:8080/",
          "height": 17
        },
        "outputId": "72858e51-ff1a-4c18-99d5-f2c767c35764"
      },
      "source": [
        "# next we build our working model using the topic number we've determined\n",
        "\n",
        "working_model = ldamulticore.LdaMulticore(corpus=working_corpus, num_topics=8, id2word=working_dict, workers=2)\n",
        "\n",
        "coherencemodel1 = CoherenceModel(model=working_model, texts=preprocessed_corpus, dictionary=working_dict, coherence='c_v')"
      ],
      "execution_count": 30,
      "outputs": [
        {
          "output_type": "display_data",
          "data": {
            "text/html": [
              "\n",
              "  <style>\n",
              "    pre {\n",
              "        white-space: pre-wrap;\n",
              "    }\n",
              "  </style>\n",
              "  "
            ],
            "text/plain": [
              "<IPython.core.display.HTML object>"
            ]
          },
          "metadata": {
            "tags": []
          }
        },
        {
          "output_type": "display_data",
          "data": {
            "text/html": [
              "\n",
              "  <style>\n",
              "    pre {\n",
              "        white-space: pre-wrap;\n",
              "    }\n",
              "  </style>\n",
              "  "
            ],
            "text/plain": [
              "<IPython.core.display.HTML object>"
            ]
          },
          "metadata": {
            "tags": []
          }
        }
      ]
    },
    {
      "cell_type": "code",
      "metadata": {
        "id": "HFFgRIoxBbAC",
        "colab_type": "code",
        "colab": {
          "base_uri": "https://localhost:8080/",
          "height": 35
        },
        "outputId": "697ee475-3986-4b3d-bf9e-a4912518c3f1"
      },
      "source": [
        "# our working models cv coherence score\n",
        "coherencemodel1.get_coherence()"
      ],
      "execution_count": 31,
      "outputs": [
        {
          "output_type": "display_data",
          "data": {
            "text/html": [
              "\n",
              "  <style>\n",
              "    pre {\n",
              "        white-space: pre-wrap;\n",
              "    }\n",
              "  </style>\n",
              "  "
            ],
            "text/plain": [
              "<IPython.core.display.HTML object>"
            ]
          },
          "metadata": {
            "tags": []
          }
        },
        {
          "output_type": "display_data",
          "data": {
            "text/html": [
              "\n",
              "  <style>\n",
              "    pre {\n",
              "        white-space: pre-wrap;\n",
              "    }\n",
              "  </style>\n",
              "  "
            ],
            "text/plain": [
              "<IPython.core.display.HTML object>"
            ]
          },
          "metadata": {
            "tags": []
          }
        },
        {
          "output_type": "execute_result",
          "data": {
            "text/plain": [
              "0.3299784339636186"
            ]
          },
          "metadata": {
            "tags": []
          },
          "execution_count": 31
        }
      ]
    },
    {
      "cell_type": "code",
      "metadata": {
        "id": "UM0FAbiJBbAG",
        "colab_type": "code",
        "colab": {
          "base_uri": "https://localhost:8080/",
          "height": 311
        },
        "outputId": "5bf8eb62-6e6b-44fd-ef65-ad81acbfe992"
      },
      "source": [
        "# show the top 10 most probable words within each of the topics\n",
        "working_model.show_topics(-1)"
      ],
      "execution_count": 32,
      "outputs": [
        {
          "output_type": "display_data",
          "data": {
            "text/html": [
              "\n",
              "  <style>\n",
              "    pre {\n",
              "        white-space: pre-wrap;\n",
              "    }\n",
              "  </style>\n",
              "  "
            ],
            "text/plain": [
              "<IPython.core.display.HTML object>"
            ]
          },
          "metadata": {
            "tags": []
          }
        },
        {
          "output_type": "display_data",
          "data": {
            "text/html": [
              "\n",
              "  <style>\n",
              "    pre {\n",
              "        white-space: pre-wrap;\n",
              "    }\n",
              "  </style>\n",
              "  "
            ],
            "text/plain": [
              "<IPython.core.display.HTML object>"
            ]
          },
          "metadata": {
            "tags": []
          }
        },
        {
          "output_type": "execute_result",
          "data": {
            "text/plain": [
              "[(0,\n",
              "  '0.028*\"chase\" + 0.021*\"receive\" + 0.019*\"dispute\" + 0.018*\"payment\" + 0.017*\"service\" + 0.016*\"late\" + 0.014*\"charge\" + 0.012*\"account\" + 0.010*\"date\" + 0.010*\"call\"'),\n",
              " (1,\n",
              "  '0.031*\"fee\" + 0.030*\"pay\" + 0.027*\"charge\" + 0.027*\"account\" + 0.019*\"balance\" + 0.016*\"payment\" + 0.014*\"late\" + 0.013*\"time\" + 0.013*\"tell\" + 0.011*\"receive\"'),\n",
              " (2,\n",
              "  '0.032*\"payment\" + 0.021*\"balance\" + 0.018*\"pay\" + 0.015*\"bank\" + 0.013*\"rate\" + 0.013*\"payments\" + 0.011*\"time\" + 0.010*\"statement\" + 0.010*\"call\" + 0.010*\"account\"'),\n",
              " (3,\n",
              "  '0.024*\"charge\" + 0.021*\"tell\" + 0.019*\"call\" + 0.016*\"bank\" + 0.015*\"say\" + 0.012*\"pay\" + 0.010*\"time\" + 0.010*\"ask\" + 0.009*\"receive\" + 0.009*\"account\"'),\n",
              " (4,\n",
              "  '0.029*\"account\" + 0.022*\"report\" + 0.014*\"call\" + 0.013*\"receive\" + 0.013*\"tell\" + 0.011*\"payment\" + 0.011*\"balance\" + 0.010*\"pay\" + 0.009*\"send\" + 0.009*\"bank\"'),\n",
              " (5,\n",
              "  '0.049*\"account\" + 0.021*\"bank\" + 0.016*\"charge\" + 0.015*\"payment\" + 0.015*\"pay\" + 0.013*\"close\" + 0.012*\"capital\" + 0.010*\"payments\" + 0.010*\"receive\" + 0.009*\"time\"'),\n",
              " (6,\n",
              "  '0.029*\"account\" + 0.017*\"charge\" + 0.011*\"receive\" + 0.010*\"citi\" + 0.009*\"time\" + 0.009*\"information\" + 0.009*\"provide\" + 0.009*\"offer\" + 0.008*\"company\" + 0.008*\"purchase\"'),\n",
              " (7,\n",
              "  '0.033*\"account\" + 0.020*\"bank\" + 0.015*\"report\" + 0.011*\"charge\" + 0.011*\"paypal\" + 0.011*\"company\" + 0.010*\"amex\" + 0.008*\"pay\" + 0.008*\"debt\" + 0.007*\"provide\"')]"
            ]
          },
          "metadata": {
            "tags": []
          },
          "execution_count": 32
        }
      ]
    },
    {
      "cell_type": "code",
      "metadata": {
        "id": "iMppLkFdNkxP",
        "colab_type": "code",
        "colab": {
          "base_uri": "https://localhost:8080/",
          "height": 660
        },
        "outputId": "6f808d1b-0988-4c9e-aeb8-f4f4cc6315fa"
      },
      "source": [
        "# install pyLDAvis library\n",
        "!pip install pyLDAvis"
      ],
      "execution_count": 33,
      "outputs": [
        {
          "output_type": "display_data",
          "data": {
            "text/html": [
              "\n",
              "  <style>\n",
              "    pre {\n",
              "        white-space: pre-wrap;\n",
              "    }\n",
              "  </style>\n",
              "  "
            ],
            "text/plain": [
              "<IPython.core.display.HTML object>"
            ]
          },
          "metadata": {
            "tags": []
          }
        },
        {
          "output_type": "display_data",
          "data": {
            "text/html": [
              "\n",
              "  <style>\n",
              "    pre {\n",
              "        white-space: pre-wrap;\n",
              "    }\n",
              "  </style>\n",
              "  "
            ],
            "text/plain": [
              "<IPython.core.display.HTML object>"
            ]
          },
          "metadata": {
            "tags": []
          }
        },
        {
          "output_type": "stream",
          "text": [
            "Collecting pyLDAvis\n",
            "\u001b[?25l  Downloading https://files.pythonhosted.org/packages/a5/3a/af82e070a8a96e13217c8f362f9a73e82d61ac8fff3a2561946a97f96266/pyLDAvis-2.1.2.tar.gz (1.6MB)\n",
            "\u001b[K     |████████████████████████████████| 1.6MB 4.5MB/s \n",
            "\u001b[?25hRequirement already satisfied: wheel>=0.23.0 in /usr/local/lib/python3.6/dist-packages (from pyLDAvis) (0.34.2)\n",
            "Requirement already satisfied: numpy>=1.9.2 in /usr/local/lib/python3.6/dist-packages (from pyLDAvis) (1.18.5)\n",
            "Requirement already satisfied: scipy>=0.18.0 in /usr/local/lib/python3.6/dist-packages (from pyLDAvis) (1.4.1)\n",
            "Requirement already satisfied: pandas>=0.17.0 in /usr/local/lib/python3.6/dist-packages (from pyLDAvis) (1.0.5)\n",
            "Requirement already satisfied: joblib>=0.8.4 in /usr/local/lib/python3.6/dist-packages (from pyLDAvis) (0.16.0)\n",
            "Requirement already satisfied: jinja2>=2.7.2 in /usr/local/lib/python3.6/dist-packages (from pyLDAvis) (2.11.2)\n",
            "Requirement already satisfied: numexpr in /usr/local/lib/python3.6/dist-packages (from pyLDAvis) (2.7.1)\n",
            "Requirement already satisfied: pytest in /usr/local/lib/python3.6/dist-packages (from pyLDAvis) (3.6.4)\n",
            "Requirement already satisfied: future in /usr/local/lib/python3.6/dist-packages (from pyLDAvis) (0.16.0)\n",
            "Collecting funcy\n",
            "\u001b[?25l  Downloading https://files.pythonhosted.org/packages/ce/4b/6ffa76544e46614123de31574ad95758c421aae391a1764921b8a81e1eae/funcy-1.14.tar.gz (548kB)\n",
            "\u001b[K     |████████████████████████████████| 552kB 31.9MB/s \n",
            "\u001b[?25hRequirement already satisfied: python-dateutil>=2.6.1 in /usr/local/lib/python3.6/dist-packages (from pandas>=0.17.0->pyLDAvis) (2.8.1)\n",
            "Requirement already satisfied: pytz>=2017.2 in /usr/local/lib/python3.6/dist-packages (from pandas>=0.17.0->pyLDAvis) (2018.9)\n",
            "Requirement already satisfied: MarkupSafe>=0.23 in /usr/local/lib/python3.6/dist-packages (from jinja2>=2.7.2->pyLDAvis) (1.1.1)\n",
            "Requirement already satisfied: attrs>=17.4.0 in /usr/local/lib/python3.6/dist-packages (from pytest->pyLDAvis) (19.3.0)\n",
            "Requirement already satisfied: py>=1.5.0 in /usr/local/lib/python3.6/dist-packages (from pytest->pyLDAvis) (1.9.0)\n",
            "Requirement already satisfied: atomicwrites>=1.0 in /usr/local/lib/python3.6/dist-packages (from pytest->pyLDAvis) (1.4.0)\n",
            "Requirement already satisfied: setuptools in /usr/local/lib/python3.6/dist-packages (from pytest->pyLDAvis) (49.2.0)\n",
            "Requirement already satisfied: pluggy<0.8,>=0.5 in /usr/local/lib/python3.6/dist-packages (from pytest->pyLDAvis) (0.7.1)\n",
            "Requirement already satisfied: more-itertools>=4.0.0 in /usr/local/lib/python3.6/dist-packages (from pytest->pyLDAvis) (8.4.0)\n",
            "Requirement already satisfied: six>=1.10.0 in /usr/local/lib/python3.6/dist-packages (from pytest->pyLDAvis) (1.15.0)\n",
            "Building wheels for collected packages: pyLDAvis, funcy\n",
            "  Building wheel for pyLDAvis (setup.py) ... \u001b[?25l\u001b[?25hdone\n",
            "  Created wheel for pyLDAvis: filename=pyLDAvis-2.1.2-py2.py3-none-any.whl size=97711 sha256=82957d422af860971b8a03f203aea54a93e4c866c6eb42c29fca77e89dec0f2b\n",
            "  Stored in directory: /root/.cache/pip/wheels/98/71/24/513a99e58bb6b8465bae4d2d5e9dba8f0bef8179e3051ac414\n",
            "  Building wheel for funcy (setup.py) ... \u001b[?25l\u001b[?25hdone\n",
            "  Created wheel for funcy: filename=funcy-1.14-py2.py3-none-any.whl size=32042 sha256=c4316a607c5d52bc36e8c4f8a6f90f8c5a73636ffd2ca7f16b91756954154ef6\n",
            "  Stored in directory: /root/.cache/pip/wheels/20/5a/d8/1d875df03deae6f178dfdf70238cca33f948ef8a6f5209f2eb\n",
            "Successfully built pyLDAvis funcy\n",
            "Installing collected packages: funcy, pyLDAvis\n",
            "Successfully installed funcy-1.14 pyLDAvis-2.1.2\n"
          ],
          "name": "stdout"
        }
      ]
    },
    {
      "cell_type": "code",
      "metadata": {
        "id": "Surv1FdCBbAM",
        "colab_type": "code",
        "colab": {
          "base_uri": "https://localhost:8080/",
          "height": 861
        },
        "outputId": "eca82f6e-37f6-4d6b-edda-8d958528666f"
      },
      "source": [
        "# visualise the LDA model and topic distance using pyLDAvis\n",
        "import pyLDAvis.gensim\n",
        "\n",
        "pyLDAvis.enable_notebook()\n",
        "\n",
        "vis = pyLDAvis.gensim.prepare(working_model, working_corpus, dictionary=working_model.id2word)\n",
        "\n",
        "vis"
      ],
      "execution_count": 34,
      "outputs": [
        {
          "output_type": "display_data",
          "data": {
            "text/html": [
              "\n",
              "  <style>\n",
              "    pre {\n",
              "        white-space: pre-wrap;\n",
              "    }\n",
              "  </style>\n",
              "  "
            ],
            "text/plain": [
              "<IPython.core.display.HTML object>"
            ]
          },
          "metadata": {
            "tags": []
          }
        },
        {
          "output_type": "display_data",
          "data": {
            "text/html": [
              "\n",
              "  <style>\n",
              "    pre {\n",
              "        white-space: pre-wrap;\n",
              "    }\n",
              "  </style>\n",
              "  "
            ],
            "text/plain": [
              "<IPython.core.display.HTML object>"
            ]
          },
          "metadata": {
            "tags": []
          }
        },
        {
          "output_type": "execute_result",
          "data": {
            "text/html": [
              "\n",
              "<link rel=\"stylesheet\" type=\"text/css\" href=\"https://cdn.rawgit.com/bmabey/pyLDAvis/files/ldavis.v1.0.0.css\">\n",
              "\n",
              "\n",
              "<div id=\"ldavis_el1011397029947549201138358125\"></div>\n",
              "<script type=\"text/javascript\">\n",
              "\n",
              "var ldavis_el1011397029947549201138358125_data = {\"mdsDat\": {\"x\": [-0.008966999894909851, -0.0019057640988108904, 0.032224144318075, 0.0096145046548005, -0.0362320930806737, 0.06305629692245245, -0.0522403503562545, -0.005549738464678998], \"y\": [-0.03445900350735204, 0.01256797001855959, -0.001062282257876053, 0.021335909985549798, -0.011422159742529431, 0.018570889427092813, 0.04436658578410551, -0.04989790970755019], \"topics\": [1, 2, 3, 4, 5, 6, 7, 8], \"cluster\": [1, 1, 1, 1, 1, 1, 1, 1], \"Freq\": [16.56658935546875, 16.49856185913086, 14.899456024169922, 13.70801067352295, 11.218267440795898, 10.150571823120117, 9.27393913269043, 7.684600353240967]}, \"tinfo\": {\"Term\": [\"fee\", \"chase\", \"payment\", \"account\", \"balance\", \"late\", \"report\", \"dispute\", \"rate\", \"paypal\", \"service\", \"bank\", \"citi\", \"amex\", \"pay\", \"payments\", \"date\", \"receive\", \"charge\", \"capital\", \"point\", \"minimum\", \"debt\", \"reward\", \"provide\", \"statement\", \"american\", \"usaa\", \"bonus\", \"refund\", \"argumentative\", \"defenses\", \"paint\", \"allegations\", \"shipper\", \"zales\", \"intact\", \"restock\", \"traffic\", \"restaurant\", \"fradulent\", \"iphone\", \"sofa\", \"laptop\", \"table\", \"shirt\", \"compass\", \"deaf\", \"finger\", \"dealership\", \"warranty\", \"consumerfinance\", \"drink\", \"rebate\", \"lean\", \"fire\", \"fri\", \"scratch\", \"electric\", \"loud\", \"dryer\", \"wake\", \"package\", \"defective\", \"fraud\", \"yell\", \"claim\", \"say\", \"tell\", \"money\", \"call\", \"refund\", \"return\", \"item\", \"wait\", \"fraudulent\", \"charge\", \"merchant\", \"ask\", \"well\", \"store\", \"fargo\", \"ship\", \"help\", \"talk\", \"bank\", \"phone\", \"speak\", \"hold\", \"number\", \"try\", \"months\", \"issue\", \"time\", \"investigation\", \"go\", \"new\", \"purchase\", \"send\", \"days\", \"pay\", \"dispute\", \"receive\", \"file\", \"company\", \"account\", \"contact\", \"brook\", \"dialer\", \"preapproved\", \"penfed\", \"cbna\", \"casino\", \"brothers\", \"popular\", \"soft\", \"maker\", \"sear\", \"tarnish\", \"mgr\", \"inquiries\", \"depth\", \"tradeline\", \"outbound\", \"conn\", \"apologies\", \"occassions\", \"pacific\", \"pleasant\", \"tennessee\", \"aafes\", \"relation\", \"noncompliance\", \"verifiable\", \"regions\", \"seniors\", \"atm\", \"inquiry\", \"fifth\", \"hard\", \"report\", \"pull\", \"citi\", \"banker\", \"well\", \"bureaus\", \"info\", \"address\", \"number\", \"fargo\", \"check\", \"letter\", \"remove\", \"request\", \"mail\", \"information\", \"account\", \"call\", \"send\", \"receive\", \"phone\", \"application\", \"state\", \"balance\", \"tell\", \"know\", \"go\", \"say\", \"ask\", \"customer\", \"payment\", \"close\", \"contact\", \"pay\", \"time\", \"service\", \"company\", \"bank\", \"late\", \"charge\", \"issue\", \"reap\", \"prescreened\", \"punishment\", \"decree\", \"wave\", \"accumulation\", \"pal\", \"annual\", \"fee\", \"waive\", \"impend\", \"tack\", \"longest\", \"refrigerator\", \"bankamericard\", \"gotcha\", \"grace\", \"interfere\", \"hefty\", \"introductory\", \"downgrade\", \"discard\", \"luxury\", \"retroactively\", \"miscommunication\", \"retention\", \"whop\", \"grandfathered\", \"teh\", \"funeral\", \"assess\", \"star\", \"jewelers\", \"macy\", \"pay\", \"late\", \"american\", \"balance\", \"transfer\", \"forgive\", \"express\", \"accrue\", \"charge\", \"membership\", \"month\", \"offer\", \"outstanding\", \"remove\", \"months\", \"payment\", \"statement\", \"time\", \"account\", \"date\", \"tell\", \"minimum\", \"continue\", \"receive\", \"amex\", \"period\", \"ask\", \"service\", \"notice\", \"say\", \"call\", \"customer\", \"apply\", \"bank\", \"get\", \"point\", \"close\", \"report\", \"compute\", \"disproportionately\", \"regain\", \"dishonor\", \"synchony\", \"santander\", \"minority\", \"motivate\", \"defeat\", \"utilization\", \"nonsensical\", \"knock\", \"abroad\", \"irregular\", \"exam\", \"amx\", \"individually\", \"tremendously\", \"steadily\", \"unilateral\", \"misreporting\", \"orchard\", \"sabotage\", \"capacity\", \"maxing\", \"republic\", \"banana\", \"dramatically\", \"venture\", \"failures\", \"capital\", \"score\", \"limit\", \"fico\", \"account\", \"close\", \"bofa\", \"synchrony\", \"impact\", \"payments\", \"advance\", \"bank\", \"transactions\", \"bankcard\", \"line\", \"available\", \"lower\", \"show\", \"cash\", \"open\", \"america\", \"payment\", \"negative\", \"amazon\", \"charge\", \"pay\", \"chase\", \"month\", \"return\", \"try\", \"information\", \"report\", \"late\", \"time\", \"receive\", \"discover\", \"tell\", \"balance\", \"contact\", \"call\", \"new\", \"ask\", \"company\", \"issue\", \"send\", \"phone\", \"exclusion\", \"competition\", \"indebtedness\", \"negligently\", \"signup\", \"deep\", \"concert\", \"itinerary\", \"seat\", \"baggage\", \"fare\", \"equivalents\", \"passengers\", \"attract\", \"collision\", \"interruption\", \"reliance\", \"cfr\", \"electronics\", \"verve\", \"companion\", \"explorer\", \"passport\", \"summarily\", \"restrictions\", \"ticket\", \"silence\", \"experian\", \"floor\", \"blind\", \"aadvantage\", \"rental\", \"airline\", \"miles\", \"cancellation\", \"trip\", \"insurance\", \"citi\", \"bonus\", \"condition\", \"term\", \"costco\", \"flight\", \"american\", \"express\", \"order\", \"provide\", \"offer\", \"spend\", \"benefit\", \"merchant\", \"information\", \"account\", \"sign\", \"state\", \"advertise\", \"point\", \"purchase\", \"charge\", \"company\", \"approve\", \"receive\", \"time\", \"letter\", \"get\", \"use\", \"open\", \"apply\", \"request\", \"call\", \"send\", \"pay\", \"close\", \"say\", \"issue\", \"service\", \"tell\", \"dispute\", \"number\", \"intrest\", \"crisis\", \"variable\", \"thier\", \"inflate\", \"jack\", \"usury\", \"highest\", \"snapshot\", \"lowest\", \"boot\", \"todays\", \"rate\", \"mbna\", \"efficient\", \"hardly\", \"equate\", \"formula\", \"shock\", \"meager\", \"aprs\", \"moms\", \"astronomical\", \"hike\", \"sacrifice\", \"usaa\", \"dress\", \"fluctuate\", \"vigilant\", \"salesperson\", \"prime\", \"arrangement\", \"minimum\", \"lower\", \"apr\", \"calculate\", \"monthly\", \"payment\", \"promotional\", \"difficulty\", \"balance\", \"payments\", \"rat\", \"depot\", \"higher\", \"hardship\", \"statement\", \"raise\", \"past\", \"sure\", \"america\", \"think\", \"citibank\", \"apply\", \"statements\", \"believe\", \"pay\", \"date\", \"bank\", \"month\", \"years\", \"purchase\", \"want\", \"time\", \"happen\", \"call\", \"check\", \"debt\", \"send\", \"go\", \"receive\", \"tell\", \"days\", \"account\", \"charge\", \"company\", \"late\", \"say\", \"ebay\", \"complainant\", \"paypal\", \"defendant\", \"ther\", \"kohl\", \"inaccuracy\", \"quarterly\", \"dump\", \"permissible\", \"extras\", \"cfbp\", \"surcharge\", \"competitors\", \"prospective\", \"soc\", \"pymt\", \"investigators\", \"disagreement\", \"iii\", \"sons\", \"commission\", \"beneficial\", \"willful\", \"sec\", \"capitol\", \"enforcement\", \"usc\", \"hsbc\", \"dob\", \"amex\", \"theft\", \"victim\", \"judgment\", \"identity\", \"bankruptcy\", \"fcra\", \"thief\", \"signatures\", \"entity\", \"accordance\", \"discharge\", \"usa\", \"validation\", \"debt\", \"subscription\", \"bonus\", \"collection\", \"cfpb\", \"report\", \"file\", \"bank\", \"account\", \"company\", \"document\", \"act\", \"federal\", \"provide\", \"fair\", \"consumer\", \"practice\", \"refuse\", \"copy\", \"contact\", \"information\", \"open\", \"request\", \"chase\", \"charge\", \"dispute\", \"complaint\", \"remove\", \"pay\", \"email\", \"send\", \"purchase\", \"address\", \"close\", \"receive\", \"letter\", \"time\", \"call\", \"payment\", \"postmark\", \"jpmorgan\", \"eon\", \"fortiva\", \"morgan\", \"remediation\", \"comptroller\", \"transportation\", \"upromise\", \"advocacy\", \"termination\", \"mountain\", \"ext\", \"settings\", \"publicly\", \"supplier\", \"anniversary\", \"confiscate\", \"payee\", \"juniper\", \"dun\", \"contractor\", \"persuade\", \"southwest\", \"terminal\", \"equipment\", \"computers\", \"thankyou\", \"rebuttal\", \"horribly\", \"rebilled\", \"chase\", \"airlines\", \"sapphire\", \"reward\", \"redeem\", \"dispute\", \"vendor\", \"delivery\", \"service\", \"earn\", \"sunday\", \"late\", \"point\", \"date\", \"response\", \"receive\", \"membership\", \"refund\", \"final\", \"days\", \"payment\", \"boa\", \"product\", \"customer\", \"issue\", \"letter\", \"fee\", \"discover\", \"cancel\", \"send\", \"resolve\", \"charge\", \"call\", \"time\", \"email\", \"say\", \"contact\", \"statement\", \"account\", \"pay\", \"purchase\", \"company\", \"tell\", \"bank\", \"state\", \"check\"], \"Freq\": [9978.0, 7865.0, 16525.0, 34014.0, 11912.0, 8418.0, 10968.0, 7321.0, 2953.0, 1731.0, 7812.0, 16979.0, 4551.0, 2889.0, 19266.0, 6765.0, 5401.0, 14671.0, 21667.0, 4939.0, 4924.0, 2404.0, 3538.0, 2650.0, 5232.0, 6088.0, 3435.0, 1186.0, 2050.0, 3556.0, 14.741606712341309, 19.562397003173828, 32.4079475402832, 14.698324203491211, 17.732608795166016, 21.740930557250977, 16.005584716796875, 31.003767013549805, 41.39729309082031, 35.08853530883789, 34.644588470458984, 25.027305603027344, 21.710906982421875, 57.00314712524414, 62.81721115112305, 15.814142227172852, 84.69656372070312, 15.287598609924316, 15.992864608764648, 15.8909912109375, 123.2288589477539, 16.473737716674805, 10.113298416137695, 67.40902709960938, 15.138331413269043, 25.828657150268555, 13.537047386169434, 18.99131965637207, 23.57024574279785, 9.43823528289795, 36.1505126953125, 22.67144012451172, 137.09783935546875, 91.8666000366211, 1974.5023193359375, 28.97548484802246, 1457.9127197265625, 3350.927734375, 4661.53857421875, 1526.8043212890625, 4280.3828125, 1224.158935546875, 1206.1378173828125, 406.7950439453125, 630.1932373046875, 945.4746704101562, 5273.74658203125, 867.431396484375, 2218.053955078125, 564.1244506835938, 658.626708984375, 549.3756713867188, 263.5753173828125, 1082.1666259765625, 559.4572143554688, 3498.701904296875, 1568.696533203125, 1283.2950439453125, 681.6002807617188, 1428.634765625, 1190.921630859375, 1259.2034912109375, 1512.1776123046875, 2313.314208984375, 452.6256408691406, 1220.0506591796875, 1115.9229736328125, 1505.811279296875, 1641.93359375, 1235.777587890625, 2585.927734375, 1390.9027099609375, 2058.904541015625, 974.2097778320312, 1327.80810546875, 2034.7607421875, 1202.8504638671875, 26.225296020507812, 11.31185531616211, 15.887910842895508, 73.54508972167969, 48.4865837097168, 7.889932155609131, 22.98267936706543, 15.85294246673584, 37.045658111572266, 10.967325210571289, 426.9238586425781, 13.841031074523926, 11.958039283752441, 237.71493530273438, 14.51468276977539, 21.166975021362305, 6.275262832641602, 13.832332611083984, 10.560725212097168, 9.331258773803711, 16.549930572509766, 9.3743314743042, 13.622038841247559, 12.307357788085938, 10.77593994140625, 7.852238178253174, 19.72714614868164, 16.62459945678711, 5.303955078125, 73.32171630859375, 525.0756225585938, 110.16433715820312, 458.624267578125, 4808.865234375, 393.02667236328125, 1861.505615234375, 93.2568588256836, 573.0648193359375, 420.3909912109375, 256.166015625, 1054.8294677734375, 1780.4849853515625, 549.1686401367188, 1737.406494140625, 1819.0623779296875, 1089.935791015625, 1690.580078125, 1178.532958984375, 1735.858154296875, 6413.08349609375, 3212.2294921875, 2076.572509765625, 2936.582275390625, 1450.2364501953125, 572.2818603515625, 1520.5875244140625, 2405.121337890625, 2812.041259765625, 1058.4097900390625, 1249.813232421875, 1890.9122314453125, 1599.47607421875, 1308.4320068359375, 2463.1328125, 1520.2900390625, 1366.81103515625, 2314.415771484375, 1845.1942138671875, 1408.29931640625, 1382.8895263671875, 1900.222412109375, 1258.04150390625, 1465.190673828125, 1185.126220703125, 11.39457893371582, 13.774253845214844, 8.731369972229004, 9.051807403564453, 49.71687316894531, 8.27457046508789, 91.00688171386719, 920.388671875, 6118.6015625, 429.11297607421875, 6.778402328491211, 32.94257736206055, 7.975597381591797, 59.06489562988281, 30.99599838256836, 7.108391761779785, 93.59007263183594, 5.161393642425537, 7.642952919006348, 68.9174575805664, 25.256568908691406, 8.062017440795898, 11.554253578186035, 14.301541328430176, 12.476011276245117, 15.573221206665039, 5.376020908355713, 4.36867094039917, 7.720820903778076, 17.412446975708008, 192.36856079101562, 43.469791412353516, 35.991790771484375, 956.2205200195312, 6103.23193359375, 2754.018310546875, 1205.2969970703125, 3767.61669921875, 1394.0325927734375, 41.142578125, 1168.2008056640625, 192.3621368408203, 5492.46728515625, 285.2367858886719, 1497.97900390625, 1408.9014892578125, 205.844970703125, 971.289306640625, 1262.6190185546875, 3192.686279296875, 1392.8818359375, 2554.20703125, 5437.98583984375, 1226.0740966796875, 2520.45654296875, 615.3988037109375, 607.3145141601562, 2284.487548828125, 681.1115112304688, 397.9448547363281, 1356.2196044921875, 1307.9180908203125, 641.905029296875, 1461.640869140625, 1857.4210205078125, 1051.894287109375, 967.1898193359375, 1886.2125244140625, 856.4127807617188, 885.40380859375, 979.0303344726562, 989.4729614257812, 13.95103645324707, 9.27653694152832, 13.463111877441406, 8.9286527633667, 18.815488815307617, 20.00981903076172, 10.784831047058105, 6.734450817108154, 7.991812229156494, 79.2867202758789, 6.759346961975098, 9.657953262329102, 23.07609748840332, 8.148844718933105, 17.907672882080078, 20.42544174194336, 5.759720802307129, 12.802145004272461, 7.34646463394165, 5.751954078674316, 7.498153209686279, 11.369964599609375, 7.106786727905273, 12.207510948181152, 7.244613170623779, 42.23250198364258, 43.15938186645508, 13.76458740234375, 25.8341007232666, 6.7461652755737305, 2241.951904296875, 1138.3204345703125, 1087.433837890625, 94.83430480957031, 9089.2763671875, 2337.41748046875, 127.85684967041016, 787.0940551757812, 201.49942016601562, 1817.755859375, 337.2220764160156, 3865.329345703125, 384.70867919921875, 39.2273063659668, 672.518310546875, 426.94818115234375, 374.281982421875, 716.4070434570312, 607.4939575195312, 1121.0518798828125, 768.1978149414062, 2808.6005859375, 293.5763244628906, 194.8275604248047, 3026.532470703125, 2727.016845703125, 1384.5260009765625, 1039.58544921875, 733.9352416992188, 917.8724365234375, 1187.9638671875, 1670.4132080078125, 1338.139404296875, 1675.1895751953125, 1789.4892578125, 690.117431640625, 1667.82275390625, 1371.1956787109375, 985.9312133789062, 1462.7686767578125, 788.1527709960938, 890.7939453125, 878.026123046875, 816.4891967773438, 801.0453491210938, 771.6386108398438, 26.923015594482422, 12.822676658630371, 24.383926391601562, 6.908767223358154, 51.11839294433594, 13.447596549987793, 26.780668258666992, 17.492015838623047, 50.13119888305664, 33.383270263671875, 48.643218994140625, 11.182409286499023, 14.252298355102539, 14.248651504516602, 14.271876335144043, 15.920425415039062, 11.108461380004883, 10.137282371520996, 14.547672271728516, 10.10807991027832, 49.92455291748047, 14.079275131225586, 31.755123138427734, 8.93863582611084, 26.483896255493164, 529.115966796875, 9.256303787231445, 35.98453903198242, 56.59869384765625, 12.586877822875977, 60.71822738647461, 183.0178680419922, 166.94313049316406, 501.577880859375, 187.107666015625, 189.80955505371094, 292.60003662109375, 1450.0657958984375, 718.4491577148438, 317.9817810058594, 629.0857543945312, 177.05767822265625, 201.35772705078125, 984.168701171875, 1003.265380859375, 705.1099853515625, 1321.02099609375, 1289.3692626953125, 676.0097045898438, 404.0113830566406, 648.2959594726562, 1327.33154296875, 4334.9931640625, 639.58251953125, 1194.6041259765625, 246.69932556152344, 924.8414306640625, 1231.746826171875, 2502.09228515625, 1246.343505859375, 404.2609558105469, 1664.249267578125, 1404.25732421875, 866.1685180664062, 679.0247802734375, 581.7411499023438, 685.4340209960938, 713.3250122070312, 770.5991821289062, 1111.82568359375, 868.4739990234375, 1160.052490234375, 807.692138671875, 871.1777954101562, 760.4382934570312, 788.2666015625, 880.35888671875, 770.6047973632812, 715.6201171875, 40.10686492919922, 25.377811431884766, 47.5810432434082, 16.862367630004883, 34.459381103515625, 9.439705848693848, 24.574039459228516, 159.31280517578125, 11.30712890625, 52.31443405151367, 29.528669357299805, 11.377388000488281, 1814.077392578125, 7.908492565155029, 9.51384162902832, 16.089719772338867, 8.049818992614746, 11.928071975708008, 217.35256958007812, 8.188196182250977, 32.466007232666016, 13.002923011779785, 8.059650421142578, 18.961671829223633, 6.308846473693848, 642.5772094726562, 16.972476959228516, 11.801896095275879, 6.310116291046143, 16.37215232849121, 63.080875396728516, 86.15283203125, 1016.0499267578125, 517.9390869140625, 495.390625, 133.67120361328125, 756.2406005859375, 4309.11767578125, 427.844482421875, 39.63827896118164, 2914.126708984375, 1740.4677734375, 377.0135803222656, 217.96995544433594, 253.37843322753906, 133.26522827148438, 1400.20556640625, 150.54811096191406, 650.5059814453125, 384.9964904785156, 739.3120727539062, 604.8651733398438, 747.7930297851562, 1013.8865966796875, 598.3617553710938, 541.3663330078125, 2402.595703125, 949.5870971679688, 2039.1087646484375, 934.4515991210938, 721.7133178710938, 1118.640380859375, 811.7245483398438, 1492.278076171875, 506.4671630859375, 1308.1177978515625, 817.4329833984375, 628.8685913085938, 960.9119262695312, 764.1464233398438, 1107.6180419921875, 1101.7376708984375, 761.9312133789062, 1306.3809814453125, 1113.1708984375, 829.2288818359375, 751.1698608398438, 709.2640380859375, 84.04824829101562, 52.97298812866211, 1316.8363037109375, 36.6343879699707, 6.317784786224365, 258.36602783203125, 14.77918529510498, 12.597562789916992, 11.111527442932129, 10.018463134765625, 15.156152725219727, 11.89697551727295, 10.78730583190918, 7.838700294494629, 7.5997395515441895, 17.932828903198242, 15.4019193649292, 21.78261375427246, 14.432234764099121, 12.749095916748047, 8.25318717956543, 63.644405364990234, 10.808699607849121, 21.078012466430664, 40.74885177612305, 254.20223999023438, 22.5871639251709, 20.476472854614258, 133.71788024902344, 41.23923110961914, 1291.957763671875, 495.4005126953125, 268.9279479980469, 90.51255798339844, 570.1936645507812, 279.36834716796875, 171.2010498046875, 58.8714485168457, 54.77729415893555, 55.85932159423828, 53.526336669921875, 80.20342254638672, 107.15545654296875, 80.39163208007812, 939.687255859375, 51.94283676147461, 554.1622924804688, 407.06298828125, 335.0813293457031, 1870.481689453125, 858.90673828125, 2501.132080078125, 4128.15625, 1310.1021728515625, 377.65472412109375, 342.8863525390625, 223.78134155273438, 884.1704711914062, 251.5904541015625, 453.7570495605469, 401.3486328125, 630.7413330078125, 411.3102111816406, 840.5671997070312, 826.8550415039062, 670.8055419921875, 777.978515625, 857.7521362304688, 1379.5621337890625, 779.2526245117188, 501.2595520019531, 529.7651977539062, 1038.5924072265625, 535.294677734375, 700.9690551757812, 657.9855346679688, 487.43023681640625, 634.8572998046875, 688.9029541015625, 566.21044921875, 631.2510986328125, 614.8665161132812, 608.0052490234375, 19.899303436279297, 32.63346862792969, 32.63429260253906, 23.9112606048584, 66.43830871582031, 7.500207424163818, 12.901712417602539, 9.424328804016113, 12.980640411376953, 5.352454662322998, 11.740270614624023, 9.78396987915039, 24.464614868164062, 17.75920295715332, 12.999166488647461, 7.3014302253723145, 25.709875106811523, 15.935894966125488, 11.127522468566895, 12.880666732788086, 15.21448802947998, 29.26342010498047, 4.976132392883301, 46.579795837402344, 7.782348155975342, 24.103378295898438, 17.614765167236328, 33.22395706176758, 14.494990348815918, 3.889983654022217, 25.53854751586914, 2930.664306640625, 54.96193313598633, 41.94498825073242, 794.9524536132812, 107.5228042602539, 1975.678955078125, 153.17958068847656, 108.2728271484375, 1779.185546875, 269.3572692871094, 62.2539176940918, 1631.1402587890625, 985.1857299804688, 1054.6751708984375, 424.0483703613281, 2141.064697265625, 203.0650177001953, 645.4345092773438, 117.6124267578125, 873.7920532226562, 1830.750732421875, 221.48312377929688, 203.1632537841797, 821.0531005859375, 816.3095703125, 733.2843017578125, 960.54150390625, 472.9736633300781, 492.3999938964844, 830.0504760742188, 394.75714111328125, 1414.5264892578125, 990.5271606445312, 901.454345703125, 448.1725769042969, 723.0671997070312, 597.8126220703125, 551.6640625, 1269.3724365234375, 934.5845336914062, 571.5833740234375, 578.0479736328125, 688.0720825195312, 671.9888916015625, 525.9146118164062, 498.4690246582031], \"Total\": [9978.0, 7865.0, 16525.0, 34014.0, 11912.0, 8418.0, 10968.0, 7321.0, 2953.0, 1731.0, 7812.0, 16979.0, 4551.0, 2889.0, 19266.0, 6765.0, 5401.0, 14671.0, 21667.0, 4939.0, 4924.0, 2404.0, 3538.0, 2650.0, 5232.0, 6088.0, 3435.0, 1186.0, 2050.0, 3556.0, 15.752771377563477, 22.192150115966797, 38.66062927246094, 17.882333755493164, 21.718923568725586, 26.681949615478516, 20.5190486907959, 40.861812591552734, 54.96063995361328, 46.908424377441406, 47.54100799560547, 34.36894989013672, 29.945287704467773, 79.4325942993164, 88.2789077758789, 22.2847900390625, 119.7364730834961, 21.692106246948242, 22.753618240356445, 22.70261573791504, 180.0349578857422, 24.110740661621094, 14.814672470092773, 100.89108276367188, 22.775300979614258, 39.14000701904297, 20.787240982055664, 29.36002540588379, 36.80138397216797, 14.80955696105957, 56.911991119384766, 35.769168853759766, 243.54942321777344, 158.48306274414062, 4632.86376953125, 46.56159973144531, 3673.3896484375, 9984.3681640625, 14659.35546875, 4276.46630859375, 14838.138671875, 3556.03076171875, 3498.32958984375, 992.2337646484375, 1667.6656494140625, 2717.205078125, 21667.2890625, 2502.0693359375, 8120.658203125, 1531.372314453125, 1902.8262939453125, 1533.8011474609375, 609.9176025390625, 3691.494873046875, 1587.303466796875, 16979.958984375, 6114.1064453125, 4768.52001953125, 2133.20263671875, 5871.26611328125, 4749.0576171875, 5135.951171875, 6800.0263671875, 12817.1455078125, 1309.777099609375, 5482.177734375, 4832.4580078125, 7644.94384765625, 8798.7099609375, 5738.0654296875, 19266.41796875, 7321.580078125, 14671.298828125, 4112.37744140625, 8248.6982421875, 34014.0078125, 6989.2548828125, 28.330276489257812, 13.364575386047363, 18.84781837463379, 90.64727783203125, 63.62502670288086, 10.490370750427246, 32.13127899169922, 22.559730529785156, 53.19997787475586, 15.837748527526855, 618.80712890625, 20.3629150390625, 17.66925048828125, 352.9455871582031, 21.62862777709961, 32.347755432128906, 9.601517677307129, 21.305644989013672, 16.268985748291016, 14.544723510742188, 26.63410758972168, 15.108194351196289, 22.630123138427734, 20.805469512939453, 18.340545654296875, 13.927828788757324, 35.347782135009766, 29.862829208374023, 9.551024436950684, 139.42730712890625, 1022.427490234375, 210.8553924560547, 944.7505493164062, 10968.298828125, 827.5585327148438, 4551.2783203125, 183.48504638671875, 1531.372314453125, 1104.4630126953125, 629.9144287109375, 3208.181884765625, 5871.26611328125, 1533.8011474609375, 5981.74755859375, 6586.43505859375, 3641.74560546875, 6303.49951171875, 4292.03759765625, 6847.8330078125, 34014.0078125, 14838.138671875, 8798.7099609375, 14671.298828125, 6114.1064453125, 1857.499267578125, 6516.40576171875, 11912.205078125, 14659.35546875, 4253.54541015625, 5482.177734375, 9984.3681640625, 8120.658203125, 6065.904296875, 16525.2421875, 7779.68505859375, 6989.2548828125, 19266.41796875, 12817.1455078125, 7812.22607421875, 8248.6982421875, 16979.958984375, 8418.8798828125, 21667.2890625, 6800.0263671875, 13.199618339538574, 17.695171356201172, 12.615707397460938, 13.249749183654785, 76.57958984375, 13.29055118560791, 146.65562438964844, 1491.685546875, 9978.591796875, 703.191162109375, 11.368480682373047, 55.491058349609375, 13.437607765197754, 99.82979583740234, 53.798561096191406, 12.633194923400879, 168.6985626220703, 9.726211547851562, 14.402881622314453, 129.99172973632812, 48.3912239074707, 15.526165008544922, 22.35190200805664, 27.86886215209961, 24.439926147460938, 31.07508087158203, 10.760810852050781, 8.760475158691406, 15.79706859588623, 35.74909973144531, 400.8346252441406, 89.88461303710938, 75.06409454345703, 2270.72021484375, 19266.41796875, 8418.8798828125, 3435.845703125, 11912.205078125, 4101.66845703125, 89.97492218017578, 3610.81201171875, 496.2344055175781, 21667.2890625, 801.3566284179688, 5418.7080078125, 5189.0869140625, 581.8154907226562, 3641.74560546875, 5135.951171875, 16525.2421875, 6088.6396484375, 12817.1455078125, 34014.0078125, 5401.16552734375, 14659.35546875, 2404.14306640625, 2443.217041015625, 14671.298828125, 2889.249755859375, 1394.1671142578125, 8120.658203125, 7812.22607421875, 2767.002685546875, 9984.3681640625, 14838.138671875, 6065.904296875, 5320.03271484375, 16979.958984375, 4533.76708984375, 4924.94580078125, 7779.68505859375, 10968.298828125, 16.154260635375977, 11.291815757751465, 17.339645385742188, 12.252297401428223, 26.842599868774414, 29.76055145263672, 16.092933654785156, 10.129410743713379, 12.092069625854492, 122.14715576171875, 10.698822975158691, 15.479639053344727, 37.55681228637695, 13.283404350280762, 30.051252365112305, 34.4137077331543, 9.71462345123291, 21.6734561920166, 12.505834579467773, 9.83654499053955, 12.927886962890625, 19.655637741088867, 12.322281837463379, 21.588340759277344, 12.977113723754883, 75.79930114746094, 78.30298614501953, 25.19566535949707, 48.48006057739258, 12.873103141784668, 4939.2041015625, 2538.825927734375, 2850.793701171875, 206.6101531982422, 34014.0078125, 7779.68505859375, 303.2725524902344, 2454.055419921875, 531.5957641601562, 6765.09521484375, 973.842041015625, 16979.958984375, 1232.4217529296875, 82.08894348144531, 2468.178466796875, 1432.5457763671875, 1227.2685546875, 2752.185302734375, 2252.8095703125, 4881.18994140625, 3161.46923828125, 16525.2421875, 969.306640625, 587.9227294921875, 21667.2890625, 19266.41796875, 7865.2763671875, 5418.7080078125, 3498.32958984375, 4749.0576171875, 6847.8330078125, 10968.298828125, 8418.8798828125, 12817.1455078125, 14671.298828125, 3506.02001953125, 14659.35546875, 11912.205078125, 6989.2548828125, 14838.138671875, 4832.4580078125, 8120.658203125, 8248.6982421875, 6800.0263671875, 8798.7099609375, 6114.1064453125, 31.361263275146484, 15.074057579040527, 29.36709213256836, 8.594343185424805, 66.7530288696289, 17.731128692626953, 35.45109939575195, 23.613731384277344, 69.14744567871094, 46.8839111328125, 70.46814727783203, 16.63067626953125, 21.209205627441406, 21.37410545349121, 21.674081802368164, 24.334409713745117, 17.11893653869629, 15.728886604309082, 23.45277976989746, 16.40644073486328, 81.1771240234375, 23.07892417907715, 52.574222564697266, 14.888357162475586, 45.22061538696289, 916.3131713867188, 16.133098602294922, 62.730323791503906, 98.94114685058594, 22.059791564941406, 108.93997192382812, 338.0460205078125, 313.7589416503906, 1081.1776123046875, 383.8323669433594, 418.1312561035156, 694.4989624023438, 4551.2783203125, 2050.86328125, 808.0997314453125, 1909.453125, 426.2808837890625, 503.8833923339844, 3435.845703125, 3610.81201171875, 2408.768310546875, 5232.4013671875, 5189.0869140625, 2579.221923828125, 1332.998291015625, 2502.0693359375, 6847.8330078125, 34014.0078125, 2662.97119140625, 6516.40576171875, 754.9480590820312, 4924.94580078125, 7644.94384765625, 21667.2890625, 8248.6982421875, 1577.012939453125, 14671.298828125, 12817.1455078125, 6586.43505859375, 4533.76708984375, 3419.5712890625, 4881.18994140625, 5320.03271484375, 6303.49951171875, 14838.138671875, 8798.7099609375, 19266.41796875, 7779.68505859375, 9984.3681640625, 6800.0263671875, 7812.22607421875, 14659.35546875, 7321.580078125, 5871.26611328125, 47.646663665771484, 35.27133560180664, 66.35262298583984, 24.265724182128906, 49.96381759643555, 14.119073867797852, 37.30567932128906, 247.23558044433594, 17.560619354248047, 82.09268951416016, 47.299224853515625, 18.511680603027344, 2953.18994140625, 12.994489669799805, 16.168514251708984, 27.846542358398438, 14.05638313293457, 21.24164581298828, 387.95428466796875, 14.64061450958252, 58.08847427368164, 23.31393051147461, 14.565686225891113, 34.53484344482422, 11.572471618652344, 1186.6793212890625, 31.448530197143555, 22.128705978393555, 12.445699691772461, 32.635677337646484, 128.59622192382812, 177.54168701171875, 2404.14306640625, 1227.2685546875, 1172.4493408203125, 301.5828552246094, 2117.72705078125, 16525.2421875, 1220.5164794921875, 81.90156555175781, 11912.205078125, 6765.09521484375, 1142.4967041015625, 606.2898559570312, 725.1788940429688, 346.42608642578125, 6088.6396484375, 413.31622314453125, 2531.98046875, 1353.9742431640625, 3161.46923828125, 2453.039306640625, 3294.7158203125, 5320.03271484375, 2649.502197265625, 2410.75341796875, 19266.41796875, 5401.16552734375, 16979.958984375, 5418.7080078125, 3874.9169921875, 7644.94384765625, 4728.85595703125, 12817.1455078125, 2274.659912109375, 14838.138671875, 5981.74755859375, 3538.39453125, 8798.7099609375, 5482.177734375, 14671.298828125, 14659.35546875, 5738.0654296875, 34014.0078125, 21667.2890625, 8248.6982421875, 8418.8798828125, 9984.3681640625, 97.35569763183594, 65.62950897216797, 1731.650390625, 48.30239486694336, 8.908883094787598, 372.9405212402344, 21.497516632080078, 18.451786041259766, 16.320560455322266, 15.068806648254395, 22.870805740356445, 18.252168655395508, 16.57004737854004, 12.357217788696289, 12.189887046813965, 28.931297302246094, 25.553932189941406, 36.30703353881836, 24.12702751159668, 21.370317459106445, 14.066951751708984, 108.9610824584961, 18.52318572998047, 36.510887145996094, 70.84014892578125, 443.4526672363281, 39.42528533935547, 35.8793830871582, 235.7390899658203, 73.23893737792969, 2889.249755859375, 1066.6942138671875, 568.9737548828125, 176.6275177001953, 1379.1939697265625, 649.7422485351562, 384.7237243652344, 117.08035278320312, 108.29640197753906, 111.8267593383789, 106.70042419433594, 173.431884765625, 250.13706970214844, 178.4368438720703, 3538.39453125, 106.15624237060547, 2050.86328125, 1399.825927734375, 1197.2176513671875, 10968.298828125, 4112.37744140625, 16979.958984375, 34014.0078125, 8248.6982421875, 1538.2520751953125, 1346.4775390625, 755.3467407226562, 5232.4013671875, 908.9401245117188, 2285.359130859375, 1906.2152099609375, 3939.649169921875, 2040.1702880859375, 6989.2548828125, 6847.8330078125, 4881.18994140625, 6303.49951171875, 7865.2763671875, 21667.2890625, 7321.580078125, 3117.046630859375, 3641.74560546875, 19266.41796875, 3945.262451171875, 8798.7099609375, 7644.94384765625, 3208.181884765625, 7779.68505859375, 14671.298828125, 6586.43505859375, 12817.1455078125, 14838.138671875, 16525.2421875, 25.733835220336914, 47.88462829589844, 48.24378204345703, 37.49539566040039, 111.97088623046875, 13.474114418029785, 23.605113983154297, 17.283302307128906, 24.019550323486328, 9.918172836303711, 22.10403060913086, 18.73855209350586, 47.013465881347656, 34.95524978637695, 26.463714599609375, 15.774188995361328, 56.131736755371094, 34.81714630126953, 24.350112915039062, 28.379329681396484, 33.76724624633789, 65.53469848632812, 11.284862518310547, 108.23686218261719, 18.21574592590332, 57.42422866821289, 42.121395111083984, 80.05450439453125, 36.33890151977539, 9.773260116577148, 64.34074401855469, 7865.2763671875, 146.30616760253906, 109.60760498046875, 2650.263916015625, 304.18365478515625, 7321.580078125, 464.09857177734375, 316.27789306640625, 7812.22607421875, 919.82373046875, 173.76657104492188, 8418.8798828125, 4924.94580078125, 5401.16552734375, 1816.246337890625, 14671.298828125, 801.3566284179688, 3556.03076171875, 412.2441101074219, 5738.0654296875, 16525.2421875, 1005.37646484375, 912.6941528320312, 6065.904296875, 6800.0263671875, 6586.43505859375, 9978.591796875, 3506.02001953125, 3747.6748046875, 8798.7099609375, 2816.30712890625, 21667.2890625, 14838.138671875, 12817.1455078125, 3945.262451171875, 9984.3681640625, 6989.2548828125, 6088.6396484375, 34014.0078125, 19266.41796875, 7644.94384765625, 8248.6982421875, 14659.35546875, 16979.958984375, 6516.40576171875, 5981.74755859375], \"Category\": [\"Default\", \"Default\", \"Default\", \"Default\", \"Default\", \"Default\", \"Default\", \"Default\", \"Default\", \"Default\", \"Default\", \"Default\", \"Default\", \"Default\", \"Default\", \"Default\", \"Default\", \"Default\", \"Default\", \"Default\", \"Default\", \"Default\", \"Default\", \"Default\", \"Default\", \"Default\", \"Default\", \"Default\", \"Default\", \"Default\", \"Topic1\", \"Topic1\", \"Topic1\", \"Topic1\", \"Topic1\", \"Topic1\", \"Topic1\", \"Topic1\", \"Topic1\", \"Topic1\", \"Topic1\", \"Topic1\", \"Topic1\", \"Topic1\", \"Topic1\", \"Topic1\", \"Topic1\", \"Topic1\", \"Topic1\", \"Topic1\", \"Topic1\", \"Topic1\", \"Topic1\", \"Topic1\", \"Topic1\", \"Topic1\", \"Topic1\", \"Topic1\", \"Topic1\", \"Topic1\", \"Topic1\", \"Topic1\", \"Topic1\", \"Topic1\", \"Topic1\", \"Topic1\", \"Topic1\", \"Topic1\", \"Topic1\", \"Topic1\", \"Topic1\", \"Topic1\", \"Topic1\", \"Topic1\", \"Topic1\", \"Topic1\", \"Topic1\", \"Topic1\", \"Topic1\", \"Topic1\", \"Topic1\", \"Topic1\", \"Topic1\", \"Topic1\", \"Topic1\", \"Topic1\", \"Topic1\", \"Topic1\", \"Topic1\", \"Topic1\", \"Topic1\", \"Topic1\", \"Topic1\", \"Topic1\", \"Topic1\", \"Topic1\", \"Topic1\", \"Topic1\", \"Topic1\", \"Topic1\", \"Topic1\", \"Topic1\", \"Topic1\", \"Topic1\", \"Topic1\", \"Topic1\", \"Topic1\", \"Topic2\", \"Topic2\", \"Topic2\", \"Topic2\", \"Topic2\", \"Topic2\", \"Topic2\", \"Topic2\", \"Topic2\", \"Topic2\", \"Topic2\", \"Topic2\", \"Topic2\", \"Topic2\", \"Topic2\", \"Topic2\", \"Topic2\", \"Topic2\", \"Topic2\", \"Topic2\", \"Topic2\", \"Topic2\", \"Topic2\", \"Topic2\", \"Topic2\", \"Topic2\", \"Topic2\", \"Topic2\", \"Topic2\", \"Topic2\", \"Topic2\", \"Topic2\", \"Topic2\", \"Topic2\", \"Topic2\", \"Topic2\", \"Topic2\", \"Topic2\", \"Topic2\", \"Topic2\", \"Topic2\", \"Topic2\", \"Topic2\", \"Topic2\", \"Topic2\", \"Topic2\", \"Topic2\", \"Topic2\", \"Topic2\", \"Topic2\", \"Topic2\", \"Topic2\", \"Topic2\", \"Topic2\", \"Topic2\", \"Topic2\", \"Topic2\", \"Topic2\", \"Topic2\", \"Topic2\", \"Topic2\", \"Topic2\", \"Topic2\", \"Topic2\", \"Topic2\", \"Topic2\", \"Topic2\", \"Topic2\", \"Topic2\", \"Topic2\", \"Topic2\", \"Topic2\", \"Topic2\", \"Topic2\", \"Topic3\", \"Topic3\", \"Topic3\", \"Topic3\", \"Topic3\", \"Topic3\", \"Topic3\", \"Topic3\", \"Topic3\", \"Topic3\", \"Topic3\", \"Topic3\", \"Topic3\", \"Topic3\", \"Topic3\", \"Topic3\", \"Topic3\", \"Topic3\", \"Topic3\", \"Topic3\", \"Topic3\", \"Topic3\", \"Topic3\", \"Topic3\", \"Topic3\", \"Topic3\", \"Topic3\", \"Topic3\", \"Topic3\", \"Topic3\", \"Topic3\", \"Topic3\", \"Topic3\", \"Topic3\", \"Topic3\", \"Topic3\", \"Topic3\", \"Topic3\", \"Topic3\", \"Topic3\", \"Topic3\", \"Topic3\", \"Topic3\", \"Topic3\", \"Topic3\", \"Topic3\", \"Topic3\", \"Topic3\", \"Topic3\", \"Topic3\", \"Topic3\", \"Topic3\", \"Topic3\", \"Topic3\", \"Topic3\", \"Topic3\", \"Topic3\", \"Topic3\", \"Topic3\", \"Topic3\", \"Topic3\", \"Topic3\", \"Topic3\", \"Topic3\", \"Topic3\", \"Topic3\", \"Topic3\", \"Topic3\", \"Topic3\", \"Topic3\", \"Topic3\", \"Topic3\", \"Topic4\", \"Topic4\", \"Topic4\", \"Topic4\", \"Topic4\", \"Topic4\", \"Topic4\", \"Topic4\", \"Topic4\", \"Topic4\", \"Topic4\", \"Topic4\", \"Topic4\", \"Topic4\", \"Topic4\", \"Topic4\", \"Topic4\", \"Topic4\", \"Topic4\", \"Topic4\", \"Topic4\", \"Topic4\", \"Topic4\", \"Topic4\", \"Topic4\", \"Topic4\", \"Topic4\", \"Topic4\", \"Topic4\", \"Topic4\", \"Topic4\", \"Topic4\", \"Topic4\", \"Topic4\", \"Topic4\", \"Topic4\", \"Topic4\", \"Topic4\", \"Topic4\", \"Topic4\", \"Topic4\", \"Topic4\", \"Topic4\", \"Topic4\", \"Topic4\", \"Topic4\", \"Topic4\", \"Topic4\", \"Topic4\", \"Topic4\", \"Topic4\", \"Topic4\", \"Topic4\", \"Topic4\", \"Topic4\", \"Topic4\", \"Topic4\", \"Topic4\", \"Topic4\", \"Topic4\", \"Topic4\", \"Topic4\", \"Topic4\", \"Topic4\", \"Topic4\", \"Topic4\", \"Topic4\", \"Topic4\", \"Topic4\", \"Topic4\", \"Topic4\", \"Topic4\", \"Topic4\", \"Topic4\", \"Topic4\", \"Topic4\", \"Topic5\", \"Topic5\", \"Topic5\", \"Topic5\", \"Topic5\", \"Topic5\", \"Topic5\", \"Topic5\", \"Topic5\", \"Topic5\", \"Topic5\", \"Topic5\", \"Topic5\", \"Topic5\", \"Topic5\", \"Topic5\", \"Topic5\", \"Topic5\", \"Topic5\", \"Topic5\", \"Topic5\", \"Topic5\", \"Topic5\", \"Topic5\", \"Topic5\", \"Topic5\", \"Topic5\", \"Topic5\", \"Topic5\", \"Topic5\", \"Topic5\", \"Topic5\", \"Topic5\", \"Topic5\", \"Topic5\", \"Topic5\", \"Topic5\", \"Topic5\", \"Topic5\", \"Topic5\", \"Topic5\", \"Topic5\", \"Topic5\", \"Topic5\", \"Topic5\", \"Topic5\", \"Topic5\", \"Topic5\", \"Topic5\", \"Topic5\", \"Topic5\", \"Topic5\", \"Topic5\", \"Topic5\", \"Topic5\", \"Topic5\", \"Topic5\", \"Topic5\", \"Topic5\", \"Topic5\", \"Topic5\", \"Topic5\", \"Topic5\", \"Topic5\", \"Topic5\", \"Topic5\", \"Topic5\", \"Topic5\", \"Topic5\", \"Topic5\", \"Topic5\", \"Topic5\", \"Topic5\", \"Topic5\", \"Topic5\", \"Topic5\", \"Topic5\", \"Topic5\", \"Topic5\", \"Topic6\", \"Topic6\", \"Topic6\", \"Topic6\", \"Topic6\", \"Topic6\", \"Topic6\", \"Topic6\", \"Topic6\", \"Topic6\", \"Topic6\", \"Topic6\", \"Topic6\", \"Topic6\", \"Topic6\", \"Topic6\", \"Topic6\", \"Topic6\", \"Topic6\", \"Topic6\", \"Topic6\", \"Topic6\", \"Topic6\", \"Topic6\", \"Topic6\", \"Topic6\", \"Topic6\", \"Topic6\", \"Topic6\", \"Topic6\", \"Topic6\", \"Topic6\", \"Topic6\", \"Topic6\", \"Topic6\", \"Topic6\", \"Topic6\", \"Topic6\", \"Topic6\", \"Topic6\", \"Topic6\", \"Topic6\", \"Topic6\", \"Topic6\", \"Topic6\", \"Topic6\", \"Topic6\", \"Topic6\", \"Topic6\", \"Topic6\", \"Topic6\", \"Topic6\", \"Topic6\", \"Topic6\", \"Topic6\", \"Topic6\", \"Topic6\", \"Topic6\", \"Topic6\", \"Topic6\", \"Topic6\", \"Topic6\", \"Topic6\", \"Topic6\", \"Topic6\", \"Topic6\", \"Topic6\", \"Topic6\", \"Topic6\", \"Topic6\", \"Topic6\", \"Topic6\", \"Topic6\", \"Topic6\", \"Topic6\", \"Topic6\", \"Topic6\", \"Topic6\", \"Topic7\", \"Topic7\", \"Topic7\", \"Topic7\", \"Topic7\", \"Topic7\", \"Topic7\", \"Topic7\", \"Topic7\", \"Topic7\", \"Topic7\", \"Topic7\", \"Topic7\", \"Topic7\", \"Topic7\", \"Topic7\", \"Topic7\", \"Topic7\", \"Topic7\", \"Topic7\", \"Topic7\", \"Topic7\", \"Topic7\", \"Topic7\", \"Topic7\", \"Topic7\", \"Topic7\", \"Topic7\", \"Topic7\", \"Topic7\", \"Topic7\", \"Topic7\", \"Topic7\", \"Topic7\", \"Topic7\", \"Topic7\", \"Topic7\", \"Topic7\", \"Topic7\", \"Topic7\", \"Topic7\", \"Topic7\", \"Topic7\", \"Topic7\", \"Topic7\", \"Topic7\", \"Topic7\", \"Topic7\", \"Topic7\", \"Topic7\", \"Topic7\", \"Topic7\", \"Topic7\", \"Topic7\", \"Topic7\", \"Topic7\", \"Topic7\", \"Topic7\", \"Topic7\", \"Topic7\", \"Topic7\", \"Topic7\", \"Topic7\", \"Topic7\", \"Topic7\", \"Topic7\", \"Topic7\", \"Topic7\", \"Topic7\", \"Topic7\", \"Topic7\", \"Topic7\", \"Topic7\", \"Topic7\", \"Topic7\", \"Topic7\", \"Topic7\", \"Topic7\", \"Topic7\", \"Topic7\", \"Topic7\", \"Topic7\", \"Topic7\", \"Topic8\", \"Topic8\", \"Topic8\", \"Topic8\", \"Topic8\", \"Topic8\", \"Topic8\", \"Topic8\", \"Topic8\", \"Topic8\", \"Topic8\", \"Topic8\", \"Topic8\", \"Topic8\", \"Topic8\", \"Topic8\", \"Topic8\", \"Topic8\", \"Topic8\", \"Topic8\", \"Topic8\", \"Topic8\", \"Topic8\", \"Topic8\", \"Topic8\", \"Topic8\", \"Topic8\", \"Topic8\", \"Topic8\", \"Topic8\", \"Topic8\", \"Topic8\", \"Topic8\", \"Topic8\", \"Topic8\", \"Topic8\", \"Topic8\", \"Topic8\", \"Topic8\", \"Topic8\", \"Topic8\", \"Topic8\", \"Topic8\", \"Topic8\", \"Topic8\", \"Topic8\", \"Topic8\", \"Topic8\", \"Topic8\", \"Topic8\", \"Topic8\", \"Topic8\", \"Topic8\", \"Topic8\", \"Topic8\", \"Topic8\", \"Topic8\", \"Topic8\", \"Topic8\", \"Topic8\", \"Topic8\", \"Topic8\", \"Topic8\", \"Topic8\", \"Topic8\", \"Topic8\", \"Topic8\", \"Topic8\", \"Topic8\", \"Topic8\", \"Topic8\", \"Topic8\", \"Topic8\", \"Topic8\", \"Topic8\", \"Topic8\", \"Topic8\"], \"logprob\": [30.0, 29.0, 28.0, 27.0, 26.0, 25.0, 24.0, 23.0, 22.0, 21.0, 20.0, 19.0, 18.0, 17.0, 16.0, 15.0, 14.0, 13.0, 12.0, 11.0, 10.0, 9.0, 8.0, 7.0, 6.0, 5.0, 4.0, 3.0, 2.0, 1.0, -9.62339973449707, -9.340499877929688, -8.835700035095215, -9.626399993896484, -9.438699722290039, -9.23490047454834, -9.541199684143066, -8.880000114440918, -8.590900421142578, -8.756199836730957, -8.768899917602539, -9.094099998474121, -9.236300468444824, -8.270999908447266, -8.17389965057373, -9.553199768066406, -7.875, -9.586999893188477, -9.541899681091309, -9.548299789428711, -7.5, -9.512299537658691, -10.000200271606445, -8.103300094604492, -9.59689998626709, -9.062600135803223, -9.708700180053711, -9.370100021362305, -9.15410041809082, -10.069299697875977, -8.726400375366211, -9.192999839782715, -7.393400192260742, -7.793799877166748, -4.72599983215332, -8.947600364685059, -5.029300212860107, -4.1971001625061035, -3.867000102996826, -4.9832000732421875, -3.9523000717163086, -5.204100131988525, -5.218900203704834, -6.305799961090088, -5.868100166320801, -5.462399959564209, -3.7435998916625977, -5.548600196838379, -4.6097002029418945, -5.978799819946289, -5.82390022277832, -6.005300045013428, -6.739799976348877, -5.327400207519531, -5.987100124359131, -4.153900146484375, -4.956099987030029, -5.156899929046631, -5.789599895477295, -5.049600124359131, -5.231599807739258, -5.175899982452393, -4.992800235748291, -4.567699909210205, -6.198999881744385, -5.207399845123291, -5.2967000007629395, -4.997000217437744, -4.9105000495910645, -5.1946001052856445, -4.456299781799316, -5.076399803161621, -4.684199810028076, -5.432499885559082, -5.122799873352051, -4.696000099182129, -5.22160005569458, -9.043299674987793, -9.884099960327148, -9.544400215148926, -8.012100219726562, -8.42870044708252, -10.244400024414062, -9.175200462341309, -9.546600341796875, -8.697799682617188, -9.91510009765625, -6.253399848937988, -9.682299613952637, -9.82859992980957, -6.838900089263916, -9.63479995727539, -9.257499694824219, -10.473400115966797, -9.682999610900879, -9.952799797058105, -10.076600074768066, -9.503600120544434, -10.071999549865723, -9.6983003616333, -9.799799919128418, -9.932700157165527, -10.249199867248535, -9.32800006866455, -9.499099731445312, -10.641500473022461, -8.01509952545166, -6.04640007019043, -7.607999801635742, -6.181700229644775, -3.8317999839782715, -6.336100101470947, -4.780799865722656, -7.774600028991699, -5.959000110626221, -6.268799781799316, -6.764200210571289, -5.348800182342529, -4.825300216674805, -6.0015997886657715, -4.849800109863281, -4.803899765014648, -5.316100120544434, -4.877099990844727, -5.23799991607666, -4.8506999015808105, -3.5439000129699707, -4.235300064086914, -4.671500205993652, -4.324999809265137, -5.0304999351501465, -5.960299968719482, -4.983099937438965, -4.524600028991699, -4.368299961090088, -5.3454999923706055, -5.179200172424316, -4.765200138092041, -4.932499885559082, -5.133399963378906, -4.500800132751465, -4.98330020904541, -5.089700222015381, -4.5630998611450195, -4.789599895477295, -5.059800148010254, -5.078000068664551, -4.760300159454346, -5.172699928283691, -5.020199775695801, -5.232399940490723, -9.774900436401367, -9.585200309753418, -10.041099548339844, -10.00510025024414, -8.3016996383667, -10.094799995422363, -7.6971001625061035, -5.383200168609619, -3.4888999462127686, -6.146299839019775, -10.294300079345703, -8.713299751281738, -10.131600379943848, -8.129400253295898, -8.774200439453125, -10.246800422668457, -7.669099807739258, -10.566800117492676, -10.174200057983398, -7.975100040435791, -8.978899955749512, -10.12090015411377, -9.76099967956543, -9.547699928283691, -9.684200286865234, -9.462499618530273, -10.526100158691406, -10.733599662780762, -10.16409969329834, -9.350799560546875, -6.948599815368652, -8.435999870300293, -8.624699592590332, -5.34499979019165, -3.491499900817871, -4.287199974060059, -5.113500118255615, -3.97379994392395, -4.968100070953369, -8.491000175476074, -5.144800186157227, -6.948599815368652, -3.59689998626709, -6.554699897766113, -4.896200180053711, -4.957499980926514, -6.880899906158447, -5.329400062561035, -5.0671000480651855, -4.139400005340576, -4.968900203704834, -4.362500190734863, -3.6068999767303467, -5.096499919891357, -4.375800132751465, -5.785799980163574, -5.798999786376953, -4.474100112915039, -5.684299945831299, -6.221700191497803, -4.99560022354126, -5.031799793243408, -5.743599891662598, -4.9207000732421875, -4.681099891662598, -5.24970006942749, -5.333600044250488, -4.6656999588012695, -5.4552998542785645, -5.421999931335449, -5.321499824523926, -5.3109002113342285, -9.489100456237793, -9.897199630737305, -9.524700164794922, -9.935400009155273, -9.1899995803833, -9.128499984741211, -9.746500015258789, -10.217399597167969, -10.046299934387207, -7.7515997886657715, -10.213800430297852, -9.856900215148926, -8.985899925231934, -10.026800155639648, -9.239500045776367, -9.10789966583252, -10.373800277709961, -9.57509994506836, -10.130499839782715, -10.375100135803223, -10.109999656677246, -9.693699836730957, -10.163599967956543, -9.622599601745605, -10.144399642944336, -8.381500244140625, -8.359800338745117, -9.502599716186523, -8.873000144958496, -10.215700149536133, -4.409599781036377, -5.087399959564209, -5.1331000328063965, -7.5725998878479, -3.0097999572753906, -4.3678998947143555, -7.273799896240234, -5.456299781799316, -6.818900108337402, -4.61929988861084, -6.303899765014648, -3.8649001121520996, -6.1722002029418945, -8.455300331115723, -5.613699913024902, -6.067999839782715, -6.199699878692627, -5.5503997802734375, -5.7153000831604, -5.102700233459473, -5.480599880218506, -4.184199810028076, -6.442500114440918, -6.85260009765625, -4.109499931335449, -4.213699817657471, -4.891600131988525, -5.178100109100342, -5.526299953460693, -5.302599906921387, -5.0447001457214355, -4.70389986038208, -4.925600051879883, -4.701000213623047, -4.635000228881836, -5.587800025939941, -4.705399990081787, -4.901199817657471, -5.231100082397461, -4.836599826812744, -5.454999923706055, -5.332600116729736, -5.3470001220703125, -5.4197001457214355, -5.438799858093262, -5.476200103759766, -8.63129997253418, -9.373000144958496, -8.730299949645996, -9.991499900817871, -7.990099906921387, -9.325400352478027, -8.63659954071045, -9.0625, -8.009599685668945, -8.416199684143066, -8.03969955444336, -9.509900093078613, -9.26729965209961, -9.267600059509277, -9.265999794006348, -9.156599998474121, -9.516500473022461, -9.607999801635742, -9.246800422668457, -9.610899925231934, -8.013699531555176, -9.279500007629395, -8.46619987487793, -9.73390007019043, -8.647700309753418, -5.6529998779296875, -9.69890022277832, -8.34119987487793, -7.888299942016602, -9.391599655151367, -7.817999839782715, -6.714700222015381, -6.806600093841553, -5.706500053405762, -6.692599773406982, -6.678199768066406, -6.2453999519348145, -4.644899845123291, -5.3471999168396, -6.162300109863281, -5.480000019073486, -6.747799873352051, -6.619200229644775, -5.032400131225586, -5.013199806213379, -5.365900039672852, -4.738100051879883, -4.76230001449585, -5.4079999923706055, -5.922800064086914, -5.449900150299072, -4.73330020904541, -3.549799919128418, -5.463399887084961, -4.838699817657471, -6.416100025177002, -5.094600200653076, -4.80810022354126, -4.099400043487549, -4.796299934387207, -5.9222002029418945, -4.5071001052856445, -4.677000045776367, -5.160200119018555, -5.403600215911865, -5.558199882507324, -5.394199848175049, -5.354300022125244, -5.277100086212158, -4.9105000495910645, -5.15749979019165, -4.868000030517578, -5.230100154876709, -5.154399871826172, -5.29040002822876, -5.25439977645874, -5.143899917602539, -5.277100086212158, -5.351099967956543, -8.132699966430664, -8.590399742126465, -7.9618000984191895, -8.999099731445312, -8.284500122070312, -9.579299926757812, -8.6225004196167, -6.753399848937988, -9.398799896240234, -7.867000102996826, -8.438899993896484, -9.392600059509277, -4.320899963378906, -9.75629997253418, -9.571499824523926, -9.046099662780762, -9.73859977722168, -9.34529972076416, -6.442699909210205, -9.721500396728516, -8.343999862670898, -9.259099960327148, -9.73740005493164, -8.881799697875977, -9.9822998046875, -5.358699798583984, -8.992600440979004, -9.355999946594238, -9.982099533081055, -9.02869987487793, -7.679800033569336, -7.368100166320801, -4.900599956512451, -5.574399948120117, -5.618899822235107, -6.928800106048584, -5.195899963378906, -3.455699920654297, -5.765500068664551, -8.144399642944336, -3.84689998626709, -4.362299919128418, -5.892000198364258, -6.439899921417236, -6.289299964904785, -6.9319000244140625, -4.579899787902832, -6.809999942779541, -5.346499919891357, -5.870999813079834, -5.218500137329102, -5.4191999435424805, -5.207099914550781, -4.902699947357178, -5.429999828338623, -5.530099868774414, -4.039899826049805, -4.968200206756592, -4.203999996185303, -4.984300136566162, -5.242599964141846, -4.8043999671936035, -5.125100135803223, -4.516200065612793, -5.596799850463867, -4.647900104522705, -5.118100166320801, -5.380300045013428, -4.956399917602539, -5.185500144958496, -4.814300060272217, -4.8196001052856445, -5.188399791717529, -4.649199962615967, -4.809299945831299, -5.103700160980225, -5.202600002288818, -5.260000228881836, -7.302499771118164, -7.764100074768066, -4.550899982452393, -8.13290023803711, -9.89050006866455, -6.179500102996826, -9.04069995880127, -9.200400352478027, -9.325900077819824, -9.429499626159668, -9.01550006866455, -9.257599830627441, -9.355500221252441, -9.674799919128418, -9.70580005645752, -8.847299575805664, -8.99940013885498, -8.652799606323242, -9.064399719238281, -9.18850040435791, -9.623299598693848, -7.580599784851074, -9.353599548339844, -8.685700416564941, -8.02649974822998, -6.195799827575684, -8.616499900817871, -8.714599609375, -6.838200092315674, -8.01449966430664, -4.570000171661377, -5.528500080108643, -6.139500141143799, -7.228400230407715, -5.387899875640869, -6.101399898529053, -6.591100215911865, -7.658599853515625, -7.730599880218506, -7.711100101470947, -7.753699779510498, -7.349299907684326, -7.059599876403809, -7.3470001220703125, -4.888400077819824, -7.78380012512207, -5.416500091552734, -5.724899768829346, -5.91949987411499, -4.199999809265137, -4.978300094604492, -3.90939998626709, -3.4082999229431152, -4.556099891662598, -5.799900054931641, -5.896500110626221, -6.323200225830078, -4.9492998123168945, -6.206099987030029, -5.616300106048584, -5.739099979400635, -5.2870001792907715, -5.714600086212158, -4.999800205230713, -5.016300201416016, -5.225399971008301, -5.077199935913086, -4.979599952697754, -4.50439977645874, -5.0756001472473145, -5.5167999267578125, -5.46150016784668, -4.788300037384033, -5.451099872589111, -5.181399822235107, -5.244699954986572, -5.5447998046875, -5.2804999351501465, -5.198800086975098, -5.394899845123291, -5.286200046539307, -5.3125, -5.323699951171875, -8.55519962310791, -8.060600280761719, -8.060600280761719, -8.371600151062012, -7.349599838256836, -9.531000137329102, -8.98859977722168, -9.302599906921387, -8.982500076293945, -9.868399620056152, -9.082900047302246, -9.265199661254883, -8.348699569702148, -8.668999671936035, -8.980999946594238, -9.557900428771973, -8.298999786376953, -8.777299880981445, -9.136500358581543, -8.99020004272461, -8.823699951171875, -8.169599533081055, -9.941300392150879, -7.704800128936768, -9.494099617004395, -8.36359977722168, -8.677200317382812, -8.04259967803955, -8.872099876403809, -10.1875, -8.305700302124023, -3.5629000663757324, -7.539299964904785, -7.809599876403809, -4.867599964141846, -6.868199825286865, -3.9572999477386475, -6.5142998695373535, -6.861299991607666, -4.061999797821045, -5.949900150299072, -7.414700031280518, -4.148900032043457, -4.65310001373291, -4.58489990234375, -5.496099948883057, -3.8768999576568604, -6.232399940490723, -5.076000213623047, -6.778500080108643, -4.773099899291992, -4.033400058746338, -6.145599842071533, -6.231900215148926, -4.835299968719482, -4.841100215911865, -4.948400020599365, -4.678400039672852, -5.386899948120117, -5.34660005569458, -4.824399948120117, -5.567699909210205, -4.291399955749512, -4.64769983291626, -4.7418999671936035, -5.440700054168701, -4.962399959564209, -5.152599811553955, -5.232999801635742, -4.399600028991699, -4.7058000564575195, -5.197500228881836, -5.186299800872803, -5.01200008392334, -5.035699844360352, -5.280799865722656, -5.334400177001953], \"loglift\": [30.0, 29.0, 28.0, 27.0, 26.0, 25.0, 24.0, 23.0, 22.0, 21.0, 20.0, 19.0, 18.0, 17.0, 16.0, 15.0, 14.0, 13.0, 12.0, 11.0, 10.0, 9.0, 8.0, 7.0, 6.0, 5.0, 4.0, 3.0, 2.0, 1.0, 1.7314000129699707, 1.6717000007629395, 1.621399998664856, 1.601699948310852, 1.5950000286102295, 1.593000054359436, 1.549399971961975, 1.5217000246047974, 1.5144000053405762, 1.5075000524520874, 1.4812999963760376, 1.4805999994277954, 1.476199984550476, 1.465999960899353, 1.4574999809265137, 1.454800009727478, 1.4515999555587769, 1.4479000568389893, 1.445199966430664, 1.441100001335144, 1.4186999797821045, 1.4169000387191772, 1.4160000085830688, 1.3945000171661377, 1.389299988746643, 1.382099986076355, 1.368899941444397, 1.3621000051498413, 1.3522000312805176, 1.3473000526428223, 1.343999981880188, 1.3417999744415283, 1.2231999635696411, 1.252500057220459, 0.9448999762535095, 1.3235000371932983, 0.8737000226974487, 0.7059999704360962, 0.6520000100135803, 0.767799973487854, 0.5546000003814697, 0.7314000129699707, 0.7329000234603882, 0.9060999751091003, 0.8245999813079834, 0.7421000003814697, 0.3847000002861023, 0.7383999824523926, 0.5, 0.7990999817848206, 0.7368000149726868, 0.7710999846458435, 0.9588000178337097, 0.5706999897956848, 0.7549999952316284, 0.21809999644756317, 0.4374000132083893, 0.4851999878883362, 0.6567999720573425, 0.38440001010894775, 0.4146000146865845, 0.3919999897480011, 0.29440000653266907, 0.08569999784231186, 0.7351999878883362, 0.295199990272522, 0.3321000039577484, 0.17309999465942383, 0.11909999698400497, 0.2624000012874603, -0.21050000190734863, 0.13689999282360077, -0.16590000689029694, 0.357699990272522, -0.028699999675154686, -1.0185999870300293, 0.038100000470876694, 1.7246999740600586, 1.63510000705719, 1.631100058555603, 1.5928000211715698, 1.5302000045776367, 1.5169999599456787, 1.4667999744415283, 1.4491000175476074, 1.440000057220459, 1.434399962425232, 1.4306999444961548, 1.4157999753952026, 1.4114999771118164, 1.4067000150680542, 1.402999997138977, 1.3777999877929688, 1.3766000270843506, 1.3698999881744385, 1.3697999715805054, 1.3580000400543213, 1.3260999917984009, 1.3245999813079834, 1.2942999601364136, 1.276900053024292, 1.2700999975204468, 1.2288000583648682, 1.2187000513076782, 1.2161999940872192, 1.2137000560760498, 1.1591999530792236, 1.1354999542236328, 1.1526999473571777, 1.079200029373169, 0.9772999882698059, 1.0572999715805054, 0.9078999757766724, 1.125100016593933, 0.8190000057220459, 0.8360000252723694, 0.9021000266075134, 0.6895999908447266, 0.6086999773979187, 0.7748000025749207, 0.5655999779701233, 0.5152000188827515, 0.5956000089645386, 0.48590001463890076, 0.5094000101089478, 0.429500013589859, 0.13349999487400055, 0.271699994802475, 0.3580000102519989, 0.19329999387264252, 0.3630000054836273, 0.6244999766349792, 0.3467000126838684, 0.20190000534057617, 0.15070000290870667, 0.4108999967575073, 0.32339999079704285, 0.1378999948501587, 0.17720000445842743, 0.2680000066757202, -0.10159999877214432, 0.16930000483989716, 0.17000000178813934, -0.3172999918460846, -0.1362999975681305, 0.08860000222921371, 0.01600000075995922, -0.3882000148296356, -0.0989999994635582, -0.8919000029563904, 0.05480000004172325, 1.7568000555038452, 1.65339994430542, 1.5357999801635742, 1.5227999687194824, 1.4718999862670898, 1.4299999475479126, 1.4266999959945679, 1.4210000038146973, 1.4147000312805176, 1.4098999500274658, 1.3867000341415405, 1.3824000358581543, 1.382200002670288, 1.378999948501587, 1.3524999618530273, 1.3287999629974365, 1.3147000074386597, 1.2702000141143799, 1.2702000141143799, 1.2692999839782715, 1.253600001335144, 1.2484999895095825, 1.24399995803833, 1.2367000579833984, 1.2314000129699707, 1.2130000591278076, 1.2099000215530396, 1.2080999612808228, 1.1878999471664429, 1.184499979019165, 1.169700026512146, 1.17739999294281, 1.1687999963760376, 1.0390000343322754, 0.7542999982833862, 0.7864000201225281, 0.8562999963760376, 0.7526999711990356, 0.8246999979019165, 1.121399998664856, 0.7753999829292297, 0.9562000036239624, 0.5314000248908997, 0.8708999752998352, 0.6180999875068665, 0.6000999808311462, 0.864799976348877, 0.5823000073432922, 0.5008000135421753, 0.259799987077713, 0.42879998683929443, 0.290800005197525, 0.07050000131130219, 0.42100000381469727, 0.14319999516010284, 0.5411999821662903, 0.5117999911308289, 0.04410000145435333, 0.45879998803138733, 0.6500999927520752, 0.11410000175237656, 0.11659999936819077, 0.44279998540878296, -0.01759999990463257, -0.17419999837875366, 0.1518000066280365, 0.19900000095367432, -0.2935999929904938, 0.23729999363422394, 0.18780000507831573, -0.1688999980688095, -0.5016999840736389, 1.8406000137329102, 1.7905999422073364, 1.7340999841690063, 1.670699954032898, 1.6318999528884888, 1.5901999473571777, 1.5870000123977661, 1.5789999961853027, 1.573099970817566, 1.5549999475479126, 1.527999997138977, 1.5154000520706177, 1.500100016593933, 1.4986000061035156, 1.469499945640564, 1.465499997138977, 1.464400053024292, 1.4607000350952148, 1.455199956893921, 1.450600028038025, 1.4424999952316284, 1.4398000240325928, 1.4368000030517578, 1.417099952697754, 1.4042999744415283, 1.4023000001907349, 1.3914999961853027, 1.382599949836731, 1.357699990272522, 1.340999960899353, 1.1972999572753906, 1.184999942779541, 1.0233999490737915, 1.2085000276565552, 0.6675000190734863, 0.7846999764442444, 1.1234999895095825, 0.8500000238418579, 1.0170999765396118, 0.6729999780654907, 0.9266999959945679, 0.5072000026702881, 0.8228999972343445, 1.2488000392913818, 0.6869999766349792, 0.7766000032424927, 0.7997000217437744, 0.6413000226020813, 0.6765999794006348, 0.5160999894142151, 0.5723999738693237, 0.2150000035762787, 0.7926999926567078, 0.8827000260353088, 0.018799999728798866, 0.03200000151991844, 0.2500999867916107, 0.3361999988555908, 0.42559999227523804, 0.3434999883174896, 0.23549999296665192, 0.10530000180006027, 0.14800000190734863, -0.04769999906420708, -0.11680000275373459, 0.3617999851703644, -0.18639999628067017, -0.17470000684261322, 0.028599999845027924, -0.3296999931335449, 0.1738000065088272, -0.22290000319480896, -0.25290000438690186, -0.13249999284744263, -0.4092999994754791, -0.08259999752044678, 2.0350000858306885, 2.025899887084961, 2.001699924468994, 1.9693000316619873, 1.920799970626831, 1.9111000299453735, 1.9071999788284302, 1.8875000476837158, 1.8660000562667847, 1.8480000495910645, 1.8170000314712524, 1.7906999588012695, 1.7900999784469604, 1.782099962234497, 1.7697999477386475, 1.7632999420166016, 1.7551000118255615, 1.7482999563217163, 1.7101000547409058, 1.7032999992370605, 1.7015000581741333, 1.6934000253677368, 1.683500051498413, 1.67739999294281, 1.6526000499725342, 1.6384999752044678, 1.632099986076355, 1.6318999528884888, 1.62909996509552, 1.6265000104904175, 1.6030999422073364, 1.5740000009536743, 1.5566999912261963, 1.419600009918213, 1.469099998474121, 1.3978999853134155, 1.323199987411499, 1.0437999963760376, 1.138700008392334, 1.2548999786376953, 1.077299952507019, 1.309000015258789, 1.270400047302246, 0.9373999834060669, 0.9070000052452087, 0.9591000080108643, 0.8112000226974487, 0.795199990272522, 0.8485999703407288, 0.9939000010490417, 0.8371000289916992, 0.5468999743461609, 0.12759999930858612, 0.7612000107765198, 0.491100013256073, 1.069100022315979, 0.5152000188827515, 0.3619999885559082, 0.028999999165534973, 0.2978000044822693, 0.8263999819755554, 0.011099999770522118, -0.023600000888109207, 0.15889999270439148, 0.289000004529953, 0.4163999855518341, 0.22450000047683716, 0.17829999327659607, 0.08590000122785568, -0.4036000072956085, -0.12800000607967377, -0.6223000288009644, -0.07750000059604645, -0.25130000710487366, -0.0031999999191612005, -0.10599999874830246, -0.6248999834060669, -0.06379999965429306, 0.08299999684095383, 2.1154000759124756, 1.958400011062622, 1.9551000595092773, 1.923699975013733, 1.916100025177002, 1.8849999904632568, 1.8702000379562378, 1.8481999635696411, 1.8473999500274658, 1.8371000289916992, 1.816499948501587, 1.8008999824523926, 1.8003000020980835, 1.791100025177002, 1.7573000192642212, 1.7390999794006348, 1.7302000522613525, 1.7106000185012817, 1.708299994468689, 1.7065000534057617, 1.705899953842163, 1.7037999629974365, 1.6957999467849731, 1.688099980354309, 1.680999994277954, 1.6742000579833984, 1.6708999872207642, 1.659000039100647, 1.6083999872207642, 1.5978000164031982, 1.5753999948501587, 1.5645999908447266, 1.4263999462127686, 1.4249999523162842, 1.4261000156402588, 1.4739999771118164, 1.2578999996185303, 0.9434999823570251, 1.239400029182434, 1.561900019645691, 0.8795999884605408, 0.9300000071525574, 1.1790000200271606, 1.2646000385284424, 1.2360999584197998, 1.3322999477386475, 0.817799985408783, 1.2776999473571777, 0.928600013256073, 1.0300999879837036, 0.8345999717712402, 0.8876000046730042, 0.8047000169754028, 0.6299999952316284, 0.7997000217437744, 0.7940000295639038, 0.20579999685287476, 0.5493000149726868, 0.1680999994277954, 0.5299999713897705, 0.6069999933242798, 0.36570000648498535, 0.5253999829292297, 0.1371999979019165, 0.7854999899864197, -0.14100000262260437, 0.2973000109195709, 0.5601000189781189, 0.07320000231266022, 0.31709998846054077, -0.29600000381469727, -0.3005000054836273, 0.2685999870300293, -0.9718999862670898, -0.6809999942779541, -0.009700000286102295, -0.1289999932050705, -0.35690000653266907, 2.2309999465942383, 2.1637001037597656, 2.104099988937378, 2.1015000343322754, 2.0343000888824463, 2.0109000205993652, 2.003200054168701, 1.9962999820709229, 1.993499994277954, 1.9697999954223633, 1.9665000438690186, 1.9500000476837158, 1.948699951171875, 1.9227999448776245, 1.905500054359436, 1.8997000455856323, 1.8717000484466553, 1.8671000003814697, 1.8640999794006348, 1.8614000082015991, 1.8446999788284302, 1.8402999639511108, 1.8393000364303589, 1.8286000490188599, 1.8250000476837158, 1.8214999437332153, 1.8208999633789062, 1.8171000480651855, 1.8109999895095825, 1.8035999536514282, 1.573099970817566, 1.6109999418258667, 1.628600001335144, 1.7094000577926636, 1.4946999549865723, 1.5339000225067139, 1.5683000087738037, 1.690500020980835, 1.6964000463485718, 1.6837999820709229, 1.688099980354309, 1.6066999435424805, 1.5302000045776367, 1.5806000232696533, 1.0520999431610107, 1.6632000207901, 1.0693999528884888, 1.142799973487854, 1.104599952697754, 0.6090999841690063, 0.8119000196456909, 0.4627000093460083, 0.26899999380111694, 0.5379999876022339, 0.9735000133514404, 1.01010000705719, 1.1614999771118164, 0.6000000238418579, 1.093500018119812, 0.7612000107765198, 0.8198999762535095, 0.5460000038146973, 0.7764999866485596, 0.2599000036716461, 0.2639000117778778, 0.39329999685287476, 0.2858000099658966, 0.16210000216960907, -0.37610000371932983, 0.13770000636577606, 0.5504000186920166, 0.45019999146461487, -0.5425000190734863, 0.3804999887943268, -0.15189999341964722, -0.0746999979019165, 0.4936000108718872, -0.12790000438690186, -0.6805999875068665, -0.07580000162124634, -0.6328999996185303, -0.8055999875068665, -0.9244999885559082, 2.308799982070923, 2.182499885559082, 2.174999952316284, 2.1161000728607178, 2.0439999103546143, 1.9801000356674194, 1.9617999792099, 1.9594999551773071, 1.9505000114440918, 1.9491000175476074, 1.9332000017166138, 1.916100025177002, 1.9127000570297241, 1.888800024986267, 1.8551000356674194, 1.7956000566482544, 1.785099983215332, 1.7843999862670898, 1.7827999591827393, 1.7760000228881836, 1.7687000036239624, 1.7596999406814575, 1.7470999956130981, 1.7228000164031982, 1.715499997138977, 1.6978000402450562, 1.694100022315979, 1.6864999532699585, 1.6469000577926636, 1.644700050354004, 1.6418999433517456, 1.5786999464035034, 1.586899995803833, 1.6053999662399292, 1.361799955368042, 1.5260000228881836, 1.25600004196167, 1.4574999809265137, 1.49399995803833, 1.086400032043457, 1.3378000259399414, 1.5394999980926514, 0.9247999787330627, 0.9567000269889832, 0.9326000213623047, 1.111299991607666, 0.6413999795913696, 1.1931999921798706, 0.859499990940094, 1.3116999864578247, 0.683899998664856, 0.36579999327659607, 1.0532000064849854, 1.063599944114685, 0.566100001335144, 0.44609999656677246, 0.37070000171661377, 0.22529999911785126, 0.5627999901771545, 0.5364000201225281, 0.20509999990463257, 0.6010000109672546, -0.163100004196167, -0.14079999923706055, -0.08860000222921371, 0.39089998602867126, -0.059300001710653305, 0.1071000024676323, 0.1647000014781952, -0.7222999930381775, -0.460099995136261, -0.027400000020861626, -0.09220000356435776, -0.49300000071525574, -0.6636000275611877, 0.04899999871850014, 0.08100000023841858]}, \"token.table\": {\"Topic\": [1, 2, 3, 4, 5, 6, 7, 8, 1, 2, 3, 4, 5, 6, 1, 2, 3, 4, 6, 1, 2, 3, 4, 5, 6, 7, 8, 1, 2, 3, 4, 5, 6, 7, 8, 1, 2, 3, 4, 5, 6, 7, 8, 1, 2, 3, 5, 6, 1, 2, 3, 4, 5, 6, 7, 8, 1, 2, 3, 4, 5, 6, 7, 8, 1, 2, 3, 4, 5, 6, 7, 8, 1, 2, 3, 4, 5, 6, 7, 8, 1, 2, 4, 5, 8, 1, 2, 3, 4, 5, 6, 7, 8, 1, 2, 3, 4, 5, 6, 7, 8, 1, 4, 7, 1, 2, 3, 4, 5, 6, 7, 8, 1, 2, 3, 4, 5, 6, 7, 8, 1, 2, 3, 4, 5, 6, 7, 8, 1, 2, 3, 4, 5, 6, 7, 8, 1, 2, 3, 4, 6, 7, 1, 2, 3, 4, 5, 6, 7, 8, 1, 2, 3, 4, 5, 6, 7, 8, 1, 2, 4, 1, 2, 3, 4, 5, 6, 7, 8, 1, 2, 3, 4, 5, 6, 7, 8, 1, 2, 3, 4, 5, 6, 7, 8, 1, 2, 3, 4, 5, 6, 7, 8, 1, 2, 3, 4, 5, 6, 7, 8, 1, 1, 2, 3, 4, 5, 6, 7, 8, 1, 2, 3, 4, 5, 6, 7, 8, 1, 2, 3, 4, 5, 6, 7, 8, 3, 6, 7, 1, 2, 3, 4, 5, 6, 7, 8, 1, 2, 3, 4, 5, 1, 2, 3, 4, 5, 6, 7, 8, 1, 2, 3, 5, 6, 8, 1, 2, 3, 4, 5, 6, 7, 8, 1, 2, 3, 4, 5, 6, 7, 8, 1, 2, 3, 4, 5, 6, 7, 8, 1, 2, 3, 4, 5, 8, 1, 2, 3, 4, 5, 6, 7, 8, 1, 2, 3, 4, 5, 6, 7, 8, 1, 2, 3, 4, 5, 6, 7, 8, 1, 2, 3, 4, 5, 6, 7, 8, 1, 3, 4, 7, 1, 2, 3, 4, 5, 6, 7, 8, 1, 2, 3, 4, 5, 6, 1, 2, 3, 4, 5, 6, 7, 8, 1, 2, 3, 4, 5, 6, 7, 8, 1, 2, 3, 4, 5, 6, 7, 8, 1, 3, 4, 5, 6, 2, 5, 1, 2, 3, 4, 5, 1, 2, 3, 4, 5, 6, 7, 8, 1, 2, 3, 4, 5, 6, 7, 8, 1, 2, 3, 4, 5, 6, 7, 8, 1, 2, 3, 4, 5, 6, 7, 8, 1, 2, 3, 4, 5, 6, 7, 8, 1, 3, 4, 1, 2, 3, 4, 5, 6, 7, 8, 1, 2, 3, 4, 5, 6, 7, 8, 1, 2, 3, 4, 5, 6, 7, 8, 2, 4, 2, 3, 4, 5, 6, 7, 1, 5, 7, 1, 2, 3, 4, 5, 6, 7, 8, 1, 2, 5, 7, 8, 1, 2, 3, 4, 5, 6, 7, 8, 1, 2, 3, 4, 5, 6, 7, 8, 1, 2, 3, 4, 5, 6, 7, 8, 1, 2, 3, 4, 5, 6, 7, 8, 1, 2, 3, 4, 5, 6, 7, 8, 1, 2, 3, 4, 5, 6, 7, 8, 1, 2, 3, 4, 5, 6, 7, 8, 1, 2, 3, 4, 5, 6, 7, 8, 1, 4, 5, 7, 1, 2, 3, 4, 5, 6, 7, 8, 1, 2, 3, 4, 5, 6, 7, 8, 1, 2, 3, 4, 5, 6, 7, 8, 1, 2, 3, 4, 5, 6, 7, 8, 2, 5, 1, 3, 4, 7, 1, 2, 3, 4, 5, 7, 8, 1, 2, 3, 4, 5, 6, 7, 8, 1, 2, 3, 5, 7, 8, 2, 4, 1, 2, 3, 4, 5, 6, 7, 8, 1, 2, 3, 4, 5, 6, 1, 2, 3, 4, 5, 6, 7, 8, 1, 2, 3, 4, 5, 6, 7, 8, 1, 2, 7, 1, 2, 3, 4, 5, 6, 7, 8, 1, 2, 3, 4, 7, 1, 2, 3, 4, 5, 6, 7, 8, 1, 2, 3, 4, 5, 6, 7, 8, 1, 2, 3, 4, 5, 6, 8, 1, 2, 3, 4, 5, 6, 7, 8, 1, 2, 3, 4, 5, 6, 7, 8, 2, 3, 4, 5, 6, 7, 1, 2, 3, 4, 5, 6, 7, 8, 1, 2, 3, 4, 5, 6, 7, 8, 1, 2, 3, 4, 5, 6, 7, 8, 1, 5, 6, 7, 1, 2, 3, 4, 5, 6, 7, 1, 2, 3, 4, 5, 6, 7, 8, 2, 3, 4, 5, 6, 3, 5, 6, 7, 1, 4, 5, 1, 2, 3, 4, 5, 6, 7, 8, 1, 2, 3, 4, 5, 7, 8, 1, 5, 8, 1, 2, 3, 4, 5, 6, 7, 8, 1, 2, 3, 4, 5, 6, 7, 8, 2, 4, 1, 2, 1, 2, 3, 4, 5, 6, 7, 8, 2, 3, 5, 7, 8, 2, 3, 4, 8, 1, 2, 3, 4, 5, 6, 7, 8, 1, 2, 3, 4, 5, 6, 7, 8, 3, 4, 5, 7, 1, 4, 5, 1, 2, 3, 4, 5, 6, 7, 8, 1, 2, 3, 4, 5, 6, 7, 1, 2, 3, 4, 5, 6, 7, 8, 1, 2, 3, 4, 5, 6, 7, 8, 1, 2, 3, 4, 5, 6, 1, 2, 3, 4, 5, 6, 7, 8, 1, 2, 4, 8, 1, 2, 3, 4, 5, 6, 8, 1, 7, 1, 2, 3, 4, 5, 7, 8, 1, 2, 3, 4, 5, 6, 7, 8, 1, 2, 3, 4, 5, 7, 2, 4, 6, 1, 2, 3, 4, 5, 6, 7, 8, 1, 2, 3, 4, 5, 1, 2, 3, 4, 5, 6, 7, 8, 1, 2, 3, 4, 5, 6, 7, 8, 1, 2, 3, 4, 5, 6, 7, 8, 2, 3, 4, 6, 7, 8, 3, 4, 6, 8, 1, 2, 3, 5, 7, 8, 1, 3, 5, 7, 1, 4, 6, 7, 1, 2, 3, 4, 5, 7, 1, 2, 3, 4, 5, 6, 7, 1, 2, 3, 4, 5, 7, 8, 1, 2, 3, 4, 5, 6, 7, 8, 1, 2, 3, 4, 5, 8, 1, 3, 7, 8, 2, 4, 5, 6, 7, 1, 2, 3, 4, 5, 6, 7, 8, 1, 2, 3, 4, 5, 6, 7, 8, 1, 2, 3, 4, 5, 6, 7, 8, 1, 2, 3, 4, 5, 6, 7, 8, 1, 2, 3, 4, 5, 6, 7, 8, 1, 2, 3, 4, 5, 6, 7, 8, 1, 2, 3, 4, 5, 6, 7, 8, 2, 3, 4, 5, 6, 7, 8, 1, 2, 3, 4, 5, 6, 7, 8, 1, 2, 3, 4, 5, 6, 7, 8, 1, 2, 4, 6, 1, 2, 3, 4, 6, 8, 1, 2, 3, 4, 5, 6, 7, 8, 1, 2, 3, 4, 5, 6, 7, 8, 2, 3, 4, 5, 6, 7, 1, 2, 3, 4, 5, 6, 7, 8, 1, 2, 3, 4, 5, 6, 7, 8, 1, 2, 4, 6, 7, 8, 1, 2, 3, 4, 5, 1, 2, 3, 4, 5, 6, 7, 8, 1, 2, 3, 4, 5, 6, 7, 8, 1, 2, 3, 4, 7, 1, 2, 3, 4, 5, 6, 8, 1, 2, 3, 4, 5, 6, 7, 8, 1, 2, 3, 4, 5, 6, 7, 8, 3, 4, 5, 1, 2, 3, 4, 5, 6, 7, 8, 2, 3, 5, 6, 1, 2, 3, 4, 5, 6, 7, 8, 1, 2, 3, 4, 5, 6, 7, 8, 1, 3, 4, 5, 6, 1, 2, 3, 4, 5, 6, 7, 8, 1, 2, 3, 4, 6, 1, 2, 3, 4, 5, 6, 7, 8, 1, 2, 3, 4, 5, 6, 7, 8, 1, 2, 3, 4, 5, 6, 7, 8, 1, 2, 3, 4, 5, 6, 8, 1, 2, 3, 4, 5, 6, 7, 8, 1, 2, 3, 6, 7, 8, 1, 2, 3, 4, 5, 6, 7, 8, 1, 2, 3, 4, 5, 6, 7, 8, 1, 2, 3, 4, 5, 7, 8, 1, 2, 3, 4, 5, 6, 7, 8, 2, 3, 4, 5, 8, 2, 3, 4, 7, 2, 3, 5, 6, 2, 4, 5, 6, 7, 1, 2, 3, 4, 5, 6, 8, 1, 2, 3, 4, 5, 6, 7, 8, 1, 2, 3, 4, 5, 6, 7, 8, 1, 2, 3, 4, 5, 6, 7, 8, 1, 2, 3, 4, 5, 6, 7, 8, 1, 2, 3, 4, 5, 6, 7, 8, 1, 4, 6, 8, 1, 2, 3, 4, 5, 6, 1, 3, 4, 5, 6, 1, 2, 3, 5, 6, 1, 2, 3, 4, 5, 6, 7, 8, 1, 2, 3, 4, 5, 6, 7, 8, 1, 2, 3, 4, 5, 7, 1, 2, 4, 8, 1, 4, 1, 2, 3, 4, 5, 6, 7, 8, 1, 2, 3, 4, 5, 6, 7, 8, 1, 2, 5, 6, 7, 1, 4, 6, 1, 2, 3, 4, 5, 6, 8, 1, 2, 3, 4, 5, 6, 7, 8, 1, 2, 3, 4, 5, 6, 7, 8, 2, 3, 4, 5, 6, 8, 2, 3, 4, 7, 1, 2, 3, 4, 5, 6, 7, 8, 1, 2, 3, 4, 5, 6, 7, 8, 1, 2, 3, 4, 5, 6, 7, 8, 1, 2, 3, 4, 5, 6, 7, 8, 1, 2, 3, 6, 7, 1, 2, 3, 4, 5, 6, 7, 8, 1, 2, 3, 4, 5, 6, 7, 8, 1, 2, 3, 4, 5, 6, 7, 8, 1, 2, 3, 4, 1, 2, 3, 4, 1, 2, 3, 4, 5, 6, 7, 8, 1, 2, 3, 4, 5, 6, 7, 1, 2, 3, 4, 5, 6, 8, 1, 2, 3, 4, 5, 6, 7, 8, 1, 2, 3, 4, 5, 6, 7, 8, 1, 2, 4, 3, 4, 5, 6, 1, 2, 4, 5, 6, 1, 3, 4, 6, 1, 2, 3, 4, 5, 6, 7, 8, 1, 2, 3, 4, 5, 6, 7, 8, 1, 2, 3, 5, 1, 2, 3, 4, 5, 6, 7, 8, 1, 2, 3, 4, 5, 6, 7, 8, 1, 4, 5, 1, 2, 3, 4, 5, 6, 1, 2, 3, 4, 7, 1, 2, 6, 1, 2, 3, 4, 5, 6, 7, 8, 1, 2, 3, 4, 5, 6, 7, 8, 1, 2, 3, 4, 5, 6, 7, 8, 1, 2, 3, 4, 5, 6, 7, 8, 1, 2, 3, 4, 5, 6, 7, 8, 4, 6, 2, 3, 4, 8, 1, 2, 3, 4, 5, 6, 7, 8, 2, 5, 1, 2, 3, 4, 5, 6, 7, 8, 1, 2, 3, 5, 7, 2, 3, 4, 6, 1, 2, 3, 4, 5, 6, 7, 8, 1, 2, 3, 4, 5, 6, 7, 8, 2, 3, 6, 7, 8, 1, 2, 3, 4, 5, 6, 7, 8, 1, 2, 3, 4, 5, 6, 7, 8, 1, 3, 4, 6, 7, 1, 2, 3, 4, 5, 6, 7, 8, 2, 5, 7, 1, 2, 3, 4, 5, 6, 7, 8, 1, 2, 3, 4, 6, 7, 1, 2, 3, 4, 5, 6, 7, 8, 1, 2, 3, 4, 8, 1, 2, 3, 4, 5, 6, 7, 8, 1, 2, 3, 4, 5, 8, 1, 2, 3, 4, 5, 6, 7, 1, 2, 3, 4, 5, 6, 7, 8, 1, 2, 3, 4, 5, 6, 7, 8, 1, 2, 3, 4, 8, 1, 2, 3, 4, 5, 6, 7, 8, 1, 2, 3, 4, 5, 6, 7, 8, 1, 2, 3, 4, 5, 6, 7, 8, 1, 2, 3, 4, 5, 8, 1, 2, 3, 4, 5, 6, 7, 8, 2, 3, 6, 7, 1, 2, 3, 4, 8, 1, 2, 3, 4, 5, 6, 7, 8, 1, 2, 4, 8, 1, 2, 3, 4, 5, 6, 7, 8, 1, 2, 3, 5, 8, 2, 3, 4, 8, 1, 2, 3, 4, 5, 6, 7, 8, 1, 2, 6, 1, 3, 5, 7, 1, 2, 3, 4, 5, 6, 7, 8, 1, 2, 3, 4, 5, 6, 7, 8, 1, 2, 3, 4, 5, 6, 7, 8, 2, 4, 7, 1, 2, 3, 4, 5, 6, 7, 8, 1, 2, 5, 6, 7, 8, 1, 2, 3, 4, 5, 6, 7, 8, 2, 3, 4, 5, 1, 2, 3, 4, 5, 6, 7, 8, 1, 2, 3, 5, 7, 2, 3, 4, 5, 7, 1, 2, 3, 4, 5, 6, 7, 8, 1, 2, 3, 4, 5, 6, 7, 8, 1, 2, 3, 4, 5, 6, 7, 8, 2, 3, 1, 2, 3, 4, 5, 6, 7, 8, 1, 2, 3, 4, 5, 7, 8, 1, 2, 3, 4, 5, 8, 1, 2, 3, 4, 5, 6, 7, 8, 1, 2, 3, 4, 5, 6, 7, 8, 1, 2, 3, 4, 5, 6, 8, 1, 2, 3, 4, 5, 6, 7, 8, 1, 2, 3, 4, 5, 6, 7, 8, 2, 4, 5, 1, 2, 3, 4, 1, 2, 4, 5, 6, 7, 2, 3, 5, 6, 8, 1, 2, 3, 4, 8, 1, 2, 3, 4, 5, 6, 7, 8, 1, 2, 3, 4, 5, 6, 7, 8, 1, 2, 3, 4, 5, 6, 7, 8, 1, 2, 3, 4, 5, 6, 7, 8, 1, 2, 3, 4, 5, 6, 7, 8, 1, 2, 3, 4, 5, 6, 7, 8, 1, 2, 3, 4, 5, 6, 7, 8, 1, 2, 3, 4, 5, 6, 8, 1, 3, 4, 5, 7, 8, 1, 2, 3, 4, 5, 6, 7, 8, 1, 2, 3, 4, 5, 6, 7, 8, 1, 2, 3, 4, 5, 8, 1, 2, 3, 4, 5, 6, 7, 8, 1, 2, 3, 4, 5, 6, 7, 8, 2, 3, 4, 1, 2, 3, 6, 1, 2, 3, 4, 6, 7, 8, 2, 3, 4, 7, 1, 2, 3, 4, 5, 6, 7, 8, 1, 2, 3, 4, 5, 6, 7, 8, 1, 2, 3, 4, 5, 6, 7, 8, 1, 2, 3, 4, 5, 6, 7, 8, 1, 2, 3, 4, 5, 6, 7, 8, 1, 2, 3, 4, 5, 6, 8, 1, 2, 3, 4, 5, 6, 7, 8, 1, 2, 3, 4, 5, 6, 7, 8, 2, 3, 4, 8, 1, 2, 3, 4, 5, 6, 7, 8, 1, 2, 3, 4, 7, 8, 1, 2, 3, 4, 5, 6, 7, 8, 1, 2, 3, 4, 5, 8, 1, 2, 3, 4, 5, 1, 2, 3, 4, 5, 6, 7, 8, 1, 2, 3, 4, 5, 6, 7, 8, 1, 2, 3, 4, 5, 6, 7, 8, 1, 2, 3, 4, 5, 6, 7, 8, 1, 2, 3, 4, 5, 6, 7, 8, 1, 2, 4, 5, 1, 2, 5, 6, 8, 1, 2, 3, 5, 7, 1, 2, 5, 6, 7, 8, 1, 2, 3, 4, 5, 6, 8, 1, 2, 7, 1, 2, 3, 4, 5, 6, 7, 8, 1, 2, 3, 4, 5, 6, 7, 8, 1, 2, 3, 4, 5, 6, 7, 8, 1, 2, 3, 4, 5, 6, 7, 1, 2, 3, 4, 5, 6, 7, 8, 1, 2, 3, 4, 5, 6, 7, 8, 1, 2, 3, 4, 5, 6, 7, 8, 1, 2, 3, 4, 1, 2, 3, 4, 5, 6, 7, 8, 1, 2, 3, 4, 5, 6, 7, 8, 2, 4, 5, 1, 2, 3, 4, 5, 6, 7, 8, 1, 2, 4, 5, 7, 8, 3, 4, 7, 8, 1, 2, 3, 4, 5, 6, 7, 8, 1, 2, 3, 4, 5, 6, 8, 1, 2, 3, 4, 5, 6, 7, 8, 1, 2, 3, 4, 5, 6, 7, 8, 1, 2, 3, 4, 5, 6, 8, 1, 2, 3, 4, 5, 6, 7, 8, 1, 2, 3, 4, 2, 3, 7, 1, 2, 3, 4, 5, 6, 7, 8, 1, 2, 3, 5, 6, 7, 1, 2, 3, 4, 5, 6, 7, 8, 4, 5, 6, 8, 1, 2, 3, 5, 6, 7, 8, 1, 2, 3, 4, 5, 6, 7, 8, 1, 2, 3, 4, 5, 6, 7, 8, 3, 5, 7, 1, 2, 3, 4, 5, 6, 7, 8, 2, 3, 5, 6, 7, 1, 2, 3, 4, 5, 6, 7, 8, 1, 2, 3, 4, 5, 6, 7, 8, 1, 2, 3, 4, 5, 6, 7, 8, 1, 2, 3, 5, 6, 7, 8, 1, 2, 3, 4, 5, 6, 7, 1, 2, 3, 4, 5, 6, 7, 8, 1, 2, 3, 4, 5, 6, 7, 8, 1, 2, 3, 4, 5, 6, 7, 8, 1, 2, 3, 5, 6, 7, 8, 2, 3, 4, 5, 6, 7, 1, 2, 3, 4, 5, 6, 7, 8, 1, 2, 3, 4, 5, 6, 7, 8, 2, 4, 5, 1, 3, 4, 5, 8, 1, 2, 3, 4, 5, 6, 7, 8, 1, 2, 3, 4, 5, 6, 7, 8, 1, 2, 3, 4, 5, 7, 8, 1, 2, 3, 4, 5, 6, 7, 8, 2, 3, 4, 5, 6, 7, 8, 1, 2, 3, 4, 5, 6, 7, 1, 2, 3, 4, 5, 6, 7, 1, 2, 3, 4, 5, 6, 7, 1, 2, 3, 4, 5, 6, 7, 8, 1, 2, 3, 4, 5, 7, 8, 1, 2, 3, 4, 5, 7, 1, 3, 4, 5, 8, 1, 2, 3, 4, 5, 6, 7, 8, 2, 6, 8, 1, 2, 3, 4, 5, 6, 7, 8, 1, 2, 3, 4, 5, 6, 7, 8, 1, 2, 3, 4, 6, 8, 1, 2, 3, 4, 5, 6, 7, 8, 1, 2, 3, 4, 5, 6, 7, 8, 1, 2, 3, 4, 5, 6, 7, 8, 1, 2, 3, 4, 5, 6, 7, 8, 2, 3, 4, 5, 7, 8, 1, 2, 3, 4, 5, 6, 7, 1, 2, 3, 4, 5, 6, 7, 8, 1, 2, 3, 4, 5, 6, 8, 1, 2, 3, 4], \"Freq\": [0.03671746701002121, 0.11933176964521408, 0.14686986804008484, 0.05507620424032211, 0.5599414110183716, 0.03671746701002121, 0.009179366752505302, 0.027538102120161057, 0.04806428402662277, 0.5767714381217957, 0.04806428402662277, 0.04806428402662277, 0.09612856805324554, 0.1441928595304489, 0.10650531202554703, 0.053252656012773514, 0.053252656012773514, 0.61240553855896, 0.15975797176361084, 0.04686016961932182, 0.12183643877506256, 0.04686016961932182, 0.04686016961932182, 0.12183643877506256, 0.07497627288103104, 0.5060898065567017, 0.03748813644051552, 0.059828292578458786, 0.18853996694087982, 0.1598753035068512, 0.2672134339809418, 0.1274474859237671, 0.038395944982767105, 0.12136176228523254, 0.037308160215616226, 0.12897130846977234, 0.11083471775054932, 0.386913925409317, 0.09068295359611511, 0.032242827117443085, 0.11688024550676346, 0.08463741838932037, 0.04836424067616463, 0.07524142414331436, 0.07524142414331436, 0.6019313931465149, 0.07524142414331436, 0.15048284828662872, 0.09432017803192139, 0.12699803709983826, 0.07501053810119629, 0.12774071097373962, 0.1537344604730606, 0.10323231667280197, 0.2547387480735779, 0.06461303681135178, 0.10722584277391434, 0.32884669303894043, 0.09631623327732086, 0.05485973134636879, 0.14338339865207672, 0.07106828689575195, 0.15179938077926636, 0.04644374921917915, 0.2546614110469818, 0.16532455384731293, 0.09960547834634781, 0.34605202078819275, 0.02361779287457466, 0.05647733062505722, 0.031832676380872726, 0.021564071998000145, 0.17749565839767456, 0.07815106958150864, 0.11259052902460098, 0.0688789114356041, 0.3271748125553131, 0.06490512937307358, 0.09801998734474182, 0.07417728751897812, 0.10082501918077469, 0.10082501918077469, 0.10082501918077469, 0.10082501918077469, 0.5041251182556152, 0.0701175257563591, 0.05099456384778023, 0.09242764115333557, 0.04143308103084564, 0.5322557687759399, 0.04462024196982384, 0.08286616206169128, 0.08924048393964767, 0.10935971140861511, 0.027339927852153778, 0.054679855704307556, 0.04100989177823067, 0.2870692312717438, 0.03417490795254707, 0.07518479973077774, 0.3759239912033081, 0.8388167023658752, 0.05592111125588417, 0.05592111125588417, 0.1173623651266098, 0.0748397633433342, 0.15138043463230133, 0.3316762447357178, 0.03231717273592949, 0.05102711543440819, 0.030616268515586853, 0.2109120637178421, 0.250832736492157, 0.07686299830675125, 0.05124199762940407, 0.2429250329732895, 0.025620998814702034, 0.2337520718574524, 0.10121876001358032, 0.017713284119963646, 0.11641966551542282, 0.07450858503580093, 0.35071423649787903, 0.022992882877588272, 0.28639236092567444, 0.07654593139886856, 0.03870953619480133, 0.033470652997493744, 0.05641603097319603, 0.05260881409049034, 0.235701322555542, 0.024227742105722427, 0.04707104340195656, 0.031496066600084305, 0.44717490673065186, 0.10521762818098068, 0.11623275279998779, 0.11623275279998779, 0.11623275279998779, 0.581163763999939, 0.029058188199996948, 0.029058188199996948, 0.07126093655824661, 0.08907616883516312, 0.12470663338899612, 0.08907616883516312, 0.10689140111207962, 0.017815234139561653, 0.05344570055603981, 0.4631960690021515, 0.01474841684103012, 0.09586470574140549, 0.6167519688606262, 0.03620065748691559, 0.08647935092449188, 0.02480415441095829, 0.07441246509552002, 0.04960830882191658, 0.1229332908987999, 0.6761330962181091, 0.1229332908987999, 0.16473761200904846, 0.30794090032577515, 0.07429343461990356, 0.08021537214517593, 0.21911180019378662, 0.11197850853204727, 0.025302836671471596, 0.016689104959368706, 0.1654125154018402, 0.1372172087430954, 0.18176579475402832, 0.09078891575336456, 0.13402172923088074, 0.19060033559799194, 0.06654094159603119, 0.03364640846848488, 0.15282055735588074, 0.20101293921470642, 0.10399407148361206, 0.10716462135314941, 0.2561805248260498, 0.08623898774385452, 0.07799555361270905, 0.013316314667463303, 0.0400870181620121, 0.1168494001030922, 0.2055525928735733, 0.05885115638375282, 0.11002607643604279, 0.42219308018684387, 0.035822443664073944, 0.011087899096310139, 0.017215119674801826, 0.017215119674801826, 0.17215119302272797, 0.03443023934960365, 0.03443023934960365, 0.5508838295936584, 0.12050583213567734, 0.05164535716176033, 0.9522134065628052, 0.05069231986999512, 0.10701712220907211, 0.1351795196533203, 0.07322224229574203, 0.02816239930689335, 0.48439326882362366, 0.10701712220907211, 0.011264960281550884, 0.2731305658817291, 0.1969052255153656, 0.1669815331697464, 0.10972017049789429, 0.08324448019266129, 0.06206393614411354, 0.05455222725868225, 0.05332080274820328, 0.0174635611474514, 0.12723451852798462, 0.4790005385875702, 0.08981259912252426, 0.04241150617599487, 0.07983342558145523, 0.019958356395363808, 0.14719286561012268, 0.06865450739860535, 0.5492360591888428, 0.2746180295944214, 0.12192733585834503, 0.5235702991485596, 0.028688784688711166, 0.1506161242723465, 0.07889416068792343, 0.03586098179221153, 0.02151658944785595, 0.028688784688711166, 0.04678558185696602, 0.04678558185696602, 0.09357116371393204, 0.09357116371393204, 0.6549981832504272, 0.10191646218299866, 0.08306889981031418, 0.07399414479732513, 0.2980707585811615, 0.18498536944389343, 0.14310188591480255, 0.0698058009147644, 0.045373767614364624, 0.04265855625271797, 0.04265855625271797, 0.04265855625271797, 0.703866183757782, 0.1279756724834442, 0.021329278126358986, 0.03685295954346657, 0.20189377665519714, 0.3163142204284668, 0.11509203910827637, 0.023085566237568855, 0.24462305009365082, 0.03131242096424103, 0.030892685055732727, 0.08939633518457413, 0.02554181031882763, 0.08939633518457413, 0.5491489171981812, 0.10216724127531052, 0.03831271454691887, 0.02554181031882763, 0.06385452300310135, 0.20606645941734314, 0.11189661920070648, 0.1110721156001091, 0.22762128710746765, 0.036336954683065414, 0.12008274346590042, 0.14729128777980804, 0.03957606852054596, 0.2974057197570801, 0.018587857484817505, 0.576223611831665, 0.055763572454452515, 0.03717571496963501, 0.018587857484817505, 0.09745527058839798, 0.07309145480394363, 0.12181908637285233, 0.47509443759918213, 0.03654572740197182, 0.15836481750011444, 0.012181908823549747, 0.024363817647099495, 0.21800141036510468, 0.5068532824516296, 0.11445074528455734, 0.09810063987970352, 0.021800141781568527, 0.01635010540485382, 0.010900070890784264, 0.01635010540485382, 0.05386751517653465, 0.15082904696464539, 0.06464101374149323, 0.10311781615018845, 0.08772709220647812, 0.09696152806282043, 0.4294010400772095, 0.013851646333932877, 0.1219535768032074, 0.11075375974178314, 0.12527203559875488, 0.1161462664604187, 0.11946472525596619, 0.22441117465496063, 0.10826490819454193, 0.07300622016191483, 0.05398639291524887, 0.21594557166099548, 0.05398639291524887, 0.593850314617157, 0.12678185105323792, 0.0465116873383522, 0.25131314992904663, 0.03150791674852371, 0.3030761480331421, 0.0697675347328186, 0.09077280759811401, 0.08027017116546631, 0.09066268801689148, 0.09066268801689148, 0.04533134400844574, 0.18132537603378296, 0.5893074870109558, 0.04533134400844574, 0.26656681299209595, 0.022877002134919167, 0.063657745718956, 0.11239571124315262, 0.13925132155418396, 0.14124062657356262, 0.03381817787885666, 0.21981815993785858, 0.10881301015615463, 0.049460459500551224, 0.1945444792509079, 0.42206260561943054, 0.06924464553594589, 0.049460459500551224, 0.07254201173782349, 0.03627100586891174, 0.07655312865972519, 0.035107165575027466, 0.13262706995010376, 0.06094994395971298, 0.3500964641571045, 0.017553582787513733, 0.2701301574707031, 0.05656154826283455, 0.02114199474453926, 0.04228398948907852, 0.06342598795890808, 0.2114199548959732, 0.6342598795890808, 0.9177460670471191, 0.035297926515340805, 0.09336696565151215, 0.715813398361206, 0.031122321262955666, 0.09336696565151215, 0.06224464252591133, 0.01086500845849514, 0.38027530908584595, 0.17746180295944214, 0.16931304335594177, 0.03983836621046066, 0.01991918310523033, 0.18470513820648193, 0.01720293052494526, 0.04973757639527321, 0.05636925250291824, 0.20558197796344757, 0.10942266881465912, 0.06631676852703094, 0.4443223476409912, 0.05636925250291824, 0.013263353146612644, 0.2884458899497986, 0.2164691984653473, 0.12515047192573547, 0.09859727323055267, 0.07494201511144638, 0.08815121650695801, 0.04144724830985069, 0.06678735464811325, 0.20145824551582336, 0.09872788190841675, 0.1488923281431198, 0.05523424968123436, 0.15849827229976654, 0.09926154464483261, 0.10673284530639648, 0.13128140568733215, 0.05731668695807457, 0.10681746155023575, 0.08858033269643784, 0.03907955810427666, 0.4871918559074402, 0.08076442033052444, 0.04689547047019005, 0.0937909409403801, 0.27792778611183167, 0.09264259785413742, 0.5558555722236633, 0.10548257827758789, 0.11520074307918549, 0.10183826833963394, 0.45391929149627686, 0.09515703469514847, 0.011540320701897144, 0.10608996450901031, 0.010730473324656487, 0.08118115365505219, 0.14657709002494812, 0.04284561052918434, 0.09471134841442108, 0.031570449471473694, 0.020295288413763046, 0.5727781653404236, 0.006765096448361874, 0.2583440840244293, 0.1833266317844391, 0.0727979838848114, 0.2694413363933563, 0.08522690832614899, 0.03817455470561981, 0.05237903818488121, 0.04039400443434715, 0.7626041173934937, 0.1906510293483734, 0.7544201016426086, 0.0785854309797287, 0.01571708545088768, 0.11001960188150406, 0.01571708545088768, 0.01571708545088768, 0.21915203332901, 0.0547880083322525, 0.65745609998703, 0.13030211627483368, 0.16872453689575195, 0.091879703104496, 0.08770335465669632, 0.09104443341493607, 0.08185645937919617, 0.2798154652118683, 0.06765686720609665, 0.06357729434967041, 0.12715458869934082, 0.6357728838920593, 0.06357729434967041, 0.06357729434967041, 0.24340839684009552, 0.06761344522237778, 0.25346964597702026, 0.1397036761045456, 0.11547360569238663, 0.051367755979299545, 0.06369047611951828, 0.06530581414699554, 0.07043617963790894, 0.09294015169143677, 0.05988346412777901, 0.17609044909477234, 0.0577220655977726, 0.061409156769514084, 0.10908707231283188, 0.3726505935192108, 0.1710202544927597, 0.29038336873054504, 0.1283905804157257, 0.12237226217985153, 0.03393657132983208, 0.1365821659564972, 0.034103747457265854, 0.08325326442718506, 0.052292998880147934, 0.40911582112312317, 0.0487775057554245, 0.028123967349529266, 0.31859180331230164, 0.05119440704584122, 0.005932399071753025, 0.08590993285179138, 0.09075137972831726, 0.20487351715564728, 0.17846758663654327, 0.059185680001974106, 0.14356321096420288, 0.2270302027463913, 0.06707710772752762, 0.029137566685676575, 0.39690861105918884, 0.11841923743486404, 0.06724034994840622, 0.0906519666314125, 0.09419093281030655, 0.028311725705862045, 0.1143358126282692, 0.08956305682659149, 0.09242019057273865, 0.19538065791130066, 0.12584057450294495, 0.30039775371551514, 0.10386024415493011, 0.04704560711979866, 0.08162283897399902, 0.053472600877285004, 0.06572245806455612, 0.2714623212814331, 0.1100136786699295, 0.1378742903470993, 0.035004351288080215, 0.07215182483196259, 0.2907504439353943, 0.01714498922228813, 0.04613805562257767, 0.09227611124515533, 0.6459327936172485, 0.1384141743183136, 0.0642431229352951, 0.11013106256723404, 0.04588794335722923, 0.07342071086168289, 0.036710355430841446, 0.018355177715420723, 0.5873656868934631, 0.05506553128361702, 0.024637483060359955, 0.012318741530179977, 0.06159370765089989, 0.024637483060359955, 0.6159370541572571, 0.12318741530179977, 0.012318741530179977, 0.12318741530179977, 0.16099509596824646, 0.1676628142595291, 0.08437695354223251, 0.10644103586673737, 0.15105414390563965, 0.10050070285797119, 0.15881294012069702, 0.07007165998220444, 0.7098922729492188, 0.10022009164094925, 0.025055022910237312, 0.07516506314277649, 0.008351674303412437, 0.025055022910237312, 0.016703348606824875, 0.04175836965441704, 0.06633914262056351, 0.8624088168144226, 0.16184872388839722, 0.08092436194419861, 0.08092436194419861, 0.6473948955535889, 0.015237048268318176, 0.030474096536636353, 0.015237048268318176, 0.04571114480495453, 0.015237048268318176, 0.8075635433197021, 0.09142228960990906, 0.18543194234371185, 0.1729200929403305, 0.07442943006753922, 0.09432005137205124, 0.1145314946770668, 0.07378779351711273, 0.1607290655374527, 0.12383516877889633, 0.04236369952559471, 0.04236369952559471, 0.04236369952559471, 0.21181850135326385, 0.04236369952559471, 0.5507281422615051, 0.061903174966573715, 0.8666444420814514, 0.0712227150797844, 0.1424454301595688, 0.09496361762285233, 0.1424454301595688, 0.02374090440571308, 0.04748180881142616, 0.0712227150797844, 0.42733627557754517, 0.028207870200276375, 0.05641574040055275, 0.028207870200276375, 0.08462361246347427, 0.7616124749183655, 0.05641574040055275, 0.12374710291624069, 0.07919814437627792, 0.1497339904308319, 0.033411718904972076, 0.39351579546928406, 0.03959907218813896, 0.07919814437627792, 0.10271009802818298, 0.05744296312332153, 0.11488592624664307, 0.028721481561660767, 0.05744296312332153, 0.2584933340549469, 0.028721481561660767, 0.028721481561660767, 0.45954370498657227, 0.1877436637878418, 0.6571028232574463, 0.14080774784088135, 0.08138764649629593, 0.13039526343345642, 0.1050163209438324, 0.16058744490146637, 0.1290825605392456, 0.12689471244812012, 0.1986558735370636, 0.06869817525148392, 0.6636046767234802, 0.12442587316036224, 0.041475292295217514, 0.041475292295217514, 0.041475292295217514, 0.1721213459968567, 0.1955859363079071, 0.1211860254406929, 0.14107368886470795, 0.08956605941057205, 0.07482914626598358, 0.12032756209373474, 0.0855599045753479, 0.1076449602842331, 0.12319822609424591, 0.24844293296337128, 0.156351238489151, 0.07776632159948349, 0.059347983449697495, 0.16863012313842773, 0.05812009051442146, 0.32044094800949097, 0.0305181834846735, 0.07629545778036118, 0.01525909174233675, 0.061036366969347, 0.045777276158332825, 0.44251367449760437, 0.1735149323940277, 0.1749853938817978, 0.0764642059803009, 0.08430668711662292, 0.16273151338100433, 0.08087560534477234, 0.2014537751674652, 0.04509427398443222, 0.007037613075226545, 0.26273757219314575, 0.06099264696240425, 0.025804581120610237, 0.41521918773651123, 0.18766967952251434, 0.01407522615045309, 0.025804581120610237, 0.028351634740829468, 0.056703269481658936, 0.11340653896331787, 0.028351634740829468, 0.7087908387184143, 0.028351634740829468, 0.12017993628978729, 0.21563149988651276, 0.17342838644981384, 0.12463104724884033, 0.10468348115682602, 0.09578126668930054, 0.030168626457452774, 0.1353466808795929, 0.04943377524614334, 0.12756505608558655, 0.2269880473613739, 0.08294506371021271, 0.04721203073859215, 0.17588795721530914, 0.09479435533285141, 0.19532820582389832, 0.21540360152721405, 0.15771865844726562, 0.11885538697242737, 0.12687203288078308, 0.05437372624874115, 0.13279737532138824, 0.04182594269514084, 0.1523161381483078, 0.6914957761764526, 0.1382991522550583, 0.09219943732023239, 0.046099718660116196, 0.7047646045684814, 0.04404778778553009, 0.04404778778553009, 0.04404778778553009, 0.04404778778553009, 0.13214336335659027, 0.04404778778553009, 0.05850110948085785, 0.19782982766628265, 0.15091590583324432, 0.06104463338851929, 0.08337114751338959, 0.17776423692703247, 0.2656572163105011, 0.005087052937597036, 0.0754731297492981, 0.6792581677436829, 0.0754731297492981, 0.0754731297492981, 0.0754731297492981, 0.05639798939228058, 0.7331738471984863, 0.05639798939228058, 0.05639798939228058, 0.16539765894412994, 0.6615906357765198, 0.08269882947206497, 0.5805037021636963, 0.050478581339120865, 0.006309822667390108, 0.09464734047651291, 0.056788403540849686, 0.06940804421901703, 0.025239290669560432, 0.11357680708169937, 0.0828116312623024, 0.0414058156311512, 0.0207029078155756, 0.0207029078155756, 0.06210872158408165, 0.7660075426101685, 0.0207029078155756, 0.9012195467948914, 0.04506097733974457, 0.04506097733974457, 0.25294211506843567, 0.08536796271800995, 0.07272085547447205, 0.034779541194438934, 0.06323552876710892, 0.025294212624430656, 0.12330928444862366, 0.3414718508720398, 0.04453315585851669, 0.21441888809204102, 0.2127695232629776, 0.03958502784371376, 0.120404452085495, 0.3595639765262604, 0.006597504485398531, 0.0032987522426992655, 0.6935252547264099, 0.2774101197719574, 0.07482467591762543, 0.8230714201927185, 0.06104889512062073, 0.14651735126972198, 0.09767822921276093, 0.07325867563486099, 0.07325867563486099, 0.4883911609649658, 0.036629337817430496, 0.036629337817430496, 0.12434188276529312, 0.08289458602666855, 0.08289458602666855, 0.5802621245384216, 0.041447293013334274, 0.12881481647491455, 0.5152592658996582, 0.06440740823745728, 0.19322220981121063, 0.017297856509685516, 0.17874452471733093, 0.05189357325434685, 0.09802119433879852, 0.05765952542424202, 0.12108500301837921, 0.46127620339393616, 0.005765952635556459, 0.2341686636209488, 0.12036439776420593, 0.08471143990755081, 0.19680435955524445, 0.08043308556079865, 0.10524754226207733, 0.04335400089621544, 0.13491080701351166, 0.08161734789609909, 0.7345561385154724, 0.08161734789609909, 0.08161734789609909, 0.08855971693992615, 0.7970374226570129, 0.08855971693992615, 0.18998631834983826, 0.1376751959323883, 0.0696570947766304, 0.10093449801206589, 0.10530513525009155, 0.02021421492099762, 0.10639780014753342, 0.2698870897293091, 0.040961816906929016, 0.17750121653079987, 0.02730787917971611, 0.013653939589858055, 0.16384726762771606, 0.013653939589858055, 0.559811532497406, 0.13651858270168304, 0.13261805474758148, 0.06630902737379074, 0.0799608901143074, 0.17877434194087982, 0.0500568151473999, 0.24573345482349396, 0.1105150431394577, 0.12398942559957504, 0.04132980853319168, 0.5166226029396057, 0.08265961706638336, 0.06199471279978752, 0.02066490426659584, 0.12398942559957504, 0.02066490426659584, 0.03968936577439308, 0.07937873154878616, 0.07937873154878616, 0.5556511282920837, 0.15875746309757233, 0.07937873154878616, 0.0635959804058075, 0.03179799020290375, 0.25438392162323, 0.03179799020290375, 0.03179799020290375, 0.5405657887458801, 0.03179799020290375, 0.03179799020290375, 0.6750065088272095, 0.1350013017654419, 0.06750065088272095, 0.06750065088272095, 0.6325556039810181, 0.08785494416952133, 0.05271296948194504, 0.05271296948194504, 0.05271296948194504, 0.08785494416952133, 0.017570989206433296, 0.24508962035179138, 0.6739964485168457, 0.02961449697613716, 0.08884348720312119, 0.17768697440624237, 0.02961449697613716, 0.05922899395227432, 0.1480724811553955, 0.4442174434661865, 0.08914751559495926, 0.025004791095852852, 0.08045019954442978, 0.07066570967435837, 0.20221266150474548, 0.03587643802165985, 0.20438697934150696, 0.2924473285675049, 0.03081483766436577, 0.03081483766436577, 0.02054322510957718, 0.02054322510957718, 0.02054322510957718, 0.8628154397010803, 0.2473944127559662, 0.06184860318899155, 0.6184860467910767, 0.6521493792533875, 0.05434578284621239, 0.027172891423106194, 0.027172891423106194, 0.027172891423106194, 0.1902102380990982, 0.027172891423106194, 0.027172891423106194, 0.213194340467453, 0.0852777361869812, 0.0426388680934906, 0.0426388680934906, 0.6395830512046814, 0.15309500694274902, 0.1878202110528946, 0.15132072567939758, 0.07249201089143753, 0.12191838026046753, 0.06387408077716827, 0.13560567796230316, 0.11355391889810562, 0.12682215869426727, 0.10145772993564606, 0.05072886496782303, 0.05072886496782303, 0.05072886496782303, 0.05072886496782303, 0.5833819508552551, 0.025364432483911514, 0.07153923064470291, 0.0804816335439682, 0.053654421120882034, 0.08942403644323349, 0.14307846128940582, 0.026827210560441017, 0.500774621963501, 0.035769615322351456, 0.08291223645210266, 0.12436836212873459, 0.062184181064367294, 0.020728059113025665, 0.020728059113025665, 0.6840260028839111, 0.1422841101884842, 0.1422841101884842, 0.5691364407539368, 0.0711420550942421, 0.36569929122924805, 0.0870712623000145, 0.06965700536966324, 0.03482850268483162, 0.01741425134241581, 0.4179420471191406, 0.06012984737753868, 0.12025969475507736, 0.6614283323287964, 0.06012984737753868, 0.09982945024967194, 0.5989766716957092, 0.09982945024967194, 0.19965890049934387, 0.031886469572782516, 0.031886469572782516, 0.031886469572782516, 0.031886469572782516, 0.8609347343444824, 0.031886469572782516, 0.015941252931952477, 0.28694257140159607, 0.015941252931952477, 0.04782376065850258, 0.5738851428031921, 0.015941252931952477, 0.04782376065850258, 0.04332957789301872, 0.08665915578603745, 0.08665915578603745, 0.08665915578603745, 0.6066140532493591, 0.04332957789301872, 0.08665915578603745, 0.12822601199150085, 0.07616015523672104, 0.3234729468822479, 0.02603292465209961, 0.2777768671512604, 0.09056134521961212, 0.04154190421104431, 0.03627992793917656, 0.23397551476955414, 0.10635250806808472, 0.06381150335073471, 0.042541004717350006, 0.021270502358675003, 0.5104920268058777, 0.17489545047283173, 0.04372386261820793, 0.6558579802513123, 0.04372386261820793, 0.07768134772777557, 0.5437694191932678, 0.23304404318332672, 0.15536269545555115, 0.07768134772777557, 0.09241532534360886, 0.1826302856206894, 0.08911477774381638, 0.0968160554766655, 0.11221861094236374, 0.10891806334257126, 0.27724599838256836, 0.04180693253874779, 0.08514485508203506, 0.01419080886989832, 0.05676323547959328, 0.01419080886989832, 0.6953496336936951, 0.09933566302061081, 0.01419080886989832, 0.02838161773979664, 0.35793426632881165, 0.35793426632881165, 0.08410477638244629, 0.15908190608024597, 0.009127650409936905, 0.007823700085282326, 0.003911850042641163, 0.020211225375533104, 0.02079414203763008, 0.29111799597740173, 0.033790480345487595, 0.08577583730220795, 0.10137144476175308, 0.0077978032641112804, 0.4444747865200043, 0.012996339239180088, 0.059575289487838745, 0.2356533706188202, 0.05295581370592117, 0.142980694770813, 0.08472929894924164, 0.0714903473854065, 0.29655253887176514, 0.05692749843001366, 0.0257551372051239, 0.09079437702894211, 0.6132127642631531, 0.07425897568464279, 0.04048667475581169, 0.03778088092803955, 0.02144591137766838, 0.09630617499351501, 0.03388023376464844, 0.1548810601234436, 0.0774405300617218, 0.45980316400527954, 0.15972109138965607, 0.048400331288576126, 0.048400331288576126, 0.014520099386572838, 0.5216845273971558, 0.06639621406793594, 0.18970346450805664, 0.09959432482719421, 0.004742586985230446, 0.02371293306350708, 0.09485173225402832, 0.2368459701538086, 0.19088715314865112, 0.046445153653621674, 0.08316357433795929, 0.11599130183458328, 0.046445153653621674, 0.20888160169124603, 0.07149149477481842, 0.1528220772743225, 0.15039633214473724, 0.13826759159564972, 0.07762391120195389, 0.08732689917087555, 0.03396046161651611, 0.07519816607236862, 0.2862381637096405, 0.7031848430633545, 0.043949052691459656, 0.17579621076583862, 0.043949052691459656, 0.664281964302063, 0.10219722241163254, 0.05109861120581627, 0.12774652242660522, 0.05109861120581627, 0.025549305602908134, 0.2699037194252014, 0.025799619033932686, 0.021830447018146515, 0.017861275002360344, 0.3989018201828003, 0.10121389478445053, 0.025799619033932686, 0.13693644106388092, 0.05053509399294853, 0.05053509399294853, 0.04042807221412659, 0.06064211204648018, 0.5761000514030457, 0.1516052782535553, 0.05053509399294853, 0.03032105602324009, 0.04519017040729523, 0.1807606816291809, 0.13557051122188568, 0.04519017040729523, 0.5422820448875427, 0.04519017040729523, 0.07779945433139801, 0.10002787411212921, 0.45568251609802246, 0.07779945433139801, 0.07779945433139801, 0.10002787411212921, 0.022228416055440903, 0.07779945433139801, 0.09415466338396072, 0.04707733169198036, 0.04707733169198036, 0.04707733169198036, 0.04707733169198036, 0.5649279952049255, 0.09415466338396072, 0.04707733169198036, 0.053339883685112, 0.106679767370224, 0.106679767370224, 0.053339883685112, 0.026669941842556, 0.640078604221344, 0.7362065315246582, 0.08413788676261902, 0.021034471690654755, 0.06310341507196426, 0.06310341507196426, 0.4263021945953369, 0.14030198752880096, 0.06410721689462662, 0.12713518738746643, 0.07856911420822144, 0.01791548542678356, 0.11029894649982452, 0.03561512008309364, 0.3477838337421417, 0.0975266844034195, 0.09605458378791809, 0.16929160058498383, 0.15641072392463684, 0.013248908333480358, 0.07838936895132065, 0.04085079953074455, 0.673490047454834, 0.1443192958831787, 0.04810643196105957, 0.09621286392211914, 0.04810643196105957, 0.027972731739282608, 0.11189092695713043, 0.47553643584251404, 0.027972731739282608, 0.027972731739282608, 0.2797273099422455, 0.055945463478565216, 0.19851042330265045, 0.18726149201393127, 0.1888054609298706, 0.0963878333568573, 0.14976508915424347, 0.08072756975889206, 0.029335428029298782, 0.06947864592075348, 0.22253930568695068, 0.2280115783214569, 0.10452050715684891, 0.09758895635604858, 0.1061621904373169, 0.1393606811761856, 0.05435796082019806, 0.047426410019397736, 0.5540958046913147, 0.3166261613368988, 0.0791565403342247, 0.07113279402256012, 0.059277329593896866, 0.5572068691253662, 0.05334959551692009, 0.029638664796948433, 0.1304101198911667, 0.01778319850564003, 0.08891598880290985, 0.2282981127500534, 0.4565962255001068, 0.1141490563750267, 0.1141490563750267, 0.12793120741844177, 0.14859363436698914, 0.15914466977119446, 0.14068037271499634, 0.08616672456264496, 0.2224508374929428, 0.03560971841216087, 0.07957233488559723, 0.08361995965242386, 0.4858425259590149, 0.10373108834028244, 0.09949716180562973, 0.06350883096456528, 0.0910293236374855, 0.04551466181874275, 0.028578972443938255, 0.2513777017593384, 0.03591110184788704, 0.07182220369577408, 0.03591110184788704, 0.5745776295661926, 0.13278445601463318, 0.07216546684503555, 0.10680489242076874, 0.1443309336900711, 0.02597956731915474, 0.383920282125473, 0.11546474695205688, 0.020206330344080925, 0.13886110484600067, 0.06943055242300034, 0.5554444193840027, 0.13886110484600067, 0.06943055242300034, 0.29310619831085205, 0.17066256701946259, 0.13084129989147186, 0.1424897015094757, 0.04198841005563736, 0.09941771626472473, 0.07151574641466141, 0.04984430596232414, 0.0399901308119297, 0.09790687263011932, 0.17650817334651947, 0.17650817334651947, 0.04274807125329971, 0.3488794267177582, 0.07860129326581955, 0.0399901308119297, 0.03640252724289894, 0.13347592949867249, 0.044491976499557495, 0.06471560150384903, 0.04853670299053192, 0.6431112885475159, 0.01213417574763298, 0.016178900375962257, 0.14478130638599396, 0.02895626239478588, 0.02895626239478588, 0.11582504957914352, 0.05791252478957176, 0.5501689910888672, 0.05791252478957176, 0.31970709562301636, 0.18188613653182983, 0.11110055446624756, 0.10360009968280792, 0.08672406524419785, 0.10031864792108536, 0.062347568571567535, 0.03515840321779251, 0.10232000052928925, 0.2046400010585785, 0.10232000052928925, 0.10232000052928925, 0.10232000052928925, 0.409280002117157, 0.0296938456594944, 0.04241978004574776, 0.05090373381972313, 0.1484692245721817, 0.0593876913189888, 0.033935822546482086, 0.5684250593185425, 0.07211362570524216, 0.13486137986183167, 0.18634071946144104, 0.035527996718883514, 0.0891825258731842, 0.09570807218551636, 0.029727507382631302, 0.41328486800193787, 0.01595134660601616, 0.14038163423538208, 0.04679387807846069, 0.04679387807846069, 0.09358775615692139, 0.04679387807846069, 0.608320415019989, 0.04679387807846069, 0.028216928243637085, 0.1542525440454483, 0.13356013596057892, 0.37810686230659485, 0.06772062927484512, 0.09217530488967896, 0.12227336317300797, 0.022573543712496758, 0.08796250075101852, 0.6157374978065491, 0.08796250075101852, 0.08796250075101852, 0.08796250075101852, 0.04651699960231781, 0.04651699960231781, 0.18606799840927124, 0.6977550387382507, 0.034051720052957535, 0.06810344010591507, 0.8172412514686584, 0.034051720052957535, 0.10293759405612946, 0.6176255941390991, 0.10293759405612946, 0.10293759405612946, 0.10293759405612946, 0.04002896696329117, 0.04002896696329117, 0.06004345044493675, 0.10007241368293762, 0.020014483481645584, 0.6804924607276917, 0.04002896696329117, 0.2206648886203766, 0.40640440583229065, 0.057150620967149734, 0.06350068747997284, 0.09207599610090256, 0.07937586307525635, 0.026987792924046516, 0.05238806828856468, 0.10236815363168716, 0.25351086258888245, 0.06366977840662003, 0.17348553240299225, 0.1937839239835739, 0.03811424598097801, 0.12076812982559204, 0.05432375520467758, 0.014166489243507385, 0.6743249297142029, 0.05666595697402954, 0.08499893546104431, 0.0906655341386795, 0.011333191767334938, 0.05666595697402954, 0.014166489243507385, 0.042056772857904434, 0.5134838223457336, 0.0919380635023117, 0.048903223127126694, 0.044012900441884995, 0.07433290034532547, 0.17311741411685944, 0.011736773885786533, 0.1454285830259323, 0.035997174680233, 0.06623479723930359, 0.08495333045721054, 0.4218868911266327, 0.1411089152097702, 0.08351344615221024, 0.020158417522907257, 0.7797632217407227, 0.048735201358795166, 0.048735201358795166, 0.048735201358795166, 0.10281495749950409, 0.10281495749950409, 0.5140748023986816, 0.10281495749950409, 0.10281495749950409, 0.10281495749950409, 0.16437628865242004, 0.08218814432621002, 0.04109407216310501, 0.6575051546096802, 0.04109407216310501, 0.041975658386945724, 0.06296348571777344, 0.020987829193472862, 0.041975658386945724, 0.8395131230354309, 0.16154873371124268, 0.023078391328454018, 0.5308030247688293, 0.03077118843793869, 0.14616315066814423, 0.0692351758480072, 0.023078391328454018, 0.023078391328454018, 0.3458603620529175, 0.18476426601409912, 0.0771123543381691, 0.12063121050596237, 0.0855107307434082, 0.01908721774816513, 0.09925352782011032, 0.06718700379133224, 0.055085744708776474, 0.24788585305213928, 0.027542872354388237, 0.027542872354388237, 0.027542872354388237, 0.6059432029724121, 0.7274007797241211, 0.05819205939769745, 0.029096029698848724, 0.14548015594482422, 0.3011276125907898, 0.6022552251815796, 0.22235207259655, 0.17426402866840363, 0.1285289078950882, 0.11999953538179398, 0.11176427453756332, 0.06470563262701035, 0.05808800831437111, 0.11999953538179398, 0.4101856052875519, 0.09272008389234543, 0.0483756959438324, 0.11892358958721161, 0.04333656281232834, 0.0483756959438324, 0.17032276093959808, 0.06853223592042923, 0.08469648659229279, 0.04234824329614639, 0.7199200987815857, 0.04234824329614639, 0.08469648659229279, 0.07082617282867432, 0.14165234565734863, 0.6374355554580688, 0.10657558590173721, 0.07993169128894806, 0.47959014773368835, 0.23979507386684418, 0.013321948237717152, 0.026643896475434303, 0.05328779295086861, 0.020883528515696526, 0.04176705703139305, 0.04176705703139305, 0.020883528515696526, 0.020883528515696526, 0.0835341140627861, 0.10441764444112778, 0.6891564130783081, 0.11889427155256271, 0.03396979346871376, 0.039631422609090805, 0.039631422609090805, 0.11889427155256271, 0.12455590069293976, 0.5152084827423096, 0.01698489673435688, 0.24665839970111847, 0.17618456482887268, 0.035236913710832596, 0.035236913710832596, 0.035236913710832596, 0.45807987451553345, 0.06460098922252655, 0.19380296766757965, 0.6460099220275879, 0.06460098922252655, 0.17420761287212372, 0.24873368442058563, 0.12366154789924622, 0.1558699756860733, 0.12507213652133942, 0.08063860982656479, 0.07335057109594345, 0.018572742119431496, 0.013406964018940926, 0.10457431524991989, 0.04290228337049484, 0.02681392803788185, 0.04290228337049484, 0.02681392803788185, 0.6917993426322937, 0.0536278560757637, 0.7175895571708679, 0.11330361664295197, 0.012589290738105774, 0.06294645369052887, 0.025178581476211548, 0.03776787221431732, 0.012589290738105774, 0.025178581476211548, 0.026963206008076668, 0.14942605793476105, 0.32712191343307495, 0.1589284986257553, 0.021142955869436264, 0.08920426666736603, 0.03349614143371582, 0.19373123347759247, 0.6586081981658936, 0.04390721395611763, 0.08781442791223526, 0.1317216455936432, 0.04390721395611763, 0.13877005875110626, 0.2761736810207367, 0.11903252452611923, 0.09048901498317719, 0.13148236274719238, 0.04676277935504913, 0.08593419939279556, 0.11128933727741241, 0.04630289599299431, 0.2259020060300827, 0.1245267242193222, 0.3812973201274872, 0.08734409511089325, 0.06805122643709183, 0.04595211520791054, 0.020345211029052734, 0.13046057522296906, 0.15598547458648682, 0.15801125764846802, 0.272670716047287, 0.11668524146080017, 0.07779016345739365, 0.057937461882829666, 0.030791938304901123, 0.07441800832748413, 0.07441800832748413, 0.595344066619873, 0.2976720333099365, 0.6077156662940979, 0.13504792749881744, 0.13504792749881744, 0.06752396374940872, 0.03259270265698433, 0.07333358377218246, 0.06925949454307556, 0.304741770029068, 0.06029650196433067, 0.4220755100250244, 0.029333433136343956, 0.008148175664246082, 0.04872541129589081, 0.06090676411986351, 0.06090676411986351, 0.07308811694383621, 0.09745082259178162, 0.6334303617477417, 0.012181352823972702, 0.04473892226815224, 0.134216770529747, 0.536867082118988, 0.04473892226815224, 0.134216770529747, 0.08947784453630447, 0.04473892226815224, 0.19156917929649353, 0.17439401149749756, 0.4210118055343628, 0.04976394772529602, 0.017615556716918945, 0.0717833936214447, 0.04491966962814331, 0.02906566858291626, 0.18476073443889618, 0.2746947109699249, 0.14235663414001465, 0.08294428884983063, 0.10135046392679214, 0.061276257038116455, 0.06733398884534836, 0.08550716936588287, 0.18942086398601532, 0.694543182849884, 0.06314028799533844, 0.07705873996019363, 0.539411187171936, 0.30823495984077454, 0.07705873996019363, 0.07695569843053818, 0.07695569843053818, 0.07695569843053818, 0.15391139686107635, 0.6156455874443054, 0.13660629093647003, 0.06830314546823502, 0.13660629093647003, 0.5464251637458801, 0.041180167347192764, 0.07612091302871704, 0.35564690828323364, 0.041180167347192764, 0.14101088047027588, 0.03244497999548912, 0.057402659207582474, 0.2533204257488251, 0.34651318192481995, 0.04076625779271126, 0.02797684259712696, 0.09552093595266342, 0.25898563861846924, 0.016786105930805206, 0.08712787926197052, 0.12589579820632935, 0.1697864830493927, 0.6791459321975708, 0.05659549683332443, 0.11319099366664886, 0.21735559403896332, 0.02774752303957939, 0.04532095417380333, 0.05641996115446091, 0.4643085300922394, 0.04162128269672394, 0.07676814496517181, 0.07029372453689575, 0.03202804550528526, 0.06280824542045593, 0.25580841302871704, 0.09608413279056549, 0.046170298010110855, 0.4226038157939911, 0.022877173498272896, 0.061144448816776276, 0.12427815049886703, 0.683529794216156, 0.12427815049886703, 0.04091665521264076, 0.28641659021377563, 0.49099984765052795, 0.04091665521264076, 0.04091665521264076, 0.04091665521264076, 0.07735215872526169, 0.07735215872526169, 0.07735215872526169, 0.5414651036262512, 0.07735215872526169, 0.3002496659755707, 0.08578561991453171, 0.5576065182685852, 0.3570705056190491, 0.09984879195690155, 0.0935351699590683, 0.14381031692028046, 0.0682806745171547, 0.11551593244075775, 0.06757915765047073, 0.05425039678812027, 0.10592930763959885, 0.10113111883401871, 0.27644965052604675, 0.19192767143249512, 0.0348791629076004, 0.17236581444740295, 0.047797370702028275, 0.0693892315030098, 0.08074694871902466, 0.05713672935962677, 0.21296417713165283, 0.16149389743804932, 0.036831941455602646, 0.35698652267456055, 0.053831301629543304, 0.04013737291097641, 0.24513472616672516, 0.11331883072853088, 0.2459135502576828, 0.10786706954240799, 0.10689353942871094, 0.062305890023708344, 0.05179176852107048, 0.06678412109613419, 0.08037803322076797, 0.026792678982019424, 0.035723570734262466, 0.09823982417583466, 0.08037803322076797, 0.05358535796403885, 0.04465446621179581, 0.5894389152526855, 0.6910569667816162, 0.1974448561668396, 0.05336591601371765, 0.26682958006858826, 0.1067318320274353, 0.5336591601371765, 0.02991829253733158, 0.28370794653892517, 0.09697653353214264, 0.3033095896244049, 0.10007153451442719, 0.04745660349726677, 0.13102148473262787, 0.00825332198292017, 0.11635560542345047, 0.8144892454147339, 0.2309383749961853, 0.1887238323688507, 0.11940093338489532, 0.16306401789188385, 0.08339441567659378, 0.12147027254104614, 0.04387001320719719, 0.049250297248363495, 0.07179869711399078, 0.5743895769119263, 0.07179869711399078, 0.07179869711399078, 0.14359739422798157, 0.09346822649240494, 0.18693645298480988, 0.6542775630950928, 0.09346822649240494, 0.1402239352464676, 0.08890486508607864, 0.23202002048492432, 0.1727501004934311, 0.09324168413877487, 0.0874592587351799, 0.089989073574543, 0.09577149897813797, 0.24338872730731964, 0.30317139625549316, 0.09589073061943054, 0.08975917100906372, 0.12194984406232834, 0.03644869849085808, 0.06097492203116417, 0.048541489988565445, 0.6187810897827148, 0.06875345855951309, 0.06875345855951309, 0.06875345855951309, 0.06875345855951309, 0.14703935384750366, 0.06841280311346054, 0.2715314030647278, 0.0830589309334755, 0.24840593338012695, 0.09886132180690765, 0.0418185330927372, 0.04085497185587883, 0.10919468849897385, 0.17987416684627533, 0.144636869430542, 0.2296571135520935, 0.14033463597297668, 0.029296135529875755, 0.13746647536754608, 0.02950100228190422, 0.050875987857580185, 0.15262795984745026, 0.5596358776092529, 0.15262795984745026, 0.050875987857580185, 0.18930837512016296, 0.06351794302463531, 0.061442188918590546, 0.13118737936019897, 0.2926807105541229, 0.1008814349770546, 0.05313919112086296, 0.1075238287448883, 0.6249012351036072, 0.1041501984000206, 0.1041501984000206, 0.060156527906656265, 0.12890684604644775, 0.35406413674354553, 0.14953194558620453, 0.05500025302171707, 0.15468820929527283, 0.06703156232833862, 0.030937643721699715, 0.07509168237447739, 0.6382793188095093, 0.15018336474895477, 0.03754584118723869, 0.03754584118723869, 0.03754584118723869, 0.5625141859054565, 0.06158914044499397, 0.04927131533622742, 0.07390697300434113, 0.1437079906463623, 0.04927131533622742, 0.02463565766811371, 0.03284754231572151, 0.8277154564857483, 0.025866108015179634, 0.025866108015179634, 0.025866108015179634, 0.07759832590818405, 0.006818694993853569, 0.10228043049573898, 0.6205012798309326, 0.013637389987707138, 0.06136825680732727, 0.006818694993853569, 0.17046737670898438, 0.006818694993853569, 0.1414480060338974, 0.04714933782815933, 0.04714933782815933, 0.04714933782815933, 0.6600907444953918, 0.04714933782815933, 0.15216583013534546, 0.07608291506767273, 0.038041457533836365, 0.038041457533836365, 0.6086633205413818, 0.019020728766918182, 0.05706218630075455, 0.11137526482343674, 0.1781214326620102, 0.15205489099025726, 0.1366519182920456, 0.06556132435798645, 0.25711098313331604, 0.041074566543102264, 0.058452267199754715, 0.13422319293022156, 0.12010535597801208, 0.3167687952518463, 0.14154161512851715, 0.06020839139819145, 0.12472479045391083, 0.053928032517433167, 0.04853003844618797, 0.04106757044792175, 0.3696081340312958, 0.04106757044792175, 0.0821351408958435, 0.4517432749271393, 0.061844781041145325, 0.1490447074174881, 0.19321955740451813, 0.16998237371444702, 0.017609424889087677, 0.2607526183128357, 0.036792200058698654, 0.11080019176006317, 0.08809927850961685, 0.14929576218128204, 0.09637705981731415, 0.26873236894607544, 0.03163296356797218, 0.2572025954723358, 0.07110025733709335, 0.037545666098594666, 0.039846379309892654, 0.06641063094139099, 0.06525566428899765, 0.029451671987771988, 0.028874188661575317, 0.007507288828492165, 0.7605461478233337, 0.0023099351674318314, 0.011031771078705788, 0.816351056098938, 0.06619062274694443, 0.022063542157411575, 0.04412708431482315, 0.033095311373472214, 0.11978477984666824, 0.08822471648454666, 0.28547510504722595, 0.13197843730449677, 0.043753720819950104, 0.1879258155822754, 0.05738193169236183, 0.08535562455654144, 0.1990867704153061, 0.06636225432157516, 0.06636225432157516, 0.6636225581169128, 0.08861428499221802, 0.08861428499221802, 0.17722856998443604, 0.08861428499221802, 0.4430714249610901, 0.2566196620464325, 0.237156480550766, 0.12005025148391724, 0.12626539170742035, 0.053973544389009476, 0.06967493891716003, 0.060679350048303604, 0.0755629613995552, 0.198567733168602, 0.5957032442092896, 0.066189244389534, 0.066189244389534, 0.12873238325119019, 0.06741190701723099, 0.1796974092721939, 0.10741235315799713, 0.18781933188438416, 0.04527968540787697, 0.08365574479103088, 0.20000220835208893, 0.1329803168773651, 0.7092283368110657, 0.044326771050691605, 0.044326771050691605, 0.044326771050691605, 0.07771869003772736, 0.11657803505659103, 0.03885934501886368, 0.777186930179596, 0.05718137323856354, 0.10177234560251236, 0.14006812870502472, 0.1484617292881012, 0.09442795068025589, 0.19934789836406708, 0.21036449074745178, 0.048263177275657654, 0.053056538105010986, 0.8489046096801758, 0.053056538105010986, 0.05651259049773216, 0.7911762595176697, 0.05651259049773216, 0.05651259049773216, 0.11664417386054993, 0.054433949291706085, 0.0699865072965622, 0.11664417386054993, 0.09331534057855606, 0.48990553617477417, 0.03110511228442192, 0.03110511228442192, 0.30459272861480713, 0.05149589106440544, 0.12600058317184448, 0.04492194950580597, 0.1347658485174179, 0.03725234791636467, 0.07888732105493546, 0.2224184274673462, 0.051617491990327835, 0.13436934351921082, 0.24170096218585968, 0.07046197354793549, 0.10159633308649063, 0.3506712317466736, 0.04096626490354538, 0.009012578055262566, 0.16407042741775513, 0.08203521370887756, 0.6562817096710205, 0.14047087728977203, 0.14582215249538422, 0.04758809134364128, 0.11543457210063934, 0.2524653375148773, 0.04930814355611801, 0.1689472794532776, 0.08007795363664627, 0.1889379471540451, 0.03778759017586708, 0.1889379471540451, 0.03778759017586708, 0.03778759017586708, 0.49123868346214294, 0.09666989743709564, 0.47489088773727417, 0.10512851178646088, 0.09304478019475937, 0.07371079921722412, 0.09546152502298355, 0.04350145533680916, 0.016917232424020767, 0.0792662650346756, 0.7133963704109192, 0.0792662650346756, 0.0792662650346756, 0.19699294865131378, 0.14074662327766418, 0.09954291582107544, 0.0944415032863617, 0.16115225851535797, 0.1463712453842163, 0.08606995642185211, 0.07482068985700607, 0.039132919162511826, 0.039132919162511826, 0.11739876121282578, 0.19566459953784943, 0.5869938135147095, 0.10839059203863144, 0.05419529601931572, 0.05419529601931572, 0.05419529601931572, 0.7045388221740723, 0.0725836530327797, 0.1645229458808899, 0.05322800949215889, 0.18629802763462067, 0.058066919445991516, 0.36533769965171814, 0.050808556377887726, 0.050808556377887726, 0.05426711589097977, 0.11903754621744156, 0.08490177989006042, 0.21269208192825317, 0.09890619665384293, 0.3299790620803833, 0.07702429592609406, 0.023632453754544258, 0.024719033390283585, 0.0382637083530426, 0.10768017172813416, 0.13036750257015228, 0.0480835996568203, 0.6142510175704956, 0.01963977888226509, 0.016930844634771347, 0.07575976848602295, 0.8333574533462524, 0.6640824675559998, 0.10902846604585648, 0.05947007238864899, 0.009911678731441498, 0.10902846604585648, 0.029735036194324493, 0.009911678731441498, 0.009911678731441498, 0.17096476256847382, 0.06216900423169136, 0.09325350821018219, 0.17096476256847382, 0.03108450211584568, 0.07771125435829163, 0.4040985405445099, 0.11007487028837204, 0.05503743514418602, 0.02751871757209301, 0.08255615830421448, 0.30270591378211975, 0.38526207208633423, 0.14034204185009003, 0.20018677413463593, 0.15567810833454132, 0.12193875759840012, 0.11341872811317444, 0.07552160322666168, 0.0469624400138855, 0.1459311842918396, 0.14793694019317627, 0.04602482542395592, 0.06903724372386932, 0.06574974954128265, 0.13478699326515198, 0.042737338691949844, 0.14136196672916412, 0.35504865646362305, 0.07011934369802475, 0.1502557396888733, 0.5910059213638306, 0.12020459026098251, 0.010017049498856068, 0.04006819799542427, 0.010017049498856068, 0.34420400857925415, 0.05961703136563301, 0.10376738011837006, 0.04864974692463875, 0.11642193794250488, 0.11248496919870377, 0.03290185332298279, 0.18138201534748077, 0.18174207210540771, 0.1355450600385666, 0.15128250420093536, 0.11092358082532883, 0.1243765577673912, 0.055081047117710114, 0.16016654670238495, 0.08071784675121307, 0.11534260958433151, 0.7497270107269287, 0.11534260958433151, 0.06697288900613785, 0.569269597530365, 0.1339457780122757, 0.20091867446899414, 0.054524004459381104, 0.5997640490531921, 0.21809601783752441, 0.054524004459381104, 0.054524004459381104, 0.054524004459381104, 0.11682968586683273, 0.05841484293341637, 0.6425632834434509, 0.05841484293341637, 0.05841484293341637, 0.07421638071537018, 0.22264914214611053, 0.07421638071537018, 0.07421638071537018, 0.5937310457229614, 0.06288193166255951, 0.2993070185184479, 0.2666303813457489, 0.10873906314373016, 0.07166893035173416, 0.027459358796477318, 0.14553460478782654, 0.017848582938313484, 0.23961234092712402, 0.026623593643307686, 0.026623593643307686, 0.06803807616233826, 0.5413464307785034, 0.0236654169857502, 0.03549812361598015, 0.038456302136182785, 0.04604177922010422, 0.43844538927078247, 0.09016895294189453, 0.15225698053836823, 0.04740935564041138, 0.037836313247680664, 0.17049133777618408, 0.017231477424502373, 0.07915640622377396, 0.03957820311188698, 0.09234913438558578, 0.5540947914123535, 0.07915640622377396, 0.03957820311188698, 0.03957820311188698, 0.07915640622377396, 0.10105497390031815, 0.26826369762420654, 0.14135006070137024, 0.09788213670253754, 0.1223130077123642, 0.07472039759159088, 0.1234235018491745, 0.07107163220643997, 0.20274777710437775, 0.13563860952854156, 0.10794277489185333, 0.15268221497535706, 0.12605158984661102, 0.047935113310813904, 0.08663827925920486, 0.14025458693504333, 0.08258791267871857, 0.20041334629058838, 0.06221622973680496, 0.07708205282688141, 0.14700649678707123, 0.05615978315472603, 0.14150062203407288, 0.23344850540161133, 0.7461346387863159, 0.021318132057785988, 0.042636264115571976, 0.021318132057785988, 0.06395439803600311, 0.042636264115571976, 0.08527252823114395, 0.7586545348167419, 0.04894545301795006, 0.02447272650897503, 0.07341818511486053, 0.04894545301795006, 0.02447272650897503, 0.08845522999763489, 0.13268284499645233, 0.022113807499408722, 0.08845522999763489, 0.5749589800834656, 0.022113807499408722, 0.022113807499408722, 0.044227614998817444, 0.03218012675642967, 0.1287205070257187, 0.5148820281028748, 0.06436025351285934, 0.09654037654399872, 0.06436025351285934, 0.06436025351285934, 0.06436025351285934, 0.14352935552597046, 0.07176467776298523, 0.502352774143219, 0.07176467776298523, 0.14352935552597046, 0.035882338881492615, 0.3447359502315521, 0.10376381129026413, 0.057170141488313675, 0.2098144143819809, 0.07860894501209259, 0.0703192725777626, 0.019723698496818542, 0.11548368632793427, 0.13243964314460754, 0.08414256572723389, 0.157720148563385, 0.10527253150939941, 0.10300860553979874, 0.023771217092871666, 0.093198262155056, 0.2999701201915741, 0.3246152102947235, 0.08115380257368088, 0.5680766105651855, 0.0864119604229927, 0.0864119604229927, 0.0864119604229927, 0.5184717774391174, 0.18384787440299988, 0.09192393720149994, 0.09192393720149994, 0.030641313642263412, 0.4902610182762146, 0.030641313642263412, 0.030641313642263412, 0.03360152617096901, 0.23521070182323456, 0.6720305681228638, 0.03360152617096901, 0.027370363473892212, 0.11860490590333939, 0.18246908485889435, 0.0729876384139061, 0.08211109042167664, 0.10948145389556885, 0.009123454801738262, 0.38318508863449097, 0.335624635219574, 0.18939605355262756, 0.1464288979768753, 0.06249769404530525, 0.08723636716604233, 0.0710110068321228, 0.03535526618361473, 0.07241319864988327, 0.039782166481018066, 0.19694142043590546, 0.11343826353549957, 0.44823870062828064, 0.07917045056819916, 0.05553748086094856, 0.05474971607327461, 0.011816485784947872, 0.6471384167671204, 0.03405991569161415, 0.03405991569161415, 0.0681198313832283, 0.03405991569161415, 0.03405991569161415, 0.03405991569161415, 0.1362396627664566, 0.07756859809160233, 0.6900373101234436, 0.05656043440103531, 0.03232024982571602, 0.050096385180950165, 0.07110454887151718, 0.0016160124214366078, 0.022624174132943153, 0.17354220151901245, 0.014461849816143513, 0.014461849816143513, 0.014461849816143513, 0.7230924963951111, 0.028923699632287025, 0.028923699632287025, 0.014116289094090462, 0.09881401807069778, 0.028232578188180923, 0.014116289094090462, 0.15527917444705963, 0.08469773083925247, 0.5787678360939026, 0.042348865419626236, 0.18661826848983765, 0.2360573261976242, 0.1044471263885498, 0.09103607386350632, 0.09865082800388336, 0.10922055691480637, 0.07967077195644379, 0.0943320095539093, 0.5235040783882141, 0.10470081120729446, 0.10470081120729446, 0.10470081120729446, 0.10777977854013443, 0.18023031949996948, 0.1674298644065857, 0.09536334127187729, 0.10086753964424133, 0.06029011309146881, 0.06016210839152336, 0.2277199774980545, 0.08582402020692825, 0.08582402020692825, 0.1430400311946869, 0.11443202197551727, 0.057216010987758636, 0.5149441361427307, 0.4328453540802002, 0.03607044741511345, 0.044268276542425156, 0.07378045469522476, 0.16231700778007507, 0.026233050972223282, 0.06558262556791306, 0.1606774479150772, 0.8287703394889832, 0.0460427962243557, 0.0460427962243557, 0.0460427962243557, 0.0460427962243557, 0.0460427962243557, 0.7179784774780273, 0.04487365484237671, 0.08974730968475342, 0.08974730968475342, 0.08974730968475342, 0.10826017707586288, 0.11341542750597, 0.043819595128297806, 0.05928533524274826, 0.023198610171675682, 0.5593442320823669, 0.023198610171675682, 0.0695958286523819, 0.11736128479242325, 0.16277973353862762, 0.11372780799865723, 0.26015689969062805, 0.07375957071781158, 0.13225853443145752, 0.0773930475115776, 0.062132444232702255, 0.15208576619625092, 0.1040191501379013, 0.1926419585943222, 0.04806661233305931, 0.24033305048942566, 0.04919317364692688, 0.12842798233032227, 0.08524312824010849, 0.1569765955209732, 0.05540350452065468, 0.02770175226032734, 0.03693566843867302, 0.12004092335700989, 0.009233917109668255, 0.5078654289245605, 0.07387133687734604, 0.01498059369623661, 0.01498059369623661, 0.13482534885406494, 0.01498059369623661, 0.7640102505683899, 0.01498059369623661, 0.01498059369623661, 0.02996118739247322, 0.06198437139391899, 0.18595312535762787, 0.12396874278783798, 0.5578593611717224, 0.05694559961557388, 0.11389119923114777, 0.11389119923114777, 0.6264016032218933, 0.05694559961557388, 0.03456464409828186, 0.1728232204914093, 0.03456464409828186, 0.13825857639312744, 0.6221635937690735, 0.7346732020378113, 0.06678847223520279, 0.06678847223520279, 0.033394236117601395, 0.06678847223520279, 0.033394236117601395, 0.056391000747680664, 0.6954889893531799, 0.11278200149536133, 0.03759400174021721, 0.03759400174021721, 0.03759400174021721, 0.018797000870108604, 0.14217720925807953, 0.14217720925807953, 0.5687088370323181, 0.06467297673225403, 0.03695598617196083, 0.09238996356725693, 0.07391197234392166, 0.055433981120586395, 0.009238996542990208, 0.23097491264343262, 0.43423283100128174, 0.2690562307834625, 0.2168387621641159, 0.17489702999591827, 0.1050640419125557, 0.06857473403215408, 0.057040758430957794, 0.03984464704990387, 0.06857473403215408, 0.17330807447433472, 0.08219533413648605, 0.1923060566186905, 0.09150046110153198, 0.26209455728530884, 0.025201398879289627, 0.08141990005970001, 0.0918881744146347, 0.1335044950246811, 0.1223791241645813, 0.4783911108970642, 0.011125374585390091, 0.1223791241645813, 0.1223791241645813, 0.011125374585390091, 0.15867643058300018, 0.23341087996959686, 0.09944131970405579, 0.10036207735538483, 0.1833833009004593, 0.0672149658203125, 0.07688287645578384, 0.08071934431791306, 0.098544180393219, 0.11086220294237137, 0.22878673672676086, 0.10987675935029984, 0.057812586426734924, 0.229936420917511, 0.07357965409755707, 0.09066064655780792, 0.09209277480840683, 0.1494620442390442, 0.14757488667964935, 0.16342692077159882, 0.04453666880726814, 0.22570277750492096, 0.08152475208044052, 0.09586706757545471, 0.07996267825365067, 0.07996267825365067, 0.2398880273103714, 0.5597387552261353, 0.34632694721221924, 0.1340111792087555, 0.1671198308467865, 0.12139836698770523, 0.09880039840936661, 0.054655540734529495, 0.024174565449357033, 0.05307893827557564, 0.14130115509033203, 0.037680309265851974, 0.10362084954977036, 0.06594054400920868, 0.07536061853170395, 0.028260231018066406, 0.48984402418136597, 0.04710038751363754, 0.06716657429933548, 0.2686662971973419, 0.6044992208480835, 0.21868418157100677, 0.10358723998069763, 0.0805678591132164, 0.06905816495418549, 0.01726454123854637, 0.14387117326259613, 0.00575484661385417, 0.35680049657821655, 0.1267894059419632, 0.0633947029709816, 0.1267894059419632, 0.1267894059419632, 0.0633947029709816, 0.4437628984451294, 0.18104957044124603, 0.06034985929727554, 0.6638484597206116, 0.06034985929727554, 0.147713303565979, 0.16322319209575653, 0.13294196128845215, 0.09896790981292725, 0.0539153553545475, 0.28434810042381287, 0.06130101904273033, 0.056869618594646454, 0.0745084285736084, 0.0372542142868042, 0.0745084285736084, 0.7078300714492798, 0.0372542142868042, 0.0372542142868042, 0.0372542142868042, 0.23634348809719086, 0.06479071080684662, 0.15525321662425995, 0.32069364190101624, 0.0916849672794342, 0.0696805790066719, 0.04767618328332901, 0.013854618184268475, 0.7136472463607788, 0.022655468434095383, 0.1359328031539917, 0.011327734217047691, 0.022655468434095383, 0.011327734217047691, 0.011327734217047691, 0.05663866922259331, 0.01802092045545578, 0.16218829154968262, 0.5946903824806213, 0.05406276509165764, 0.01802092045545578, 0.07208368182182312, 0.07208368182182312, 0.35216957330703735, 0.21734973788261414, 0.1196998581290245, 0.10709987580776215, 0.08756989985704422, 0.06173992529511452, 0.02708996832370758, 0.026459969580173492, 0.04910888150334358, 0.6875243782997131, 0.04910888150334358, 0.14732664823532104, 0.18990865349769592, 0.5064230561256409, 0.25321152806282043, 0.3180221617221832, 0.19182290136814117, 0.17190387845039368, 0.11378399282693863, 0.06002992391586304, 0.07517383992671967, 0.022306574508547783, 0.046932484954595566, 0.08837778121232986, 0.6186444759368896, 0.04418889060616493, 0.1325666606426239, 0.04418889060616493, 0.04418889060616493, 0.08379362523555756, 0.08274620771408081, 0.20477066934108734, 0.08431733399629593, 0.32941368222236633, 0.08641217648983002, 0.06860603392124176, 0.05917924642562866, 0.05489755794405937, 0.10979511588811874, 0.329385370016098, 0.439180463552475, 0.045240618288517, 0.090481236577034, 0.1357218474149704, 0.045240618288517, 0.045240618288517, 0.090481236577034, 0.5428873896598816, 0.012491489760577679, 0.03747446835041046, 0.03747446835041046, 0.024982979521155357, 0.437202125787735, 0.012491489760577679, 0.012491489760577679, 0.41221916675567627, 0.12187185138463974, 0.1359339952468872, 0.04312388598918915, 0.10687223821878433, 0.08437281847000122, 0.030936701223254204, 0.4640505015850067, 0.011249709874391556, 0.1122475191950798, 0.1122475191950798, 0.6734851002693176, 0.11957599967718124, 0.1281171441078186, 0.03416457027196884, 0.09395256638526917, 0.05124685540795326, 0.03416457027196884, 0.5039274096488953, 0.03416457027196884, 0.08242078125476837, 0.08242078125476837, 0.041210390627384186, 0.700576663017273, 0.08242078125476837, 0.14961032569408417, 0.13004276156425476, 0.1818152666091919, 0.0856080874800682, 0.08886934816837311, 0.24663281440734863, 0.04321170225739479, 0.07419367134571075, 0.13205091655254364, 0.04474452883005142, 0.032739900052547455, 0.02946590818464756, 0.5773135423660278, 0.08294107764959335, 0.04365319758653641, 0.05674915760755539, 0.18046139180660248, 0.1439478099346161, 0.19926433265209198, 0.13068433105945587, 0.10954076796770096, 0.11640657484531403, 0.04923092946410179, 0.07029646635055542, 0.05401994660496712, 0.05401994660496712, 0.05401994660496712, 0.05401994660496712, 0.5942193865776062, 0.10803989320993423, 0.05401994660496712, 0.030914045870304108, 0.6491949558258057, 0.030914045870304108, 0.061828091740608215, 0.030914045870304108, 0.061828091740608215, 0.15457023680210114, 0.7459884285926819, 0.036389678716659546, 0.036389678716659546, 0.036389678716659546, 0.05458451807498932, 0.018194839358329773, 0.036389678716659546, 0.05458451807498932, 0.17039620876312256, 0.11359747499227524, 0.10710619390010834, 0.31239306926727295, 0.05436450615525246, 0.06815848499536514, 0.09087797999382019, 0.08276387304067612, 0.07143434137105942, 0.2016252726316452, 0.3398616909980774, 0.1662738025188446, 0.040471334010362625, 0.11141807585954666, 0.04656641557812691, 0.022673700004816055, 0.11571862548589706, 0.05785931274294853, 0.11571862548589706, 0.11571862548589706, 0.05785931274294853, 0.05785931274294853, 0.5207338333129883, 0.23069694638252258, 0.04613938927650452, 0.5998120307922363, 0.04613938927650452, 0.04613938927650452, 0.09227877855300903, 0.28938281536102295, 0.03348230943083763, 0.045440275222063065, 0.0502234622836113, 0.45440277457237244, 0.0502234622836113, 0.011957967653870583, 0.06218143180012703, 0.25078660249710083, 0.136026993393898, 0.14360743761062622, 0.1933015137910843, 0.11475960910320282, 0.07011917233467102, 0.038955096155405045, 0.05243145301938057, 0.20332342386245728, 0.6099702715873718, 0.10166171193122864, 0.2081637680530548, 0.0416327528655529, 0.0416327528655529, 0.12489825487136841, 0.541225790977478, 0.06796273589134216, 0.12792985141277313, 0.05197150632739067, 0.059967122972011566, 0.07995615899562836, 0.1559145152568817, 0.42776545882225037, 0.027984656393527985, 0.08342607319355011, 0.018539128825068474, 0.01769644021987915, 0.026966003701090813, 0.05308932065963745, 0.5418481826782227, 0.24016597867012024, 0.018539128825068474, 0.05574231967329979, 0.13935579359531403, 0.05574231967329979, 0.027871159836649895, 0.16722695529460907, 0.5574231743812561, 0.027871159836649895, 0.1739984154701233, 0.10293687880039215, 0.1003049686551094, 0.17341354489326477, 0.1701967716217041, 0.10088983923196793, 0.08860760182142258, 0.08948490023612976, 0.053611140698194504, 0.0804167091846466, 0.026805570349097252, 0.053611140698194504, 0.6701392531394958, 0.053611140698194504, 0.053611140698194504, 0.016373692080378532, 0.040934231132268906, 0.024560539051890373, 0.646760880947113, 0.18829746544361115, 0.06549476832151413, 0.008186846040189266, 0.0056042238138616085, 0.2690027356147766, 0.022416895255446434, 0.016812670975923538, 0.16252249479293823, 0.06725068390369415, 0.4483379125595093, 0.04521298408508301, 0.030141988769173622, 0.09042596817016602, 0.07535497099161148, 0.030141988769173622, 0.7234077453613281, 0.015070994384586811, 0.21331675350666046, 0.07972444593906403, 0.03878486528992653, 0.18099603056907654, 0.10127159208059311, 0.015083002857863903, 0.0409395769238472, 0.32967135310173035, 0.2475244402885437, 0.04125407338142395, 0.061881110072135925, 0.5363029837608337, 0.04125407338142395, 0.020627036690711975, 0.020627036690711975, 0.1697419136762619, 0.5658063888549805, 0.028290318325161934, 0.028290318325161934, 0.1697419136762619, 0.028290318325161934, 0.06095167249441147, 0.12190334498882294, 0.06095167249441147, 0.6095167398452759, 0.06095167249441147, 0.15114933252334595, 0.1054530218243599, 0.02987835556268692, 0.11424077302217484, 0.07381711155176163, 0.03163590654730797, 0.4727810323238373, 0.01933305338025093, 0.08034903556108475, 0.4820942282676697, 0.321396142244339, 0.37777355313301086, 0.16190296411514282, 0.12292631715536118, 0.0833500400185585, 0.06775938719511032, 0.0617629811167717, 0.02878274768590927, 0.09654213488101959, 0.03270803391933441, 0.13367630541324615, 0.6100759506225586, 0.06399397552013397, 0.03555221110582352, 0.03128594532608986, 0.014220884069800377, 0.07679277658462524, 0.6430118680000305, 0.08387111127376556, 0.08387111127376556, 0.08387111127376556, 0.08387111127376556, 0.027957037091255188, 0.21717725694179535, 0.18778325617313385, 0.1281493902206421, 0.09114255011081696, 0.115249864757061, 0.171711727976799, 0.04546554386615753, 0.04313939809799194, 0.6832006573677063, 0.09442610293626785, 0.02221790701150894, 0.02221790701150894, 0.08331715315580368, 0.016663430258631706, 0.027772383764386177, 0.04443581402301788, 0.03917492926120758, 0.09140817075967789, 0.6529154777526855, 0.026116618886590004, 0.026116618886590004, 0.03917492926120758, 0.09140817075967789, 0.05223323777318001, 0.36829710006713867, 0.37417420744895935, 0.07052497565746307, 0.14692704379558563, 0.005224072374403477, 0.004571063444018364, 0.0032650453504174948, 0.026773370802402496, 0.09292980283498764, 0.4646489918231964, 0.09292980283498764, 0.09292980283498764, 0.18585960566997528, 0.09292980283498764, 0.08216727524995804, 0.05477818101644516, 0.1369454562664032, 0.05477818101644516, 0.05477818101644516, 0.02738909050822258, 0.5751709342002869, 0.13161572813987732, 0.24490846693515778, 0.11019591242074966, 0.1584550142288208, 0.07225961238145828, 0.18632657825946808, 0.05909803882241249, 0.037162087857723236, 0.6228308081626892, 0.10738462954759598, 0.10738462954759598, 0.021476924419403076, 0.04295384883880615, 0.0859076976776123, 0.021476924419403076, 0.8245274424552917, 0.03747852146625519, 0.07495704293251038, 0.03747852146625519], \"Term\": [\"aadvantage\", \"aadvantage\", \"aadvantage\", \"aadvantage\", \"aadvantage\", \"aadvantage\", \"aadvantage\", \"aadvantage\", \"aafes\", \"aafes\", \"aafes\", \"aafes\", \"aafes\", \"aafes\", \"abroad\", \"abroad\", \"abroad\", \"abroad\", \"abroad\", \"accordance\", \"accordance\", \"accordance\", \"accordance\", \"accordance\", \"accordance\", \"accordance\", \"accordance\", \"account\", \"account\", \"account\", \"account\", \"account\", \"account\", \"account\", \"account\", \"accrue\", \"accrue\", \"accrue\", \"accrue\", \"accrue\", \"accrue\", \"accrue\", \"accrue\", \"accumulation\", \"accumulation\", \"accumulation\", \"accumulation\", \"accumulation\", \"act\", \"act\", \"act\", \"act\", \"act\", \"act\", \"act\", \"act\", \"address\", \"address\", \"address\", \"address\", \"address\", \"address\", \"address\", \"address\", \"advance\", \"advance\", \"advance\", \"advance\", \"advance\", \"advance\", \"advance\", \"advance\", \"advertise\", \"advertise\", \"advertise\", \"advertise\", \"advertise\", \"advertise\", \"advertise\", \"advertise\", \"advocacy\", \"advocacy\", \"advocacy\", \"advocacy\", \"advocacy\", \"airline\", \"airline\", \"airline\", \"airline\", \"airline\", \"airline\", \"airline\", \"airline\", \"airlines\", \"airlines\", \"airlines\", \"airlines\", \"airlines\", \"airlines\", \"airlines\", \"airlines\", \"allegations\", \"allegations\", \"allegations\", \"amazon\", \"amazon\", \"amazon\", \"amazon\", \"amazon\", \"amazon\", \"amazon\", \"amazon\", \"america\", \"america\", \"america\", \"america\", \"america\", \"america\", \"america\", \"america\", \"american\", \"american\", \"american\", \"american\", \"american\", \"american\", \"american\", \"american\", \"amex\", \"amex\", \"amex\", \"amex\", \"amex\", \"amex\", \"amex\", \"amex\", \"amx\", \"amx\", \"amx\", \"amx\", \"amx\", \"amx\", \"anniversary\", \"anniversary\", \"anniversary\", \"anniversary\", \"anniversary\", \"anniversary\", \"anniversary\", \"anniversary\", \"annual\", \"annual\", \"annual\", \"annual\", \"annual\", \"annual\", \"annual\", \"annual\", \"apologies\", \"apologies\", \"apologies\", \"application\", \"application\", \"application\", \"application\", \"application\", \"application\", \"application\", \"application\", \"apply\", \"apply\", \"apply\", \"apply\", \"apply\", \"apply\", \"apply\", \"apply\", \"approve\", \"approve\", \"approve\", \"approve\", \"approve\", \"approve\", \"approve\", \"approve\", \"apr\", \"apr\", \"apr\", \"apr\", \"apr\", \"apr\", \"apr\", \"apr\", \"aprs\", \"aprs\", \"aprs\", \"aprs\", \"aprs\", \"aprs\", \"aprs\", \"aprs\", \"argumentative\", \"arrangement\", \"arrangement\", \"arrangement\", \"arrangement\", \"arrangement\", \"arrangement\", \"arrangement\", \"arrangement\", \"ask\", \"ask\", \"ask\", \"ask\", \"ask\", \"ask\", \"ask\", \"ask\", \"assess\", \"assess\", \"assess\", \"assess\", \"assess\", \"assess\", \"assess\", \"assess\", \"astronomical\", \"astronomical\", \"astronomical\", \"atm\", \"atm\", \"atm\", \"atm\", \"atm\", \"atm\", \"atm\", \"atm\", \"attract\", \"attract\", \"attract\", \"attract\", \"attract\", \"available\", \"available\", \"available\", \"available\", \"available\", \"available\", \"available\", \"available\", \"baggage\", \"baggage\", \"baggage\", \"baggage\", \"baggage\", \"baggage\", \"balance\", \"balance\", \"balance\", \"balance\", \"balance\", \"balance\", \"balance\", \"balance\", \"banana\", \"banana\", \"banana\", \"banana\", \"banana\", \"banana\", \"banana\", \"banana\", \"bank\", \"bank\", \"bank\", \"bank\", \"bank\", \"bank\", \"bank\", \"bank\", \"bankamericard\", \"bankamericard\", \"bankamericard\", \"bankamericard\", \"bankamericard\", \"bankamericard\", \"bankcard\", \"bankcard\", \"bankcard\", \"bankcard\", \"bankcard\", \"bankcard\", \"bankcard\", \"bankcard\", \"banker\", \"banker\", \"banker\", \"banker\", \"banker\", \"banker\", \"banker\", \"banker\", \"bankruptcy\", \"bankruptcy\", \"bankruptcy\", \"bankruptcy\", \"bankruptcy\", \"bankruptcy\", \"bankruptcy\", \"bankruptcy\", \"believe\", \"believe\", \"believe\", \"believe\", \"believe\", \"believe\", \"believe\", \"believe\", \"beneficial\", \"beneficial\", \"beneficial\", \"beneficial\", \"benefit\", \"benefit\", \"benefit\", \"benefit\", \"benefit\", \"benefit\", \"benefit\", \"benefit\", \"blind\", \"blind\", \"blind\", \"blind\", \"blind\", \"blind\", \"boa\", \"boa\", \"boa\", \"boa\", \"boa\", \"boa\", \"boa\", \"boa\", \"bofa\", \"bofa\", \"bofa\", \"bofa\", \"bofa\", \"bofa\", \"bofa\", \"bofa\", \"bonus\", \"bonus\", \"bonus\", \"bonus\", \"bonus\", \"bonus\", \"bonus\", \"bonus\", \"boot\", \"boot\", \"boot\", \"boot\", \"boot\", \"brook\", \"brook\", \"brothers\", \"brothers\", \"brothers\", \"brothers\", \"brothers\", \"bureaus\", \"bureaus\", \"bureaus\", \"bureaus\", \"bureaus\", \"bureaus\", \"bureaus\", \"bureaus\", \"calculate\", \"calculate\", \"calculate\", \"calculate\", \"calculate\", \"calculate\", \"calculate\", \"calculate\", \"call\", \"call\", \"call\", \"call\", \"call\", \"call\", \"call\", \"call\", \"cancel\", \"cancel\", \"cancel\", \"cancel\", \"cancel\", \"cancel\", \"cancel\", \"cancel\", \"cancellation\", \"cancellation\", \"cancellation\", \"cancellation\", \"cancellation\", \"cancellation\", \"cancellation\", \"cancellation\", \"capacity\", \"capacity\", \"capacity\", \"capital\", \"capital\", \"capital\", \"capital\", \"capital\", \"capital\", \"capital\", \"capital\", \"capitol\", \"capitol\", \"capitol\", \"capitol\", \"capitol\", \"capitol\", \"capitol\", \"capitol\", \"cash\", \"cash\", \"cash\", \"cash\", \"cash\", \"cash\", \"cash\", \"cash\", \"casino\", \"casino\", \"cbna\", \"cbna\", \"cbna\", \"cbna\", \"cbna\", \"cbna\", \"cfbp\", \"cfbp\", \"cfbp\", \"cfpb\", \"cfpb\", \"cfpb\", \"cfpb\", \"cfpb\", \"cfpb\", \"cfpb\", \"cfpb\", \"cfr\", \"cfr\", \"cfr\", \"cfr\", \"cfr\", \"charge\", \"charge\", \"charge\", \"charge\", \"charge\", \"charge\", \"charge\", \"charge\", \"chase\", \"chase\", \"chase\", \"chase\", \"chase\", \"chase\", \"chase\", \"chase\", \"check\", \"check\", \"check\", \"check\", \"check\", \"check\", \"check\", \"check\", \"citi\", \"citi\", \"citi\", \"citi\", \"citi\", \"citi\", \"citi\", \"citi\", \"citibank\", \"citibank\", \"citibank\", \"citibank\", \"citibank\", \"citibank\", \"citibank\", \"citibank\", \"claim\", \"claim\", \"claim\", \"claim\", \"claim\", \"claim\", \"claim\", \"claim\", \"close\", \"close\", \"close\", \"close\", \"close\", \"close\", \"close\", \"close\", \"collection\", \"collection\", \"collection\", \"collection\", \"collection\", \"collection\", \"collection\", \"collection\", \"collision\", \"collision\", \"collision\", \"collision\", \"commission\", \"commission\", \"commission\", \"commission\", \"commission\", \"commission\", \"commission\", \"commission\", \"companion\", \"companion\", \"companion\", \"companion\", \"companion\", \"companion\", \"companion\", \"companion\", \"company\", \"company\", \"company\", \"company\", \"company\", \"company\", \"company\", \"company\", \"compass\", \"compass\", \"compass\", \"compass\", \"compass\", \"compass\", \"compass\", \"compass\", \"competition\", \"competition\", \"competitors\", \"competitors\", \"competitors\", \"competitors\", \"complainant\", \"complainant\", \"complainant\", \"complainant\", \"complainant\", \"complainant\", \"complainant\", \"complaint\", \"complaint\", \"complaint\", \"complaint\", \"complaint\", \"complaint\", \"complaint\", \"complaint\", \"comptroller\", \"comptroller\", \"comptroller\", \"comptroller\", \"comptroller\", \"comptroller\", \"compute\", \"compute\", \"computers\", \"computers\", \"computers\", \"computers\", \"computers\", \"computers\", \"computers\", \"computers\", \"concert\", \"concert\", \"concert\", \"concert\", \"concert\", \"concert\", \"condition\", \"condition\", \"condition\", \"condition\", \"condition\", \"condition\", \"condition\", \"condition\", \"confiscate\", \"confiscate\", \"confiscate\", \"confiscate\", \"confiscate\", \"confiscate\", \"confiscate\", \"confiscate\", \"conn\", \"conn\", \"conn\", \"consumer\", \"consumer\", \"consumer\", \"consumer\", \"consumer\", \"consumer\", \"consumer\", \"consumer\", \"consumerfinance\", \"consumerfinance\", \"consumerfinance\", \"consumerfinance\", \"consumerfinance\", \"contact\", \"contact\", \"contact\", \"contact\", \"contact\", \"contact\", \"contact\", \"contact\", \"continue\", \"continue\", \"continue\", \"continue\", \"continue\", \"continue\", \"continue\", \"continue\", \"contractor\", \"contractor\", \"contractor\", \"contractor\", \"contractor\", \"contractor\", \"contractor\", \"copy\", \"copy\", \"copy\", \"copy\", \"copy\", \"copy\", \"copy\", \"copy\", \"costco\", \"costco\", \"costco\", \"costco\", \"costco\", \"costco\", \"costco\", \"costco\", \"crisis\", \"crisis\", \"crisis\", \"crisis\", \"crisis\", \"crisis\", \"customer\", \"customer\", \"customer\", \"customer\", \"customer\", \"customer\", \"customer\", \"customer\", \"date\", \"date\", \"date\", \"date\", \"date\", \"date\", \"date\", \"date\", \"days\", \"days\", \"days\", \"days\", \"days\", \"days\", \"days\", \"days\", \"deaf\", \"deaf\", \"deaf\", \"deaf\", \"dealership\", \"dealership\", \"dealership\", \"dealership\", \"dealership\", \"dealership\", \"dealership\", \"debt\", \"debt\", \"debt\", \"debt\", \"debt\", \"debt\", \"debt\", \"debt\", \"decree\", \"decree\", \"decree\", \"decree\", \"decree\", \"deep\", \"deep\", \"deep\", \"deep\", \"defeat\", \"defeat\", \"defeat\", \"defective\", \"defective\", \"defective\", \"defective\", \"defective\", \"defective\", \"defective\", \"defective\", \"defendant\", \"defendant\", \"defendant\", \"defendant\", \"defendant\", \"defendant\", \"defendant\", \"defenses\", \"defenses\", \"defenses\", \"delivery\", \"delivery\", \"delivery\", \"delivery\", \"delivery\", \"delivery\", \"delivery\", \"delivery\", \"depot\", \"depot\", \"depot\", \"depot\", \"depot\", \"depot\", \"depot\", \"depot\", \"depth\", \"depth\", \"dialer\", \"dialer\", \"difficulty\", \"difficulty\", \"difficulty\", \"difficulty\", \"difficulty\", \"difficulty\", \"difficulty\", \"difficulty\", \"disagreement\", \"disagreement\", \"disagreement\", \"disagreement\", \"disagreement\", \"discard\", \"discard\", \"discard\", \"discard\", \"discharge\", \"discharge\", \"discharge\", \"discharge\", \"discharge\", \"discharge\", \"discharge\", \"discharge\", \"discover\", \"discover\", \"discover\", \"discover\", \"discover\", \"discover\", \"discover\", \"discover\", \"dishonor\", \"dishonor\", \"dishonor\", \"dishonor\", \"disproportionately\", \"disproportionately\", \"disproportionately\", \"dispute\", \"dispute\", \"dispute\", \"dispute\", \"dispute\", \"dispute\", \"dispute\", \"dispute\", \"dob\", \"dob\", \"dob\", \"dob\", \"dob\", \"dob\", \"dob\", \"document\", \"document\", \"document\", \"document\", \"document\", \"document\", \"document\", \"document\", \"downgrade\", \"downgrade\", \"downgrade\", \"downgrade\", \"downgrade\", \"downgrade\", \"downgrade\", \"downgrade\", \"dramatically\", \"dramatically\", \"dramatically\", \"dramatically\", \"dramatically\", \"dramatically\", \"dress\", \"dress\", \"dress\", \"dress\", \"dress\", \"dress\", \"dress\", \"dress\", \"drink\", \"drink\", \"drink\", \"drink\", \"dryer\", \"dryer\", \"dryer\", \"dryer\", \"dryer\", \"dryer\", \"dryer\", \"dump\", \"dump\", \"dun\", \"dun\", \"dun\", \"dun\", \"dun\", \"dun\", \"dun\", \"earn\", \"earn\", \"earn\", \"earn\", \"earn\", \"earn\", \"earn\", \"earn\", \"ebay\", \"ebay\", \"ebay\", \"ebay\", \"ebay\", \"ebay\", \"efficient\", \"efficient\", \"efficient\", \"electric\", \"electric\", \"electric\", \"electric\", \"electric\", \"electric\", \"electric\", \"electric\", \"electronics\", \"electronics\", \"electronics\", \"electronics\", \"electronics\", \"email\", \"email\", \"email\", \"email\", \"email\", \"email\", \"email\", \"email\", \"enforcement\", \"enforcement\", \"enforcement\", \"enforcement\", \"enforcement\", \"enforcement\", \"enforcement\", \"enforcement\", \"entity\", \"entity\", \"entity\", \"entity\", \"entity\", \"entity\", \"entity\", \"entity\", \"eon\", \"eon\", \"eon\", \"eon\", \"eon\", \"eon\", \"equate\", \"equate\", \"equate\", \"equate\", \"equipment\", \"equipment\", \"equipment\", \"equipment\", \"equipment\", \"equipment\", \"equivalents\", \"equivalents\", \"equivalents\", \"equivalents\", \"exam\", \"exam\", \"exam\", \"exam\", \"exclusion\", \"exclusion\", \"exclusion\", \"exclusion\", \"exclusion\", \"exclusion\", \"experian\", \"experian\", \"experian\", \"experian\", \"experian\", \"experian\", \"experian\", \"explorer\", \"explorer\", \"explorer\", \"explorer\", \"explorer\", \"explorer\", \"explorer\", \"express\", \"express\", \"express\", \"express\", \"express\", \"express\", \"express\", \"express\", \"ext\", \"ext\", \"ext\", \"ext\", \"ext\", \"ext\", \"extras\", \"extras\", \"extras\", \"extras\", \"failures\", \"failures\", \"failures\", \"failures\", \"failures\", \"fair\", \"fair\", \"fair\", \"fair\", \"fair\", \"fair\", \"fair\", \"fair\", \"fare\", \"fare\", \"fare\", \"fare\", \"fare\", \"fare\", \"fare\", \"fare\", \"fargo\", \"fargo\", \"fargo\", \"fargo\", \"fargo\", \"fargo\", \"fargo\", \"fargo\", \"fcra\", \"fcra\", \"fcra\", \"fcra\", \"fcra\", \"fcra\", \"fcra\", \"fcra\", \"federal\", \"federal\", \"federal\", \"federal\", \"federal\", \"federal\", \"federal\", \"federal\", \"fee\", \"fee\", \"fee\", \"fee\", \"fee\", \"fee\", \"fee\", \"fee\", \"fico\", \"fico\", \"fico\", \"fico\", \"fico\", \"fico\", \"fico\", \"fico\", \"fifth\", \"fifth\", \"fifth\", \"fifth\", \"fifth\", \"fifth\", \"fifth\", \"file\", \"file\", \"file\", \"file\", \"file\", \"file\", \"file\", \"file\", \"final\", \"final\", \"final\", \"final\", \"final\", \"final\", \"final\", \"final\", \"finger\", \"finger\", \"finger\", \"finger\", \"fire\", \"fire\", \"fire\", \"fire\", \"fire\", \"fire\", \"flight\", \"flight\", \"flight\", \"flight\", \"flight\", \"flight\", \"flight\", \"flight\", \"floor\", \"floor\", \"floor\", \"floor\", \"floor\", \"floor\", \"floor\", \"floor\", \"fluctuate\", \"fluctuate\", \"fluctuate\", \"fluctuate\", \"fluctuate\", \"fluctuate\", \"forgive\", \"forgive\", \"forgive\", \"forgive\", \"forgive\", \"forgive\", \"forgive\", \"forgive\", \"formula\", \"formula\", \"formula\", \"formula\", \"formula\", \"formula\", \"formula\", \"formula\", \"fortiva\", \"fortiva\", \"fortiva\", \"fortiva\", \"fortiva\", \"fortiva\", \"fradulent\", \"fradulent\", \"fradulent\", \"fradulent\", \"fradulent\", \"fraud\", \"fraud\", \"fraud\", \"fraud\", \"fraud\", \"fraud\", \"fraud\", \"fraud\", \"fraudulent\", \"fraudulent\", \"fraudulent\", \"fraudulent\", \"fraudulent\", \"fraudulent\", \"fraudulent\", \"fraudulent\", \"fri\", \"fri\", \"fri\", \"fri\", \"fri\", \"funeral\", \"funeral\", \"funeral\", \"funeral\", \"funeral\", \"funeral\", \"funeral\", \"get\", \"get\", \"get\", \"get\", \"get\", \"get\", \"get\", \"get\", \"go\", \"go\", \"go\", \"go\", \"go\", \"go\", \"go\", \"go\", \"gotcha\", \"gotcha\", \"gotcha\", \"grace\", \"grace\", \"grace\", \"grace\", \"grace\", \"grace\", \"grace\", \"grace\", \"grandfathered\", \"grandfathered\", \"grandfathered\", \"grandfathered\", \"happen\", \"happen\", \"happen\", \"happen\", \"happen\", \"happen\", \"happen\", \"happen\", \"hard\", \"hard\", \"hard\", \"hard\", \"hard\", \"hard\", \"hard\", \"hard\", \"hardly\", \"hardly\", \"hardly\", \"hardly\", \"hardly\", \"hardship\", \"hardship\", \"hardship\", \"hardship\", \"hardship\", \"hardship\", \"hardship\", \"hardship\", \"hefty\", \"hefty\", \"hefty\", \"hefty\", \"hefty\", \"help\", \"help\", \"help\", \"help\", \"help\", \"help\", \"help\", \"help\", \"higher\", \"higher\", \"higher\", \"higher\", \"higher\", \"higher\", \"higher\", \"higher\", \"highest\", \"highest\", \"highest\", \"highest\", \"highest\", \"highest\", \"highest\", \"highest\", \"hike\", \"hike\", \"hike\", \"hike\", \"hike\", \"hike\", \"hike\", \"hold\", \"hold\", \"hold\", \"hold\", \"hold\", \"hold\", \"hold\", \"hold\", \"horribly\", \"horribly\", \"horribly\", \"horribly\", \"horribly\", \"horribly\", \"hsbc\", \"hsbc\", \"hsbc\", \"hsbc\", \"hsbc\", \"hsbc\", \"hsbc\", \"hsbc\", \"identity\", \"identity\", \"identity\", \"identity\", \"identity\", \"identity\", \"identity\", \"identity\", \"iii\", \"iii\", \"iii\", \"iii\", \"iii\", \"iii\", \"iii\", \"impact\", \"impact\", \"impact\", \"impact\", \"impact\", \"impact\", \"impact\", \"impact\", \"impend\", \"impend\", \"impend\", \"impend\", \"impend\", \"inaccuracy\", \"inaccuracy\", \"inaccuracy\", \"inaccuracy\", \"indebtedness\", \"indebtedness\", \"indebtedness\", \"indebtedness\", \"individually\", \"individually\", \"individually\", \"individually\", \"individually\", \"inflate\", \"inflate\", \"inflate\", \"inflate\", \"inflate\", \"inflate\", \"inflate\", \"info\", \"info\", \"info\", \"info\", \"info\", \"info\", \"info\", \"info\", \"information\", \"information\", \"information\", \"information\", \"information\", \"information\", \"information\", \"information\", \"inquiries\", \"inquiries\", \"inquiries\", \"inquiries\", \"inquiries\", \"inquiries\", \"inquiries\", \"inquiries\", \"inquiry\", \"inquiry\", \"inquiry\", \"inquiry\", \"inquiry\", \"inquiry\", \"inquiry\", \"inquiry\", \"insurance\", \"insurance\", \"insurance\", \"insurance\", \"insurance\", \"insurance\", \"insurance\", \"insurance\", \"intact\", \"intact\", \"intact\", \"intact\", \"interfere\", \"interfere\", \"interfere\", \"interfere\", \"interfere\", \"interfere\", \"interruption\", \"interruption\", \"interruption\", \"interruption\", \"interruption\", \"intrest\", \"intrest\", \"intrest\", \"intrest\", \"intrest\", \"introductory\", \"introductory\", \"introductory\", \"introductory\", \"introductory\", \"introductory\", \"introductory\", \"introductory\", \"investigation\", \"investigation\", \"investigation\", \"investigation\", \"investigation\", \"investigation\", \"investigation\", \"investigation\", \"investigators\", \"investigators\", \"investigators\", \"investigators\", \"investigators\", \"investigators\", \"iphone\", \"iphone\", \"iphone\", \"iphone\", \"irregular\", \"irregular\", \"issue\", \"issue\", \"issue\", \"issue\", \"issue\", \"issue\", \"issue\", \"issue\", \"item\", \"item\", \"item\", \"item\", \"item\", \"item\", \"item\", \"item\", \"itinerary\", \"itinerary\", \"itinerary\", \"itinerary\", \"itinerary\", \"jack\", \"jack\", \"jack\", \"jewelers\", \"jewelers\", \"jewelers\", \"jewelers\", \"jewelers\", \"jewelers\", \"jewelers\", \"jpmorgan\", \"jpmorgan\", \"jpmorgan\", \"jpmorgan\", \"jpmorgan\", \"jpmorgan\", \"jpmorgan\", \"jpmorgan\", \"judgment\", \"judgment\", \"judgment\", \"judgment\", \"judgment\", \"judgment\", \"judgment\", \"judgment\", \"juniper\", \"juniper\", \"juniper\", \"juniper\", \"juniper\", \"juniper\", \"knock\", \"knock\", \"knock\", \"knock\", \"know\", \"know\", \"know\", \"know\", \"know\", \"know\", \"know\", \"know\", \"kohl\", \"kohl\", \"kohl\", \"kohl\", \"kohl\", \"kohl\", \"kohl\", \"kohl\", \"laptop\", \"laptop\", \"laptop\", \"laptop\", \"laptop\", \"laptop\", \"laptop\", \"laptop\", \"late\", \"late\", \"late\", \"late\", \"late\", \"late\", \"late\", \"late\", \"lean\", \"lean\", \"lean\", \"lean\", \"lean\", \"letter\", \"letter\", \"letter\", \"letter\", \"letter\", \"letter\", \"letter\", \"letter\", \"limit\", \"limit\", \"limit\", \"limit\", \"limit\", \"limit\", \"limit\", \"limit\", \"line\", \"line\", \"line\", \"line\", \"line\", \"line\", \"line\", \"line\", \"longest\", \"longest\", \"longest\", \"longest\", \"loud\", \"loud\", \"loud\", \"loud\", \"lower\", \"lower\", \"lower\", \"lower\", \"lower\", \"lower\", \"lower\", \"lower\", \"lowest\", \"lowest\", \"lowest\", \"lowest\", \"lowest\", \"lowest\", \"lowest\", \"luxury\", \"luxury\", \"luxury\", \"luxury\", \"luxury\", \"luxury\", \"luxury\", \"macy\", \"macy\", \"macy\", \"macy\", \"macy\", \"macy\", \"macy\", \"macy\", \"mail\", \"mail\", \"mail\", \"mail\", \"mail\", \"mail\", \"mail\", \"mail\", \"maker\", \"maker\", \"maker\", \"maxing\", \"maxing\", \"maxing\", \"maxing\", \"mbna\", \"mbna\", \"mbna\", \"mbna\", \"mbna\", \"meager\", \"meager\", \"meager\", \"meager\", \"membership\", \"membership\", \"membership\", \"membership\", \"membership\", \"membership\", \"membership\", \"membership\", \"merchant\", \"merchant\", \"merchant\", \"merchant\", \"merchant\", \"merchant\", \"merchant\", \"merchant\", \"mgr\", \"mgr\", \"mgr\", \"mgr\", \"miles\", \"miles\", \"miles\", \"miles\", \"miles\", \"miles\", \"miles\", \"miles\", \"minimum\", \"minimum\", \"minimum\", \"minimum\", \"minimum\", \"minimum\", \"minimum\", \"minimum\", \"minority\", \"minority\", \"minority\", \"miscommunication\", \"miscommunication\", \"miscommunication\", \"miscommunication\", \"miscommunication\", \"miscommunication\", \"misreporting\", \"misreporting\", \"misreporting\", \"misreporting\", \"misreporting\", \"moms\", \"moms\", \"moms\", \"money\", \"money\", \"money\", \"money\", \"money\", \"money\", \"money\", \"money\", \"month\", \"month\", \"month\", \"month\", \"month\", \"month\", \"month\", \"month\", \"monthly\", \"monthly\", \"monthly\", \"monthly\", \"monthly\", \"monthly\", \"monthly\", \"monthly\", \"months\", \"months\", \"months\", \"months\", \"months\", \"months\", \"months\", \"months\", \"morgan\", \"morgan\", \"morgan\", \"morgan\", \"morgan\", \"morgan\", \"morgan\", \"morgan\", \"motivate\", \"motivate\", \"mountain\", \"mountain\", \"mountain\", \"mountain\", \"negative\", \"negative\", \"negative\", \"negative\", \"negative\", \"negative\", \"negative\", \"negative\", \"negligently\", \"negligently\", \"new\", \"new\", \"new\", \"new\", \"new\", \"new\", \"new\", \"new\", \"noncompliance\", \"noncompliance\", \"noncompliance\", \"noncompliance\", \"noncompliance\", \"nonsensical\", \"nonsensical\", \"nonsensical\", \"nonsensical\", \"notice\", \"notice\", \"notice\", \"notice\", \"notice\", \"notice\", \"notice\", \"notice\", \"number\", \"number\", \"number\", \"number\", \"number\", \"number\", \"number\", \"number\", \"occassions\", \"occassions\", \"occassions\", \"occassions\", \"occassions\", \"offer\", \"offer\", \"offer\", \"offer\", \"offer\", \"offer\", \"offer\", \"offer\", \"open\", \"open\", \"open\", \"open\", \"open\", \"open\", \"open\", \"open\", \"orchard\", \"orchard\", \"orchard\", \"orchard\", \"orchard\", \"order\", \"order\", \"order\", \"order\", \"order\", \"order\", \"order\", \"order\", \"outbound\", \"outbound\", \"outbound\", \"outstanding\", \"outstanding\", \"outstanding\", \"outstanding\", \"outstanding\", \"outstanding\", \"outstanding\", \"outstanding\", \"pacific\", \"pacific\", \"pacific\", \"pacific\", \"pacific\", \"pacific\", \"package\", \"package\", \"package\", \"package\", \"package\", \"package\", \"package\", \"package\", \"paint\", \"paint\", \"paint\", \"paint\", \"paint\", \"pal\", \"pal\", \"pal\", \"pal\", \"pal\", \"pal\", \"pal\", \"pal\", \"passengers\", \"passengers\", \"passengers\", \"passengers\", \"passengers\", \"passengers\", \"passport\", \"passport\", \"passport\", \"passport\", \"passport\", \"passport\", \"passport\", \"past\", \"past\", \"past\", \"past\", \"past\", \"past\", \"past\", \"past\", \"pay\", \"pay\", \"pay\", \"pay\", \"pay\", \"pay\", \"pay\", \"pay\", \"payee\", \"payee\", \"payee\", \"payee\", \"payee\", \"payment\", \"payment\", \"payment\", \"payment\", \"payment\", \"payment\", \"payment\", \"payment\", \"payments\", \"payments\", \"payments\", \"payments\", \"payments\", \"payments\", \"payments\", \"payments\", \"paypal\", \"paypal\", \"paypal\", \"paypal\", \"paypal\", \"paypal\", \"paypal\", \"paypal\", \"penfed\", \"penfed\", \"penfed\", \"penfed\", \"penfed\", \"penfed\", \"period\", \"period\", \"period\", \"period\", \"period\", \"period\", \"period\", \"period\", \"permissible\", \"permissible\", \"permissible\", \"permissible\", \"persuade\", \"persuade\", \"persuade\", \"persuade\", \"persuade\", \"phone\", \"phone\", \"phone\", \"phone\", \"phone\", \"phone\", \"phone\", \"phone\", \"pleasant\", \"pleasant\", \"pleasant\", \"pleasant\", \"point\", \"point\", \"point\", \"point\", \"point\", \"point\", \"point\", \"point\", \"popular\", \"popular\", \"popular\", \"popular\", \"popular\", \"postmark\", \"postmark\", \"postmark\", \"postmark\", \"practice\", \"practice\", \"practice\", \"practice\", \"practice\", \"practice\", \"practice\", \"practice\", \"preapproved\", \"preapproved\", \"preapproved\", \"prescreened\", \"prescreened\", \"prescreened\", \"prescreened\", \"prime\", \"prime\", \"prime\", \"prime\", \"prime\", \"prime\", \"prime\", \"prime\", \"product\", \"product\", \"product\", \"product\", \"product\", \"product\", \"product\", \"product\", \"promotional\", \"promotional\", \"promotional\", \"promotional\", \"promotional\", \"promotional\", \"promotional\", \"promotional\", \"prospective\", \"prospective\", \"prospective\", \"provide\", \"provide\", \"provide\", \"provide\", \"provide\", \"provide\", \"provide\", \"provide\", \"publicly\", \"publicly\", \"publicly\", \"publicly\", \"publicly\", \"publicly\", \"pull\", \"pull\", \"pull\", \"pull\", \"pull\", \"pull\", \"pull\", \"pull\", \"punishment\", \"punishment\", \"punishment\", \"punishment\", \"purchase\", \"purchase\", \"purchase\", \"purchase\", \"purchase\", \"purchase\", \"purchase\", \"purchase\", \"pymt\", \"pymt\", \"pymt\", \"pymt\", \"pymt\", \"quarterly\", \"quarterly\", \"quarterly\", \"quarterly\", \"quarterly\", \"raise\", \"raise\", \"raise\", \"raise\", \"raise\", \"raise\", \"raise\", \"raise\", \"rat\", \"rat\", \"rat\", \"rat\", \"rat\", \"rat\", \"rat\", \"rat\", \"rate\", \"rate\", \"rate\", \"rate\", \"rate\", \"rate\", \"rate\", \"rate\", \"reap\", \"reap\", \"rebate\", \"rebate\", \"rebate\", \"rebate\", \"rebate\", \"rebate\", \"rebate\", \"rebate\", \"rebilled\", \"rebilled\", \"rebilled\", \"rebilled\", \"rebilled\", \"rebilled\", \"rebilled\", \"rebuttal\", \"rebuttal\", \"rebuttal\", \"rebuttal\", \"rebuttal\", \"rebuttal\", \"receive\", \"receive\", \"receive\", \"receive\", \"receive\", \"receive\", \"receive\", \"receive\", \"redeem\", \"redeem\", \"redeem\", \"redeem\", \"redeem\", \"redeem\", \"redeem\", \"redeem\", \"refrigerator\", \"refrigerator\", \"refrigerator\", \"refrigerator\", \"refrigerator\", \"refrigerator\", \"refrigerator\", \"refund\", \"refund\", \"refund\", \"refund\", \"refund\", \"refund\", \"refund\", \"refund\", \"refuse\", \"refuse\", \"refuse\", \"refuse\", \"refuse\", \"refuse\", \"refuse\", \"refuse\", \"regain\", \"regain\", \"regain\", \"regions\", \"regions\", \"regions\", \"regions\", \"relation\", \"relation\", \"relation\", \"relation\", \"relation\", \"relation\", \"reliance\", \"reliance\", \"reliance\", \"reliance\", \"reliance\", \"remediation\", \"remediation\", \"remediation\", \"remediation\", \"remediation\", \"remove\", \"remove\", \"remove\", \"remove\", \"remove\", \"remove\", \"remove\", \"remove\", \"rental\", \"rental\", \"rental\", \"rental\", \"rental\", \"rental\", \"rental\", \"rental\", \"report\", \"report\", \"report\", \"report\", \"report\", \"report\", \"report\", \"report\", \"republic\", \"republic\", \"republic\", \"republic\", \"republic\", \"republic\", \"republic\", \"republic\", \"request\", \"request\", \"request\", \"request\", \"request\", \"request\", \"request\", \"request\", \"resolve\", \"resolve\", \"resolve\", \"resolve\", \"resolve\", \"resolve\", \"resolve\", \"resolve\", \"response\", \"response\", \"response\", \"response\", \"response\", \"response\", \"response\", \"response\", \"restaurant\", \"restaurant\", \"restaurant\", \"restaurant\", \"restaurant\", \"restaurant\", \"restaurant\", \"restock\", \"restock\", \"restock\", \"restock\", \"restock\", \"restock\", \"restrictions\", \"restrictions\", \"restrictions\", \"restrictions\", \"restrictions\", \"restrictions\", \"restrictions\", \"restrictions\", \"retention\", \"retention\", \"retention\", \"retention\", \"retention\", \"retention\", \"retention\", \"retention\", \"retroactively\", \"retroactively\", \"retroactively\", \"retroactively\", \"retroactively\", \"retroactively\", \"return\", \"return\", \"return\", \"return\", \"return\", \"return\", \"return\", \"return\", \"reward\", \"reward\", \"reward\", \"reward\", \"reward\", \"reward\", \"reward\", \"reward\", \"sabotage\", \"sabotage\", \"sabotage\", \"sacrifice\", \"sacrifice\", \"sacrifice\", \"sacrifice\", \"salesperson\", \"salesperson\", \"salesperson\", \"salesperson\", \"salesperson\", \"salesperson\", \"salesperson\", \"santander\", \"santander\", \"santander\", \"santander\", \"sapphire\", \"sapphire\", \"sapphire\", \"sapphire\", \"sapphire\", \"sapphire\", \"sapphire\", \"sapphire\", \"say\", \"say\", \"say\", \"say\", \"say\", \"say\", \"say\", \"say\", \"score\", \"score\", \"score\", \"score\", \"score\", \"score\", \"score\", \"score\", \"scratch\", \"scratch\", \"scratch\", \"scratch\", \"scratch\", \"scratch\", \"scratch\", \"scratch\", \"sear\", \"sear\", \"sear\", \"sear\", \"sear\", \"sear\", \"sear\", \"sear\", \"seat\", \"seat\", \"seat\", \"seat\", \"seat\", \"seat\", \"seat\", \"sec\", \"sec\", \"sec\", \"sec\", \"sec\", \"sec\", \"sec\", \"sec\", \"send\", \"send\", \"send\", \"send\", \"send\", \"send\", \"send\", \"send\", \"seniors\", \"seniors\", \"seniors\", \"seniors\", \"service\", \"service\", \"service\", \"service\", \"service\", \"service\", \"service\", \"service\", \"settings\", \"settings\", \"settings\", \"settings\", \"settings\", \"settings\", \"ship\", \"ship\", \"ship\", \"ship\", \"ship\", \"ship\", \"ship\", \"ship\", \"shipper\", \"shipper\", \"shipper\", \"shipper\", \"shipper\", \"shipper\", \"shirt\", \"shirt\", \"shirt\", \"shirt\", \"shirt\", \"shock\", \"shock\", \"shock\", \"shock\", \"shock\", \"shock\", \"shock\", \"shock\", \"show\", \"show\", \"show\", \"show\", \"show\", \"show\", \"show\", \"show\", \"sign\", \"sign\", \"sign\", \"sign\", \"sign\", \"sign\", \"sign\", \"sign\", \"signatures\", \"signatures\", \"signatures\", \"signatures\", \"signatures\", \"signatures\", \"signatures\", \"signatures\", \"signup\", \"signup\", \"signup\", \"signup\", \"signup\", \"signup\", \"signup\", \"signup\", \"silence\", \"silence\", \"silence\", \"silence\", \"snapshot\", \"snapshot\", \"snapshot\", \"snapshot\", \"snapshot\", \"soc\", \"soc\", \"soc\", \"soc\", \"soc\", \"sofa\", \"sofa\", \"sofa\", \"sofa\", \"sofa\", \"sofa\", \"soft\", \"soft\", \"soft\", \"soft\", \"soft\", \"soft\", \"soft\", \"sons\", \"sons\", \"sons\", \"southwest\", \"southwest\", \"southwest\", \"southwest\", \"southwest\", \"southwest\", \"southwest\", \"southwest\", \"speak\", \"speak\", \"speak\", \"speak\", \"speak\", \"speak\", \"speak\", \"speak\", \"spend\", \"spend\", \"spend\", \"spend\", \"spend\", \"spend\", \"spend\", \"spend\", \"star\", \"star\", \"star\", \"star\", \"star\", \"star\", \"star\", \"state\", \"state\", \"state\", \"state\", \"state\", \"state\", \"state\", \"state\", \"statement\", \"statement\", \"statement\", \"statement\", \"statement\", \"statement\", \"statement\", \"statement\", \"statements\", \"statements\", \"statements\", \"statements\", \"statements\", \"statements\", \"statements\", \"statements\", \"steadily\", \"steadily\", \"steadily\", \"steadily\", \"store\", \"store\", \"store\", \"store\", \"store\", \"store\", \"store\", \"store\", \"subscription\", \"subscription\", \"subscription\", \"subscription\", \"subscription\", \"subscription\", \"subscription\", \"subscription\", \"summarily\", \"summarily\", \"summarily\", \"sunday\", \"sunday\", \"sunday\", \"sunday\", \"sunday\", \"sunday\", \"sunday\", \"sunday\", \"supplier\", \"supplier\", \"supplier\", \"supplier\", \"supplier\", \"supplier\", \"surcharge\", \"surcharge\", \"surcharge\", \"surcharge\", \"sure\", \"sure\", \"sure\", \"sure\", \"sure\", \"sure\", \"sure\", \"sure\", \"synchony\", \"synchony\", \"synchony\", \"synchony\", \"synchony\", \"synchony\", \"synchony\", \"synchrony\", \"synchrony\", \"synchrony\", \"synchrony\", \"synchrony\", \"synchrony\", \"synchrony\", \"synchrony\", \"table\", \"table\", \"table\", \"table\", \"table\", \"table\", \"table\", \"table\", \"tack\", \"tack\", \"tack\", \"tack\", \"tack\", \"tack\", \"tack\", \"talk\", \"talk\", \"talk\", \"talk\", \"talk\", \"talk\", \"talk\", \"talk\", \"tarnish\", \"tarnish\", \"tarnish\", \"tarnish\", \"teh\", \"teh\", \"teh\", \"tell\", \"tell\", \"tell\", \"tell\", \"tell\", \"tell\", \"tell\", \"tell\", \"tennessee\", \"tennessee\", \"tennessee\", \"tennessee\", \"tennessee\", \"tennessee\", \"term\", \"term\", \"term\", \"term\", \"term\", \"term\", \"term\", \"term\", \"terminal\", \"terminal\", \"terminal\", \"terminal\", \"termination\", \"termination\", \"termination\", \"termination\", \"termination\", \"termination\", \"termination\", \"thankyou\", \"thankyou\", \"thankyou\", \"thankyou\", \"thankyou\", \"thankyou\", \"thankyou\", \"thankyou\", \"theft\", \"theft\", \"theft\", \"theft\", \"theft\", \"theft\", \"theft\", \"theft\", \"ther\", \"ther\", \"ther\", \"thief\", \"thief\", \"thief\", \"thief\", \"thief\", \"thief\", \"thief\", \"thief\", \"thier\", \"thier\", \"thier\", \"thier\", \"thier\", \"think\", \"think\", \"think\", \"think\", \"think\", \"think\", \"think\", \"think\", \"ticket\", \"ticket\", \"ticket\", \"ticket\", \"ticket\", \"ticket\", \"ticket\", \"ticket\", \"time\", \"time\", \"time\", \"time\", \"time\", \"time\", \"time\", \"time\", \"todays\", \"todays\", \"todays\", \"todays\", \"todays\", \"todays\", \"todays\", \"tradeline\", \"tradeline\", \"tradeline\", \"tradeline\", \"tradeline\", \"tradeline\", \"tradeline\", \"traffic\", \"traffic\", \"traffic\", \"traffic\", \"traffic\", \"traffic\", \"traffic\", \"traffic\", \"transactions\", \"transactions\", \"transactions\", \"transactions\", \"transactions\", \"transactions\", \"transactions\", \"transactions\", \"transfer\", \"transfer\", \"transfer\", \"transfer\", \"transfer\", \"transfer\", \"transfer\", \"transfer\", \"transportation\", \"transportation\", \"transportation\", \"transportation\", \"transportation\", \"transportation\", \"transportation\", \"tremendously\", \"tremendously\", \"tremendously\", \"tremendously\", \"tremendously\", \"tremendously\", \"trip\", \"trip\", \"trip\", \"trip\", \"trip\", \"trip\", \"trip\", \"trip\", \"try\", \"try\", \"try\", \"try\", \"try\", \"try\", \"try\", \"try\", \"unilateral\", \"unilateral\", \"unilateral\", \"upromise\", \"upromise\", \"upromise\", \"upromise\", \"upromise\", \"usa\", \"usa\", \"usa\", \"usa\", \"usa\", \"usa\", \"usa\", \"usa\", \"usaa\", \"usaa\", \"usaa\", \"usaa\", \"usaa\", \"usaa\", \"usaa\", \"usaa\", \"usc\", \"usc\", \"usc\", \"usc\", \"usc\", \"usc\", \"usc\", \"use\", \"use\", \"use\", \"use\", \"use\", \"use\", \"use\", \"use\", \"usury\", \"usury\", \"usury\", \"usury\", \"usury\", \"usury\", \"usury\", \"utilization\", \"utilization\", \"utilization\", \"utilization\", \"utilization\", \"utilization\", \"utilization\", \"validation\", \"validation\", \"validation\", \"validation\", \"validation\", \"validation\", \"validation\", \"variable\", \"variable\", \"variable\", \"variable\", \"variable\", \"variable\", \"variable\", \"vendor\", \"vendor\", \"vendor\", \"vendor\", \"vendor\", \"vendor\", \"vendor\", \"vendor\", \"venture\", \"venture\", \"venture\", \"venture\", \"venture\", \"venture\", \"venture\", \"verifiable\", \"verifiable\", \"verifiable\", \"verifiable\", \"verifiable\", \"verifiable\", \"verve\", \"verve\", \"verve\", \"verve\", \"verve\", \"victim\", \"victim\", \"victim\", \"victim\", \"victim\", \"victim\", \"victim\", \"victim\", \"vigilant\", \"vigilant\", \"vigilant\", \"wait\", \"wait\", \"wait\", \"wait\", \"wait\", \"wait\", \"wait\", \"wait\", \"waive\", \"waive\", \"waive\", \"waive\", \"waive\", \"waive\", \"waive\", \"waive\", \"wake\", \"wake\", \"wake\", \"wake\", \"wake\", \"wake\", \"want\", \"want\", \"want\", \"want\", \"want\", \"want\", \"want\", \"want\", \"warranty\", \"warranty\", \"warranty\", \"warranty\", \"warranty\", \"warranty\", \"warranty\", \"warranty\", \"wave\", \"wave\", \"wave\", \"wave\", \"wave\", \"wave\", \"wave\", \"wave\", \"well\", \"well\", \"well\", \"well\", \"well\", \"well\", \"well\", \"well\", \"whop\", \"whop\", \"whop\", \"whop\", \"whop\", \"whop\", \"willful\", \"willful\", \"willful\", \"willful\", \"willful\", \"willful\", \"willful\", \"years\", \"years\", \"years\", \"years\", \"years\", \"years\", \"years\", \"years\", \"yell\", \"yell\", \"yell\", \"yell\", \"yell\", \"yell\", \"yell\", \"zales\", \"zales\", \"zales\", \"zales\"]}, \"R\": 30, \"lambda.step\": 0.01, \"plot.opts\": {\"xlab\": \"PC1\", \"ylab\": \"PC2\"}, \"topic.order\": [4, 5, 2, 6, 7, 3, 8, 1]};\n",
              "\n",
              "function LDAvis_load_lib(url, callback){\n",
              "  var s = document.createElement('script');\n",
              "  s.src = url;\n",
              "  s.async = true;\n",
              "  s.onreadystatechange = s.onload = callback;\n",
              "  s.onerror = function(){console.warn(\"failed to load library \" + url);};\n",
              "  document.getElementsByTagName(\"head\")[0].appendChild(s);\n",
              "}\n",
              "\n",
              "if(typeof(LDAvis) !== \"undefined\"){\n",
              "   // already loaded: just create the visualization\n",
              "   !function(LDAvis){\n",
              "       new LDAvis(\"#\" + \"ldavis_el1011397029947549201138358125\", ldavis_el1011397029947549201138358125_data);\n",
              "   }(LDAvis);\n",
              "}else if(typeof define === \"function\" && define.amd){\n",
              "   // require.js is available: use it to load d3/LDAvis\n",
              "   require.config({paths: {d3: \"https://cdnjs.cloudflare.com/ajax/libs/d3/3.5.5/d3.min\"}});\n",
              "   require([\"d3\"], function(d3){\n",
              "      window.d3 = d3;\n",
              "      LDAvis_load_lib(\"https://cdn.rawgit.com/bmabey/pyLDAvis/files/ldavis.v1.0.0.js\", function(){\n",
              "        new LDAvis(\"#\" + \"ldavis_el1011397029947549201138358125\", ldavis_el1011397029947549201138358125_data);\n",
              "      });\n",
              "    });\n",
              "}else{\n",
              "    // require.js not available: dynamically load d3 & LDAvis\n",
              "    LDAvis_load_lib(\"https://cdnjs.cloudflare.com/ajax/libs/d3/3.5.5/d3.min.js\", function(){\n",
              "         LDAvis_load_lib(\"https://cdn.rawgit.com/bmabey/pyLDAvis/files/ldavis.v1.0.0.js\", function(){\n",
              "                 new LDAvis(\"#\" + \"ldavis_el1011397029947549201138358125\", ldavis_el1011397029947549201138358125_data);\n",
              "            })\n",
              "         });\n",
              "}\n",
              "</script>"
            ],
            "text/plain": [
              "PreparedData(topic_coordinates=              x         y  topics  cluster       Freq\n",
              "topic                                                \n",
              "3     -0.008967 -0.034459       1        1  16.566589\n",
              "4     -0.001906  0.012568       2        1  16.498562\n",
              "1      0.032224 -0.001062       3        1  14.899456\n",
              "5      0.009615  0.021336       4        1  13.708011\n",
              "6     -0.036232 -0.011422       5        1  11.218267\n",
              "2      0.063056  0.018571       6        1  10.150572\n",
              "7     -0.052240  0.044367       7        1   9.273939\n",
              "0     -0.005550 -0.049898       8        1   7.684600, topic_info=        Term          Freq         Total Category  logprob  loglift\n",
              "361      fee   9978.000000   9978.000000  Default  30.0000  30.0000\n",
              "152    chase   7865.000000   7865.000000  Default  29.0000  29.0000\n",
              "71   payment  16525.000000  16525.000000  Default  28.0000  28.0000\n",
              "2    account  34014.000000  34014.000000  Default  27.0000  27.0000\n",
              "10   balance  11912.000000  11912.000000  Default  26.0000  26.0000\n",
              "..       ...           ...           ...      ...      ...      ...\n",
              "136  company    578.047974   8248.698242   Topic8  -5.1863  -0.0922\n",
              "221     tell    688.072083  14659.355469   Topic8  -5.0120  -0.4930\n",
              "102     bank    671.988892  16979.958984   Topic8  -5.0357  -0.6636\n",
              "130    state    525.914612   6516.405762   Topic8  -5.2808   0.0490\n",
              "17     check    498.469025   5981.747559   Topic8  -5.3344   0.0810\n",
              "\n",
              "[646 rows x 6 columns], token_table=      Topic      Freq        Term\n",
              "term                             \n",
              "1531      1  0.036717  aadvantage\n",
              "1531      2  0.119332  aadvantage\n",
              "1531      3  0.146870  aadvantage\n",
              "1531      4  0.055076  aadvantage\n",
              "1531      5  0.559941  aadvantage\n",
              "...     ...       ...         ...\n",
              "3172      8  0.021477        yell\n",
              "4006      1  0.824527       zales\n",
              "4006      2  0.037479       zales\n",
              "4006      3  0.074957       zales\n",
              "4006      4  0.037479       zales\n",
              "\n",
              "[2911 rows x 3 columns], R=30, lambda_step=0.01, plot_opts={'xlab': 'PC1', 'ylab': 'PC2'}, topic_order=[4, 5, 2, 6, 7, 3, 8, 1])"
            ]
          },
          "metadata": {
            "tags": []
          },
          "execution_count": 34
        }
      ]
    },
    {
      "cell_type": "code",
      "metadata": {
        "id": "2GgTFbabBbAS",
        "colab_type": "code",
        "colab": {
          "base_uri": "https://localhost:8080/",
          "height": 17
        },
        "outputId": "991eebb0-9c30-470c-a839-0541d1a8ad89"
      },
      "source": [
        "# create a dataframe of each document, its dominant topic, \n",
        "# its dominant topics score, the topic key words and the original text\n",
        "def format_topics_sentences(ldamodel, corpus, texts):\n",
        "    # Init output\n",
        "    sent_topics_df = pd.DataFrame()\n",
        "\n",
        "    # Get main topic in each document\n",
        "    # enumerate each topic and return number of topic, row of topic numbers and probabilities\n",
        "    for row in ldamodel[corpus]:\n",
        "        # sort row data into descending order\n",
        "        row = sorted(row, key=lambda x: (x[1]), reverse=True)\n",
        "        # Get the Dominant topic, Perc Contribution and Keywords for each document\n",
        "        # split row value into j (numerated), topic number, topic probability\n",
        "        # select top numerated (top ranked topic), retrieve topic text and join it altogether\n",
        "        # combine into pandas dataframe with topic text and probability of topic\n",
        "        for j, (topic_num, prop_topic) in enumerate(row):\n",
        "            if j == 0:  # => dominant topic\n",
        "                wordprob = ldamodel.show_topic(topic_num)\n",
        "                topic_keywords = \", \".join([word for word, prop in wordprob])\n",
        "                sent_topics_df = sent_topics_df.append(pd.Series([int(topic_num) + 1,\n",
        "                                                                  round(prop_topic, 4),\n",
        "                                                                  topic_keywords]), ignore_index=True)\n",
        "            else:\n",
        "                break\n",
        "\n",
        "    # Add original text to the end of the output\n",
        "    contents = pd.Series(texts)\n",
        "    sent_topics_df = pd.concat([sent_topics_df, contents], axis=1)\n",
        "    # add column names\n",
        "    sent_topics_df.columns = ['Dominant_Topic', 'Perc_Contribution', 'Topic_Keywords', 'Original text']\n",
        "\n",
        "    return sent_topics_df"
      ],
      "execution_count": 35,
      "outputs": [
        {
          "output_type": "display_data",
          "data": {
            "text/html": [
              "\n",
              "  <style>\n",
              "    pre {\n",
              "        white-space: pre-wrap;\n",
              "    }\n",
              "  </style>\n",
              "  "
            ],
            "text/plain": [
              "<IPython.core.display.HTML object>"
            ]
          },
          "metadata": {
            "tags": []
          }
        },
        {
          "output_type": "display_data",
          "data": {
            "text/html": [
              "\n",
              "  <style>\n",
              "    pre {\n",
              "        white-space: pre-wrap;\n",
              "    }\n",
              "  </style>\n",
              "  "
            ],
            "text/plain": [
              "<IPython.core.display.HTML object>"
            ]
          },
          "metadata": {
            "tags": []
          }
        }
      ]
    },
    {
      "cell_type": "code",
      "metadata": {
        "id": "GOs_Pud5BbAX",
        "colab_type": "code",
        "colab": {
          "base_uri": "https://localhost:8080/",
          "height": 17
        },
        "outputId": "a7b28b18-5552-4ba2-da0c-09a37a8e8519"
      },
      "source": [
        "topic_df = format_topics_sentences(working_model, working_corpus, ticket_data[\"Consumer complaint narrative\"].tolist())"
      ],
      "execution_count": 36,
      "outputs": [
        {
          "output_type": "display_data",
          "data": {
            "text/html": [
              "\n",
              "  <style>\n",
              "    pre {\n",
              "        white-space: pre-wrap;\n",
              "    }\n",
              "  </style>\n",
              "  "
            ],
            "text/plain": [
              "<IPython.core.display.HTML object>"
            ]
          },
          "metadata": {
            "tags": []
          }
        },
        {
          "output_type": "display_data",
          "data": {
            "text/html": [
              "\n",
              "  <style>\n",
              "    pre {\n",
              "        white-space: pre-wrap;\n",
              "    }\n",
              "  </style>\n",
              "  "
            ],
            "text/plain": [
              "<IPython.core.display.HTML object>"
            ]
          },
          "metadata": {
            "tags": []
          }
        }
      ]
    },
    {
      "cell_type": "code",
      "metadata": {
        "id": "oo-rE7evBbAh",
        "colab_type": "code",
        "colab": {
          "base_uri": "https://localhost:8080/",
          "height": 17
        },
        "outputId": "8881e8eb-3f63-41a3-8c9e-6cac28aba6d8"
      },
      "source": [
        "# create dataframe of top 3 most representative docs for each topic\n",
        "\n",
        "def get_top3_docs(dominant_topic_frame):\n",
        "\n",
        "    table_lst = []\n",
        "\n",
        "    # create dataframe of top 3 most representative docs for each topic\n",
        "    for i in range(1, int(dominant_topic_frame['Dominant_Topic'].max())):\n",
        "        # get indexes\n",
        "        indy = dominant_topic_frame[dominant_topic_frame['Dominant_Topic'] == i].sort_values(by='Perc_Contribution', ascending=False).index.tolist()\n",
        "        # test how many documents passed\n",
        "        if len(indy) <= 3:\n",
        "            for idx in indy:\n",
        "                table_lst.append(dominant_topic_frame.iloc[idx, :])\n",
        "        else:\n",
        "            table_lst.append(dominant_topic_frame.iloc[indy[0], :])\n",
        "            table_lst.append(dominant_topic_frame.iloc[indy[1], :])\n",
        "            table_lst.append(dominant_topic_frame.iloc[indy[2], :])\n",
        "\n",
        "    new_eg_df = pd.DataFrame(table_lst)\n",
        "\n",
        "    return new_eg_df"
      ],
      "execution_count": 39,
      "outputs": [
        {
          "output_type": "display_data",
          "data": {
            "text/html": [
              "\n",
              "  <style>\n",
              "    pre {\n",
              "        white-space: pre-wrap;\n",
              "    }\n",
              "  </style>\n",
              "  "
            ],
            "text/plain": [
              "<IPython.core.display.HTML object>"
            ]
          },
          "metadata": {
            "tags": []
          }
        },
        {
          "output_type": "display_data",
          "data": {
            "text/html": [
              "\n",
              "  <style>\n",
              "    pre {\n",
              "        white-space: pre-wrap;\n",
              "    }\n",
              "  </style>\n",
              "  "
            ],
            "text/plain": [
              "<IPython.core.display.HTML object>"
            ]
          },
          "metadata": {
            "tags": []
          }
        }
      ]
    },
    {
      "cell_type": "code",
      "metadata": {
        "id": "RZ_hs3l2BbAl",
        "colab_type": "code",
        "colab": {
          "base_uri": "https://localhost:8080/",
          "height": 17
        },
        "outputId": "0650b28f-d411-455a-cadf-735947d08ad3"
      },
      "source": [
        "# create a dataframe of the top 3 example documents of each dominant topic\n",
        "\n",
        "top3_df = get_top3_docs(topic_df)"
      ],
      "execution_count": 40,
      "outputs": [
        {
          "output_type": "display_data",
          "data": {
            "text/html": [
              "\n",
              "  <style>\n",
              "    pre {\n",
              "        white-space: pre-wrap;\n",
              "    }\n",
              "  </style>\n",
              "  "
            ],
            "text/plain": [
              "<IPython.core.display.HTML object>"
            ]
          },
          "metadata": {
            "tags": []
          }
        },
        {
          "output_type": "display_data",
          "data": {
            "text/html": [
              "\n",
              "  <style>\n",
              "    pre {\n",
              "        white-space: pre-wrap;\n",
              "    }\n",
              "  </style>\n",
              "  "
            ],
            "text/plain": [
              "<IPython.core.display.HTML object>"
            ]
          },
          "metadata": {
            "tags": []
          }
        }
      ]
    },
    {
      "cell_type": "code",
      "metadata": {
        "id": "rgbpjGPKBbAv",
        "colab_type": "code",
        "colab": {
          "base_uri": "https://localhost:8080/",
          "height": 1000
        },
        "outputId": "a16f5532-6260-45ab-ad11-d68ed33beb56"
      },
      "source": [
        "# print out the top 3 documents for each dominant topic for inspection\n",
        "\n",
        "for topic in top3_df.Dominant_Topic.unique():\n",
        "    \n",
        "    print(f\"Topic number {topic}\")\n",
        "    print(top3_df[top3_df.Dominant_Topic == topic].Topic_Keywords.tolist()[0], '\\n')\n",
        "    \n",
        "    subset_df = top3_df[top3_df.Dominant_Topic == topic]['Original text'].tolist()\n",
        "    \n",
        "    for idx, item in enumerate(subset_df):\n",
        "        print(\"text \", str(idx))\n",
        "        print(item, '\\n')\n",
        "    \n",
        "    print(\"----------\")"
      ],
      "execution_count": 42,
      "outputs": [
        {
          "output_type": "display_data",
          "data": {
            "text/html": [
              "\n",
              "  <style>\n",
              "    pre {\n",
              "        white-space: pre-wrap;\n",
              "    }\n",
              "  </style>\n",
              "  "
            ],
            "text/plain": [
              "<IPython.core.display.HTML object>"
            ]
          },
          "metadata": {
            "tags": []
          }
        },
        {
          "output_type": "display_data",
          "data": {
            "text/html": [
              "\n",
              "  <style>\n",
              "    pre {\n",
              "        white-space: pre-wrap;\n",
              "    }\n",
              "  </style>\n",
              "  "
            ],
            "text/plain": [
              "<IPython.core.display.HTML object>"
            ]
          },
          "metadata": {
            "tags": []
          }
        },
        {
          "output_type": "stream",
          "text": [
            "Topic number 1.0\n",
            "chase, receive, dispute, payment, service, late, charge, account, date, call \n",
            "\n",
            "text  0\n",
            "To Whom It May Concern : On XXXX XXXX, 2016 a letter ( see Chase Notification ) was sent to Chase which Chase received on XXXX XXXX, 2016 ( see Chase return receipt ). \n",
            "Chase did not respond to this letter and initiated dunning calls. \n",
            "On or about XXXX XXXX, 2016 Chase in response to a verbal comment, classified the charges as unauthorized and issued provisional credits. \n",
            "On XXXX XXXX, 2016 Chase posted a letter claiming that a benefit was received from those charges ( see Chase alleged benefit letter-XXXX and Chase alleged benefit letter-XXXX ) In XXXX XXXX, 2016 Chase called but we were out of the country. \n",
            "On XXXX XXXX, 2016 the letters Chase alleged benefit letterXXXX and Chase alleged benefit letterXXXX were received. \n",
            "Between XXXX XXXX, 2016 and XXXX XXXX, XXXX approximately 11 calls were made to Chase regarding this matter. \n",
            "On XXXX XXXX, 2016 a letter was sent to Chase ( see Chase executive ) Chase responded I. The initial notice of a billing error was received but did not apply as Chase alleged did not receive fraud letter til XXXX XXXX, 2016 XXXX. Chase policy requires certain form to be completed. \n",
            "XXXX. Chase policy required subpoenas for certain information. \n",
            "\n",
            "Chase violated XXXX XXXX XXXX XXXX by I. Exceeding 90 days allowed to resolve billing errors ( see Chase alleged benefit letterXXXX and Chase alleged benefit letterXXXX and Chase Notification ) XXXX. By claiming that the burden of proof is upon the card issuer to prove transactions were authorized ( See Chase Executive ) XXXX. By not providing documentation used to make decision. Chase alleged that there were recorded phone calls that proved authorization occurred, but only providing XXXX copies of receipts. ( See Chase XXXX receipt XXXX and Chase XXXX XXXX XXXX ) XXXX. By not providing all evidence required to prove that the charges were valid, despite repeated requests ( See Chase Emails ) XXXX By not complying with US banking laws despite being told explicitly of the violations ( see Chase Emails ) These violations are most egregious as Chase was informed of the violations in writing ( See Chase Executive ) but defended their actions with specious reasoning, claiming that the unauthorized claim occurred later than documented and referring to Chase policy regarding proper forms, which were submitted and Chase legal policy but never addressing the direct violations. \n",
            "I believe that Chase should not believe that it can not grossly violate the US Banking laws without recourse. \n",
            "\n",
            "text  1\n",
            "I am writing regarding a rewards credit card. My points earned in XXXX posted the account in XXXX. I had earned {$1200.00} worth of points/gift certificates in the period for the posting date ( 30 days later ) of XXXX XXXX. The points were redeemed for target gift certificates. After redemption, per Citicards agreement Citibank has an additional 30 days to mail the earned points certificates to the client. On XXXX XXXX I received an email from Citicards notifying me that the {$12000.00} worth of gift certificates had shipped. When I contacted them on XXXX after not receiving the gift certificates, I was told by a \" supervisor '' that the gift cards were not able to issued by their vendor with no apology and that the points are now being reposted to the account but wo n't be available until XXXX XXXX, and that Citibank/Citicards will ship them 30 days after they are redeemed again. \n",
            "\n",
            "As a consumer, there is an agreement. My points take a month to post and then when redeemed the credit card company processor has 30 days to comply. The gift cards should have been sent by the latest date of XXXX/XXXX/15 however the order was unfilled without notice ( other than the email sent showing that they \" mailed them '' ) due to Citicards failure to comply with their cardholder agreement. \n",
            "I was told by operation XXXX in the Florida XXXX order, Team # XXXX that it was \" my fault because I chose not to get cash back and instead chose gift certificates '', which is why Citibank failed to comply with the cardholder agreement. \n",
            "I was then told that I would receive a call back 3 days later on Saturday, but it would more likely be Monday regarding this but there was XXXX INTENT upon doing anything or HONORING their cardholder agreement. \n",
            "At this point, Citibank 's negligence is shocking and their customer service is deplorable. I signed up for the credit card after being a Citibank customer for 10 years, with the intent to follow the credit card holder agreement but yet Citibank has illegally failed to do so on their part. The rewards gift certificates will not even be received until XXXX XXXX at the earlier because of they wo n't repost to their system until XXXX XXXX and they have 30 days to send them from there. \n",
            "\n",
            "In short, Citibank is attempting consumer fraud by their complete disregard for the cardholder agreement and the failure to provide goods as agreed upon. \n",
            "\n",
            "text  2\n",
            "Chase card services had unfairly rejected my dispute of XXXX charges from XXXX XXXX for XXXX and XXXX billed to my chase credit card account XXXX XXXX XXXX XXXX on XXXX XXXX, XXXX. \n",
            "In the communication with me, chase employees have verablly insulted me and used XXXX. thus, i submit to you that chase 's action were an act of XXXX rdiscrimination against me. \n",
            "\n",
            "The XXXX charges in question were for the computers that I purchased from XXXX on XXXX XXXX, XXXX and then subsequently returned to XXXX. \n",
            "I have complied with XXXX return policy. however, chase refused to issue a credit Here is a timeline of what hapenned :. \n",
            "On XXXX XXXX, XXXX ie. within 30 days of purchase from XXXX, i have filled an appliction for return of both computers on dell website, per dell policy ( they require such application to be made withing 30 days ). \n",
            "But until now XXXX had failed to process those requests that I submitted and to issue me a RMA ( return merchandise authorization ) required for return. \n",
            "Their wesbite still shows that my requests are under investigation. \n",
            "I then contacted dell numeroud times, at first they did not respond but then in online chat with me dell said that they had a glitch on their website which caused my request for return to remain non-processeed but. Having admitted their fault, dell refused to authorize the return. \n",
            "I subsequently disputed these charges with chase. \n",
            "However, chase had refused to satisfy my dispute. chase sent me a response from dell in which dell stated that there is no record of return. in that letter, chase also informed me that dell had given to chase XXXX XXXX for my computers and address for return. \n",
            "I have called chase credit card service and was advised that I should send the computers to XXXX and then call back chase to confirm the return and then chase would issue a refund. \n",
            "I have now retured the computers to dell. I have a confirmation of dell receiving my computers by XXXX. i have called chase to inform them of this. However. \n",
            "chase still refuses to issue a credit and satisfy my dispute. Chase had also refused to acknowledge that dell had confessed that my initial request for return filed on dell wesbite had not been processed because of a glitch on dell wesbite, although I did send a transcript of my chat with dell to chase. \n",
            "I am attaching a transcript of my online chat with dell in which they admit that they did not process my request for return. i also attach copies of the request that I submitted to dell to return my computers in XXXX XXXX. \n",
            "\n",
            "----------\n",
            "Topic number 2.0\n",
            "fee, pay, charge, account, balance, payment, late, time, tell, receive \n",
            "\n",
            "text  0\n",
            "I been paying my Macy 's Star Rewards card on time every month for years. I would submit a payment weeks before the due date. My Minimum monthly payment was {$5.00} a month on a {$100.00} dollar credit limit since XXXX. Recently beginning in XXXX i received a notice saying i have a late payment with a pass due amount. My mind was puzzled so i called Macy 's credit card customer service and they said my monthly went up from {$5.00} to {$27.00} dollars a month. I explained to them that i did n't get any notice in the mail about the changes. They said they has a policy change so i asked what is the policy change and they put me on hold for a long time to get someone to answer that question. I got passed around to numerous representatives that could n't tell me the policy, was giving me different amounts on my bill. I was very frustrated! They even kept hanging up on me and being rude. Finally a nice and knowledgeable representative came on and helped me resolved this problem. The representative told me i was never late on payments also read the dates that i paid which was way on time before the due date. So she waived my pass due amount because i was never sent a notice on this policy change. I made a payment of my usual monthly but not the policy change monthly which was {$27.00} dollars due to not knowing. I was also upset at the previous phone representatives lack of knowledge, rudeness, and they blamed me for their mistakes. A phone rep told me \" You made a payment on time but Macy 's applied it after the due date why is that? '' In my mind i was thinking, you should tell me it 's your mistake. Because of all those trouble i decided to close my account. So Macy 's closed my account and gave me a remaining balance of XXXX something dollars. A week later i received a letter from Macy 's dating XXXX XXXX, XXXX ( before my monthly due date XXXX XXXX, XXXX ) saying my account was closed and not to attempt to use my account and no further charges will be authorized. No statement was sent to me for my remainder balance. I called Macy 's credit on XXXX XXXX XXXX to find out i was charged a late fee for a pass due amount again. On top of that my account was n't closed. I called back the next day and they still demanded the late fee and balance amount. Also they were saying i did n't close my account. Later on after a long wait on the phone they admitted that last month they closed the account but they left it open. I asked why and got no answer from them. The phone rep just hanged up on me. How rude! So they said they was going to close it again but i still have to pay the late fee. The thing is i was never late and i care about my credit history and Macy 's is saying I 'm late. I have never had this problem with any credit card company just Macy 's, My account was supposed to be closed, they gave me the remaining amount over the phone then they went ahead and charge me a late fee for the month of XXXX and kept my account open. I feel Macy 's credit card should not give out not accurate info. to people, be a little more polite and caring, and stop trying to squeeze out some extra dollars from people. People want to keep a clean payment history and to put it was late when it was not, to me that is wrong. Macy 's should of closed my account and keep the remaining balance owed to them the same and not raising it with late fees. \n",
            "\n",
            "text  1\n",
            "My wife and I have had a credit card relationship with Citi/XXXX Card for many years.e We have never defaulted on any due payment, although we were a few days late once two or three years ago while we were traveling. \n",
            "\n",
            "During this calendar year, we did not receive any CitiCard monthly statment for any billing period ending in XX/XX/XXXX, XX/XX/XXXX or XX/XX/XXXX. After making a diligent search for a statement, I called CitiCard customer service and spoke with an agent on XXXX XXXX, 2016. I told the agent that we had not received a statement during 2016 and asked her to check our account. The agent checked our account and reported to me there was a charge of {$28.00} that was overdue as of XXXX XXXX, plus a late fee of {$25.00}. The agent then told me that if I would authorize her to debit my checking account the amount of {$28.00}, she would \" reverse '' the late fee of {$25.00}. I then authorized her to charge my checking account with XXXX XXXX XXXX the amount of {$28.00}. The agent then put through the charge of that amount on my checking account. She then told me : \" She will send me a corrected statement showing that they credieted my account with the payment of {$28.00} and that the late fee of {$25.00} would show as 'reversed'. \" I asked the agent for her name and a confirmation number covering the transaction. The agent gave me her name and XXXX XXXX. XXXX. I relied on what that agent confirmed to me. \n",
            "\n",
            "Had that agent told me that CitiCard would not reverse the late fee of {$25.00}, I would have authorized her to charge my account the total of {$53.00}, the amount overdue plus the late fee assessed. \n",
            "\n",
            "Then, last Friday, XXXX XXXX, I received the latest statement form CitiCard in my mail for the period of XX/XX/2016-XX/XX/2016. On reviewing this statrment, I found that CitiCard had credited my account with the payment of {$28.00} on XX/XX/XXXX ( which did agree with the transaction confirmed by the agent duriing our telephone conference of XXXX XXXX, 2016. \n",
            "However, this current statement did not show that the late fee of {$25.00} had been reversed. \n",
            "Adding to my frustration, this latest statement showed another late fee based on the fact that the first late charge of {$25.00} had not been reversed and was included in the ACCOUNT SUMMARY-Previous balance of {$53.00}, before the credit of the payment of XX/XX/XXXX in the amount of {$28.00}. \n",
            "I then called XXXX Customer Service. I spoke with Agent No. XXXX and reviewed the facts with him, including the reading of my notes of my earlier call of XXXX XXXX, 2016. Agent no. XXXX told me that I would have to pay both late fees and also the interest charge of {$0.00} which was assessed on the latest statement. I asked to speak with his supervisor. Another agent came on the line and after going over the facts with her, she also told me that I would have to pay both late charges as well as the interest charge. ( I asked both Agent XXXX and XXXX for their names, and I have made note of their names. I then asked Agent No. XXXX to speak with her the manager. I was told that I would receive a call from the manager in the next 12-24 hours. I did receive a call an hour or so afterwards from a woman who said she was a manager. She did not give me her name or any ID. She told me that she had reviewed my account and that I would have to pay the entire balance including both late fees and the interest charge. I told her that that was \" unfair and unreasonable ''. I also told her that my wife and I have always made extra efforts to pay our bills on time or ahead of time, and that I was very concerned that by CitiCard 's continued showing the overdue balance for the XXXX late charges, that it might affect our very high credit scores with credit reporting bureaus. This agent told me that it would not. ( given, the facts stated above, I have good reas on to question this agent 's response. ) XXXX XXXX XXXX \n",
            "\n",
            "text  2\n",
            "1. XXXX XXXX, XXXX I charged {$37.00} of store merchandise on my Macy 's credit card. \n",
            "2. XXXX XXXX, XXXX statement showed a late charge of {$25.00} 3. XXXX XXXX, XXXX I called Macy 's requesting a refund of the late charge. The late fee was reduced {$13.00} leaving a late charge of {$14.00}. I was n't happy about that, since my credit history is that of a good customer. I asked to speak with a supervisor. Customer service refused. \n",
            "a. While on the XXXX XXXX, XXXX call I paid {$51.00} ( {$37.00} merchandise plus {$14.00} late charge, on the phone. \n",
            "b. While on the XXXX XXXX, XXXX call I asked that the account be closed. The Macy 's representative refused to close the account. \n",
            "4. XXXX XXXX, XXXX, I received another statement from Macy 's dated XXXX XXXX, XXXX that showed a new late charge and interest charge totaling {$37.00}. \n",
            "5. I settled the total balance of my account on XXXX XXXX, XXXX yet Macy 's continued to compound late charges and interest charges in the months that followed until the total balance was {$260.00}. \n",
            "6. During the months that followed, I called Macy 's attempting to close the account and resolve the matter. The representative for Macy 's refused to negotiate - demanding the total balance of late charges and interest charges be paid. I explained the merchandise charge plus the late charge and interest was paid in full on XXXX XXXX, XXXX and the charges outstanding were nothing more than late charges and interest charges on late charges and interest charges. \n",
            "7. I subsequently received a letter, dated XXXX, and another, dated XXXX ; with both letters being from XXXX different/ distinct addresses : XXXX XXXX XXXX, XXXX , OH XXXX with the other address on the letter being : Payment Processing, XXXX XXXX XXXX, XXXX , OH XXXX. The letters asked me to pay the accumulated late + interest charges. I paid on XXXX XXXX. \n",
            "8. On a statement, ending on XXXX XXXX, XXXX, they stated that the balance due was {$260.00}, and due on XXXX XXXX, XXXX. In XXXX, XXXX I received a letter dated XXXX XXXX, XXXX, from : XXXX, OH XXXX, stating I owed {$260.00}. \n",
            "9. In XXXX, XXXX, I received a letter, dated XXXX XXXX, XXXX, from XXXX, TX XXXX, for {$260.00}. This amount is about 7 times the amount of the merchandise I paid for. \n",
            "10. On XXXX XXXX, XXXX, I called the Macy 's phone number, trying again to settle this issue, and was transferred to the \" Interior Recovery Unit Department '', where I talked with XXXX. XXXX required the last XXXX digits of my SSN. XXXX said it was in the charged off status, and XXXX XXXX XXXX had it, but that she ca n't see when the charges were so she 'll mail me the statements from XXXX to XXXX, XXXX, but that it will take 2-4 weeks to receive them. When she hung up, she said, \" Thanks for calling Citibank ''. Somewhere along the way, the address got changed to XXXX in XXXX, AZ. There are so many addresses and phone numbers to call, and when I do call to make things right, no one can or will help me get the whole story, and have refused to close the account in order to stop the accumulation of fees. I think the people answering the question lines are trained bullies, not intending to actually help the customer. \n",
            "11. It sounds like Macy 's is using Citibank for their credit card service and support. \n",
            "12. I received my Homeowner Insurance bill in XXXX XXXX and in the bill it showed that my credit score was XXXX in the prior year. My current score shows as XXXX. It appears my credit was destroyed for a purchase, late charge, and interest charge of {$51.00} that was paid in full on XXXX XXXX, XXXX. \n",
            "\n",
            "----------\n",
            "Topic number 3.0\n",
            "payment, balance, pay, bank, rate, payments, time, statement, call, account \n",
            "\n",
            "text  0\n",
            "I have a promotional balance on my credit card with a 0 % interest rate that stemmed from a promotional check written XX/XX/XXXX. On XX/XX/XXXX I made a purchase for {$340.00} and on XX/XX/XXXX for {$6.00}. On XX/XX/XXXX I made a payment of {$650.00}, which is well over my purchase amount and minimum payment of {$69.00}. \n",
            "XX/XX/XXXX statement closedXX/XX/XXXX {$4.00} interest chargedAccording to them they charge interest from the day the transaction posts until it is paid off. Also according to them, minimum payments are applied first to the lowest interest balance ( in my case 0 % ) and then any payment amount over the minimum is applied to the highest interest balance ( my purchase balance ). They state payments are posted the day they are received. After my above payment, my opening daily balance subject to interest on XX/XX/XXXX should have been XXXX. I have had issues since. I have made numerous calls, gone to numerous branches, and sent numerous emails. I have requested a list of my daily balances like all my other credit card companies provide. This was their response : '' At this time, we can provide you the formula used to calculate interest and a copy of your billing statements showing the outcome. We do not have specific criteria with numerical data as this is an automated billing process. As required though, in your monthly billing statement, we do specify your balance subject to interest, the corresponding Annual Percentage Rate ( APR ) and the amount of interest charges billed to the account. \" XXXX From Chase : '' To calculate your balance subject to the interest rate, we start with any balance carried over from the previousday and add new charges or fees then SUBTRACT NEW PAYMENTSor credits. This gives us the daily balance for one day. \" \" Next, we add together the daily balances for all days inthe billing period and divide this total by the number ofdays in the period. This gives the balance subject to theinterest rate for the billing period. \" Adding together my daily balances = {$8100.00} / 31 days in billing period = {$260.00} ( bal sub to interest rate ) 1. 15.24 ( interest rate ) / XXXX = XXXX. XXXX x XXXX = XXXX. XXXX x {$260.00} = XXXX. XXXX / XXXX = {$3.00} interest for that statement. ( I was charged {$4.00} ) Statement XX/XX/XXXX to XX/XX/XXXX : Daily purchase balance subject to interest rate is XXXXfor all days not listed, since all purchases should havebeen paid off as outlined above. \n",
            "XX/XX/XXXX XXXX ( purchase XXXX + purchase XXXX ) XXXX XXXX XXXX XXXX XXXX ( CASH PAYMENT IN BRANCH {$2400.00} ) XX/XX/XXXX XXXX ( bal subject to interest rate ) XXXX XXXX ( purchase ) XXXX XXXX XXXX XXXX XXXX ( payment posted {$700.00} ) I already paid myminimum payment so this entire payment should have gone tothe purchase balance of {$450.00} on XX/XX/XXXX, the remaindertowards the 0 % balance ) Interest for that statement:XX/XX/XXXX-XX/XX/XXXX daily bal was XXXX x 4 days = XXXXXX/XX/XXXX-XX/XX/XXXX daily bal was XXXX x 4 days = XXXX + XXXX = XXXX / 30 days in billing cycle = {$190.00} bal subject to interest1. 15.24 interest rate / XXXX = XXXX. XXXX x 30 days in billing cycle = XXXX. XXXX x {$190.00} = {$240.00}. {$240.00} / XXXX = {$2.00} interest for that statement. Iwas charged {$10.00}. \n",
            "\n",
            "Statement XX/XX/XXXX to XX/XX/XXXX : The only transaction the whole cycle was a payment on XX/XX/XXXX for {$510.00}. ( I was charged {$19.00} interest for this period in which I had NO PURCHASES meaning XXXX DAILY BALANCE. This is when I was told I was charged interest because of double billing cycles. ) Statement from XX/XX/XXXX to XX/XX/XXXX : I was charged {$12.00} in interest, no purchases for two cycles.XX/XX/XXXX payment of XXXX. \n",
            "Statement from XX/XX/XXXX to XX/XX/XXXX : Charged {$5.00} in interest, no purchases for three cycles now. XX/XX/XXXX payment of XXXXAccording to their stated formula, they have been applying my payments wrong and refusing to fix it. \n",
            "\n",
            "text  1\n",
            "The Banks holding Credit-Card Debt are UN-FAIRLY manipulating their \" Payment Allocation '' ( methodology ) to FAVOR \" Pay-Down '' of LOWER Interest-rate \" Remaining Balance-Due '' while INCREASING those \" Remaining Balance Due '' amounts remaining at HIGHER Interest rates as-follows : See Your \" Charge Summary '' as those \" Line-Items '' depicting ( Your ) various \" Purchases '' or \" Cash Advance '' or \" Balance Transfer '' or \" Special/Loan/Program '' followed by It 's \" Terms '' itemized as \" APR '' with \" Fixed Interest '' ( terms ) depicted as ( f ) and \" Variable Interest '' ( terms ) depicted ( v ), then followed by \" Balance Subject to Interest Rate '', then \" Days Rate Used '', and finally that \" Interest Charged '' ( You ) over those ( Days ) It was accrued as-such. \n",
            "\n",
            "Whereas I have XXXX ITEMS on My \" Charge Summary '' for them to \" Allocate Payment '' - and DESPITE that I PAID OVER {$36.00} MORE THAN My \" Minimum payment Due '' of {$240.00} ( for actually paying {$280.00} ) - The Banks \" Payment Allocation '' rather went-down exampled as-follows : ( A ) \" BT SPECIAL '' ( Balance Transfer Special ) amount of {$10000.00} held@7.99 % ( v ) RATHER INCREASED {$1.00} to {$10000.00} for NO PAYMENT ALLOCATION WHATSOEVER ~ AND DESPITE ME PAYING MORE THAN {$36.00} ABOVE the \" minimum-payment due '' AND well-before It 's \" Due Date ''. \n",
            "\n",
            "( B ) \" BT SPECIAL '' outstanding-balance of {$600.00} held@7.99 % ( v ) DECREASED to {$570.00} for the \" Payment Allocation '' to It of {$29.00} ( C ) \" BT SPECIAL '' outstanding-balance of {$1800.00} held@5.99 % ( f ) DECREASED to {$1600.00} for a \" Payment Allocation '' of {$170.00} ~ Indeed HERE is where THEY apply THE LION-SHARE of that {$280.00} \" Payment '' ... toward paying-down what \" Balance '' I 've secured at Low/Fixed-Interest :? \n",
            "\n",
            "IT 'S A PROBELM TO CONSUMERS WHEN \" PAYMENT ALLOCATIONS '' ARE RATHER MIS-ALLOCATED TO RATHER CAUSE AN INCREASE IN OUTSTANDING DEBT! \n",
            "\n",
            "IT 'S A PROBLEM TO CONSUMERS WHEN PAYING THE MINIMUM PAYMENT DOES N'T AT-LEAST ABATE \" NEGATIVE AMORTIZATION '' ( Growth vs. Reduction ) OF ONES \" DEBT ''!! \n",
            "\n",
            "IT 'S A PROBLEM TO CONSUMERS WHEN PAYMENT ALLOCATIONS RATHER PERPETUALLY INCREASE THOSE BALANCES \" REMAINING '' AT HIGHER INTEREST DESPITE ONE MAKING MORE-THAN THE \" MINIMUM PAYMENT DUE '' BECAUSE IT 'S UN-FAIR AND ETHICALLY WRONG!!! \n",
            "\n",
            "The Example again : Whereas My \" Minimum Payment Due '' was {$240.00} - and I rather-paid {$280.00} - My \" XXXX XXXX BT Special '' @ 6 % FIXED APR \" Balance Subject to Interest Rate '' ( Balance Outstanding ) DROPPED for a payment-allocation made toward IT of {$170.00} ... \n",
            "\n",
            "BUT My \" XXXX XXXX BT Special ''@7.99 % VARIABLE INCREASED for an additional {$1.00} BEING ADDED TO IT ... \n",
            "\n",
            "THIS DESPITE PAYING MORE THAN THE \" MINIMUM-PAYMENT DUE '' PAYING THE \" MINIMUM PAYMENT DUE '' SHOULD ALWAYS AT-LEAST SATISFY MAINTENANCE OF THE ACCOUNT STATUS-QUO vs. INDUCE ANY NEGATIVE AMORTIZATION ~ AS IT IS RATHER DOING EXACTLY AND DESPITE ( ME ) MAKING MORE-THAN THAT \" MINIMUM PAYMENT DUE ''. \n",
            "\n",
            "This has gone-on for years now despite MINE AND OTHERS protests to \" Creditors '' and SHOULD therefore now go to FEDERAL Court as a Class-Action Lawsuit to STOP IT!!! \n",
            "\n",
            "This CURRENTLY ALLOWED PRACTICE OF THE BANKS is an UN-FAIR manipulation of that methodology employed to calculate \" Payment Allocation '' and IT MUST STOP NOW with Mine, Yours, and Our protest TODAY, Thank You. \n",
            "\n",
            "text  2\n",
            "In XXXX of XXXX I took advantage of a promotional deal that Bank of America was running through my credit card. I used a check they issued with a 0 % APR until XXXX XXXX. Unfortunately my financial situation did not allow me to pay off this debt by the end promotional period. So starting XXXX XXXX I have been paying the agreed upon 21 % APR on the remaining balance that is subject to this rate. I unfortunately hit a difficult financial time and maxed this credit card out. I am unable to make payments beyond the minimum balance at this time, but I have not missed a payment and continue to pay on time. For standard purchases the APR is 14.99 %. \n",
            "\n",
            "Here is where I am upset : It is my understanding that the minimum payment is calculated by adding the interest accumulated on each outstanding balance ( the 21.99 % and the 14.99 % ) and 1 % of the overall balance due. \n",
            "\n",
            "It is also my understanding that if I pay the minimum payment the whole payment is applied to the standard account ( the account with the lower interest rate ). This means that the balance of the larger interest actually increases each month because the interest earned from the previous month is added to the Balance Subject to Interest Rate ( BSIR ). In XXXX XXXX the was {$4700.00} for my 21.99 % portion of my BoA balance. As of my last statement ( ending XXXX XXXX, XXXX ) I now owe {$5500.00} for my 21.99 % portion of my BoA balance. This BSIR increases by over {$100.00} each month, and the interest amount increases each month because the BSIR increases. \n",
            "\n",
            "I have talked to BoA. They claim that the Fair Credit Act directs them as to how to apply my minimum payment across multiple APR balances on XXXX card. Now I have read the Fair Credit Act. It was boring. It does dictate how to apply payments OVER the minimum. It does not clearly state how minimum payments should be applied. \n",
            "\n",
            "It is my assertion that BoA is exploiting a loop hole and hiding behind that FCA. \n",
            "\n",
            "Minimum payments should not penalize consumers by increasing debt. Money should be applied to the accounts so that in this case the balance for the higher interest portion does not increase each month. In order for this to stop happening to my account I must pay enough to pay the minimum payment plus the higher interest portion of my debt, least I increase the debt in the higher interest account all over again. \n",
            "\n",
            "----------\n",
            "Topic number 4.0\n",
            "charge, tell, call, bank, say, pay, time, ask, receive, account \n",
            "\n",
            "text  0\n",
            "On XX/XX/2016, while I was in XXXX, I purchased a mobile AC unit from XXXX on my Bank of America credit card in the amount of {$670.00}. A/C was delivered to my apartment the next day. After unpacking the unit & using it for a few days, we noticed it was n't cooling. We packed the AC unit along with all the parts back into the box it was delivered in & went to the store to return the defective item within the 14 day return time frame. Their return policy on the back of receipt stated customer has 14 days to return item for full refund. When we arrived at XXXX, we were told the unit was n't eligible for refund because the box had been opened. I disputed this with the manager because obviously we would have to open the box & use the unit to realize it was defective. They told me we would have to leave the unit to be examined by their repair shop before they could issue a store credit. The inspection would take 2-3 weeks & we were leaving XXXX in 2 days. I explained we did n't have time to wait for the unit to be inspected & I requested either a refund or an exchange for a similar unit that was the exact same price. They denied my request. After spending 2 hours disputing this issue in the store, we left the unit with them. They sold us a defective item, would n't exchange it or give us a refund & they still have the unit in their possession. I immediately placed a dispute on the charge with Bank of America. I received a letter from Bank of America stating they needed all supporting documentation, a detailed letter & the reason our return was not successful. We sent Bank of America everything they requested via fax/mail. On XX/XX/2016, I received a letter from Bank of America stating they were unable to obtain credit from the merchant. I called Bank of America Merchant Response Department & spoke with XXXX & XXXX. I was on the phone with them for over 2 hours explaining what happened & inquiring why the credit was denied. XXXX told me that she would re-open the dispute for further investigation. On XX/XX/2016, I received another letter from Bank of America stating that after further review, they were n't able to determine a billing error occurred. I called Bank of America again & after speaking to XXXX again, she requested I send XXXX 's return policy. I faxed her XXXX 's return policy along with the return policy on the back of my receipt. XXXX explained that because the information was in XXXX, her team was having a hard time deciphering it, but she would find someone that could translate it & she would be in touch. On XX/XX/2016, we received another letter from Bank of America stating they exercised all available options & they were unable to obtain a credit from the merchant. I called Bank of America yet again & spoke with a supervisor. XXXX, the supervisor with Bank of America, stated that since the merchant had looked at the faulty unit & deemed it was working properly & it was now ready to be picked up, they were unable to issue us a credit. I explained that we returned the item within the 14 day time grace period, I did not want this unit, it was no longer in my possession, XXXX refused a refund or an exchange. XXXX then stated that due to all of the documentation we sent being in XXXX, they could not fully decipher the merchant 's return policy & that she would have to get someone else to translate the information yet again, but that they would n't be able to respond to any further correspondence regarding this claim. I am now requesting your assistance, I have submitted everything as requested, I returned the defective unit within the allotted time frame, Bank of America has had a sufficient amount of time to translate the documents, I am within my rights, I 've spent numerous hours disputing this & I should not have to pay for this item. Bank of America wo n't help. \n",
            "\n",
            "text  1\n",
            "To whom it may concern, I filed credit card disputes with Wells Fargo VISA and XXXX VISA after I bought an extendable dining table that was defective. The result of the XXXX investigation into the matter was that XXXX violated XXXX policies and I was refunded the full amount of {$1800.00} charge for the down payment for the table. Following Wells Fargo 's investigation, I was told, \" We are unable to obtain a refund on your behalf because your dispute falls within the merchants 's pricing and policies, which we have no authority to change ''. I asked them specifically which \" pricing and policies '' they were referring to and they were unable to give a satisfactory explanation. As of now, the merchant has the full amount of {$1800.00} I charged for the remaining balance of the table ( not just the 30 % restocking fee the merchant was withholding which was what I was disputing ) and they have possession of the table. \n",
            "When the table was delivered, the XXXX professionals from the delivery company were unable to assemble the table properly. They were unable to level the sections of the extendable table and each time they leveled XXXX side, the other side became unleveled. Also, when the table was extended, the sections scraped together which would eventually cause damage to the tabletop. After XXXX hours they were unsuccessful. The following week, the Manager and Warehouse Assistant from XXXX spent 2 more hours attempting to assemble the table encountering the same problems as previously. I was told by the Warehouse Assistant that the table would need all new hardware and the Manager said they would order me a new table. When the table was picked up to be returned, the XXXX professionals were unable to take the table apart and after 2 hours turned the table on it 's side and dragged it out on a blanket. \n",
            "Feeling uncertain about the purchase, I called the merchant to say I did not want to order a new table. She became defensive, confrontational and argumentative. She told me I would have to pay for a 30 % restocking fee and I told her I did n't feel I should have to pay for returning a defective table that never worked properly while in my possession. My receipt states the 30 % restocking fee is for custom items \" not taken '' and I did take the table and allowed them opportunity to resolve it 's issues. I requested a return when the problems were not resolved. The receipt also states \" credit card refunds '' as this is how my original purchase was paid - it does not state that I have to use the money refunded as store credit. The receipt states \" Final Sale '', which I interrupted to mean I could n't return merchandise that was in working order and the merchant was willing to refund my money and return the table and was just withholding a 30 % restocking fee, which is what I was disputing. She did not know what the issue was with the table until it was returned to the store. I 'm unsure why she would reorder another table for me if it was just a minor issue as she stated. \n",
            "I received several emails from Wells Fargo VISA during the dispute process stating, \" We 're making progress on your dispute '' but was never shown the merchants responses or asked to respond or clarify the situation and after many months I got a phone call stating my dispute was closed. \n",
            "I am reaching out for your assistance to help me resolve this situation as I feel I am entitled to a full refund. I am confused that XXXX banks investigated the same dispute with different outcomes and I would like this explained. The reason I use my credit card to purchase large items is for the protection they provide consumers when they do n't get what they paid for or receive a defective product. \n",
            "\n",
            "text  2\n",
            "XXXX XXXX XXXX came into my store to purchase a watch. She called me on XXXX XXXX, 2016 at XXXX inquiring about an ad she saw on XXXX where I advertise my watches. She was asking questioned and I told her she was welcome to come see the watch if she likes. She asked if she can come in the same day, I told her I normally do n't take customers after XXXX but, since it was a woman I felt comfortable to let her come in. She said she can be there by XXXX because she works at XXXX and she can get to my office pretty quickly. I figured it should n't take that long so I said ok. At XXXX I called her to see where she is and she told me she was exiting and that there was a lot of traffic. I called her back again at to let her know that I ca n't just sit here all day waiting for her but, she told me she was parking the car across the street. \n",
            "Anyway, she was in my store a little after that. She came in and asked many questions and I showed her other options. She decided to go with the one she initially saw online. By this time it was almost XXXX. I was rushing because my parking lot closes at XXXX. She gave me her credit card and before I submitted the transaction, I looked up at her face and gave her the total which was {$2000.00} + 9 % tax at the time which was {$180.00}. So her total was {$2100.00}. She gave me this look like Oh great and I asked her if it was ok for me to run the card. She gave me the ok and I went ahead and did it. After I submitted the transaction, I asked for an autograph from her but as we got busy talking and I had to provide other documents to her, she took my copy of the signed receipt and I did n't realize it. Before all that, she mentioned to me that she was nervous because she has never made such a big purchase for herself and I told her that I 'm sure she deserved it. \n",
            "\n",
            "Anyhow, 3 weeks later, she filed a dispute with her credit card ( Discover ) that she never authorized the charge. I called her the next morning after seeing the email from XXXX to remind her of the transaction but she hung up the phone on me as soon as I told her who I was. I called back one more time but she sent me straight to voicemail. \n",
            "I immediately went to XXXX and filed a police report for fraud. The detective got a hold of her because I had her phone number, and she stated to the detective that she had n't been to my store or anywhere near downtown XXXX XXXX for the past 2 months. The next day she called the detective back and gave her a different story. She told her that she was afraid to tell the truth because someone had supposedly been harassing her therefore, she was n't sure if the detective was a real detective or not. Now that she was scared that I reported her, she changed her story and told the detective that she was in my store but I charged her the wrong amount. \n",
            "This entire time, my merchant who is XXXX was the middle person between me and her credit card. I gave all the supporting documents that they asked for. They finally came back and said that I charged her too much. i was ok with giving her the difference just to end this nonsense but Discover decided to go in her favor and refund her entire {$2100.00} and she got to keep the watch. She then claimed that the watch is not a good quality. Fine then, you should have brought it back to me. Why play games? This was all set up and Discover gave all her money back to her and she kept the watch. Really? It 's either bring the watch back and get all the money or lets just give this person who has nothing else to do but to XXXX other people some change back so we can all move on with our lives. I 'm not happy with the outcome. Discover knows that she 's lying. She changed her story several times. in the end they know supposedly I charged her more. Then she should be getting back the difference. Why the entire amount? Why a free watch? Is this how messed up the system is? \n",
            "\n",
            "----------\n",
            "Topic number 5.0\n",
            "account, report, call, receive, tell, payment, balance, pay, send, bank \n",
            "\n",
            "text  0\n",
            "XX/XX/2015 I received a letter ( dated XX/XX/2015 ) that my address was changed on my account. I called back and told them that I did not request or submit an address change. When I spoke with Customer Service Rep I was told that it was changed as a result of a United States Postal Service address change done on XX/XX/2015. The Rep changed my address back to the correct address. The Rep advised me to call Fraud Protection tomorrow because they were currently closed. That night I also called the USPS and spoke with someone who informed me that there was no record in their system that my address was changed. If change was done on XX/XX/2015 it would have shown up in their system by now. XX/XX/XXXX Called Fraud dept, spoke with woman and told her that the previous person I spoke with did not verify my password before discussing my account, she made a special notation on account prompting password verification. Password placed on my account on XX/XX/2015, after being made aware that fraudulent activity incurred on XX/XX/2015, and is not being utilized. I called back to notify company that the XXXX had no record of address change and asked again What prompted the address change? No results after that phone call. XX/XX/2015 spoke with XXXX XXXX XXXX from USPS and verified that no address change placed in system. Called Credit Card company back XX/XX/2015 to further try and understand what exactly prompted the address change, so far information was confusing. Was transferred to \" XXXX '', after a brief research, I was told that a person in the collections department authorized and address change on my account 15min after previous Fraud Case closed. Question the timing for the case being closed and the phone call being made into company to the same department. Customers usually call Customer Service not Collections. I asked her how a person can call in and change info on my account without verifying my password? Was placed on hold and when she came back she informed me that they \" are not required to ask for the password ''. But as of XX/XX/2015 a special notation was placed on my account that stated that the password must be verified. I questions why was n't that put in place when I placed the password on the account in the 1st place back on XXXX? Again the response was that they are not required to ask for password, but they will from now on because of the special notation. No resolution after that phone call. Wanted to speak with Fraud Dept but they were closed. XX/XX/2015 Called again to speak with Faud Dept regarding matter, was told again that address change was from USPS, I had to tell them again that I spoke with XXXX there was no record of address change. Was transferred to Cust Serv Manager who informed me that it was not from USPS, that there was a notation on XX/XX/XXXX at XXXX that someone called in and were unable to verify account password. However the address change time was noted to be XX/XX/2015 at XXXX. Confusing ... What compounds the situation is that the address was changed to a known fraudulent address ( police report made previously ) even though the person calling in was unable to verify the password. Information ( address of customer ) being changed on account even though person calling in was unable to verify password is unacceptable. I spent hours calling in on multiple days speaking with multiple personnel to try and find out what exactly happened and still am not XXXX % certain why address was actually changed. I was not able to get an answer. The closest answer I was able to get was from \" XXXX '' in the Fraud Dept stating that in his opinion with his \" years of experience '' sounds like human error. UNACCEPTABLE! \n",
            "\n",
            "text  1\n",
            "This item, a hard inquiry on my credit report that was pulled on XXXX XXXX XXXX, is inaccurate because I already had a hard inquiry pulled on XXXX XXXX XXXX when I first applied for my credit card. I am requesting that the item be removed to correct the information. \n",
            "On XXXX XXXX XXXX I went onto the Barclays website to see about requesting a credit line increase. While going through the process of requesting an increase online, I was taken to a new webpage that said there was a system error and that my request could not go through. It told me to call customer service at XXXX to speak with customer service to request an increase over the phone. Because of this error, I did not try to submit another request and instead just wait to speak with customer service at a later time. After trying to read more information about the error issue, I learned that requesting a credit line increase may affect my credit score. Since I had just received a hard inquiry on my credit on XXXX XXXX, I decided to wait until Barclays increased my credit line on their own to not jeopardize my score. I 'm not sure if the error was a Barclays website error or perhaps an internet issue on my end, but I was and still am certain the request did not go through. I never received confirmation by email, phone, or mail that my request went through. I was also never informed of a decision. \n",
            "I later received a credit report alert that a hard inquiry was pulled and this is where I was notified that my credit was checked and apparently the request did go through on Barclays ' end. I tried emailing Barclays through my account message center and have also written numerous letters. In this time I have not received adequate help and a proper investigation was not done. I have been disputing this issue since XXXX XXXX. After writing another email in the message center, I called Barclays Bank to try and speak to a manager or supervisor. I spoke with a Barclays Bank manager named XXXX on XXXX XXXX XXXX at XXXX about this issue. XXXX explained that the request did go through on Barclays end however that Barclays ' policy is that typically when someone requests a credit line increase within 30 days of their account opening, that a hard inquiry is pulled. My account was opened XXXX XXXX and I tried to request an increase on XXXX XXXX. That 's over 30 days. According to their policy, this inquiry should therefore be removed. \n",
            "XXXX explained that as a manager he could n't retract a hard inquiry on someone 's credit report. He suggested I try writing to the credit bureaus and possibly try contacting the Federal Trade Commission. I have contacted both and so far have only received a response from XXXX, the credit bureau that has reported the unauthorized hard inquiry on XXXX XXXX. XXXX said I should contact Barclays, the creditor, about removing the inquiry as the creditor is the only one that can do that. \n",
            "In my last dispute letter to Barclays on XXXX XXXX, XXXX I enclosed a call detail record from XXXX XXXX so they could see I spoke with Barclays about this issue verbally. All written conversations are available in the message center and hopefully all mailed letters have been added to my account by their team. \n",
            "I have yet to hear back from them in regards to my last letter. However, I am aware it takes up to 30 days. I 'm not sending in a complaint about not hearing back from them. I am sending in a complaint because I have been fighting this issue for months and know they will continue to ignore their own policy and not remove the incorrect and unauthorized hard inquiry. \n",
            "\n",
            "text  2\n",
            "I lived in XXXX for many years. In XXXX I began preparing to move to XXXX to care for my XXXX parent. I opened a Sears account in XXXX and purchased a washer-dryer from Sears in XXXX, which was delivered to a XXXX address. At that time, I still lived in an apartment in XXXX. I had the washer-dryer delivered to the XXXX address at which I would be moving and had the billing statements sent to my XXXX address. By the time I moved to XXXX a few months later, I had paid off the entire Sears credit card balance. During this time I never received a card from Sears. \n",
            "\n",
            "When I moved permanently to XXXX in XXXX, I still had not received a Sears card. In late XXXX XXXX, I purchased a refrigerator from the same XXXX Sears store from which I had purchased the w-d a year earlier. When I made the purchase, I did not have a card but because my account was active, the cashier accessed my account using my Social Security number. The purchase was put on my Sears credit card. The XXXX Sears store clerk also updated my billing address from the old XXXX apartment to my new house in XXXX. I was told I would soon receive a statement and new credit card. The refrigerator was delivered to my XXXX house in early XXXX. \n",
            "\n",
            "By XXXX XXXX, XXXX, I still had not received a billing statement or replacement credit card from Sears. I called Customer Service, and they informed me they had no record of the transaction. I went to the Sears store and handed the manager my receipt. She confirmed that my billing address had been updated but directed me to call Sears to get a billing statement. \n",
            "\n",
            "When I called Sears Customer service, I transferred to the Fraud Unit. I was informed that I could not receive a statement until I can produce a Sear statement, which I have never received! After XXXX hours on the phone, I was told to fax a letter to the Fraud Unit stating my XXXX address so that they could \" verify that I exist. '' I complied and also faxed my SSN and DOB, along with the only documentation I have from Sears, the receipt from the recent refrigerator purchase. I was told that with this information, they would be able to update my address and send me a statement. \n",
            "\n",
            "When I had not heard from them by XXXX XXXX, I called again. The rep verified receipt of the fax. This time I was told that Sears had sent a letter \" to my current billing address '' to which I am required to respond before they will update my billing address, reissue a card, and send me a current statement. I assume my \" current '' billing address of record is the old XXXX apartment address at which I have not lived FOR XXXX YEARS. The rep directed me to GO TO XXXX and try to obtain this letter from whomever might now occupy my old apartment!!!! The rep refused to offer any other assistance. \n",
            "\n",
            "I called back. After XXXX minutes of insisting to speak to a manager, I was transferred to a Customer Service Manager, who directed back to the Fraud Unit. That person reiterated that I must GO TO XXXX to retrieve the letter from Sears!!! \n",
            "\n",
            "Recapping, the address to which Sears has sent a letter to confirm that I exist is located in XXXX, and I have not lived at this address for almost XXXX YEARS. The purpose of receiving this letter from Sears is to verify that I exist so that I can update my billing address to my current residence in XXXX and receive a new card from Sears on an active account with no negative issues related to that account. \n",
            "\n",
            "----------\n",
            "Topic number 6.0\n",
            "account, bank, charge, payment, pay, close, capital, payments, receive, time \n",
            "\n",
            "text  0\n",
            "Four years ago I opened a secured credit card with XXXX, for the SPECIFIC PURPOSE of improving my credit score. \n",
            "\n",
            "Initially it had a credit limit of {$500.00} and was secured with a {$500.00} CD, also with XXXX. \n",
            "\n",
            "In practice I found that if I put a XXXX dollars on the card my 'credit utilization ' ratio became too high, hurting my credit score, so I called XXXX and increased the CD security to {$2500.00} so that in any given month my % of credit used would be low. \n",
            "\n",
            "XXXX was able to increase the limit on my secured credit-building card in a matter of minutes. They quickly transferred money from my checking account to the CD - very easy and smooth, but with no warning of what lay ahead ... \n",
            "\n",
            "After four years I called XXXX to see if my credit was good enough to 'graduate ' the secured card to an unsecured card ( which is the industry norm ) thereby releasing my {$2500.00}. I was told that XXXX does not graduate cards, but that I should apply for a new card, which I did successfully. \n",
            "\n",
            "Now, a CRITICAL factor in credit is the length of the history of credit. Because of financial difficulties in 2010 many of my older accounts were closed, so it is vitally important to building my credit that I keep open the accounts that I have to build history. \n",
            "\n",
            "XXXX helpfully provides a credit score along with key factors influencing it. It says : \" What 's Hurting : Lack of sufficient credit history. \n",
            "What It Means Your credit file does not contain enough information about your use of credit. A credit file with older accounts and/or more accounts reflects more experience with handling credit and can have a positive impact on your credit score. \n",
            "Recommendation : Maintaining open and active credit accounts in good standing can help improve your credit score. '' In other words, XXXX OWN advice is that it is critical that I keep OPEN the secured card they gave me to help build my credit. \n",
            "\n",
            "However, now that I have an unsecured card with a line of $ XXXX it would be poor financial management to keep {$2500.00} needlessly tied up earning near-XXXX interest to secure a line of credit I no longer need. \n",
            "\n",
            "Clearly I should keep the secured account open with a reduced limit - say {$200.00} - so that it remains functional and contributes to my credit history, but releases the money I had tied up securing it. \n",
            "\n",
            "I called XXXX today to reduce the credit limit on the secured card and they will not do it. I spent an hour speaking to a number of representatives and escalating the matter as far as possible. \n",
            "\n",
            "They are absolutely clear : 1 : I can not graduate the secured card to release the security deposit held in a CD 2 : I can not reduce the credit limit and reduce the amount in the CD. The CD can only be increased, or closed. \n",
            "\n",
            "3 : If I close the CD the secured card account will immediately close DAMAGING MY CREDIT IMMEDIATELY by reducing my credit history 4 : They can not or will not allow me to open a new smaller CD to secure the card thereby allowing the {$2500.00} CD to be closed. \n",
            "\n",
            "Trying to be helpful I even asked if they would change the terms of the secured card to, say 0 % interest and 0 % minimum payment, which ( although it sounds absurd ) would have the effect of giving me back access to my {$2500.00} without penalty. No. \n",
            "\n",
            "\n",
            "\n",
            "THE BOTTOM LINE XXXX has effectively set up an extortion whereby the only way to get back the {$2500.00} I entrusted to them to help build my credit ... is to take a massive and permanent hit to my credit. \n",
            "\n",
            "This is very important. Many credit injustices - bad reporting, erroneous missed payments etc - can be fixed on appeal. \n",
            "\n",
            "But CLOSING a line of credit is a permanent and irreversible negative factor on an account - as even XXXX agree. \n",
            "\n",
            "The choice of hurting my credit or never having access to my {$2500.00} again ( other than on credit card terms ) would be completely unreasonable and unacceptable at any bank, and utterly against XXXX 's character. \n",
            "\n",
            "text  1\n",
            "I have a Banana Republic Credit Card issued through Synchrony Bank. In XXXX I set up an automatic online payment from my bank account. This is my usual form of payment and I had no reason to believe there would be an issue. I chose to pay from my current bank account, XXXX XXXX XXXX XXXX, though a debit card associated with this account. The payment I chose to pay would 've covered the entire balance of the credit card for that billing statement ; {$100.00}. On XX/XX/XXXX my payment was processed however it was drawn from a previous bank account of mine ( XXXX XXXX ). In XX/XX/XXXX I used that account for payment to this credit card, but since that time I have closed the account. Naturally, the payment was returned since the bank account is no longer in existence. On the same day, the same payment was processed through the proper account at XXXX XXXX XXXX XXXX. At this point, all should 've been well. Yes, there was a return payment from an invalid bank account, but there was also a valid payment made. However, lines got crossed and I was contacted by Synchrony and advised that my payment was returned and that I still owed {$100.00} to payoff my account. So, I promptly made a telephone payment with the Synchrony bank rep who advised me of the missing payment. I made this payment from XXXX XXXX Bank. This is where I made an error and should not have believed the Synchrony Bank representative without first checking my own bank account. Upon review of my bank account I realized I had been charged XXXX for the {$100.00} from the XXXX XXXX Account and that I was only credited once on the Banana Republic credit card. The fiasco then started. As I tried to explain this story over and over again with Synchrony Bank I experienced pushed back and lack of understanding from nearly every person I spoke with. I spend an hour on hold with several telephone represntativs and made multiple attempts at online chat sessions. I was finally advised that with my own time and money I would need to fax proof of the duplicate payments from my personal bank account. I immediately complied, and faxed the requested documents. I then followed up 3 days later and was advised all was being processed and that it should be resolve in an additional 4 days. When 7 days elapsed I telephoned Synchrony Bank again. This time I spent another hour on hold and with multiple representatives re-telling the story. After some commitment I was then routed to a supervisor who understood my situation but then the telephone line lost connection. Ultimately, after some attempts and an additional half an our I was finally put back in touch with this representative who claims that she has taken care of the situation. While she has refunded the late fee and interest fee I still am not receiving credit for the duplicate payment {$100.00}. It has been over 30 days since I first contacted and I 'm becoming very frustrated. Additionally, I received notification from Synchrony Bank in the form of a letter, stating that my credit with them has been suspended due to my erroneous payments! I fear this situation may be affecting my excellent credit rating and it was truly not my fault. I have spend several hours of time and resources to rectify this situation and I still find it to be unresolved. I am hopeful that some investigation from CFPB will help to conclude this issue and bring me back to whole. Thank you. \n",
            "\n",
            "text  2\n",
            "On the XXXX XXXX XXXX I received a letter from Capital One notifying me that my credit card account was due to be closed because it 's activity was not consistent with the expectations for account usage. Therefore, I called their customer success team to ascertain the grounds for its closure. I spoke with one of their supervisors to obtain more information about the reason for closing my account. She explained that despite the account having regular manual payments made, multiple times a month. The account was being closed due to a couple of automatic payments being returned and the account would be closed. To date I have not been late for a single payment nor have I exceeded my credit limit since opening the account and it has been in excellent standing. I explained that the automatic payments had not gone through because I had not updated my bank settings after changing banks recently and had been making manual payments, this was the reason for the returned automated payments. \n",
            "\n",
            "Throughout the conversation I asked her if this was a permanent decision and would she be able to re-open the account given that payments had always been made, and covered minimum monthly payments adequately. She was unable to offer any assistance and was rude throughout the conversation telling me she was not a credit advisor and could not help my situation - quite patronizing to say the least. When I then went on to ask exactly how the \" closed account '' decision would be passed on to my credit agencies, she was unable to tell me the classification that Capital One would give for the closure. This is clearly an important piece of information for me as the account was not delinquent or behind in payments. I feel very unfairly treated in this situation as the closure both impacts my credit score and future ability to build credit. \n",
            "\n",
            "As an XXXX from the XXXX coming to the XXXX I have been diligently establishing my credit rating and credit history with Capital One. I am really disappointed that their decision to close my account could potentially impact my new credit rating here. In addition, I now can not use their line of credit to build and improve my overall credit rating. \n",
            "\n",
            "I am requesting that they reconsider the decision to close my account and keep it open in light of the frequent cleared payments and good standing of my account. Returned automated payments should not constitute grounds for closure given the good standing of my account and I should have first had the opportunity to update my bank payment details to correct this issue. I have also requested a full explanation as to why my account is being closed including citation of any breach of terms and conditions along with an explanations of the potential impact to my credit report, given in terms of how Capital One will report this closed account status to them. \n",
            "\n",
            "I hope you are able to assist in the matter and offer any help and advice if at all possible. \n",
            "\n",
            "----------\n",
            "Topic number 7.0\n",
            "account, charge, receive, citi, time, information, provide, offer, company, purchase \n",
            "\n",
            "text  0\n",
            "1 ) I applied for a Citi Thank You XXXX card on XXXX/XXXX/15 and was approved. The sign-up offer was as follows : '' Bonus Points. You will receive XXXX bonus ThankYou ( R ) Points after {$3000.00} in purchases are made with your card within XXXX months of account opening. \" 2 ) I know from Citi that a XXXX-day grace period is given to attain to complete the minimum required spending to account for the time the credit card mail service may take. Consequently, my deadline to complete the challenge is XXXX/XXXX/15. \n",
            "\n",
            "3 ) On XXXX/XXXX/15 I noticed there was a better public sign-up offer from Citi for the same product Citi Thank You Premier I had applied for. The public offer was for XXXX Thank You points upon meeting {$3500.00} in XXXX months. I attach a screenshot of the public offer and url. \n",
            "\n",
            "4 ) On XXXX/XXXX/15 I sent a secure message to Citi requesting to match my sign-up offer for XXXX Thank you points after {$3000.00} in XXXX months to the better public offer of XXXX Thank you points after completing {$3500.00} in XXXX months. \n",
            "\n",
            "5 ) I received a denial to my request from Citi arguing that the time I had to be matched to a better offer had elapsed. Citi 's response is as follows : '' Unfortunately, the time frame to dispute your enrollment in a different online offer has elapsed and we are unable to apply the new account offer you mentioned to your existing account. \" 6 ) I replied to Citi 's message advising Citi that my challenge to complete the {$3000.00} spending and receive XXXX Thank You points was still open until the first days of XXXX ( XXXX/XXXX/15 ). I then requested again to be matched or else be given the XXXX Thank You points difference as a gesture of goodwill for the inconvenience. \n",
            "\n",
            "7 ) My new request was denied again. Citi 's response was exactly the same : '' Unfortunately, the time frame to dispute your enrollment in a different online offer has elapsed and we are unable to apply the new account offer you mentioned to your existing account. \" 8 ) I have decided to submit this complaint to the CFPB because of the following : a ) I find Citi is being unfair denying my request as my challenge was still open at the time of my request ( XXXX/XXXX/15 ) until XXXX/XXXX/15. \n",
            "b ) Please note Citi 's \" black-box '' strategy of denying a request stating that \" the time had elapsed '' and not stating the time. In my opinion, this response shows lack of transparency as the time considered by Citi to deny my request is not specified. It seems to be an -on-the-shelf response ready to arbitrarily deny requests of consumers without any good reason. \n",
            "c ) Please note that Citi does not include any clause linked to the sign-up bonus offers on landing page of applications stating that there is a certain time to request to be matched to a better public offer for the same product. There is not either a clause specifying that Citi will not match applicants to a better offer for the same product. \n",
            "d ) Citi is then omitting this information. By omitting this information, I understand that as long as my challenge to complete the threshold spending is open ( XXXX days grace period ), if there is a better public offer for the same product, I am eligible to be matched. After all, common sense dictates that. You have an open challenge, it has not expired and a better offer shows up for the same challenge. Does not it make sense to upgrade the challenge to the better one? It seems to me to be a fair practice, considering that Citi omits any information on the contrary. \n",
            "e ) If Citi would like to enforce a different time, I think Citi should make it explicit in every application and sign-up bonus offer. If not, common sense dictates the time to be considered is the time the challenge is open ( XXXX days grace period ). \n",
            "f ) In view of the above, I kindly request Citi to match me to the better offer and deposit me XXXX Thank You points as I have already completed {$4200.00}, exceeding the XXXX threshold target. \n",
            "\n",
            "text  1\n",
            "On XX/XX/2016, I purchased an airline ticket from XXXX XXXX for travel from XXXX XXXX, XXXX to XXXX, WV ( XXXX ). I used a Citi AAdvantage Platinum Select WorldElite Mastercard to pay for the airfare. \n",
            "\n",
            "One of the reasons I chose to pay for the airfare with this particular credit card was because of its Trip Delay Protection benefit, which pays for up to {$500.00} of expenses incurred due to a trip delay of at least 12 hours. \n",
            "\n",
            "The Terms & Conditions ( T & C ) state the following : \" If a Covered Traveler 's Trip on a Common Carrier is delayed for at least 12 hours, we may reimburse you for expenses incurred because of the delay. You are covered for up to {$500.00} per Covered Traveler, per Trip. '' The T & C define \" Trip '' as follows : \" Trip means any pre-paid travel, tour or vacation when all or at least a portion of the cost of the Common Carrier fare was paid using your Citi card and/or AAdvantage ( R ) miles for all Covered Travelers. '' My \" Trip '' was XXXX XXXX, 2016, and I paid the Common XXXX, XXXX XXXX, for an air ticket to fly me from XXXX to XXXX. XXXX XXXX routed my trip through XXXX ( XXXX ) and XXXX ( XXXX ). At XXXX, my flight was delayed due to weather and arrived at XXXX over XXXX hours late. This caused me to miss my connection, and there was not another open seat to XXXX, my point of destination, for 16 hours. I was originally scheduled to leave XXXX at XXXX and arrive at XXXX at XXXX on XX/XX/XXXX. Instead, I departed XXXX at XXXX ( XXXX hours later than scheduled ) and arrived at XXXX after XXXX ( 16 hours later than scheduled ) on XX/XX/XXXX. \n",
            "\n",
            "When I was at XXXX, after I was rebooked onto the flight to XXXX, I called the Citi Benefits call center. I spoke with a customer service representative ( CSR ) about the Trip Delay Protection benefit. The CSR stated that he could not pre-approve potential claims, but he told me that the delay in my trip, as I described the missed connection, was covered by the Trip Delay Protection benefit. \n",
            "\n",
            "Relying on the interpretation of the benefit by a Citi Benefits CSR, as well as the plain language of the benefit 's T & C, I booked a hotel room for the night in XXXX, and used XXXX to drive me to the hotel and back from the airport. I paid {$200.00} for the hotel. I paid {$24.00} for the round trip XXXX ride. \n",
            "\n",
            "On XX/XX/XXXX, I submitted all requested documentation to Citi Benefit 's claim center. I was told I would have a response within 2 weeks. After 2 weeks had passed, I began weekly calls and/or e-mails requesting a status update on my claim. It was not until XX/XX/XXXX that I was informed by a Citi Benefits CSR on one of these phone calls that my claim had been denied because my flight from XXXX to XXXX was delayed for less than 12 hours. I asked how I could appeal the decision because the T & C do not define \" Trip '' as each single flight segment within air ticket itinerary. The CSR stated I would receive an immediate e-mail and letter in the mail stating the claim appeal process. I have never received an e-mail. I finally received a letter in the mail 3 weeks later stating an appeal could be made by calling the same call center with whom I had already been speaking. \n",
            "\n",
            "I called and made an appeal, pointing out that my \" Trip '' had been delayed for 16 hours. It was all part of the same air ticket issued by the Common Carrier. I was stuck in XXXX for 16 hours, which is a \" Trip Delay, '' and there is nothing in the T & C that redefines \" Trip '' to exclude such a delay. Today, I was notified that my appeal was denied because my flight from XXXX to XXXX was delayed for less than 12 hours. \n",
            "\n",
            "Citi Benefits is not following the T & C of their own benefits. At best, it 's misleading. At worst, it 's fraud. Additionally, a Citi Benefits CSR specifically told me missed connections are covered by the Trip Delay Protection. \n",
            "\n",
            "I want the {$230.00} to which I am entitled. \n",
            "\n",
            "text  2\n",
            "Citi is refusing to credit me the XXXX XXXX XXXX XXXX bonus they owe me for signing up for the Citigold bank account promotion and meeting all the requirements for the bonus in a timely manner. They informed me they were reneging on their end of the agreement months AFTER I signed up for the account and meet the spend requirements by debit card and bill pay. During the time period I was meeting the requirements I contacted Citi to make sure everything was going okay and in order and I was reassured of such, at no time I was given any reason to believe they planned to deny me the bonus. I even contacted them after meeting the requirements and I got a conformation from Citi via direct messaging ( which I have both via hard copy and saved in my Citi inbox ) that I meet all the requirements and my bonus would post soon. It never did. After patiently waiting for a few weeks after the date I was told the bonus would post I again contacted them by phone and was reassured again it would post, and again it did n't. It took dozens of phone calls and chats with Citi to try to clear the matter up, and in the end I was told they would not honor my bonus because I \" was n't supposed to get that promotion '' in the first place. Mind you, this was told me to me MONTHS after I signed up for the promotion, meet every requirement they had and even after multiple communications with Citi in which they clearly confirmed my account had meet all the requirements and the bonus would post soon. \n",
            "I received the promotion advertisement in a mailer sent to my home, the sign up code was XXXX. The bonus offer was XXXX miles and the requirements to : 1 ) Open a new Regular Checking account in the Citigold Account Package by XXXX/XXXX/15 ; 2 ) Within 60 days after account opening : complete Qualifying Debit Card Purchases of {$1000.00} using the Citibank Debit Card, which must be posted to the new checking account ; and 3 ) XXXX qualifying bill payment must be posted to the new checking account each month for XXXX consecutive calendar months. I meet each and every XXXX of these requirements and again, I have saved messages from Citi conforming such. \n",
            "I did n't ask them to send me the offer, they did. All I did was follow the steps in hopes of getting the XXXX bonus and after doing everything they wanted I was told they 're not going to hold up their end of the bargain due to something that I had absolutely no control over. They told me to go into a branch and try to sort it out but I live in Ohio and we do n't have any Citi branches. They ask if I saved the mailer and I told them I did not as I saw zero need to dot hat after I was approved for the account and I confirmed everything was in order ; why would i save \" junk mail '' when I have an messages from them not only acknowledging I meet the requirements and the bonus would post soon? No part of the agreement/promotion/offer or any of the documents I got with signing up for the Citigold account in any way stipulated I needed to hold onto the promotional mailer to get the bonus, none of them even mention the mailer. \n",
            "I feel as though I was lied to and as though they did n't honor their end of the agreement. I did everything I could properly, I meet every requirement that was documented and printed and I have conformation from them stating so. \n",
            "Shortly after I was told they were reneging on their end of the agreement and after being denied the opportunity to discuss the situation with whoever makes these decisions via telephone, I closed my Citigold account as I was quite upset about the entire event. I \n",
            "\n",
            "----------\n"
          ],
          "name": "stdout"
        }
      ]
    },
    {
      "cell_type": "markdown",
      "metadata": {
        "id": "iuJcFtNdfmn1",
        "colab_type": "text"
      },
      "source": [
        "## Conclusion\n",
        "\n",
        "This brief example of topic modelling shows how quickly we can start to cluster together text based documents.\n",
        "\n",
        "This approach still requires careful preparation of the initial input data and often domain expertise to really derive critical insights.\n",
        "\n",
        "This approach can also be combined with supervised approaches from session 1 to create another series of data variables than can be used to predict outcomes from."
      ]
    }
  ]
}