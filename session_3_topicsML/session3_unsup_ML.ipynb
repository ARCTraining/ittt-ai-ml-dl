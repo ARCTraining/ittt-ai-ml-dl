{
 "cells": [
  {
   "cell_type": "markdown",
   "metadata": {},
   "source": [
    "# Session 3: Text analysis approaches\n",
    "\n",
    "\\#\\#\\# __DRAFT__ \\#\\#\\#\n",
    "\n",
    "Text analysis is a classic computational and data science problem, \n",
    "\n",
    "Compared with regression and classification approaches on continuous and categorical dataset taking text data and deriving distinct insights is a far more complicated task. Text data and especially free text (text fields in sentence form) is typically classed as a form of unstructured data because of the various nuances introduced by languages.\n",
    "\n",
    "With the ever increasing computational power has come a side-by-side improvements in approaches to text analysis. \n",
    "\n",
    "The idea of topic modelling, identifying abstract 'topics' within a collection of documents (corpus) using statistical models, was first described in 1998, with probabilistic latent semantic analysis (PLSA) outlined in 1999 and latent Dirichlet allocation (LDA) developed in [2002](http://jmlr.csail.mit.edu/papers/v3/blei03a.html). LDA has become one of the most commonly used topic modelling approaches since although many extensions of LDA have since been proposed."
   ]
  },
  {
   "cell_type": "code",
   "execution_count": 1,
   "metadata": {},
   "outputs": [],
   "source": [
    "import numpy as np\n",
    "import pandas as pd\n",
    "import gensim\n",
    "import matplotlib.pyplot as plt"
   ]
  },
  {
   "cell_type": "code",
   "execution_count": 2,
   "metadata": {},
   "outputs": [
    {
     "data": {
      "text/html": [
       "<div>\n",
       "<style scoped>\n",
       "    .dataframe tbody tr th:only-of-type {\n",
       "        vertical-align: middle;\n",
       "    }\n",
       "\n",
       "    .dataframe tbody tr th {\n",
       "        vertical-align: top;\n",
       "    }\n",
       "\n",
       "    .dataframe thead th {\n",
       "        text-align: right;\n",
       "    }\n",
       "</style>\n",
       "<table border=\"1\" class=\"dataframe\">\n",
       "  <thead>\n",
       "    <tr style=\"text-align: right;\">\n",
       "      <th></th>\n",
       "      <th>tweet_id</th>\n",
       "      <th>author_id</th>\n",
       "      <th>inbound</th>\n",
       "      <th>created_at</th>\n",
       "      <th>text</th>\n",
       "      <th>response_tweet_id</th>\n",
       "      <th>in_response_to_tweet_id</th>\n",
       "    </tr>\n",
       "  </thead>\n",
       "  <tbody>\n",
       "    <tr>\n",
       "      <th>0</th>\n",
       "      <td>1</td>\n",
       "      <td>sprintcare</td>\n",
       "      <td>False</td>\n",
       "      <td>Tue Oct 31 22:10:47 +0000 2017</td>\n",
       "      <td>@115712 I understand. I would like to assist y...</td>\n",
       "      <td>2</td>\n",
       "      <td>3.0</td>\n",
       "    </tr>\n",
       "    <tr>\n",
       "      <th>1</th>\n",
       "      <td>2</td>\n",
       "      <td>115712</td>\n",
       "      <td>True</td>\n",
       "      <td>Tue Oct 31 22:11:45 +0000 2017</td>\n",
       "      <td>@sprintcare and how do you propose we do that</td>\n",
       "      <td>NaN</td>\n",
       "      <td>1.0</td>\n",
       "    </tr>\n",
       "    <tr>\n",
       "      <th>2</th>\n",
       "      <td>3</td>\n",
       "      <td>115712</td>\n",
       "      <td>True</td>\n",
       "      <td>Tue Oct 31 22:08:27 +0000 2017</td>\n",
       "      <td>@sprintcare I have sent several private messag...</td>\n",
       "      <td>1</td>\n",
       "      <td>4.0</td>\n",
       "    </tr>\n",
       "    <tr>\n",
       "      <th>3</th>\n",
       "      <td>4</td>\n",
       "      <td>sprintcare</td>\n",
       "      <td>False</td>\n",
       "      <td>Tue Oct 31 21:54:49 +0000 2017</td>\n",
       "      <td>@115712 Please send us a Private Message so th...</td>\n",
       "      <td>3</td>\n",
       "      <td>5.0</td>\n",
       "    </tr>\n",
       "    <tr>\n",
       "      <th>4</th>\n",
       "      <td>5</td>\n",
       "      <td>115712</td>\n",
       "      <td>True</td>\n",
       "      <td>Tue Oct 31 21:49:35 +0000 2017</td>\n",
       "      <td>@sprintcare I did.</td>\n",
       "      <td>4</td>\n",
       "      <td>6.0</td>\n",
       "    </tr>\n",
       "  </tbody>\n",
       "</table>\n",
       "</div>"
      ],
      "text/plain": [
       "   tweet_id   author_id  inbound                      created_at  \\\n",
       "0         1  sprintcare    False  Tue Oct 31 22:10:47 +0000 2017   \n",
       "1         2      115712     True  Tue Oct 31 22:11:45 +0000 2017   \n",
       "2         3      115712     True  Tue Oct 31 22:08:27 +0000 2017   \n",
       "3         4  sprintcare    False  Tue Oct 31 21:54:49 +0000 2017   \n",
       "4         5      115712     True  Tue Oct 31 21:49:35 +0000 2017   \n",
       "\n",
       "                                                text response_tweet_id  \\\n",
       "0  @115712 I understand. I would like to assist y...                 2   \n",
       "1      @sprintcare and how do you propose we do that               NaN   \n",
       "2  @sprintcare I have sent several private messag...                 1   \n",
       "3  @115712 Please send us a Private Message so th...                 3   \n",
       "4                                 @sprintcare I did.                 4   \n",
       "\n",
       "   in_response_to_tweet_id  \n",
       "0                      3.0  \n",
       "1                      1.0  \n",
       "2                      4.0  \n",
       "3                      5.0  \n",
       "4                      6.0  "
      ]
     },
     "execution_count": 2,
     "metadata": {},
     "output_type": "execute_result"
    }
   ],
   "source": [
    "# import the dataset\n",
    "\n",
    "twitter_data = pd.read_csv('data/twcs/twcs.csv')\n",
    "\n",
    "twitter_data.head()"
   ]
  },
  {
   "cell_type": "code",
   "execution_count": 3,
   "metadata": {},
   "outputs": [
    {
     "data": {
      "text/html": [
       "<div>\n",
       "<style scoped>\n",
       "    .dataframe tbody tr th:only-of-type {\n",
       "        vertical-align: middle;\n",
       "    }\n",
       "\n",
       "    .dataframe tbody tr th {\n",
       "        vertical-align: top;\n",
       "    }\n",
       "\n",
       "    .dataframe thead th {\n",
       "        text-align: right;\n",
       "    }\n",
       "</style>\n",
       "<table border=\"1\" class=\"dataframe\">\n",
       "  <thead>\n",
       "    <tr style=\"text-align: right;\">\n",
       "      <th></th>\n",
       "      <th>tweet_id</th>\n",
       "      <th>author_id</th>\n",
       "      <th>inbound</th>\n",
       "      <th>created_at</th>\n",
       "      <th>text</th>\n",
       "      <th>response_tweet_id</th>\n",
       "      <th>in_response_to_tweet_id</th>\n",
       "    </tr>\n",
       "  </thead>\n",
       "  <tbody>\n",
       "    <tr>\n",
       "      <th>1</th>\n",
       "      <td>2</td>\n",
       "      <td>115712</td>\n",
       "      <td>True</td>\n",
       "      <td>Tue Oct 31 22:11:45 +0000 2017</td>\n",
       "      <td>@sprintcare and how do you propose we do that</td>\n",
       "      <td>NaN</td>\n",
       "      <td>1.0</td>\n",
       "    </tr>\n",
       "    <tr>\n",
       "      <th>2</th>\n",
       "      <td>3</td>\n",
       "      <td>115712</td>\n",
       "      <td>True</td>\n",
       "      <td>Tue Oct 31 22:08:27 +0000 2017</td>\n",
       "      <td>@sprintcare I have sent several private messag...</td>\n",
       "      <td>1</td>\n",
       "      <td>4.0</td>\n",
       "    </tr>\n",
       "    <tr>\n",
       "      <th>4</th>\n",
       "      <td>5</td>\n",
       "      <td>115712</td>\n",
       "      <td>True</td>\n",
       "      <td>Tue Oct 31 21:49:35 +0000 2017</td>\n",
       "      <td>@sprintcare I did.</td>\n",
       "      <td>4</td>\n",
       "      <td>6.0</td>\n",
       "    </tr>\n",
       "    <tr>\n",
       "      <th>6</th>\n",
       "      <td>8</td>\n",
       "      <td>115712</td>\n",
       "      <td>True</td>\n",
       "      <td>Tue Oct 31 21:45:10 +0000 2017</td>\n",
       "      <td>@sprintcare is the worst customer service</td>\n",
       "      <td>9,6,10</td>\n",
       "      <td>NaN</td>\n",
       "    </tr>\n",
       "    <tr>\n",
       "      <th>8</th>\n",
       "      <td>12</td>\n",
       "      <td>115713</td>\n",
       "      <td>True</td>\n",
       "      <td>Tue Oct 31 22:04:47 +0000 2017</td>\n",
       "      <td>@sprintcare You gonna magically change your co...</td>\n",
       "      <td>11,13,14</td>\n",
       "      <td>15.0</td>\n",
       "    </tr>\n",
       "  </tbody>\n",
       "</table>\n",
       "</div>"
      ],
      "text/plain": [
       "   tweet_id author_id  inbound                      created_at  \\\n",
       "1         2    115712     True  Tue Oct 31 22:11:45 +0000 2017   \n",
       "2         3    115712     True  Tue Oct 31 22:08:27 +0000 2017   \n",
       "4         5    115712     True  Tue Oct 31 21:49:35 +0000 2017   \n",
       "6         8    115712     True  Tue Oct 31 21:45:10 +0000 2017   \n",
       "8        12    115713     True  Tue Oct 31 22:04:47 +0000 2017   \n",
       "\n",
       "                                                text response_tweet_id  \\\n",
       "1      @sprintcare and how do you propose we do that               NaN   \n",
       "2  @sprintcare I have sent several private messag...                 1   \n",
       "4                                 @sprintcare I did.                 4   \n",
       "6          @sprintcare is the worst customer service            9,6,10   \n",
       "8  @sprintcare You gonna magically change your co...          11,13,14   \n",
       "\n",
       "   in_response_to_tweet_id  \n",
       "1                      1.0  \n",
       "2                      4.0  \n",
       "4                      6.0  \n",
       "6                      NaN  \n",
       "8                     15.0  "
      ]
     },
     "execution_count": 3,
     "metadata": {},
     "output_type": "execute_result"
    }
   ],
   "source": [
    "inbound_dat = twitter_data[twitter_data.inbound == True]\n",
    "\n",
    "inbound_dat.head()"
   ]
  },
  {
   "cell_type": "code",
   "execution_count": 4,
   "metadata": {},
   "outputs": [
    {
     "data": {
      "text/plain": [
       "(702669,)"
      ]
     },
     "execution_count": 4,
     "metadata": {},
     "output_type": "execute_result"
    }
   ],
   "source": [
    "inbound_dat.author_id.unique().shape"
   ]
  },
  {
   "cell_type": "code",
   "execution_count": 5,
   "metadata": {},
   "outputs": [],
   "source": [
    "user_tweets = inbound_dat.groupby('author_id')['text'].apply(lambda x: ','.join(x))"
   ]
  },
  {
   "cell_type": "code",
   "execution_count": 6,
   "metadata": {},
   "outputs": [
    {
     "data": {
      "text/plain": [
       "['Screw you @116016 and your stupid Blueprint program. I never signed up for this crap and now you’re going to charge me interest fees? https://t.co/WwBzUIhSbG,@ChaseSupport Actually it just doesn’t work in Safari, but that’s still pretty bad.,Dear @ChaseSupport, it’s kinda hard to pay my bills when the entire payment section of your site is unavailable 🤦🏻\\u200d♀️',\n",
       " \"Now the flight @Delta is sending our bag back on just got delayed two hours. So mad right now, I can't even.\",\n",
       " '@MOO Big thanks to Quentin for the exceptional service! Just ordered our 3rd round of #businesscards 👍,The ribotRainbow! New #businesscards thanks to @moo 😊#rainbow #ourteamrocks https://t.co/nqMMUqYzKt https://t.co/gVtJDEoGFu',\n",
       " 'Yup https://t.co/GpkFa9MfHQ,same. https://t.co/gxkJt8BNV6',\n",
       " '@comcastcares Is it possible to get business class internet at a residence, and if so are there any restrictions/limitations?',\n",
       " '@Delta I just sent you a DM,@Delta I will never fly your airline again',\n",
       " 'Wow. Used to think Apple maps were bad. Just took a 30 minute 10 mile @115879 ride to a destination that was two miles away. #walking would have been faster. #fail',\n",
       " '@AmericanAir Thank you! The info provided isn’t new nor helpful. Can you get him his bag within 24 hrs? He needs his medications.  #RuinedVacation,@AmericanAir Just sent. He’s been without his scuba gear  for four days and has run out of his medication. Please help!,My sweetie has been stranded in Honduras without his bags for FOUR DAYS. No wifi or cell. @AmericanAir a little help? #RuinedVacation,@AmericanAir Thank you! When can we expect the next update?,@AmericanAir Any update? Five days and counting. Is the bag delayed or lost at this point? #RuinedVacation,@AmericanAir Thank you! That update didn’t include any new info nor any plan to get more info. Would love to hear one or both of those. #RuinedVacation,@AmericanAir If you could let us know specific steps you’re taking and the timeline for taking them, that would be far more helpful &amp; build more trust.,@AmericanAir Thank you! We have been hearing that exact thing for four days, however, so I’m sure you can understand why that answer isn’t satisfying.,@AmericanAir Thank you! When can we expect an update? Time is of the essence.,Ok, brain trust! My sweetie is in Honduras for a diving trip, but @AmericanAir has kept his bag w/his meds and gear in NY for 4 days. Ideas?',\n",
       " '@AppleSupport thanks, sent you a DM,Every iOS 11 update has slowed my phone down. GYST @115858',\n",
       " '@Uber_Support Done. \\n\\nI went ahead and drove to the restaurant to pick up my food myself. https://t.co/KcSB5uwsyT,@115877 My food was supposed to be delivered an hour ago. Still not here. Been on hold with your customer support for 10 minutes. No one answering. #HANGRY https://t.co/WsHSLxZIMJ']"
      ]
     },
     "execution_count": 6,
     "metadata": {},
     "output_type": "execute_result"
    }
   ],
   "source": [
    "user_tweets = user_tweets.reset_index()\n",
    "\n",
    "user_tweets.text[:10].tolist()"
   ]
  },
  {
   "cell_type": "markdown",
   "metadata": {},
   "source": [
    "## Preprocessing"
   ]
  },
  {
   "cell_type": "code",
   "execution_count": 7,
   "metadata": {},
   "outputs": [],
   "source": [
    "from gensim.parsing.preprocessing import preprocess_string, strip_tags, strip_punctuation\n",
    "\n",
    "CUSTOM_FILTERS = [lambda x: x.lower(), strip_tags, strip_punctuation]\n",
    "\n",
    "test_preproc = [preprocess_string(doc, CUSTOM_FILTERS) for doc in user_tweets.text.tolist()[:10]]"
   ]
  },
  {
   "cell_type": "code",
   "execution_count": 8,
   "metadata": {},
   "outputs": [
    {
     "name": "stdout",
     "output_type": "stream",
     "text": [
      "Screw you @116016 and your stupid Blueprint program. I never signed up for this crap and now you’re going to charge me interest fees? https://t.co/WwBzUIhSbG,@ChaseSupport Actually it just doesn’t work in Safari, but that’s still pretty bad.,Dear @ChaseSupport, it’s kinda hard to pay my bills when the entire payment section of your site is unavailable 🤦🏻‍♀️\n",
      "['screw', 'you', '116016', 'and', 'your', 'stupid', 'blueprint', 'program', 'i', 'never', 'signed', 'up', 'for', 'this', 'crap', 'and', 'now', 'you’re', 'going', 'to', 'charge', 'me', 'interest', 'fees', 'https', 't', 'co', 'wwbzuihsbg', 'chasesupport', 'actually', 'it', 'just', 'doesn’t', 'work', 'in', 'safari', 'but', 'that’s', 'still', 'pretty', 'bad', 'dear', 'chasesupport', 'it’s', 'kinda', 'hard', 'to', 'pay', 'my', 'bills', 'when', 'the', 'entire', 'payment', 'section', 'of', 'your', 'site', 'is', 'unavailable', '🤦🏻\\u200d♀️']\n",
      "\n",
      "\n",
      "Now the flight @Delta is sending our bag back on just got delayed two hours. So mad right now, I can't even.\n",
      "['now', 'the', 'flight', 'delta', 'is', 'sending', 'our', 'bag', 'back', 'on', 'just', 'got', 'delayed', 'two', 'hours', 'so', 'mad', 'right', 'now', 'i', 'can', 't', 'even']\n",
      "\n",
      "\n",
      "@MOO Big thanks to Quentin for the exceptional service! Just ordered our 3rd round of #businesscards 👍,The ribotRainbow! New #businesscards thanks to @moo 😊#rainbow #ourteamrocks https://t.co/nqMMUqYzKt https://t.co/gVtJDEoGFu\n",
      "['moo', 'big', 'thanks', 'to', 'quentin', 'for', 'the', 'exceptional', 'service', 'just', 'ordered', 'our', '3rd', 'round', 'of', 'businesscards', '👍', 'the', 'ribotrainbow', 'new', 'businesscards', 'thanks', 'to', 'moo', '😊', 'rainbow', 'ourteamrocks', 'https', 't', 'co', 'nqmmuqyzkt', 'https', 't', 'co', 'gvtjdeogfu']\n",
      "\n",
      "\n",
      "Yup https://t.co/GpkFa9MfHQ,same. https://t.co/gxkJt8BNV6\n",
      "['yup', 'https', 't', 'co', 'gpkfa9mfhq', 'same', 'https', 't', 'co', 'gxkjt8bnv6']\n",
      "\n",
      "\n",
      "@comcastcares Is it possible to get business class internet at a residence, and if so are there any restrictions/limitations?\n",
      "['comcastcares', 'is', 'it', 'possible', 'to', 'get', 'business', 'class', 'internet', 'at', 'a', 'residence', 'and', 'if', 'so', 'are', 'there', 'any', 'restrictions', 'limitations']\n",
      "\n",
      "\n",
      "@Delta I just sent you a DM,@Delta I will never fly your airline again\n",
      "['delta', 'i', 'just', 'sent', 'you', 'a', 'dm', 'delta', 'i', 'will', 'never', 'fly', 'your', 'airline', 'again']\n",
      "\n",
      "\n",
      "Wow. Used to think Apple maps were bad. Just took a 30 minute 10 mile @115879 ride to a destination that was two miles away. #walking would have been faster. #fail\n",
      "['wow', 'used', 'to', 'think', 'apple', 'maps', 'were', 'bad', 'just', 'took', 'a', '30', 'minute', '10', 'mile', '115879', 'ride', 'to', 'a', 'destination', 'that', 'was', 'two', 'miles', 'away', 'walking', 'would', 'have', 'been', 'faster', 'fail']\n",
      "\n",
      "\n",
      "@AmericanAir Thank you! The info provided isn’t new nor helpful. Can you get him his bag within 24 hrs? He needs his medications.  #RuinedVacation,@AmericanAir Just sent. He’s been without his scuba gear  for four days and has run out of his medication. Please help!,My sweetie has been stranded in Honduras without his bags for FOUR DAYS. No wifi or cell. @AmericanAir a little help? #RuinedVacation,@AmericanAir Thank you! When can we expect the next update?,@AmericanAir Any update? Five days and counting. Is the bag delayed or lost at this point? #RuinedVacation,@AmericanAir Thank you! That update didn’t include any new info nor any plan to get more info. Would love to hear one or both of those. #RuinedVacation,@AmericanAir If you could let us know specific steps you’re taking and the timeline for taking them, that would be far more helpful &amp; build more trust.,@AmericanAir Thank you! We have been hearing that exact thing for four days, however, so I’m sure you can understand why that answer isn’t satisfying.,@AmericanAir Thank you! When can we expect an update? Time is of the essence.,Ok, brain trust! My sweetie is in Honduras for a diving trip, but @AmericanAir has kept his bag w/his meds and gear in NY for 4 days. Ideas?\n",
      "['americanair', 'thank', 'you', 'the', 'info', 'provided', 'isn’t', 'new', 'nor', 'helpful', 'can', 'you', 'get', 'him', 'his', 'bag', 'within', '24', 'hrs', 'he', 'needs', 'his', 'medications', 'ruinedvacation', 'americanair', 'just', 'sent', 'he’s', 'been', 'without', 'his', 'scuba', 'gear', 'for', 'four', 'days', 'and', 'has', 'run', 'out', 'of', 'his', 'medication', 'please', 'help', 'my', 'sweetie', 'has', 'been', 'stranded', 'in', 'honduras', 'without', 'his', 'bags', 'for', 'four', 'days', 'no', 'wifi', 'or', 'cell', 'americanair', 'a', 'little', 'help', 'ruinedvacation', 'americanair', 'thank', 'you', 'when', 'can', 'we', 'expect', 'the', 'next', 'update', 'americanair', 'any', 'update', 'five', 'days', 'and', 'counting', 'is', 'the', 'bag', 'delayed', 'or', 'lost', 'at', 'this', 'point', 'ruinedvacation', 'americanair', 'thank', 'you', 'that', 'update', 'didn’t', 'include', 'any', 'new', 'info', 'nor', 'any', 'plan', 'to', 'get', 'more', 'info', 'would', 'love', 'to', 'hear', 'one', 'or', 'both', 'of', 'those', 'ruinedvacation', 'americanair', 'if', 'you', 'could', 'let', 'us', 'know', 'specific', 'steps', 'you’re', 'taking', 'and', 'the', 'timeline', 'for', 'taking', 'them', 'that', 'would', 'be', 'far', 'more', 'helpful', 'amp', 'build', 'more', 'trust', 'americanair', 'thank', 'you', 'we', 'have', 'been', 'hearing', 'that', 'exact', 'thing', 'for', 'four', 'days', 'however', 'so', 'i’m', 'sure', 'you', 'can', 'understand', 'why', 'that', 'answer', 'isn’t', 'satisfying', 'americanair', 'thank', 'you', 'when', 'can', 'we', 'expect', 'an', 'update', 'time', 'is', 'of', 'the', 'essence', 'ok', 'brain', 'trust', 'my', 'sweetie', 'is', 'in', 'honduras', 'for', 'a', 'diving', 'trip', 'but', 'americanair', 'has', 'kept', 'his', 'bag', 'w', 'his', 'meds', 'and', 'gear', 'in', 'ny', 'for', '4', 'days', 'ideas']\n",
      "\n",
      "\n",
      "@AppleSupport thanks, sent you a DM,Every iOS 11 update has slowed my phone down. GYST @115858\n",
      "['applesupport', 'thanks', 'sent', 'you', 'a', 'dm', 'every', 'ios', '11', 'update', 'has', 'slowed', 'my', 'phone', 'down', 'gyst', '115858']\n",
      "\n",
      "\n",
      "@Uber_Support Done. \n",
      "\n",
      "I went ahead and drove to the restaurant to pick up my food myself. https://t.co/KcSB5uwsyT,@115877 My food was supposed to be delivered an hour ago. Still not here. Been on hold with your customer support for 10 minutes. No one answering. #HANGRY https://t.co/WsHSLxZIMJ\n",
      "['uber', 'support', 'done', 'i', 'went', 'ahead', 'and', 'drove', 'to', 'the', 'restaurant', 'to', 'pick', 'up', 'my', 'food', 'myself', 'https', 't', 'co', 'kcsb5uwsyt', '115877', 'my', 'food', 'was', 'supposed', 'to', 'be', 'delivered', 'an', 'hour', 'ago', 'still', 'not', 'here', 'been', 'on', 'hold', 'with', 'your', 'customer', 'support', 'for', '10', 'minutes', 'no', 'one', 'answering', 'hangry', 'https', 't', 'co', 'wshslxzimj']\n",
      "\n",
      "\n"
     ]
    }
   ],
   "source": [
    "for orig, proc in zip(user_tweets.text.tolist()[:10], test_preproc):\n",
    "    \n",
    "    print(orig)\n",
    "    print(proc)\n",
    "    print('\\n')"
   ]
  },
  {
   "cell_type": "code",
   "execution_count": 9,
   "metadata": {},
   "outputs": [],
   "source": [
    "# we want to write some regular expressions here to remove embedded links and to remove @user reply notation in tweets"
   ]
  },
  {
   "cell_type": "code",
   "execution_count": 10,
   "metadata": {},
   "outputs": [],
   "source": [
    "import re"
   ]
  },
  {
   "cell_type": "code",
   "execution_count": 11,
   "metadata": {},
   "outputs": [
    {
     "data": {
      "text/plain": [
       "' hello '"
      ]
     },
     "execution_count": 11,
     "metadata": {},
     "output_type": "execute_result"
    }
   ],
   "source": [
    "# rough test to be sure it removes twitter formatted url\n",
    "re.sub(r\"http\\S+\", \"\", 'https://t.co/KcSB5uwsyT hello https://t.co/nqMMUqYzKt')"
   ]
  },
  {
   "cell_type": "code",
   "execution_count": 12,
   "metadata": {},
   "outputs": [
    {
     "data": {
      "text/plain": [
       "'what  is  happening  ?'"
      ]
     },
     "execution_count": 12,
     "metadata": {},
     "output_type": "execute_result"
    }
   ],
   "source": [
    "# rough test to be sure it removes twitter handles @handles\n",
    "\n",
    "re.sub(r\"@\\S+\", \"\", \"what @lead is @1234 happening @?!? ?\")"
   ]
  },
  {
   "cell_type": "code",
   "execution_count": 13,
   "metadata": {},
   "outputs": [
    {
     "data": {
      "text/plain": [
       "['Screw you  and your stupid Blueprint program. I never signed up for this crap and now you’re going to charge me interest fees?  Actually it just doesn’t work in Safari, but that’s still pretty bad.,Dear  it’s kinda hard to pay my bills when the entire payment section of your site is unavailable 🤦🏻\\u200d♀️',\n",
       " \"Now the flight  is sending our bag back on just got delayed two hours. So mad right now, I can't even.\",\n",
       " ' Big thanks to Quentin for the exceptional service! Just ordered our 3rd round of #businesscards 👍,The ribotRainbow! New #businesscards thanks to  😊#rainbow #ourteamrocks  ']"
      ]
     },
     "execution_count": 13,
     "metadata": {},
     "output_type": "execute_result"
    }
   ],
   "source": [
    "user_tweets = user_tweets.text.tolist()\n",
    "\n",
    "tweet_dat = [re.sub(r\"http\\S+\", \"\", doc) for doc in user_tweets]\n",
    "\n",
    "tweet_dat = [re.sub(r\"@\\S+\", \"\", doc) for doc in tweet_dat]\n",
    "\n",
    "# quick head of data to check it looks right\n",
    "\n",
    "tweet_dat[:3]"
   ]
  },
  {
   "cell_type": "code",
   "execution_count": 14,
   "metadata": {},
   "outputs": [],
   "source": [
    "# removing emojis\n",
    "# taken from https://gist.github.com/slowkow/7a7f61f495e3dbb7e3d767f97bd7304b#gistcomment-3315605\n",
    "\n",
    "def remove_emoji(string):\n",
    "    emoji_pattern = re.compile(\"[\"\n",
    "                               u\"\\U0001F600-\\U0001F64F\"  # emoticons\n",
    "                               u\"\\U0001F300-\\U0001F5FF\"  # symbols & pictographs\n",
    "                               u\"\\U0001F680-\\U0001F6FF\"  # transport & map symbols\n",
    "                               u\"\\U0001F1E0-\\U0001F1FF\"  # flags (iOS)\n",
    "                               u\"\\U00002500-\\U00002BEF\"  # chinese char\n",
    "                               u\"\\U00002702-\\U000027B0\"\n",
    "                               u\"\\U00002702-\\U000027B0\"\n",
    "                               u\"\\U000024C2-\\U0001F251\"\n",
    "                               u\"\\U0001f926-\\U0001f937\"\n",
    "                               u\"\\U00010000-\\U0010ffff\"\n",
    "                               u\"\\u2640-\\u2642\"\n",
    "                               u\"\\u2600-\\u2B55\"\n",
    "                               u\"\\u200d\"\n",
    "                               u\"\\u23cf\"\n",
    "                               u\"\\u23e9\"\n",
    "                               u\"\\u231a\"\n",
    "                               u\"\\ufe0f\"  # dingbats\n",
    "                               u\"\\u3030\"\n",
    "                               \"]+\", flags=re.UNICODE)\n",
    "    return emoji_pattern.sub(r'', string)"
   ]
  },
  {
   "cell_type": "code",
   "execution_count": 15,
   "metadata": {},
   "outputs": [
    {
     "data": {
      "text/plain": [
       "['Screw you  and your stupid Blueprint program. I never signed up for this crap and now you’re going to charge me interest fees?  Actually it just doesn’t work in Safari, but that’s still pretty bad.,Dear  it’s kinda hard to pay my bills when the entire payment section of your site is unavailable ',\n",
       " \"Now the flight  is sending our bag back on just got delayed two hours. So mad right now, I can't even.\",\n",
       " ' Big thanks to Quentin for the exceptional service! Just ordered our 3rd round of #businesscards ,The ribotRainbow! New #businesscards thanks to  #rainbow #ourteamrocks  ']"
      ]
     },
     "execution_count": 15,
     "metadata": {},
     "output_type": "execute_result"
    }
   ],
   "source": [
    "tweet_dat = [remove_emoji(doc) for doc in tweet_dat]\n",
    "\n",
    "# quick head of data to check it looks right\n",
    "\n",
    "tweet_dat[:3]"
   ]
  },
  {
   "cell_type": "code",
   "execution_count": 16,
   "metadata": {},
   "outputs": [],
   "source": [
    "from gensim.parsing.preprocessing import preprocess_string, strip_tags, strip_punctuation\n",
    "\n",
    "CUSTOM_FILTERS = [lambda x: x.lower(), strip_tags, strip_punctuation]\n",
    "\n",
    "test_preproc = [preprocess_string(doc, CUSTOM_FILTERS) for doc in tweet_dat]"
   ]
  },
  {
   "cell_type": "code",
   "execution_count": 17,
   "metadata": {},
   "outputs": [
    {
     "name": "stdout",
     "output_type": "stream",
     "text": [
      "Screw you @116016 and your stupid Blueprint program. I never signed up for this crap and now you’re going to charge me interest fees? https://t.co/WwBzUIhSbG,@ChaseSupport Actually it just doesn’t work in Safari, but that’s still pretty bad.,Dear @ChaseSupport, it’s kinda hard to pay my bills when the entire payment section of your site is unavailable 🤦🏻‍♀️\n",
      "['screw', 'you', 'and', 'your', 'stupid', 'blueprint', 'program', 'i', 'never', 'signed', 'up', 'for', 'this', 'crap', 'and', 'now', 'you’re', 'going', 'to', 'charge', 'me', 'interest', 'fees', 'actually', 'it', 'just', 'doesn’t', 'work', 'in', 'safari', 'but', 'that’s', 'still', 'pretty', 'bad', 'dear', 'it’s', 'kinda', 'hard', 'to', 'pay', 'my', 'bills', 'when', 'the', 'entire', 'payment', 'section', 'of', 'your', 'site', 'is', 'unavailable']\n",
      "\n",
      "\n",
      "Now the flight @Delta is sending our bag back on just got delayed two hours. So mad right now, I can't even.\n",
      "['now', 'the', 'flight', 'is', 'sending', 'our', 'bag', 'back', 'on', 'just', 'got', 'delayed', 'two', 'hours', 'so', 'mad', 'right', 'now', 'i', 'can', 't', 'even']\n",
      "\n",
      "\n",
      "@MOO Big thanks to Quentin for the exceptional service! Just ordered our 3rd round of #businesscards 👍,The ribotRainbow! New #businesscards thanks to @moo 😊#rainbow #ourteamrocks https://t.co/nqMMUqYzKt https://t.co/gVtJDEoGFu\n",
      "['big', 'thanks', 'to', 'quentin', 'for', 'the', 'exceptional', 'service', 'just', 'ordered', 'our', '3rd', 'round', 'of', 'businesscards', 'the', 'ribotrainbow', 'new', 'businesscards', 'thanks', 'to', 'rainbow', 'ourteamrocks']\n",
      "\n",
      "\n",
      "Yup https://t.co/GpkFa9MfHQ,same. https://t.co/gxkJt8BNV6\n",
      "['yup']\n",
      "\n",
      "\n"
     ]
    }
   ],
   "source": [
    "for orig, proc in zip(user_tweets[:4], test_preproc[:4]):\n",
    "    \n",
    "    print(orig)\n",
    "    print(proc)\n",
    "    print('\\n')"
   ]
  },
  {
   "cell_type": "markdown",
   "metadata": {},
   "source": [
    "## Building a bag of words corpus and dictionary"
   ]
  },
  {
   "cell_type": "code",
   "execution_count": null,
   "metadata": {},
   "outputs": [],
   "source": []
  },
  {
   "cell_type": "markdown",
   "metadata": {},
   "source": [
    "## Building the topic model"
   ]
  },
  {
   "cell_type": "code",
   "execution_count": null,
   "metadata": {},
   "outputs": [],
   "source": []
  }
 ],
 "metadata": {
  "kernelspec": {
   "display_name": "Python 3",
   "language": "python",
   "name": "python3"
  },
  "language_info": {
   "codemirror_mode": {
    "name": "ipython",
    "version": 3
   },
   "file_extension": ".py",
   "mimetype": "text/x-python",
   "name": "python",
   "nbconvert_exporter": "python",
   "pygments_lexer": "ipython3",
   "version": "3.7.7"
  }
 },
 "nbformat": 4,
 "nbformat_minor": 4
}
